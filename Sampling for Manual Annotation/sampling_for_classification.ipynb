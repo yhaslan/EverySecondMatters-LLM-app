{
 "cells": [
  {
   "cell_type": "markdown",
   "id": "91da2bfc",
   "metadata": {},
   "source": [
    "# FILTERING AND SAMPLING THE DATA\n",
    "\n",
    "The dataset is downloaded from [kaggle]('https://www.kaggle.com/datasets/swaptr/turkey-earthquake-tweets') and contains tweets on earthquake that hit Turkey and Syria on 6 February. The dataset includes the text of each tweet, the user profile information, the time and location of each tweet, and the number of likes, retweets, and replies for each tweet. The dataset also includes any hashtags, mentions, and links used in the tweets.\n",
    "\n",
    "- Since it contains over 400,000 tweets in more than 60 languages, I will first filter down the corpus to the Turkish language tweets. \n",
    "- Then I will randomly sample a subcorpus for manual annotation using Doccano."
   ]
  },
  {
   "cell_type": "code",
   "execution_count": 33,
   "id": "e56d3747",
   "metadata": {},
   "outputs": [],
   "source": [
    "import pandas as pd\n",
    "from sklearn.model_selection import train_test_split\n",
    "import json\n",
    "import warnings\n",
    "warnings.filterwarnings('ignore')"
   ]
  },
  {
   "cell_type": "code",
   "execution_count": 8,
   "id": "2541bf4d",
   "metadata": {},
   "outputs": [
    {
     "data": {
      "text/html": [
       "<div>\n",
       "<style scoped>\n",
       "    .dataframe tbody tr th:only-of-type {\n",
       "        vertical-align: middle;\n",
       "    }\n",
       "\n",
       "    .dataframe tbody tr th {\n",
       "        vertical-align: top;\n",
       "    }\n",
       "\n",
       "    .dataframe thead th {\n",
       "        text-align: right;\n",
       "    }\n",
       "</style>\n",
       "<table border=\"1\" class=\"dataframe\">\n",
       "  <thead>\n",
       "    <tr style=\"text-align: right;\">\n",
       "      <th></th>\n",
       "      <th>date</th>\n",
       "      <th>content</th>\n",
       "      <th>hashtags</th>\n",
       "      <th>like_count</th>\n",
       "      <th>rt_count</th>\n",
       "      <th>followers_count</th>\n",
       "      <th>isVerified</th>\n",
       "      <th>language</th>\n",
       "      <th>coordinates</th>\n",
       "      <th>place</th>\n",
       "      <th>source</th>\n",
       "    </tr>\n",
       "  </thead>\n",
       "  <tbody>\n",
       "    <tr>\n",
       "      <th>0</th>\n",
       "      <td>2023-02-21 03:30:04+00:00</td>\n",
       "      <td>तुर्की में सोमवार देर रात भूंकप के तेज झटके मह...</td>\n",
       "      <td>['ATDigital', 'Turkey', 'Earthquake', 'TurkeyE...</td>\n",
       "      <td>0.0</td>\n",
       "      <td>0.0</td>\n",
       "      <td>19727712.0</td>\n",
       "      <td>True</td>\n",
       "      <td>hi</td>\n",
       "      <td>NaN</td>\n",
       "      <td>NaN</td>\n",
       "      <td>Twitter Media Studio</td>\n",
       "    </tr>\n",
       "    <tr>\n",
       "      <th>1</th>\n",
       "      <td>2023-02-21 03:29:07+00:00</td>\n",
       "      <td>New search &amp;amp; rescue work is in progress in...</td>\n",
       "      <td>['Hatay', 'earthquakes', 'Türkiye', 'TurkiyeQu...</td>\n",
       "      <td>1.0</td>\n",
       "      <td>0.0</td>\n",
       "      <td>5697.0</td>\n",
       "      <td>True</td>\n",
       "      <td>en</td>\n",
       "      <td>NaN</td>\n",
       "      <td>NaN</td>\n",
       "      <td>Twitter Web App</td>\n",
       "    </tr>\n",
       "    <tr>\n",
       "      <th>2</th>\n",
       "      <td>2023-02-21 03:29:04+00:00</td>\n",
       "      <td>Can't imagine those who still haven't recovere...</td>\n",
       "      <td>['Turkey', 'earthquake', 'turkeyearthquake2023...</td>\n",
       "      <td>0.0</td>\n",
       "      <td>0.0</td>\n",
       "      <td>1.0</td>\n",
       "      <td>False</td>\n",
       "      <td>en</td>\n",
       "      <td>NaN</td>\n",
       "      <td>NaN</td>\n",
       "      <td>Twitter for Android</td>\n",
       "    </tr>\n",
       "    <tr>\n",
       "      <th>3</th>\n",
       "      <td>2023-02-21 03:28:06+00:00</td>\n",
       "      <td>its a highkey sign for all of us to ponder ove...</td>\n",
       "      <td>['turkeyearthquake2023', 'earthquake', 'Syria']</td>\n",
       "      <td>0.0</td>\n",
       "      <td>0.0</td>\n",
       "      <td>3.0</td>\n",
       "      <td>False</td>\n",
       "      <td>en</td>\n",
       "      <td>NaN</td>\n",
       "      <td>NaN</td>\n",
       "      <td>Twitter for Android</td>\n",
       "    </tr>\n",
       "    <tr>\n",
       "      <th>4</th>\n",
       "      <td>2023-02-21 03:27:38+00:00</td>\n",
       "      <td>Turkiye Earthquake: तुर्किए में फिर आया भूकंप ...</td>\n",
       "      <td>['turkey', 'earthquake', 'turkiye', 'india', '...</td>\n",
       "      <td>0.0</td>\n",
       "      <td>0.0</td>\n",
       "      <td>17.0</td>\n",
       "      <td>False</td>\n",
       "      <td>und</td>\n",
       "      <td>NaN</td>\n",
       "      <td>NaN</td>\n",
       "      <td>Twitter for Android</td>\n",
       "    </tr>\n",
       "  </tbody>\n",
       "</table>\n",
       "</div>"
      ],
      "text/plain": [
       "                        date  \\\n",
       "0  2023-02-21 03:30:04+00:00   \n",
       "1  2023-02-21 03:29:07+00:00   \n",
       "2  2023-02-21 03:29:04+00:00   \n",
       "3  2023-02-21 03:28:06+00:00   \n",
       "4  2023-02-21 03:27:38+00:00   \n",
       "\n",
       "                                             content  \\\n",
       "0  तुर्की में सोमवार देर रात भूंकप के तेज झटके मह...   \n",
       "1  New search &amp; rescue work is in progress in...   \n",
       "2  Can't imagine those who still haven't recovere...   \n",
       "3  its a highkey sign for all of us to ponder ove...   \n",
       "4  Turkiye Earthquake: तुर्किए में फिर आया भूकंप ...   \n",
       "\n",
       "                                            hashtags  like_count  rt_count  \\\n",
       "0  ['ATDigital', 'Turkey', 'Earthquake', 'TurkeyE...         0.0       0.0   \n",
       "1  ['Hatay', 'earthquakes', 'Türkiye', 'TurkiyeQu...         1.0       0.0   \n",
       "2  ['Turkey', 'earthquake', 'turkeyearthquake2023...         0.0       0.0   \n",
       "3    ['turkeyearthquake2023', 'earthquake', 'Syria']         0.0       0.0   \n",
       "4  ['turkey', 'earthquake', 'turkiye', 'india', '...         0.0       0.0   \n",
       "\n",
       "   followers_count isVerified language coordinates place                source  \n",
       "0       19727712.0       True       hi         NaN   NaN  Twitter Media Studio  \n",
       "1           5697.0       True       en         NaN   NaN       Twitter Web App  \n",
       "2              1.0      False       en         NaN   NaN   Twitter for Android  \n",
       "3              3.0      False       en         NaN   NaN   Twitter for Android  \n",
       "4             17.0      False      und         NaN   NaN   Twitter for Android  "
      ]
     },
     "execution_count": 8,
     "metadata": {},
     "output_type": "execute_result"
    }
   ],
   "source": [
    "pd.set_option('display.max_columns', None) \n",
    "df = pd.read_csv(\"/Users/yagmuraslan/Desktop/JEDHA/FINAL_PROJECT/tweets.csv\")\n",
    "df.head()"
   ]
  },
  {
   "cell_type": "code",
   "execution_count": 9,
   "id": "d981ef1d",
   "metadata": {},
   "outputs": [
    {
     "name": "stdout",
     "output_type": "stream",
     "text": [
      "The number of tweets in the dataset is 478052\n"
     ]
    }
   ],
   "source": [
    "print(\"The number of tweets in the dataset is\", len(df))"
   ]
  },
  {
   "cell_type": "code",
   "execution_count": 12,
   "id": "24557993",
   "metadata": {},
   "outputs": [
    {
     "name": "stdout",
     "output_type": "stream",
     "text": [
      "The dataset consists of tweets posted between 2023-02-06 and 2023-02-21 on the earthquakes.\n"
     ]
    }
   ],
   "source": [
    "print(\"The dataset consists of tweets posted between\", df['date'].min().split(\" \")[0], \"and\", \n",
    "      df['date'].max().split(\" \")[0], \"on the earthquakes.\")"
   ]
  },
  {
   "cell_type": "code",
   "execution_count": 5,
   "id": "919ba7e4",
   "metadata": {},
   "outputs": [
    {
     "data": {
      "text/plain": [
       "'2023-02-06 00:00:00+00:00'"
      ]
     },
     "execution_count": 5,
     "metadata": {},
     "output_type": "execute_result"
    }
   ],
   "source": [
    "df['date'].min()"
   ]
  },
  {
   "cell_type": "code",
   "execution_count": 17,
   "id": "c2b131f4",
   "metadata": {},
   "outputs": [
    {
     "name": "stdout",
     "output_type": "stream",
     "text": [
      "The dataset contains tweets in 66 different languages.\n"
     ]
    }
   ],
   "source": [
    "print(\"The dataset contains tweets in\", len(df['language'].unique()), \"different languages.\")"
   ]
  },
  {
   "cell_type": "markdown",
   "id": "aa677614",
   "metadata": {},
   "source": [
    "## Selecting the tweets in turkish"
   ]
  },
  {
   "cell_type": "code",
   "execution_count": 7,
   "id": "a4b414d4",
   "metadata": {},
   "outputs": [
    {
     "data": {
      "text/plain": [
       "language\n",
       "dv          4\n",
       "my          6\n",
       "km         11\n",
       "hy         13\n",
       "am         13\n",
       "        ...  \n",
       "qht     13479\n",
       "ar      17059\n",
       "qme     38829\n",
       "tr     140532\n",
       "en     189626\n",
       "Name: language, Length: 65, dtype: int64"
      ]
     },
     "execution_count": 7,
     "metadata": {},
     "output_type": "execute_result"
    }
   ],
   "source": [
    "df.groupby(df['language'])['language'].count().sort_values()"
   ]
  },
  {
   "cell_type": "markdown",
   "id": "66b0abc5",
   "metadata": {},
   "source": [
    "As you can see above, a large majority of the tweets are posted either in Turkish or in English. This project focuses on Turkish language tweets only. Let's filter them."
   ]
  },
  {
   "cell_type": "code",
   "execution_count": 21,
   "id": "0386c331",
   "metadata": {},
   "outputs": [
    {
     "data": {
      "text/html": [
       "<div>\n",
       "<style scoped>\n",
       "    .dataframe tbody tr th:only-of-type {\n",
       "        vertical-align: middle;\n",
       "    }\n",
       "\n",
       "    .dataframe tbody tr th {\n",
       "        vertical-align: top;\n",
       "    }\n",
       "\n",
       "    .dataframe thead th {\n",
       "        text-align: right;\n",
       "    }\n",
       "</style>\n",
       "<table border=\"1\" class=\"dataframe\">\n",
       "  <thead>\n",
       "    <tr style=\"text-align: right;\">\n",
       "      <th></th>\n",
       "      <th>date</th>\n",
       "      <th>content</th>\n",
       "      <th>hashtags</th>\n",
       "      <th>like_count</th>\n",
       "      <th>rt_count</th>\n",
       "      <th>followers_count</th>\n",
       "      <th>isVerified</th>\n",
       "      <th>language</th>\n",
       "      <th>coordinates</th>\n",
       "      <th>place</th>\n",
       "      <th>source</th>\n",
       "    </tr>\n",
       "  </thead>\n",
       "  <tbody>\n",
       "    <tr>\n",
       "      <th>0</th>\n",
       "      <td>2023-02-21 01:19:22+00:00</td>\n",
       "      <td>Hayatını kaybeden çocukların anısına bazı enka...</td>\n",
       "      <td>['earthquake', 'DEPREMANI', 'depremoldu', 'dep...</td>\n",
       "      <td>1.0</td>\n",
       "      <td>0.0</td>\n",
       "      <td>149.0</td>\n",
       "      <td>False</td>\n",
       "      <td>tr</td>\n",
       "      <td>NaN</td>\n",
       "      <td>NaN</td>\n",
       "      <td>Twitter for Android</td>\n",
       "    </tr>\n",
       "    <tr>\n",
       "      <th>1</th>\n",
       "      <td>2023-02-21 01:09:45+00:00</td>\n",
       "      <td>Vatan hainleri yine TAG açmış: #70ildeOkullarK...</td>\n",
       "      <td>['70ildeOkullarKapatılsın', 'deprem', 'earthqu...</td>\n",
       "      <td>3.0</td>\n",
       "      <td>1.0</td>\n",
       "      <td>0.0</td>\n",
       "      <td>False</td>\n",
       "      <td>tr</td>\n",
       "      <td>NaN</td>\n",
       "      <td>NaN</td>\n",
       "      <td>Twitter for iPhone</td>\n",
       "    </tr>\n",
       "    <tr>\n",
       "      <th>2</th>\n",
       "      <td>2023-02-21 00:56:12+00:00</td>\n",
       "      <td>2023 Bizi Sal Artık 🤦🏻‍♀️   #earthquake #turke...</td>\n",
       "      <td>['earthquake', 'turkeyearthquake2023', 'Turkey...</td>\n",
       "      <td>0.0</td>\n",
       "      <td>0.0</td>\n",
       "      <td>1252.0</td>\n",
       "      <td>False</td>\n",
       "      <td>tr</td>\n",
       "      <td>NaN</td>\n",
       "      <td>NaN</td>\n",
       "      <td>Twitter for Android</td>\n",
       "    </tr>\n",
       "    <tr>\n",
       "      <th>3</th>\n",
       "      <td>2023-02-21 00:53:57+00:00</td>\n",
       "      <td>Türkiye'nin Güneyi ve Suriye'de 6.4 büyüklüğün...</td>\n",
       "      <td>['Turkey', 'earthquake', 'Syria']</td>\n",
       "      <td>0.0</td>\n",
       "      <td>0.0</td>\n",
       "      <td>3338.0</td>\n",
       "      <td>False</td>\n",
       "      <td>tr</td>\n",
       "      <td>NaN</td>\n",
       "      <td>NaN</td>\n",
       "      <td>Twitter for Android</td>\n",
       "    </tr>\n",
       "    <tr>\n",
       "      <th>4</th>\n",
       "      <td>2023-02-21 00:36:52+00:00</td>\n",
       "      <td>Selocum onlar istifa etmiyor. Devlet malı deni...</td>\n",
       "      <td>['earthquake', 'Erdbeben', 'depremoldu', 'Turk...</td>\n",
       "      <td>0.0</td>\n",
       "      <td>0.0</td>\n",
       "      <td>297.0</td>\n",
       "      <td>False</td>\n",
       "      <td>tr</td>\n",
       "      <td>Coordinates(longitude=40.149462, latitude=37.8...</td>\n",
       "      <td>Place(fullName='Diyarbakır, Türkiye', name='Di...</td>\n",
       "      <td>Twitter for Android</td>\n",
       "    </tr>\n",
       "  </tbody>\n",
       "</table>\n",
       "</div>"
      ],
      "text/plain": [
       "                        date  \\\n",
       "0  2023-02-21 01:19:22+00:00   \n",
       "1  2023-02-21 01:09:45+00:00   \n",
       "2  2023-02-21 00:56:12+00:00   \n",
       "3  2023-02-21 00:53:57+00:00   \n",
       "4  2023-02-21 00:36:52+00:00   \n",
       "\n",
       "                                             content  \\\n",
       "0  Hayatını kaybeden çocukların anısına bazı enka...   \n",
       "1  Vatan hainleri yine TAG açmış: #70ildeOkullarK...   \n",
       "2  2023 Bizi Sal Artık 🤦🏻‍♀️   #earthquake #turke...   \n",
       "3  Türkiye'nin Güneyi ve Suriye'de 6.4 büyüklüğün...   \n",
       "4  Selocum onlar istifa etmiyor. Devlet malı deni...   \n",
       "\n",
       "                                            hashtags  like_count  rt_count  \\\n",
       "0  ['earthquake', 'DEPREMANI', 'depremoldu', 'dep...         1.0       0.0   \n",
       "1  ['70ildeOkullarKapatılsın', 'deprem', 'earthqu...         3.0       1.0   \n",
       "2  ['earthquake', 'turkeyearthquake2023', 'Turkey...         0.0       0.0   \n",
       "3                  ['Turkey', 'earthquake', 'Syria']         0.0       0.0   \n",
       "4  ['earthquake', 'Erdbeben', 'depremoldu', 'Turk...         0.0       0.0   \n",
       "\n",
       "   followers_count isVerified language  \\\n",
       "0            149.0      False       tr   \n",
       "1              0.0      False       tr   \n",
       "2           1252.0      False       tr   \n",
       "3           3338.0      False       tr   \n",
       "4            297.0      False       tr   \n",
       "\n",
       "                                         coordinates  \\\n",
       "0                                                NaN   \n",
       "1                                                NaN   \n",
       "2                                                NaN   \n",
       "3                                                NaN   \n",
       "4  Coordinates(longitude=40.149462, latitude=37.8...   \n",
       "\n",
       "                                               place               source  \n",
       "0                                                NaN  Twitter for Android  \n",
       "1                                                NaN   Twitter for iPhone  \n",
       "2                                                NaN  Twitter for Android  \n",
       "3                                                NaN  Twitter for Android  \n",
       "4  Place(fullName='Diyarbakır, Türkiye', name='Di...  Twitter for Android  "
      ]
     },
     "execution_count": 21,
     "metadata": {},
     "output_type": "execute_result"
    }
   ],
   "source": [
    "tr = df[df['language'] == 'tr'].reset_index(drop = True)\n",
    "tr.head()"
   ]
  },
  {
   "cell_type": "code",
   "execution_count": 22,
   "id": "6b077611",
   "metadata": {},
   "outputs": [
    {
     "data": {
      "text/plain": [
       "['Hayatını kaybeden çocukların anısına bazı enkazların üzerine balon astılar.  #earthquake #DEPREMANI #depremoldu #depremhatay #deprem #turkeyearthquake2023 #TurkeyEarthquake #turkiyeearthquake #Syria #syriaearthquake #afaddeprem #tribute #HopeForTurkeyNow #HopeForSyriaNow https://t.co/5Tw4QTSqTA',\n",
       " 'Vatan hainleri yine TAG açmış: #70ildeOkullarKapatılsın  SİZ ÇENENİZİ KAPATIN!  EN İYİ PSİKOLOJİK TEDAVİ MERKEZLERİ OKULLAR AÇIK OLACAK, AÇIK KALACAK!  MALLIĞINIZDAN BIKTIK!   EĞİTİM HER ŞEYDEN DAHA ÖNEMLİ!  KALIN KAFANIZA SOKUN BUNU! #deprem #earthquake #Turkey #meb #sondakika',\n",
       " '2023 Bizi Sal Artık 🤦🏻\\u200d♀️   #earthquake #turkeyearthquake2023 #Turkey #samandag',\n",
       " \"Türkiye'nin Güneyi ve Suriye'de 6.4 büyüklüğündeki deprem şoku bir kez daha hissedildi. Son günlerde meydana gelen deprem nedeniyle 50 bin ölüm korkusu var ve yüzlerce bina yıkıldı Allah bizi affetsin, bize merhamet etsin. #Turkey #earthquake #Syria\",\n",
       " 'Selocum onlar istifa etmiyor. Devlet malı deniz yemeyen domuz diyerek yiyorlar ve korkuyorlar. IBAN paylaşmak için fırsat kolluyorlar.  İBAN paylaşanları kıskanıyorlar. #earthquake #Erdbeben #depremoldu #Turkey #samandag #زلزال https://t.co/khkOEGkq8b',\n",
       " 'Taner  Savut 98-99 yıllarında Joachim Löw’ün beğendiği ve oynattığı oyunculardandı mekanı cennet olsun 😔  #samandag Ali Koç #depremoldu #Turkey #earthquake #',\n",
       " 'Bu ülkede geçer dediğimiz hiç bi şey geçmiyor daha da kötüye gidiyor…   #earthquake #Turkey',\n",
       " 'uyku tutmuyo nefes alsan deprem oluyo saniyosun ne zaman biticek artik bu kabus 🥺 #depremoldu #earthquake #turkeyearthquake2023 #Turkey',\n",
       " \"Kâbus bitmiyor. Çok, çok geçmiş olsun. Artık Hatay'a dayan söylemekten ayıp oluyor.   Ne kadar dayanacak bir şehir. UF.   #DepremOldu #Earthquake #Turkey #Türkiye https://t.co/rDvAy7pBp4\",\n",
       " \"Hatay'da 6.4 şiddetinde meydana gelen deprem Adana Şehir Hastanesi’nde böyle hissedildi.  #Uyarı #depremoldu #Batman #Adana #Marmara #Tsunami #SONDAKİKA  #Search_and_rescue #rescue_operation #Turkiye #suvivor #earthquake #Syria #Turkey #터키 #튀르키예 #지진 #수색구조 #구조작업 https://t.co/oeoFaqcEpr\"]"
      ]
     },
     "execution_count": 22,
     "metadata": {},
     "output_type": "execute_result"
    }
   ],
   "source": [
    "tr['content'].tolist()[:10]"
   ]
  },
  {
   "cell_type": "markdown",
   "id": "32a83b81",
   "metadata": {},
   "source": [
    "## Sampling for Annotation\n",
    "\n",
    "- In order to train the tweet classification model, I chose first to annotate 10,000 tweets manually based on whether they are an emergency call or not.\n",
    "- I will choose the annotation sample among the tweets posted in the first 72 hours of the earthquake, as this date range consists of a higher number of emergency and rescue calls, so it will allow for a less imbalanced trainset between the categories and it will allow me to train the model on a higher number of emergency tweets, which would enhance the models predictive power when applied to the entire dataset."
   ]
  },
  {
   "cell_type": "markdown",
   "id": "9fac36d2",
   "metadata": {},
   "source": [
    "### First 72 hours"
   ]
  },
  {
   "cell_type": "code",
   "execution_count": 26,
   "id": "62076c81",
   "metadata": {},
   "outputs": [
    {
     "data": {
      "text/html": [
       "<div>\n",
       "<style scoped>\n",
       "    .dataframe tbody tr th:only-of-type {\n",
       "        vertical-align: middle;\n",
       "    }\n",
       "\n",
       "    .dataframe tbody tr th {\n",
       "        vertical-align: top;\n",
       "    }\n",
       "\n",
       "    .dataframe thead th {\n",
       "        text-align: right;\n",
       "    }\n",
       "</style>\n",
       "<table border=\"1\" class=\"dataframe\">\n",
       "  <thead>\n",
       "    <tr style=\"text-align: right;\">\n",
       "      <th></th>\n",
       "      <th>date</th>\n",
       "      <th>content</th>\n",
       "      <th>hashtags</th>\n",
       "      <th>like_count</th>\n",
       "      <th>rt_count</th>\n",
       "      <th>followers_count</th>\n",
       "      <th>isVerified</th>\n",
       "      <th>language</th>\n",
       "      <th>coordinates</th>\n",
       "      <th>place</th>\n",
       "      <th>source</th>\n",
       "    </tr>\n",
       "  </thead>\n",
       "  <tbody>\n",
       "    <tr>\n",
       "      <th>0</th>\n",
       "      <td>2023-02-08 23:59:54+00:00</td>\n",
       "      <td>DONATE VIA BANK TRANSFER:  SWIFT:  ISBKTRIS  İ...</td>\n",
       "      <td>['HelpTurkey', 'earthquake', 'earthquakeinturk...</td>\n",
       "      <td>0.0</td>\n",
       "      <td>1.0</td>\n",
       "      <td>30.0</td>\n",
       "      <td>False</td>\n",
       "      <td>tr</td>\n",
       "      <td>NaN</td>\n",
       "      <td>NaN</td>\n",
       "      <td>Twitter Web App</td>\n",
       "    </tr>\n",
       "    <tr>\n",
       "      <th>1</th>\n",
       "      <td>2023-02-08 23:59:52+00:00</td>\n",
       "      <td>6) Ara ara hastanın nefes alıp almadığını kont...</td>\n",
       "      <td>['Deprem', 'Turkey']</td>\n",
       "      <td>0.0</td>\n",
       "      <td>0.0</td>\n",
       "      <td>358.0</td>\n",
       "      <td>False</td>\n",
       "      <td>tr</td>\n",
       "      <td>NaN</td>\n",
       "      <td>NaN</td>\n",
       "      <td>Twitter for Android</td>\n",
       "    </tr>\n",
       "    <tr>\n",
       "      <th>2</th>\n",
       "      <td>2023-02-08 23:59:50+00:00</td>\n",
       "      <td>#AFADGaziantep lütfen o binada Sude ve ailesin...</td>\n",
       "      <td>['AFADGaziantep', 'gaziantepdeprem', 'Turkey']</td>\n",
       "      <td>0.0</td>\n",
       "      <td>0.0</td>\n",
       "      <td>284.0</td>\n",
       "      <td>False</td>\n",
       "      <td>tr</td>\n",
       "      <td>NaN</td>\n",
       "      <td>NaN</td>\n",
       "      <td>Twitter for iPhone</td>\n",
       "    </tr>\n",
       "    <tr>\n",
       "      <th>3</th>\n",
       "      <td>2023-02-08 23:59:44+00:00</td>\n",
       "      <td>71.saat 5. Kat 75 yaşındaki Bekir amcamız seni...</td>\n",
       "      <td>['bekir', 'deprem', 'Gaziantep', 'Turkey', 'Tu...</td>\n",
       "      <td>6.0</td>\n",
       "      <td>1.0</td>\n",
       "      <td>84.0</td>\n",
       "      <td>False</td>\n",
       "      <td>tr</td>\n",
       "      <td>NaN</td>\n",
       "      <td>NaN</td>\n",
       "      <td>Twitter for Android</td>\n",
       "    </tr>\n",
       "    <tr>\n",
       "      <th>4</th>\n",
       "      <td>2023-02-08 23:59:38+00:00</td>\n",
       "      <td>ENKAZIN ALTINDAN AFAD EKİPLERİNE YEMEK SÖZÜ  #...</td>\n",
       "      <td>['Hatay', 'deprem', 'Turkey', 'enkazaltındayım...</td>\n",
       "      <td>177.0</td>\n",
       "      <td>25.0</td>\n",
       "      <td>1223.0</td>\n",
       "      <td>False</td>\n",
       "      <td>tr</td>\n",
       "      <td>NaN</td>\n",
       "      <td>NaN</td>\n",
       "      <td>Twitter for Android</td>\n",
       "    </tr>\n",
       "  </tbody>\n",
       "</table>\n",
       "</div>"
      ],
      "text/plain": [
       "                        date  \\\n",
       "0  2023-02-08 23:59:54+00:00   \n",
       "1  2023-02-08 23:59:52+00:00   \n",
       "2  2023-02-08 23:59:50+00:00   \n",
       "3  2023-02-08 23:59:44+00:00   \n",
       "4  2023-02-08 23:59:38+00:00   \n",
       "\n",
       "                                             content  \\\n",
       "0  DONATE VIA BANK TRANSFER:  SWIFT:  ISBKTRIS  İ...   \n",
       "1  6) Ara ara hastanın nefes alıp almadığını kont...   \n",
       "2  #AFADGaziantep lütfen o binada Sude ve ailesin...   \n",
       "3  71.saat 5. Kat 75 yaşındaki Bekir amcamız seni...   \n",
       "4  ENKAZIN ALTINDAN AFAD EKİPLERİNE YEMEK SÖZÜ  #...   \n",
       "\n",
       "                                            hashtags  like_count  rt_count  \\\n",
       "0  ['HelpTurkey', 'earthquake', 'earthquakeinturk...         0.0       1.0   \n",
       "1                               ['Deprem', 'Turkey']         0.0       0.0   \n",
       "2     ['AFADGaziantep', 'gaziantepdeprem', 'Turkey']         0.0       0.0   \n",
       "3  ['bekir', 'deprem', 'Gaziantep', 'Turkey', 'Tu...         6.0       1.0   \n",
       "4  ['Hatay', 'deprem', 'Turkey', 'enkazaltındayım...       177.0      25.0   \n",
       "\n",
       "   followers_count isVerified language coordinates place               source  \n",
       "0             30.0      False       tr         NaN   NaN      Twitter Web App  \n",
       "1            358.0      False       tr         NaN   NaN  Twitter for Android  \n",
       "2            284.0      False       tr         NaN   NaN   Twitter for iPhone  \n",
       "3             84.0      False       tr         NaN   NaN  Twitter for Android  \n",
       "4           1223.0      False       tr         NaN   NaN  Twitter for Android  "
      ]
     },
     "execution_count": 26,
     "metadata": {},
     "output_type": "execute_result"
    }
   ],
   "source": [
    "df3days = df[df['date'] < '2023-02-09 00:00:00+00:00']\n",
    "tr3 = df3days[df3days['language'] == 'tr'].reset_index(drop = True)\n",
    "tr3.head()"
   ]
  },
  {
   "cell_type": "markdown",
   "id": "02f2e60e",
   "metadata": {},
   "source": [
    "### Sampling"
   ]
  },
  {
   "cell_type": "code",
   "execution_count": 27,
   "id": "479dbd29",
   "metadata": {},
   "outputs": [
    {
     "data": {
      "text/plain": [
       "10000"
      ]
     },
     "execution_count": 27,
     "metadata": {},
     "output_type": "execute_result"
    }
   ],
   "source": [
    "Xtrain, Xtest = train_test_split(tr3, test_size = 10000, random_state = 42)\n",
    "rest = tr3.iloc[Xtrain.index]\n",
    "sample = tr3.iloc[Xtest.index]\n",
    "len(sample)"
   ]
  },
  {
   "cell_type": "code",
   "execution_count": 28,
   "id": "aca556a7",
   "metadata": {},
   "outputs": [
    {
     "data": {
      "text/html": [
       "<div>\n",
       "<style scoped>\n",
       "    .dataframe tbody tr th:only-of-type {\n",
       "        vertical-align: middle;\n",
       "    }\n",
       "\n",
       "    .dataframe tbody tr th {\n",
       "        vertical-align: top;\n",
       "    }\n",
       "\n",
       "    .dataframe thead th {\n",
       "        text-align: right;\n",
       "    }\n",
       "</style>\n",
       "<table border=\"1\" class=\"dataframe\">\n",
       "  <thead>\n",
       "    <tr style=\"text-align: right;\">\n",
       "      <th></th>\n",
       "      <th>index</th>\n",
       "      <th>date</th>\n",
       "      <th>content</th>\n",
       "      <th>hashtags</th>\n",
       "      <th>like_count</th>\n",
       "      <th>rt_count</th>\n",
       "      <th>followers_count</th>\n",
       "      <th>isVerified</th>\n",
       "      <th>language</th>\n",
       "      <th>coordinates</th>\n",
       "      <th>place</th>\n",
       "      <th>source</th>\n",
       "    </tr>\n",
       "  </thead>\n",
       "  <tbody>\n",
       "    <tr>\n",
       "      <th>0</th>\n",
       "      <td>108332</td>\n",
       "      <td>2023-02-06 11:17:08+00:00</td>\n",
       "      <td>Arama Kurtarma ekipleri heryere yetişemiyor kı...</td>\n",
       "      <td>['deprem', 'Hatay', 'Gaziantep', 'Turkey', 'is...</td>\n",
       "      <td>2.0</td>\n",
       "      <td>1.0</td>\n",
       "      <td>61.0</td>\n",
       "      <td>False</td>\n",
       "      <td>tr</td>\n",
       "      <td>NaN</td>\n",
       "      <td>NaN</td>\n",
       "      <td>Twitter for iPhone</td>\n",
       "    </tr>\n",
       "    <tr>\n",
       "      <th>1</th>\n",
       "      <td>66352</td>\n",
       "      <td>2023-02-06 23:02:41+00:00</td>\n",
       "      <td>Marketleri, dükkanları, ölmüş insanları yağmal...</td>\n",
       "      <td>['YazıklarOlsun', 'deprem', 'Turkey', 'Enkaz']</td>\n",
       "      <td>2.0</td>\n",
       "      <td>2.0</td>\n",
       "      <td>73.0</td>\n",
       "      <td>False</td>\n",
       "      <td>tr</td>\n",
       "      <td>NaN</td>\n",
       "      <td>NaN</td>\n",
       "      <td>Twitter for Android</td>\n",
       "    </tr>\n",
       "    <tr>\n",
       "      <th>2</th>\n",
       "      <td>32462</td>\n",
       "      <td>2023-02-07 19:07:43+00:00</td>\n",
       "      <td>Arkadaşlar böyle bir uygulama varmış. İlaçları...</td>\n",
       "      <td>['deprem', 'hataydepremi', 'hatayyardimbekliyo...</td>\n",
       "      <td>0.0</td>\n",
       "      <td>0.0</td>\n",
       "      <td>30.0</td>\n",
       "      <td>False</td>\n",
       "      <td>tr</td>\n",
       "      <td>NaN</td>\n",
       "      <td>NaN</td>\n",
       "      <td>Twitter for Android</td>\n",
       "    </tr>\n",
       "    <tr>\n",
       "      <th>3</th>\n",
       "      <td>84613</td>\n",
       "      <td>2023-02-06 18:41:58+00:00</td>\n",
       "      <td>Adıyamanda destek yok. Çok fazla bina yıkıldı ...</td>\n",
       "      <td>['deprem', 'adiyamandeprem', 'AFAD', 'afadadiy...</td>\n",
       "      <td>1.0</td>\n",
       "      <td>1.0</td>\n",
       "      <td>1.0</td>\n",
       "      <td>False</td>\n",
       "      <td>tr</td>\n",
       "      <td>NaN</td>\n",
       "      <td>NaN</td>\n",
       "      <td>Twitter for Android</td>\n",
       "    </tr>\n",
       "    <tr>\n",
       "      <th>4</th>\n",
       "      <td>22536</td>\n",
       "      <td>2023-02-08 01:00:38+00:00</td>\n",
       "      <td>Turunçlu mahallesi samandag yolu uzeri, saray ...</td>\n",
       "      <td>['Turkey', 'CristianoRonaldo', 'hatayyardimbek...</td>\n",
       "      <td>0.0</td>\n",
       "      <td>0.0</td>\n",
       "      <td>0.0</td>\n",
       "      <td>False</td>\n",
       "      <td>tr</td>\n",
       "      <td>NaN</td>\n",
       "      <td>NaN</td>\n",
       "      <td>Twitter for iPhone</td>\n",
       "    </tr>\n",
       "  </tbody>\n",
       "</table>\n",
       "</div>"
      ],
      "text/plain": [
       "    index                       date  \\\n",
       "0  108332  2023-02-06 11:17:08+00:00   \n",
       "1   66352  2023-02-06 23:02:41+00:00   \n",
       "2   32462  2023-02-07 19:07:43+00:00   \n",
       "3   84613  2023-02-06 18:41:58+00:00   \n",
       "4   22536  2023-02-08 01:00:38+00:00   \n",
       "\n",
       "                                             content  \\\n",
       "0  Arama Kurtarma ekipleri heryere yetişemiyor kı...   \n",
       "1  Marketleri, dükkanları, ölmüş insanları yağmal...   \n",
       "2  Arkadaşlar böyle bir uygulama varmış. İlaçları...   \n",
       "3  Adıyamanda destek yok. Çok fazla bina yıkıldı ...   \n",
       "4  Turunçlu mahallesi samandag yolu uzeri, saray ...   \n",
       "\n",
       "                                            hashtags  like_count  rt_count  \\\n",
       "0  ['deprem', 'Hatay', 'Gaziantep', 'Turkey', 'is...         2.0       1.0   \n",
       "1     ['YazıklarOlsun', 'deprem', 'Turkey', 'Enkaz']         2.0       2.0   \n",
       "2  ['deprem', 'hataydepremi', 'hatayyardimbekliyo...         0.0       0.0   \n",
       "3  ['deprem', 'adiyamandeprem', 'AFAD', 'afadadiy...         1.0       1.0   \n",
       "4  ['Turkey', 'CristianoRonaldo', 'hatayyardimbek...         0.0       0.0   \n",
       "\n",
       "   followers_count isVerified language coordinates place               source  \n",
       "0             61.0      False       tr         NaN   NaN   Twitter for iPhone  \n",
       "1             73.0      False       tr         NaN   NaN  Twitter for Android  \n",
       "2             30.0      False       tr         NaN   NaN  Twitter for Android  \n",
       "3              1.0      False       tr         NaN   NaN  Twitter for Android  \n",
       "4              0.0      False       tr         NaN   NaN   Twitter for iPhone  "
      ]
     },
     "execution_count": 28,
     "metadata": {},
     "output_type": "execute_result"
    }
   ],
   "source": [
    "sample = sample.reset_index(drop=False)\n",
    "sample.head()"
   ]
  },
  {
   "cell_type": "markdown",
   "id": "8e7cd6f5",
   "metadata": {},
   "source": [
    "Now, let's only keep the variables of interest: the index number and the tweet content.\n",
    "\n",
    "#### Note:\n",
    "- Doccano requires the input to be a json file, with a key 'text' for the content and 'label' for the labels, see [tutorial page]('https://doccano.github.io/doccano/tutorial/#import-a-dataset') for further documentation.\n",
    "- Therefore, we will save our sample dataset in the required format.\n",
    "- Since we don't have a label column yet, we can ignore that part."
   ]
  },
  {
   "cell_type": "code",
   "execution_count": 31,
   "id": "0f6f1015",
   "metadata": {},
   "outputs": [],
   "source": [
    "sample_list = []\n",
    "\n",
    "for i in range(len(sample)):\n",
    "    sample_dict = {}\n",
    "    sample_dict[\"index\"] = str(sample[\"index\"][i])\n",
    "    sample_dict[\"text\"] = sample[\"content\"][i]\n",
    "    sample_list.append(sample_dict)"
   ]
  },
  {
   "cell_type": "code",
   "execution_count": 32,
   "id": "7242ff6b",
   "metadata": {},
   "outputs": [
    {
     "data": {
      "text/plain": [
       "[{'index': '108332',\n",
       "  'text': 'Arama Kurtarma ekipleri heryere yetişemiyor kısmi seferberlik ilan edilmeli durum çok kötü  #deprem #Hatay #Gaziantep #Turkey #iskenderun'},\n",
       " {'index': '66352',\n",
       "  'text': 'Marketleri, dükkanları, ölmüş insanları yağmalayan şerefsizler; duyarsızca dalga geçen iğrenç yaratıklar... #YazıklarOlsun #deprem #Turkey #Enkaz'},\n",
       " {'index': '32462',\n",
       "  'text': 'Arkadaşlar böyle bir uygulama varmış. İlaçları temin edip gönderebiliriz. Yayalım. #deprem #hataydepremi #hatayyardimbekliyor #Turkey #ilaç #seferberlik #sondakikadeprem https://t.co/JhHaJdyIK0'},\n",
       " {'index': '84613',\n",
       "  'text': 'Adıyamanda destek yok. Çok fazla bina yıkıldı hatayda aynı şekilde . Oradaki insnaların da yardıma ihtiyacı var . #deprem  #adiyamandeprem  #AFAD  #afadadiyaman  #Turkey  #HalukLevent  #seferberlik'},\n",
       " {'index': '22536',\n",
       "  'text': 'Turunçlu mahallesi samandag yolu uzeri, saray market yanı 95/B Defne-Hatay Enkazda kalanlardan biri Nilay Oltacı  İletişim 05161646506 #Turkey #CristianoRonaldo #hatayyardimbekliyor #hatayiskenderun #HalkTV #özgürdemirtaş #fulyaöztürk #EnkazAltında #tahaduymaz'}]"
      ]
     },
     "execution_count": 32,
     "metadata": {},
     "output_type": "execute_result"
    }
   ],
   "source": [
    "sample_list[:5]"
   ]
  },
  {
   "cell_type": "code",
   "execution_count": 34,
   "id": "aa9a21a3",
   "metadata": {},
   "outputs": [],
   "source": [
    "import json\n",
    "with open(\"sample_list_10K.json\", \"w\", encoding=\"utf-8\") as file:\n",
    "    json.dump(sample_list, file, ensure_ascii=False)"
   ]
  },
  {
   "cell_type": "markdown",
   "id": "0a3c5fa5",
   "metadata": {},
   "source": [
    "#### Now we're ready to annotate the tweets using Doccano !\n",
    "For more information checkout the [tutorial]('https://doccano.github.io/doccano/')\n",
    "- After finishing the annotation of 10,000 tweets on doccano, I downloaded the annotated tweets as a json file with the name earthquake10K.json"
   ]
  },
  {
   "cell_type": "code",
   "execution_count": null,
   "id": "7709842f",
   "metadata": {},
   "outputs": [],
   "source": []
  }
 ],
 "metadata": {
  "kernelspec": {
   "display_name": "Python 3 (ipykernel)",
   "language": "python",
   "name": "python3"
  },
  "language_info": {
   "codemirror_mode": {
    "name": "ipython",
    "version": 3
   },
   "file_extension": ".py",
   "mimetype": "text/x-python",
   "name": "python",
   "nbconvert_exporter": "python",
   "pygments_lexer": "ipython3",
   "version": "3.9.13"
  }
 },
 "nbformat": 4,
 "nbformat_minor": 5
}
