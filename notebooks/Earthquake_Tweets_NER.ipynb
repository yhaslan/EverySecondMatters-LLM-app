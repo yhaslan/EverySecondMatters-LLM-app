{
 "cells": [
  {
   "cell_type": "markdown",
   "id": "Z4L2U8PfhdtQ",
   "metadata": {
    "id": "Z4L2U8PfhdtQ"
   },
   "source": [
    "# Named Entity Recognition for Earthquake Tweets"
   ]
  },
  {
   "cell_type": "markdown",
   "id": "-QduPzH5wdBN",
   "metadata": {
    "id": "-QduPzH5wdBN"
   },
   "source": [
    "### Install and Import the Packages"
   ]
  },
  {
   "cell_type": "code",
   "execution_count": 64,
   "id": "yaRPmWkv44kC",
   "metadata": {
    "id": "yaRPmWkv44kC"
   },
   "outputs": [],
   "source": [
    "import warnings\n",
    "warnings.filterwarnings('ignore')"
   ]
  },
  {
   "cell_type": "code",
   "execution_count": 1,
   "id": "U4ZZVXGhwN-_",
   "metadata": {
    "colab": {
     "base_uri": "https://localhost:8080/"
    },
    "id": "U4ZZVXGhwN-_",
    "outputId": "d07eb39f-406d-4ac9-d1b8-13f7414bed24"
   },
   "outputs": [],
   "source": [
    "#!pip install seqeval"
   ]
  },
  {
   "cell_type": "code",
   "execution_count": 2,
   "id": "40C39KUxetnv",
   "metadata": {
    "colab": {
     "base_uri": "https://localhost:8080/"
    },
    "id": "40C39KUxetnv",
    "outputId": "64a4bfdc-b2bb-4ddc-a52b-07f52c1e73af"
   },
   "outputs": [],
   "source": [
    "#!pip install transformers datasets"
   ]
  },
  {
   "cell_type": "code",
   "execution_count": 4,
   "id": "gZiMP-u9wS4_",
   "metadata": {
    "colab": {
     "base_uri": "https://localhost:8080/"
    },
    "id": "gZiMP-u9wS4_",
    "outputId": "856f52a9-f71a-4910-df4f-094175163506"
   },
   "outputs": [],
   "source": [
    "#!pip install transformers[torch]"
   ]
  },
  {
   "cell_type": "code",
   "execution_count": 5,
   "id": "KvnQnAqVwS1E",
   "metadata": {
    "id": "KvnQnAqVwS1E"
   },
   "outputs": [],
   "source": [
    "import json\n",
    "import pandas as pd\n",
    "import numpy as np\n",
    "import matplotlib.pyplot as plt\n",
    "import seaborn as sns\n",
    "import re\n",
    "\n",
    "from sklearn.metrics import f1_score, accuracy_score, precision_score, recall_score, confusion_matrix\n",
    "\n",
    "from transformers import AutoTokenizer, AutoModelForTokenClassification\n",
    "from transformers import DataCollatorForTokenClassification\n",
    "from transformers import TrainingArguments, Trainer, pipeline\n",
    "from datasets import load_dataset\n",
    "from datasets import load_metric"
   ]
  },
  {
   "cell_type": "markdown",
   "id": "aPgt1lR_wloZ",
   "metadata": {
    "id": "aPgt1lR_wloZ"
   },
   "source": [
    "### Upload the Dataset"
   ]
  },
  {
   "cell_type": "code",
   "execution_count": 6,
   "id": "HigqVxBtwSo0",
   "metadata": {
    "id": "HigqVxBtwSo0"
   },
   "outputs": [],
   "source": [
    "jsonl_file_path = 'admin2.jsonl'\n",
    "\n",
    "\n",
    "texts = []\n",
    "with open(jsonl_file_path, 'r') as file:\n",
    "    for line in file:\n",
    "        data = json.loads(line.strip())\n",
    "        texts.append(data)"
   ]
  },
  {
   "cell_type": "code",
   "execution_count": 7,
   "id": "41758565",
   "metadata": {
    "colab": {
     "base_uri": "https://localhost:8080/",
     "height": 258
    },
    "id": "41758565",
    "outputId": "9301f347-e170-4f5a-a23b-4480bc059df3"
   },
   "outputs": [
    {
     "data": {
      "text/html": [
       "\n",
       "  <div id=\"df-1ec6743e-29af-455c-b3fd-daa6f5c2dfad\" class=\"colab-df-container\">\n",
       "    <div>\n",
       "<style scoped>\n",
       "    .dataframe tbody tr th:only-of-type {\n",
       "        vertical-align: middle;\n",
       "    }\n",
       "\n",
       "    .dataframe tbody tr th {\n",
       "        vertical-align: top;\n",
       "    }\n",
       "\n",
       "    .dataframe thead th {\n",
       "        text-align: right;\n",
       "    }\n",
       "</style>\n",
       "<table border=\"1\" class=\"dataframe\">\n",
       "  <thead>\n",
       "    <tr style=\"text-align: right;\">\n",
       "      <th></th>\n",
       "      <th>id</th>\n",
       "      <th>text</th>\n",
       "      <th>index</th>\n",
       "      <th>label</th>\n",
       "      <th>Comments</th>\n",
       "    </tr>\n",
       "  </thead>\n",
       "  <tbody>\n",
       "    <tr>\n",
       "      <th>0</th>\n",
       "      <td>69825</td>\n",
       "      <td>Turunçlu mahallesi samandag yolu uzeri, saray ...</td>\n",
       "      <td>22536</td>\n",
       "      <td>[[0, 32, ADDR], [58, 68, ADDR], [69, 74, CITY]...</td>\n",
       "      <td>[]</td>\n",
       "    </tr>\n",
       "    <tr>\n",
       "      <th>1</th>\n",
       "      <td>69826</td>\n",
       "      <td>Kahramanmaraş ON İKİ ŞUBAT CADDESİ KÜLTÜRKENT ...</td>\n",
       "      <td>84306</td>\n",
       "      <td>[[0, 13, CITY], [14, 52, ADDR], [112, 124, PER...</td>\n",
       "      <td>[]</td>\n",
       "    </tr>\n",
       "    <tr>\n",
       "      <th>2</th>\n",
       "      <td>69827</td>\n",
       "      <td>ŞAZİBEY MAHALLESİ HAYDAR ALİYEV BULVARI YUNUS ...</td>\n",
       "      <td>2888</td>\n",
       "      <td>[[0, 62, ADDR]]</td>\n",
       "      <td>[]</td>\n",
       "    </tr>\n",
       "    <tr>\n",
       "      <th>3</th>\n",
       "      <td>69828</td>\n",
       "      <td>Su otele yardım edin, çok çocuk var içeride. #...</td>\n",
       "      <td>36316</td>\n",
       "      <td>[]</td>\n",
       "      <td>[]</td>\n",
       "    </tr>\n",
       "    <tr>\n",
       "      <th>4</th>\n",
       "      <td>69829</td>\n",
       "      <td>Malatya nergiz sitesi #malatyadeprem #Turkey #...</td>\n",
       "      <td>22886</td>\n",
       "      <td>[[0, 7, CITY], [8, 21, ADDR]]</td>\n",
       "      <td>[]</td>\n",
       "    </tr>\n",
       "  </tbody>\n",
       "</table>\n",
       "</div>\n",
       "    <div class=\"colab-df-buttons\">\n",
       "\n",
       "  <div class=\"colab-df-container\">\n",
       "    <button class=\"colab-df-convert\" onclick=\"convertToInteractive('df-1ec6743e-29af-455c-b3fd-daa6f5c2dfad')\"\n",
       "            title=\"Convert this dataframe to an interactive table.\"\n",
       "            style=\"display:none;\">\n",
       "\n",
       "  <svg xmlns=\"http://www.w3.org/2000/svg\" height=\"24px\" viewBox=\"0 -960 960 960\">\n",
       "    <path d=\"M120-120v-720h720v720H120Zm60-500h600v-160H180v160Zm220 220h160v-160H400v160Zm0 220h160v-160H400v160ZM180-400h160v-160H180v160Zm440 0h160v-160H620v160ZM180-180h160v-160H180v160Zm440 0h160v-160H620v160Z\"/>\n",
       "  </svg>\n",
       "    </button>\n",
       "\n",
       "  <style>\n",
       "    .colab-df-container {\n",
       "      display:flex;\n",
       "      gap: 12px;\n",
       "    }\n",
       "\n",
       "    .colab-df-convert {\n",
       "      background-color: #E8F0FE;\n",
       "      border: none;\n",
       "      border-radius: 50%;\n",
       "      cursor: pointer;\n",
       "      display: none;\n",
       "      fill: #1967D2;\n",
       "      height: 32px;\n",
       "      padding: 0 0 0 0;\n",
       "      width: 32px;\n",
       "    }\n",
       "\n",
       "    .colab-df-convert:hover {\n",
       "      background-color: #E2EBFA;\n",
       "      box-shadow: 0px 1px 2px rgba(60, 64, 67, 0.3), 0px 1px 3px 1px rgba(60, 64, 67, 0.15);\n",
       "      fill: #174EA6;\n",
       "    }\n",
       "\n",
       "    .colab-df-buttons div {\n",
       "      margin-bottom: 4px;\n",
       "    }\n",
       "\n",
       "    [theme=dark] .colab-df-convert {\n",
       "      background-color: #3B4455;\n",
       "      fill: #D2E3FC;\n",
       "    }\n",
       "\n",
       "    [theme=dark] .colab-df-convert:hover {\n",
       "      background-color: #434B5C;\n",
       "      box-shadow: 0px 1px 3px 1px rgba(0, 0, 0, 0.15);\n",
       "      filter: drop-shadow(0px 1px 2px rgba(0, 0, 0, 0.3));\n",
       "      fill: #FFFFFF;\n",
       "    }\n",
       "  </style>\n",
       "\n",
       "    <script>\n",
       "      const buttonEl =\n",
       "        document.querySelector('#df-1ec6743e-29af-455c-b3fd-daa6f5c2dfad button.colab-df-convert');\n",
       "      buttonEl.style.display =\n",
       "        google.colab.kernel.accessAllowed ? 'block' : 'none';\n",
       "\n",
       "      async function convertToInteractive(key) {\n",
       "        const element = document.querySelector('#df-1ec6743e-29af-455c-b3fd-daa6f5c2dfad');\n",
       "        const dataTable =\n",
       "          await google.colab.kernel.invokeFunction('convertToInteractive',\n",
       "                                                    [key], {});\n",
       "        if (!dataTable) return;\n",
       "\n",
       "        const docLinkHtml = 'Like what you see? Visit the ' +\n",
       "          '<a target=\"_blank\" href=https://colab.research.google.com/notebooks/data_table.ipynb>data table notebook</a>'\n",
       "          + ' to learn more about interactive tables.';\n",
       "        element.innerHTML = '';\n",
       "        dataTable['output_type'] = 'display_data';\n",
       "        await google.colab.output.renderOutput(dataTable, element);\n",
       "        const docLink = document.createElement('div');\n",
       "        docLink.innerHTML = docLinkHtml;\n",
       "        element.appendChild(docLink);\n",
       "      }\n",
       "    </script>\n",
       "  </div>\n",
       "\n",
       "\n",
       "<div id=\"df-69efb8dc-8df6-44d9-afbd-b53bc76a12a1\">\n",
       "  <button class=\"colab-df-quickchart\" onclick=\"quickchart('df-69efb8dc-8df6-44d9-afbd-b53bc76a12a1')\"\n",
       "            title=\"Suggest charts\"\n",
       "            style=\"display:none;\">\n",
       "\n",
       "<svg xmlns=\"http://www.w3.org/2000/svg\" height=\"24px\"viewBox=\"0 0 24 24\"\n",
       "     width=\"24px\">\n",
       "    <g>\n",
       "        <path d=\"M19 3H5c-1.1 0-2 .9-2 2v14c0 1.1.9 2 2 2h14c1.1 0 2-.9 2-2V5c0-1.1-.9-2-2-2zM9 17H7v-7h2v7zm4 0h-2V7h2v10zm4 0h-2v-4h2v4z\"/>\n",
       "    </g>\n",
       "</svg>\n",
       "  </button>\n",
       "\n",
       "<style>\n",
       "  .colab-df-quickchart {\n",
       "      --bg-color: #E8F0FE;\n",
       "      --fill-color: #1967D2;\n",
       "      --hover-bg-color: #E2EBFA;\n",
       "      --hover-fill-color: #174EA6;\n",
       "      --disabled-fill-color: #AAA;\n",
       "      --disabled-bg-color: #DDD;\n",
       "  }\n",
       "\n",
       "  [theme=dark] .colab-df-quickchart {\n",
       "      --bg-color: #3B4455;\n",
       "      --fill-color: #D2E3FC;\n",
       "      --hover-bg-color: #434B5C;\n",
       "      --hover-fill-color: #FFFFFF;\n",
       "      --disabled-bg-color: #3B4455;\n",
       "      --disabled-fill-color: #666;\n",
       "  }\n",
       "\n",
       "  .colab-df-quickchart {\n",
       "    background-color: var(--bg-color);\n",
       "    border: none;\n",
       "    border-radius: 50%;\n",
       "    cursor: pointer;\n",
       "    display: none;\n",
       "    fill: var(--fill-color);\n",
       "    height: 32px;\n",
       "    padding: 0;\n",
       "    width: 32px;\n",
       "  }\n",
       "\n",
       "  .colab-df-quickchart:hover {\n",
       "    background-color: var(--hover-bg-color);\n",
       "    box-shadow: 0 1px 2px rgba(60, 64, 67, 0.3), 0 1px 3px 1px rgba(60, 64, 67, 0.15);\n",
       "    fill: var(--button-hover-fill-color);\n",
       "  }\n",
       "\n",
       "  .colab-df-quickchart-complete:disabled,\n",
       "  .colab-df-quickchart-complete:disabled:hover {\n",
       "    background-color: var(--disabled-bg-color);\n",
       "    fill: var(--disabled-fill-color);\n",
       "    box-shadow: none;\n",
       "  }\n",
       "\n",
       "  .colab-df-spinner {\n",
       "    border: 2px solid var(--fill-color);\n",
       "    border-color: transparent;\n",
       "    border-bottom-color: var(--fill-color);\n",
       "    animation:\n",
       "      spin 1s steps(1) infinite;\n",
       "  }\n",
       "\n",
       "  @keyframes spin {\n",
       "    0% {\n",
       "      border-color: transparent;\n",
       "      border-bottom-color: var(--fill-color);\n",
       "      border-left-color: var(--fill-color);\n",
       "    }\n",
       "    20% {\n",
       "      border-color: transparent;\n",
       "      border-left-color: var(--fill-color);\n",
       "      border-top-color: var(--fill-color);\n",
       "    }\n",
       "    30% {\n",
       "      border-color: transparent;\n",
       "      border-left-color: var(--fill-color);\n",
       "      border-top-color: var(--fill-color);\n",
       "      border-right-color: var(--fill-color);\n",
       "    }\n",
       "    40% {\n",
       "      border-color: transparent;\n",
       "      border-right-color: var(--fill-color);\n",
       "      border-top-color: var(--fill-color);\n",
       "    }\n",
       "    60% {\n",
       "      border-color: transparent;\n",
       "      border-right-color: var(--fill-color);\n",
       "    }\n",
       "    80% {\n",
       "      border-color: transparent;\n",
       "      border-right-color: var(--fill-color);\n",
       "      border-bottom-color: var(--fill-color);\n",
       "    }\n",
       "    90% {\n",
       "      border-color: transparent;\n",
       "      border-bottom-color: var(--fill-color);\n",
       "    }\n",
       "  }\n",
       "</style>\n",
       "\n",
       "  <script>\n",
       "    async function quickchart(key) {\n",
       "      const quickchartButtonEl =\n",
       "        document.querySelector('#' + key + ' button');\n",
       "      quickchartButtonEl.disabled = true;  // To prevent multiple clicks.\n",
       "      quickchartButtonEl.classList.add('colab-df-spinner');\n",
       "      try {\n",
       "        const charts = await google.colab.kernel.invokeFunction(\n",
       "            'suggestCharts', [key], {});\n",
       "      } catch (error) {\n",
       "        console.error('Error during call to suggestCharts:', error);\n",
       "      }\n",
       "      quickchartButtonEl.classList.remove('colab-df-spinner');\n",
       "      quickchartButtonEl.classList.add('colab-df-quickchart-complete');\n",
       "    }\n",
       "    (() => {\n",
       "      let quickchartButtonEl =\n",
       "        document.querySelector('#df-69efb8dc-8df6-44d9-afbd-b53bc76a12a1 button');\n",
       "      quickchartButtonEl.style.display =\n",
       "        google.colab.kernel.accessAllowed ? 'block' : 'none';\n",
       "    })();\n",
       "  </script>\n",
       "</div>\n",
       "    </div>\n",
       "  </div>\n"
      ],
      "text/plain": [
       "      id                                               text  index  \\\n",
       "0  69825  Turunçlu mahallesi samandag yolu uzeri, saray ...  22536   \n",
       "1  69826  Kahramanmaraş ON İKİ ŞUBAT CADDESİ KÜLTÜRKENT ...  84306   \n",
       "2  69827  ŞAZİBEY MAHALLESİ HAYDAR ALİYEV BULVARI YUNUS ...   2888   \n",
       "3  69828  Su otele yardım edin, çok çocuk var içeride. #...  36316   \n",
       "4  69829  Malatya nergiz sitesi #malatyadeprem #Turkey #...  22886   \n",
       "\n",
       "                                               label Comments  \n",
       "0  [[0, 32, ADDR], [58, 68, ADDR], [69, 74, CITY]...       []  \n",
       "1  [[0, 13, CITY], [14, 52, ADDR], [112, 124, PER...       []  \n",
       "2                                    [[0, 62, ADDR]]       []  \n",
       "3                                                 []       []  \n",
       "4                      [[0, 7, CITY], [8, 21, ADDR]]       []  "
      ]
     },
     "execution_count": 7,
     "metadata": {},
     "output_type": "execute_result"
    }
   ],
   "source": [
    "df= pd.DataFrame(texts)\n",
    "df.head()"
   ]
  },
  {
   "cell_type": "code",
   "execution_count": 8,
   "id": "tXLe-IAMeJLX",
   "metadata": {
    "colab": {
     "base_uri": "https://localhost:8080/"
    },
    "id": "tXLe-IAMeJLX",
    "outputId": "f4125dbe-c1d4-4477-a898-771298fa0710"
   },
   "outputs": [
    {
     "data": {
      "text/plain": [
       "['Turunçlu mahallesi samandag yolu uzeri, saray market yanı 95/B Defne-Hatay Enkazda kalanlardan biri Nilay Oltacı İletişim 05161646506 #Turkey #CristianoRonaldo #hatayyardimbekliyor #hatayiskenderun #HalkTV #özgürdemirtaş #fulyaöztürk #EnkazAltında #tahaduymaz',\n",
       " 'Kahramanmaraş ON İKİ ŞUBAT CADDESİ KÜLTÜRKENT SİTESİ ARKADAŞIMIN AMCASI KUZENİ ENKAZ ALTINDA LÜTFEN YARDIM EDİN VİLDAN GEZER ALİ GEZER #Kahramanmaras #deprem #Hatay #ENKAZALTİNDAYİM #Kahramanmaraş #Hatay #Turkey',\n",
       " 'ŞAZİBEY MAHALLESİ HAYDAR ALİYEV BULVARI YUNUS APARTMANI A BLOK ACİLEN EKİBE İHTİYACIMIZ VAR LÜTFEN SESİMİZİ DUYURUN YARDIM EDİN #Turkey #Kahramanmaras #onikisubat #marasyardım #Marasayetisemiyoruz @haluklevent @ahbap @ekrem_imamoglu @berkcanguven @OguzhanUgur @efeuygac',\n",
       " 'Su otele yardım edin, çok çocuk var içeride. #deprem #seferberlik #Turkey #YARDIMEDİN https://t.co/AP6oMgciQB',\n",
       " 'Malatya nergiz sitesi #malatyadeprem #Turkey #TurkeyEarthquake #PrayForTurkey #sondakikadeprem https://t.co/j4mOfXZo7s']"
      ]
     },
     "execution_count": 8,
     "metadata": {},
     "output_type": "execute_result"
    }
   ],
   "source": [
    "df['text'][:5].tolist()"
   ]
  },
  {
   "cell_type": "markdown",
   "id": "aYWjD3i0wv0K",
   "metadata": {
    "id": "aYWjD3i0wv0K"
   },
   "source": [
    "### Clean The Data"
   ]
  },
  {
   "cell_type": "markdown",
   "id": "4b1cc2f1",
   "metadata": {},
   "source": [
    "Again, since I discovered some preparation requirements along the way, while moving further on the project, there were some necessary steps I realized only after finishing the annotation of the NER tags:\n",
    "- the dataset I annotated was containing tags and hashtags, however, I realized they will end up being problematic and misleading for the machine learing since I observed people to use hashtags with many cities impacted by the earthquake at the end of their tweets to spread the word (ex: #hatay #malatya #kahramanmaraş) and I would not want the algorithm to confuse this as intentional location information. Similarly, they sometimes tagged the celebrities and government officials to spread the word and I would not want these to be mistaken as PERSON tags. So I decided to remove anything that follows these tags (not just # or @ symbols)\n",
    "- Yet, there is a problem here: We cannot simply delete the entities following this tags since this would cause misalignment in the labeled dataset. As you see above, the labels were returned in such format: [0,32,ADDR] with numbers indicating the start and end indices of the corresponding string. \n",
    "- One solution is to replace ahh tags and hashtags characters with space, this way, the indices will remain the same. We can deal with these spaces later after tokenization."
   ]
  },
  {
   "cell_type": "code",
   "execution_count": 9,
   "id": "vNwXTXcceRly",
   "metadata": {
    "id": "vNwXTXcceRly"
   },
   "outputs": [],
   "source": [
    "def cleaned_text(text):\n",
    "    chars_to_replace = r',/-\"()*:'\n",
    "    clean_text = re.sub(f'[{re.escape(chars_to_replace)}]', ' ', text)\n",
    "\n",
    "    #remove any entity that follows @ and #\n",
    "    i = 0\n",
    "    while i < (len(clean_text)):\n",
    "        if clean_text[i] == '@' or clean_text[i]== '#':\n",
    "            a=0\n",
    "            while i+a < len(clean_text):\n",
    "                if clean_text[i+a] == ' ':\n",
    "                    break\n",
    "                else:\n",
    "                    a += 1\n",
    "            clean_text = clean_text[:i] + ' '*(a) + clean_text[i+a:]\n",
    "        else:\n",
    "            i+=1\n",
    "    return clean_text"
   ]
  },
  {
   "cell_type": "code",
   "execution_count": 10,
   "id": "fcf0abdd",
   "metadata": {
    "colab": {
     "base_uri": "https://localhost:8080/"
    },
    "id": "fcf0abdd",
    "outputId": "04a1516a-72e4-4435-df33-cf10285d37b2"
   },
   "outputs": [
    {
     "data": {
      "text/plain": [
       "['Turunçlu mahallesi samandag yolu uzeri  saray market yanı 95 B Defne Hatay Enkazda kalanlardan biri Nilay Oltacı İletişim 05161646506                                                                                                                              ',\n",
       " 'Kahramanmaraş ON İKİ ŞUBAT CADDESİ KÜLTÜRKENT SİTESİ ARKADAŞIMIN AMCASI KUZENİ ENKAZ ALTINDA LÜTFEN YARDIM EDİN VİLDAN GEZER ALİ GEZER                                                                             ',\n",
       " 'ŞAZİBEY MAHALLESİ HAYDAR ALİYEV BULVARI YUNUS APARTMANI A BLOK ACİLEN EKİBE İHTİYACIMIZ VAR LÜTFEN SESİMİZİ DUYURUN YARDIM EDİN                                                                                                                                              ',\n",
       " 'Su otele yardım edin  çok çocuk var içeride.                                          https   t.co AP6oMgciQB',\n",
       " 'Malatya nergiz sitesi                                                                          https   t.co j4mOfXZo7s']"
      ]
     },
     "execution_count": 10,
     "metadata": {},
     "output_type": "execute_result"
    }
   ],
   "source": [
    "df2 = df.copy()\n",
    "df2['text'] = df2['text'].apply(lambda x: cleaned_text(x))\n",
    "df2['text'][:5].tolist()"
   ]
  },
  {
   "cell_type": "code",
   "execution_count": 11,
   "id": "8862e4cb",
   "metadata": {
    "colab": {
     "base_uri": "https://localhost:8080/"
    },
    "id": "8862e4cb",
    "outputId": "e6d87b09-070e-406e-b5e2-549e8880424e"
   },
   "outputs": [
    {
     "data": {
      "text/plain": [
       "['Turunçlu',\n",
       " 'mahallesi',\n",
       " 'samandag',\n",
       " 'yolu',\n",
       " 'uzeri',\n",
       " '',\n",
       " 'saray',\n",
       " 'market',\n",
       " 'yanı',\n",
       " '95',\n",
       " 'B',\n",
       " 'Defne',\n",
       " 'Hatay',\n",
       " 'Enkazda',\n",
       " 'kalanlardan',\n",
       " 'biri',\n",
       " 'Nilay',\n",
       " 'Oltacı',\n",
       " 'İletişim',\n",
       " '05161646506',\n",
       " '',\n",
       " '',\n",
       " '',\n",
       " '',\n",
       " '',\n",
       " '',\n",
       " '',\n",
       " '',\n",
       " '',\n",
       " '']"
      ]
     },
     "execution_count": 11,
     "metadata": {},
     "output_type": "execute_result"
    }
   ],
   "source": [
    "df2['text'][0].split(\" \")[:30]"
   ]
  },
  {
   "cell_type": "code",
   "execution_count": 12,
   "id": "53e95eb6",
   "metadata": {
    "colab": {
     "base_uri": "https://localhost:8080/"
    },
    "id": "53e95eb6",
    "outputId": "f9dce0c8-3f1a-421c-f651-5a6a1f0004b5"
   },
   "outputs": [
    {
     "data": {
      "text/plain": [
       "[[0, 32, 'ADDR'],\n",
       " [58, 68, 'ADDR'],\n",
       " [69, 74, 'CITY'],\n",
       " [100, 112, 'PER'],\n",
       " [122, 133, 'NUM']]"
      ]
     },
     "execution_count": 12,
     "metadata": {},
     "output_type": "execute_result"
    }
   ],
   "source": [
    "df2['label'][0]"
   ]
  },
  {
   "cell_type": "code",
   "execution_count": 13,
   "id": "9edb03e7",
   "metadata": {
    "colab": {
     "base_uri": "https://localhost:8080/"
    },
    "id": "9edb03e7",
    "outputId": "2c633061-e85e-4b3c-d970-a4e38805cd74"
   },
   "outputs": [
    {
     "name": "stdout",
     "output_type": "stream",
     "text": [
      "Turunçlu mahallesi samandag yolu\n",
      "95 B Defne\n",
      "Hatay\n",
      "Nilay Oltacı\n",
      "05161646506\n"
     ]
    }
   ],
   "source": [
    "print(df2['text'][0][0:32])\n",
    "print(df2['text'][0][58:68])\n",
    "print(df2['text'][0][69:74])\n",
    "print(df2['text'][0][100:112])\n",
    "print(df2['text'][0][122:133])\n"
   ]
  },
  {
   "cell_type": "markdown",
   "id": "JnI6yLF9xSkk",
   "metadata": {
    "id": "JnI6yLF9xSkk"
   },
   "source": [
    "## Create Token-Tag Pairs\n",
    "- The dataset originally have four tags : Person, City, Address and Number. However having noticed that category number is actually misleading for the machine, I decided to suppress that category and convert it to other.\n",
    "Generating a Token called Other"
   ]
  },
  {
   "cell_type": "code",
   "execution_count": 18,
   "id": "B4Bf5Y_RcHhV",
   "metadata": {
    "colab": {
     "base_uri": "https://localhost:8080/"
    },
    "id": "B4Bf5Y_RcHhV",
    "outputId": "892a8f8d-354c-4cf7-8374-867d4ce076bf"
   },
   "outputs": [
    {
     "data": {
      "text/plain": [
       "[[0, 32, 'ADDR'],\n",
       " [58, 68, 'ADDR'],\n",
       " [69, 74, 'CITY'],\n",
       " [100, 112, 'PER'],\n",
       " [122, 133, 'OTHER']]"
      ]
     },
     "execution_count": 18,
     "metadata": {},
     "output_type": "execute_result"
    }
   ],
   "source": [
    "#i decided to suppress tag Number because it serves little and creates confusion\n",
    "for i in range(len(df2)):\n",
    "  for j in range(len(df2['label'][i])) :\n",
    "    if df2['label'][i][j][2] == 'NUM':\n",
    "      new_tag = 'OTHER'\n",
    "      df2['label'][i][j][2] = new_tag\n",
    "\n",
    "df2['label'][0]"
   ]
  },
  {
   "cell_type": "code",
   "execution_count": 21,
   "id": "abadcd2a",
   "metadata": {
    "id": "abadcd2a"
   },
   "outputs": [],
   "source": [
    "all_token_tag_pairs = []\n",
    "for i in range(len(df2)):\n",
    "    all_tokens = df2['text'][i].split(\" \")\n",
    "    tokens_tags = []\n",
    "\n",
    "    if len(df2['label'][i]) >0 :  #if there is any labeled entity in that sentence\n",
    "        tokens_tags = []\n",
    "        j = 0\n",
    "        end_index = 0\n",
    "        while j in range(len(df2['label'][i])) :\n",
    "            start_index = df2['label'][i][j][0]  #start index of the label is the start index of first label-tag\n",
    "            other_tokens = df2['text'][i][end_index:start_index].split(\" \")\n",
    "            #everything between the end index of previous token and start index of new token would be classified among other tokens\n",
    "\n",
    "            if start_index > end_index:\n",
    "                for token in other_tokens :\n",
    "                    tokens_tags.append((token, \"OTHER\")) #let's classify all non-labeled tokens as other\n",
    "\n",
    "            tag = df2['label'][i][j][2]\n",
    "            end_index = df2['label'][i][j][1]\n",
    "\n",
    "            labeled_tokens = df2['text'][i][start_index:end_index].split(\" \") #we'll repeat the tag for each tokens of that entity\n",
    "\n",
    "            if tag!= 'OTHER':\n",
    "              for k in range(len(labeled_tokens)):\n",
    "                if k == 0: #if k is the first token of that entity\n",
    "                    tokens_tags.append((labeled_tokens[k],\"B-\"+tag))\n",
    "                else:\n",
    "                    tokens_tags.append((labeled_tokens[k], \"I-\"+tag))\n",
    "            else: #if tag is other (former NUM - tags) no need for B- , I-\n",
    "              for k in range(len(labeled_tokens)):\n",
    "                tokens_tags.append((labeled_tokens[k], tag))\n",
    "\n",
    "            j+=1 #move to the next labeled entity\n",
    "            end_index = df2['label'][i][j-1][1] #update the end index\n",
    "\n",
    "\n",
    "    else:\n",
    "        tokens = df2['text'][i].split(\" \")\n",
    "        for token in tokens:\n",
    "            tokens_tags.append((token, \"OTHER\"))\n",
    "\n",
    "    all_token_tag_pairs.append(tokens_tags)\n",
    "\n",
    "\n",
    "\n",
    "\n",
    "\n"
   ]
  },
  {
   "cell_type": "code",
   "execution_count": 22,
   "id": "728bab64",
   "metadata": {
    "colab": {
     "base_uri": "https://localhost:8080/"
    },
    "id": "728bab64",
    "outputId": "8ba80c65-6dcd-4fdd-c229-c17caab76e9d"
   },
   "outputs": [
    {
     "data": {
      "text/plain": [
       "[('Turunçlu', 'B-ADDR'),\n",
       " ('mahallesi', 'I-ADDR'),\n",
       " ('samandag', 'I-ADDR'),\n",
       " ('yolu', 'I-ADDR'),\n",
       " ('', 'OTHER'),\n",
       " ('uzeri', 'OTHER'),\n",
       " ('', 'OTHER'),\n",
       " ('saray', 'OTHER'),\n",
       " ('market', 'OTHER'),\n",
       " ('yanı', 'OTHER'),\n",
       " ('', 'OTHER'),\n",
       " ('95', 'B-ADDR'),\n",
       " ('B', 'I-ADDR'),\n",
       " ('Defne', 'I-ADDR'),\n",
       " ('', 'OTHER'),\n",
       " ('', 'OTHER'),\n",
       " ('Hatay', 'B-CITY'),\n",
       " ('', 'OTHER'),\n",
       " ('Enkazda', 'OTHER'),\n",
       " ('kalanlardan', 'OTHER'),\n",
       " ('biri', 'OTHER'),\n",
       " ('', 'OTHER'),\n",
       " ('Nilay', 'B-PER'),\n",
       " ('Oltacı', 'I-PER'),\n",
       " ('', 'OTHER'),\n",
       " ('İletişim', 'OTHER'),\n",
       " ('', 'OTHER'),\n",
       " ('05161646506', 'OTHER')]"
      ]
     },
     "execution_count": 22,
     "metadata": {},
     "output_type": "execute_result"
    }
   ],
   "source": [
    "all_token_tag_pairs[0]"
   ]
  },
  {
   "cell_type": "markdown",
   "id": "85t7-w973bUr",
   "metadata": {
    "id": "85t7-w973bUr"
   },
   "source": [
    "We can confirm that the labels I assigned \"NUM\" during annotation were correctly replaced by \"OTHER\"."
   ]
  },
  {
   "cell_type": "code",
   "execution_count": 23,
   "id": "mSe-mC1YgBHG",
   "metadata": {
    "colab": {
     "base_uri": "https://localhost:8080/"
    },
    "id": "mSe-mC1YgBHG",
    "outputId": "a201ff8b-3454-4177-d651-bbb458c7acdf"
   },
   "outputs": [
    {
     "data": {
      "text/plain": [
       "{'B-ADDR', 'B-CITY', 'B-PER', 'I-ADDR', 'I-CITY', 'I-PER', 'OTHER'}"
      ]
     },
     "execution_count": 23,
     "metadata": {},
     "output_type": "execute_result"
    }
   ],
   "source": [
    "tags = []\n",
    "\n",
    "for pair in all_token_tag_pairs:\n",
    "  for token,tag in pair:\n",
    "    tags.append(tag)\n",
    "\n",
    "set(tags)"
   ]
  },
  {
   "cell_type": "markdown",
   "id": "F0vBS5btxgwM",
   "metadata": {
    "id": "F0vBS5btxgwM"
   },
   "source": [
    "Now that we won't need to the characters indices anymore, every token separately labeled, we can get rid of the empty space tokens."
   ]
  },
  {
   "cell_type": "code",
   "execution_count": 24,
   "id": "8329c587",
   "metadata": {
    "colab": {
     "base_uri": "https://localhost:8080/"
    },
    "id": "8329c587",
    "outputId": "421618f2-abd9-4a4d-a603-1191e9ddffbc"
   },
   "outputs": [
    {
     "data": {
      "text/plain": [
       "[[('Turunçlu', 'B-ADDR'),\n",
       "  ('mahallesi', 'I-ADDR'),\n",
       "  ('samandag', 'I-ADDR'),\n",
       "  ('yolu', 'I-ADDR'),\n",
       "  ('uzeri', 'OTHER'),\n",
       "  ('saray', 'OTHER'),\n",
       "  ('market', 'OTHER'),\n",
       "  ('yanı', 'OTHER'),\n",
       "  ('95', 'B-ADDR'),\n",
       "  ('B', 'I-ADDR'),\n",
       "  ('Defne', 'I-ADDR'),\n",
       "  ('Hatay', 'B-CITY'),\n",
       "  ('Enkazda', 'OTHER'),\n",
       "  ('kalanlardan', 'OTHER'),\n",
       "  ('biri', 'OTHER'),\n",
       "  ('Nilay', 'B-PER'),\n",
       "  ('Oltacı', 'I-PER'),\n",
       "  ('İletişim', 'OTHER'),\n",
       "  ('05161646506', 'OTHER')],\n",
       " [('Kahramanmaraş', 'B-CITY'),\n",
       "  ('ON', 'B-ADDR'),\n",
       "  ('İKİ', 'I-ADDR'),\n",
       "  ('ŞUBAT', 'I-ADDR'),\n",
       "  ('CADDESİ', 'I-ADDR'),\n",
       "  ('KÜLTÜRKENT', 'I-ADDR'),\n",
       "  ('SİTESİ', 'I-ADDR'),\n",
       "  ('ARKADAŞIMIN', 'OTHER'),\n",
       "  ('AMCASI', 'OTHER'),\n",
       "  ('KUZENİ', 'OTHER'),\n",
       "  ('ENKAZ', 'OTHER'),\n",
       "  ('ALTINDA', 'OTHER'),\n",
       "  ('LÜTFEN', 'OTHER'),\n",
       "  ('YARDIM', 'OTHER'),\n",
       "  ('EDİN', 'OTHER'),\n",
       "  ('VİLDAN', 'B-PER'),\n",
       "  ('GEZER', 'I-PER'),\n",
       "  ('ALİ', 'B-PER'),\n",
       "  ('GEZER', 'I-PER')],\n",
       " [('ŞAZİBEY', 'B-ADDR'),\n",
       "  ('MAHALLESİ', 'I-ADDR'),\n",
       "  ('HAYDAR', 'I-ADDR'),\n",
       "  ('ALİYEV', 'I-ADDR'),\n",
       "  ('BULVARI', 'I-ADDR'),\n",
       "  ('YUNUS', 'I-ADDR'),\n",
       "  ('APARTMANI', 'I-ADDR'),\n",
       "  ('A', 'I-ADDR'),\n",
       "  ('BLOK', 'I-ADDR')],\n",
       " [('Su', 'OTHER'),\n",
       "  ('otele', 'OTHER'),\n",
       "  ('yardım', 'OTHER'),\n",
       "  ('edin', 'OTHER'),\n",
       "  ('çok', 'OTHER'),\n",
       "  ('çocuk', 'OTHER'),\n",
       "  ('var', 'OTHER'),\n",
       "  ('içeride.', 'OTHER'),\n",
       "  ('https', 'OTHER'),\n",
       "  ('t.co', 'OTHER'),\n",
       "  ('AP6oMgciQB', 'OTHER')],\n",
       " [('Malatya', 'B-CITY'), ('nergiz', 'B-ADDR'), ('sitesi', 'I-ADDR')],\n",
       " [('ARKADAŞIM', 'OTHER'),\n",
       "  ('RABİA', 'B-PER'),\n",
       "  ('YAŞAR', 'I-PER'),\n",
       "  ('İÇİN', 'OTHER'),\n",
       "  ('PAYLAŞIYORUM', 'OTHER'),\n",
       "  ('Hatay', 'B-CITY'),\n",
       "  ('antakya', 'B-ADDR'),\n",
       "  ('kurtuluş', 'I-ADDR'),\n",
       "  ('caddesi', 'I-ADDR'),\n",
       "  ('biniciler', 'I-ADDR'),\n",
       "  ('mahallesi', 'I-ADDR'),\n",
       "  ('taşdemir', 'I-ADDR'),\n",
       "  ('sokak', 'I-ADDR'),\n",
       "  ('no6', 'I-ADDR')],\n",
       " [('Elektirik', 'B-ADDR'),\n",
       "  ('mahallesi', 'I-ADDR'),\n",
       "  ('armutlu', 'I-ADDR'),\n",
       "  ('caddesi', 'I-ADDR'),\n",
       "  ('Timur', 'I-ADDR'),\n",
       "  ('apartmanı', 'I-ADDR'),\n",
       "  ('kat', 'I-ADDR'),\n",
       "  ('4', 'I-ADDR'),\n",
       "  ('daire', 'I-ADDR'),\n",
       "  ('17', 'I-ADDR'),\n",
       "  ('Hatay', 'B-CITY'),\n",
       "  ('Antakya', 'B-ADDR'),\n",
       "  ('Kübra', 'B-PER'),\n",
       "  ('Soydan', 'I-PER')],\n",
       " [('119', 'OTHER'),\n",
       "  ('vahap', 'B-PER'),\n",
       "  ('kimliksiz', 'I-PER'),\n",
       "  ('Yaş', 'OTHER'),\n",
       "  ('30', 'OTHER'),\n",
       "  ('hatay', 'B-CITY'),\n",
       "  ('hayati', 'OTHER'),\n",
       "  ('tehlikesi', 'OTHER'),\n",
       "  ('mevcut', 'OTHER'),\n",
       "  ('120', 'OTHER'),\n",
       "  ('zehra', 'B-PER'),\n",
       "  ('şahin', 'I-PER'),\n",
       "  ('yaş', 'OTHER'),\n",
       "  ('38', 'OTHER'),\n",
       "  ('hatay', 'B-CITY'),\n",
       "  ('hayati', 'OTHER'),\n",
       "  ('tehlikesi', 'OTHER'),\n",
       "  ('mevcut', 'OTHER'),\n",
       "  ('121', 'OTHER'),\n",
       "  ('baran', 'B-PER'),\n",
       "  ('dolaşan', 'I-PER'),\n",
       "  ('yaş', 'OTHER'),\n",
       "  ('20', 'OTHER'),\n",
       "  ('hatay', 'B-CITY'),\n",
       "  ('EX', 'OTHER'),\n",
       "  ('122', 'OTHER'),\n",
       "  ('perihan', 'B-PER'),\n",
       "  ('bayraktar', 'I-PER'),\n",
       "  ('yas', 'OTHER'),\n",
       "  ('69', 'OTHER'),\n",
       "  ('hatay', 'B-CITY')],\n",
       " [('Arkadaşım', 'OTHER'),\n",
       "  ('Celal', 'B-PER'),\n",
       "  ('Altun', 'I-PER'),\n",
       "  ('aşağıdaki', 'OTHER'),\n",
       "  ('adreste', 'OTHER'),\n",
       "  ('hala', 'OTHER'),\n",
       "  ('göçük', 'OTHER'),\n",
       "  ('altında', 'OTHER'),\n",
       "  ('İbrahim', 'B-ADDR'),\n",
       "  ('Karaoğlanoğlu', 'I-ADDR'),\n",
       "  ('Caddesi.', 'I-ADDR'),\n",
       "  ('31230', 'I-ADDR'),\n",
       "  ('İskenderun', 'I-ADDR'),\n",
       "  ('Hatay', 'B-CITY'),\n",
       "  ('Türkiye', 'OTHER'),\n",
       "  ('MD', 'B-ADDR'),\n",
       "  ('PARK', 'I-ADDR'),\n",
       "  ('TIP', 'I-ADDR'),\n",
       "  ('MERKEZİ', 'I-ADDR'),\n",
       "  ('KARŞISI', 'OTHER'),\n",
       "  ('KOORDİNAT', 'OTHER'),\n",
       "  ('36', 'B-ADDR'),\n",
       "  ('56409⁰', 'I-ADDR'),\n",
       "  ('K', 'I-ADDR'),\n",
       "  ('36', 'I-ADDR'),\n",
       "  ('15702⁰', 'I-ADDR')],\n",
       " [('HAMZA', 'B-PER'), ('ALP', 'I-PER')],\n",
       " [('LÜTFEN', 'OTHER'),\n",
       "  ('YAYALIM', 'OTHER'),\n",
       "  ('ÇOK', 'OTHER'),\n",
       "  ('ACİL!!!', 'OTHER'),\n",
       "  ('Hayrullah', 'B-ADDR'),\n",
       "  ('mahallesi', 'I-ADDR'),\n",
       "  ('Malik', 'I-ADDR'),\n",
       "  ('ejder', 'I-ADDR'),\n",
       "  ('caddesi', 'I-ADDR'),\n",
       "  ('no', 'I-ADDR'),\n",
       "  ('36', 'I-ADDR'),\n",
       "  ('A', 'I-ADDR'),\n",
       "  ('blok', 'I-ADDR')],\n",
       " [('General', 'B-ADDR'),\n",
       "  ('şükrü', 'I-ADDR'),\n",
       "  ('kanatlı', 'I-ADDR'),\n",
       "  ('mahallesi', 'I-ADDR'),\n",
       "  ('girne', 'B-ADDR'),\n",
       "  ('taksi', 'I-ADDR'),\n",
       "  ('durağı', 'I-ADDR'),\n",
       "  ('karşısı', 'OTHER'),\n",
       "  ('palladium', 'B-ADDR'),\n",
       "  ('avm', 'I-ADDR')],\n",
       " [('Lütfen', 'OTHER'),\n",
       "  ('RT', 'OTHER'),\n",
       "  ('atın', 'OTHER'),\n",
       "  ('çok', 'OTHER'),\n",
       "  ('yakınımın', 'OTHER'),\n",
       "  ('bi', 'OTHER'),\n",
       "  ('dostu‼️', 'OTHER'),\n",
       "  ('Azra', 'B-PER'),\n",
       "  (\"Apaydın'a\", 'I-PER'),\n",
       "  ('hala', 'OTHER'),\n",
       "  ('ulaşılamıyor', 'OTHER'),\n",
       "  ('lütfen', 'OTHER'),\n",
       "  ('yardım', 'OTHER'),\n",
       "  ('edin!', 'OTHER'),\n",
       "  ('Adres', 'OTHER'),\n",
       "  ('Fatih', 'B-ADDR'),\n",
       "  ('Caddesi', 'I-ADDR'),\n",
       "  ('Cebrail', 'I-ADDR'),\n",
       "  ('Mahallesi', 'I-ADDR'),\n",
       "  ('Şensöz', 'I-ADDR'),\n",
       "  ('Apartmanı', 'I-ADDR'),\n",
       "  ('15', 'I-ADDR'),\n",
       "  ('3', 'I-ADDR'),\n",
       "  ('Antakya', 'I-ADDR'),\n",
       "  ('Hatay', 'B-CITY')],\n",
       " [('GAZİANTEP', 'B-CITY'),\n",
       "  ('İBRAHİMLİ', 'B-ADDR'),\n",
       "  ('AYŞE', 'I-ADDR'),\n",
       "  ('MEHMET', 'I-ADDR'),\n",
       "  ('POLAT', 'I-ADDR'),\n",
       "  ('SİTESİ', 'I-ADDR'),\n",
       "  ('NDE', 'OTHER'),\n",
       "  ('ENKAZ', 'OTHER'),\n",
       "  ('ALTINDA', 'OTHER'),\n",
       "  ('KALAN', 'OTHER'),\n",
       "  ('MELİKE', 'B-PER'),\n",
       "  ('ARZUM', 'I-PER'),\n",
       "  ('EBÇEM', 'I-PER')],\n",
       " [('MEHMET', 'B-PER'),\n",
       "  ('ŞAHİN', 'I-PER'),\n",
       "  ('haber', 'OTHER'),\n",
       "  ('alınmıyor', 'OTHER'),\n",
       "  ('Malatya', 'B-CITY'),\n",
       "  ('Kirçuva', 'B-ADDR'),\n",
       "  ('Oteli', 'I-ADDR')],\n",
       " [('🚨⚠️', 'OTHER'),\n",
       "  ('RT', 'OTHER'),\n",
       "  ('⚠️', 'OTHER'),\n",
       "  ('E', 'OTHER'),\n",
       "  ('brar', 'B-ADDR'),\n",
       "  ('sitesi', 'I-ADDR'),\n",
       "  ('H', 'I-ADDR'),\n",
       "  ('blok', 'I-ADDR'),\n",
       "  ('Ayşe', 'I-ADDR'),\n",
       "  ('gumuser', 'I-ADDR'),\n",
       "  ('ilk', 'I-ADDR'),\n",
       "  ('öğretim', 'I-ADDR'),\n",
       "  ('okulu', 'I-ADDR'),\n",
       "  ('yani.', 'OTHER'),\n",
       "  ('P', 'OTHER'),\n",
       "  ('iazza', 'B-ADDR'),\n",
       "  ('AVM', 'I-ADDR'),\n",
       "  ('civarı.', 'OTHER'),\n",
       "  ('K', 'OTHER'),\n",
       "  ('ahramanmaraş', 'B-CITY')],\n",
       " [('Adıyaman', 'B-CITY'),\n",
       "  ('Merkez', 'OTHER'),\n",
       "  ('Yeni', 'B-ADDR'),\n",
       "  ('Mahalle', 'I-ADDR'),\n",
       "  ('14.', 'I-ADDR'),\n",
       "  ('Aile', 'I-ADDR'),\n",
       "  ('Sağlığı', 'I-ADDR'),\n",
       "  ('Merkezi', 'I-ADDR'),\n",
       "  ('karşısı', 'OTHER'),\n",
       "  ('Umut', 'B-ADDR'),\n",
       "  ('Sitesi', 'I-ADDR'),\n",
       "  ('haber', 'OTHER'),\n",
       "  ('alınamıyor', 'OTHER'),\n",
       "  ('Muhtemelen', 'OTHER'),\n",
       "  ('enkaz', 'OTHER'),\n",
       "  ('altindalar', 'OTHER'),\n",
       "  ('Hbr', 'OTHER'),\n",
       "  ('Kenan', 'B-PER'),\n",
       "  ('Boy', 'I-PER'),\n",
       "  ('Birsen', 'B-PER'),\n",
       "  ('Danaci', 'I-PER'),\n",
       "  ('ismail', 'B-PER'),\n",
       "  ('Danaci', 'I-PER'),\n",
       "  ('Gülşah', 'B-PER'),\n",
       "  ('Boy', 'I-PER'),\n",
       "  ('Belinay', 'B-PER'),\n",
       "  ('Boy', 'I-PER'),\n",
       "  ('Muhammet', 'B-PER'),\n",
       "  ('Boy', 'I-PER'),\n",
       "  ('Yusuf', 'B-PER'),\n",
       "  ('Boy', 'I-PER')],\n",
       " [('Acil', 'OTHER'),\n",
       "  ('yardım', 'OTHER'),\n",
       "  ('asker', 'OTHER'),\n",
       "  ('arkadaşım', 'OTHER'),\n",
       "  ('enkaz', 'OTHER'),\n",
       "  ('altında', 'OTHER'),\n",
       "  ('kalmıştır', 'OTHER'),\n",
       "  ('gerekli', 'OTHER'),\n",
       "  ('yardımlar', 'OTHER'),\n",
       "  ('yapılmamaktadır.', 'OTHER'),\n",
       "  ('Yenişehir', 'B-ADDR'),\n",
       "  ('Mahallesi', 'I-ADDR'),\n",
       "  ('Trabzon', 'I-ADDR'),\n",
       "  ('Bulvarı', 'I-ADDR'),\n",
       "  ('Serçin', 'I-ADDR'),\n",
       "  ('Apartmanı', 'I-ADDR'),\n",
       "  ('No', 'I-ADDR'),\n",
       "  ('68', 'I-ADDR'),\n",
       "  ('1', 'I-ADDR'),\n",
       "  ('Dulkadiroğlu', 'I-ADDR'),\n",
       "  ('Kahramanmaraş', 'B-CITY')],\n",
       " [(\"Kahramanmaraş'ta\", 'B-CITY')],\n",
       " [('Adıyaman', 'B-CITY'),\n",
       "  ('alitaşı', 'B-ADDR'),\n",
       "  ('mahallesi', 'I-ADDR'),\n",
       "  ('bozbey', 'I-ADDR'),\n",
       "  ('caddesi', 'I-ADDR'),\n",
       "  ('1241.', 'I-ADDR'),\n",
       "  ('sokak', 'I-ADDR'),\n",
       "  ('merve', 'I-ADDR'),\n",
       "  ('apartmanı', 'I-ADDR')],\n",
       " [('KAHRAMANMARAŞ', 'B-CITY'), ('AFŞİNDE', 'B-ADDR')],\n",
       " [('Hatay', 'B-CITY'), ('Kırıkhan', 'B-ADDR')],\n",
       " [('ACİL', 'OTHER'),\n",
       "  ('VİNÇ', 'OTHER'),\n",
       "  ('LAZIM', 'OTHER'),\n",
       "  ('APARTMANDAKİ', 'OTHER'),\n",
       "  ('15', 'OTHER'),\n",
       "  ('KİŞİ', 'OTHER'),\n",
       "  ('YAŞIYOR', 'OTHER'),\n",
       "  ('Fulya', 'B-PER'),\n",
       "  ('Karaturna', 'I-PER'),\n",
       "  ('ve', 'OTHER'),\n",
       "  ('Ramazan', 'B-PER'),\n",
       "  ('Karaturna', 'I-PER'),\n",
       "  ('göçük', 'OTHER'),\n",
       "  ('altındalar.', 'OTHER'),\n",
       "  ('Lütfen', 'OTHER'),\n",
       "  ('acil', 'OTHER'),\n",
       "  ('yardım', 'OTHER'),\n",
       "  ('Adres', 'OTHER'),\n",
       "  ('İsmet', 'B-ADDR'),\n",
       "  ('Paşa', 'I-ADDR'),\n",
       "  ('Mahallesi.Azerbaycan', 'I-ADDR'),\n",
       "  ('Bulvarı.', 'I-ADDR'),\n",
       "  ('Belli', 'I-ADDR'),\n",
       "  ('Apartmanı.', 'I-ADDR'),\n",
       "  ('Kahramanmaraş', 'B-CITY'),\n",
       "  ('Fulya', 'B-PER'),\n",
       "  ('05323461485', 'OTHER'),\n",
       "  ('Ramazan', 'B-PER'),\n",
       "  ('05323004938', 'OTHER')],\n",
       " [('Arkadaşlar', 'OTHER'),\n",
       "  ('acil', 'OTHER'),\n",
       "  ('yayalım!!Enkaz', 'OTHER'),\n",
       "  ('altında', 'OTHER'),\n",
       "  ('Yağmur', 'B-PER'),\n",
       "  ('Sarıgüzel', 'I-PER'),\n",
       "  ('Dulkadiroğlu', 'B-ADDR'),\n",
       "  ('İsmetpaşa', 'I-ADDR'),\n",
       "  ('Mahallesi.', 'I-ADDR'),\n",
       "  ('Şeyh', 'I-ADDR'),\n",
       "  ('Adil', 'I-ADDR'),\n",
       "  ('caddesi', 'I-ADDR'),\n",
       "  ('6', 'I-ADDR'),\n",
       "  ('08', 'I-ADDR'),\n",
       "  ('Kahramanmaraş', 'B-CITY')],\n",
       " [('Burası', 'OTHER'),\n",
       "  ('Hatay', 'B-CITY'),\n",
       "  ('Antakya', 'B-ADDR'),\n",
       "  ('Odabaşı', 'I-ADDR'),\n",
       "  ('.', 'OTHER'),\n",
       "  ('Arkadaşımız', 'OTHER'),\n",
       "  ('Mert', 'OTHER'),\n",
       "  ('şu', 'OTHER'),\n",
       "  ('an', 'OTHER'),\n",
       "  ('orada.', 'OTHER'),\n",
       "  ('Ablası', 'OTHER'),\n",
       "  ('kendi', 'OTHER'),\n",
       "  ('çabasıyla', 'OTHER'),\n",
       "  ('çıktı', 'OTHER'),\n",
       "  ('fakat', 'OTHER'),\n",
       "  ('eşi', 'OTHER'),\n",
       "  ('HALİL', 'B-PER'),\n",
       "  ('SAĞCAN', 'I-PER'),\n",
       "  ('hâlâ', 'OTHER'),\n",
       "  ('enkaz', 'OTHER'),\n",
       "  ('altında!', 'OTHER'),\n",
       "  ('Aynı', 'OTHER'),\n",
       "  ('apartmanda', 'OTHER'),\n",
       "  ('ikiz', 'OTHER'),\n",
       "  ('çocuklar', 'OTHER'),\n",
       "  ('olduğu', 'OTHER'),\n",
       "  ('da', 'OTHER'),\n",
       "  ('biliniyor!', 'OTHER'),\n",
       "  ('ODABAŞI', 'B-ADDR'),\n",
       "  ('Mahallesi.', 'I-ADDR'),\n",
       "  ('YAĞMUR', 'I-ADDR'),\n",
       "  ('Sokak.', 'I-ADDR'),\n",
       "  ('DENİZ', 'I-ADDR'),\n",
       "  ('Apartmanı', 'I-ADDR'),\n",
       "  ('NO', 'I-ADDR'),\n",
       "  ('2', 'I-ADDR'),\n",
       "  ('ANTAKYA', 'I-ADDR'),\n",
       "  ('HATAY', 'B-CITY')],\n",
       " [('Binadan', 'OTHER'),\n",
       "  ('ses', 'OTHER'),\n",
       "  ('geliyor', 'OTHER'),\n",
       "  ('ancak', 'OTHER'),\n",
       "  ('profesyonel', 'OTHER'),\n",
       "  ('ekip', 'OTHER'),\n",
       "  ('olması', 'OTHER'),\n",
       "  ('gerekiyor', 'OTHER'),\n",
       "  ('lütfen', 'OTHER'),\n",
       "  ('yayalım', 'OTHER'),\n",
       "  ('arkadaşlar', 'OTHER'),\n",
       "  ('❗❗', 'OTHER'),\n",
       "  ('https', 'OTHER'),\n",
       "  ('t.co', 'OTHER'),\n",
       "  ('HXacPkGuLu', 'OTHER')],\n",
       " [('Atatürk', 'B-ADDR'),\n",
       "  ('caddesi', 'I-ADDR'),\n",
       "  ('general', 'I-ADDR'),\n",
       "  ('şükrü', 'I-ADDR'),\n",
       "  ('kanatlı', 'I-ADDR'),\n",
       "  ('mahallesi', 'I-ADDR'),\n",
       "  ('nazik', 'I-ADDR'),\n",
       "  ('apartmani', 'I-ADDR'),\n",
       "  ('Hatay', 'B-CITY'),\n",
       "  ('merkez', 'OTHER'),\n",
       "  ('Ecem', 'B-PER'),\n",
       "  ('çokbiliir', 'I-PER')],\n",
       " [('Taha', 'B-PER')],\n",
       " [('Pınar', 'B-PER'),\n",
       "  ('palabıyık', 'I-PER'),\n",
       "  ('Mehmet', 'B-PER'),\n",
       "  ('palabıyık', 'I-PER'),\n",
       "  ('Ali', 'B-PER'),\n",
       "  ('palabıyık', 'I-PER'),\n",
       "  ('Perihan', 'B-PER'),\n",
       "  ('palabıyık', 'I-PER'),\n",
       "  ('ikiz', 'OTHER'),\n",
       "  ('bebekleri', 'OTHER'),\n",
       "  ('var', 'OTHER'),\n",
       "  ('hiçbirine', 'OTHER'),\n",
       "  ('ulaşamıyoruz.', 'OTHER'),\n",
       "  ('Lütfen', 'OTHER'),\n",
       "  ('yayın..', 'OTHER'),\n",
       "  ('Hayrullah', 'B-ADDR'),\n",
       "  ('Mahallesi', 'I-ADDR'),\n",
       "  ('33027', 'I-ADDR'),\n",
       "  ('Sokak', 'I-ADDR'),\n",
       "  ('Didem', 'I-ADDR'),\n",
       "  ('Apartmanı', 'I-ADDR'),\n",
       "  ('No', 'I-ADDR'),\n",
       "  ('10', 'I-ADDR'),\n",
       "  ('15', 'I-ADDR'),\n",
       "  ('onikişubat', 'I-ADDR'),\n",
       "  ('Kahramanmaraş', 'B-CITY')],\n",
       " [('ACİLL!!', 'OTHER'),\n",
       "  ('Numune', 'B-ADDR'),\n",
       "  ('Mahallesi', 'I-ADDR'),\n",
       "  ('İbrahim', 'I-ADDR'),\n",
       "  ('Karaoğlan', 'I-ADDR'),\n",
       "  ('Caddesi', 'I-ADDR'),\n",
       "  ('Yonca', 'I-ADDR'),\n",
       "  ('Pek', 'I-ADDR'),\n",
       "  ('Apartmanı', 'I-ADDR'),\n",
       "  ('No', 'I-ADDR'),\n",
       "  ('99', 'I-ADDR'),\n",
       "  ('İskenderun', 'I-ADDR'),\n",
       "  ('HATAY', 'B-CITY'),\n",
       "  ('Sibel', 'B-PER'),\n",
       "  ('Öztürk', 'I-PER'),\n",
       "  ('Cansu', 'B-PER'),\n",
       "  ('Kurtoğlu', 'I-PER'),\n",
       "  ('Canberk', 'B-PER'),\n",
       "  ('Kurtoğlu', 'I-PER')]]"
      ]
     },
     "execution_count": 24,
     "metadata": {},
     "output_type": "execute_result"
    }
   ],
   "source": [
    "new_pairs = []\n",
    "for tweet in all_token_tag_pairs:\n",
    "    new_tweet = []\n",
    "    for token,tag in tweet:\n",
    "        if token != '':\n",
    "            new_tweet.append((token,tag))\n",
    "    new_pairs.append(new_tweet)\n",
    "\n",
    "new_pairs[:30]"
   ]
  },
  {
   "cell_type": "markdown",
   "id": "pnoXpcS7xsLv",
   "metadata": {
    "id": "pnoXpcS7xsLv"
   },
   "source": [
    "## Encoding the Labels to Integers"
   ]
  },
  {
   "cell_type": "code",
   "execution_count": 25,
   "id": "wYySnnfz2RNI",
   "metadata": {
    "id": "wYySnnfz2RNI"
   },
   "outputs": [],
   "source": [
    "ner_tags = [\"OTHER\", 'B-PER', 'I-PER', 'B-CITY', 'I-CITY', 'B-ADDR', 'I-ADDR']\n",
    "id2label = {k: v for k, v in enumerate(ner_tags)}\n",
    "label2id = {v: k for k, v in id2label.items()}"
   ]
  },
  {
   "cell_type": "code",
   "execution_count": 26,
   "id": "v3m-3tP4f5uW",
   "metadata": {
    "colab": {
     "base_uri": "https://localhost:8080/"
    },
    "id": "v3m-3tP4f5uW",
    "outputId": "5628385c-cdbb-49ad-bdbb-27d03f7b07a3"
   },
   "outputs": [
    {
     "data": {
      "text/plain": [
       "{0: 'OTHER',\n",
       " 1: 'B-PER',\n",
       " 2: 'I-PER',\n",
       " 3: 'B-CITY',\n",
       " 4: 'I-CITY',\n",
       " 5: 'B-ADDR',\n",
       " 6: 'I-ADDR'}"
      ]
     },
     "execution_count": 26,
     "metadata": {},
     "output_type": "execute_result"
    }
   ],
   "source": [
    "id2label"
   ]
  },
  {
   "cell_type": "code",
   "execution_count": 27,
   "id": "54h8S-EekTKb",
   "metadata": {
    "colab": {
     "base_uri": "https://localhost:8080/"
    },
    "id": "54h8S-EekTKb",
    "outputId": "9be94cd2-d7be-427e-f398-7365f4774816"
   },
   "outputs": [
    {
     "data": {
      "text/plain": [
       "{'OTHER': 0,\n",
       " 'B-PER': 1,\n",
       " 'I-PER': 2,\n",
       " 'B-CITY': 3,\n",
       " 'I-CITY': 4,\n",
       " 'B-ADDR': 5,\n",
       " 'I-ADDR': 6}"
      ]
     },
     "execution_count": 27,
     "metadata": {},
     "output_type": "execute_result"
    }
   ],
   "source": [
    "label2id"
   ]
  },
  {
   "cell_type": "markdown",
   "id": "XFciLFvQxwUn",
   "metadata": {
    "id": "XFciLFvQxwUn"
   },
   "source": [
    "### Separating tokens and *tags*"
   ]
  },
  {
   "cell_type": "code",
   "execution_count": 28,
   "id": "e0d16735",
   "metadata": {
    "id": "e0d16735"
   },
   "outputs": [],
   "source": [
    "inputs = []\n",
    "targets = []\n",
    "\n",
    "for tweet_tag_pairs in new_pairs:\n",
    "    tokens = []\n",
    "    target = []\n",
    "    for token, tag in tweet_tag_pairs:\n",
    "        tokens.append(token)\n",
    "        target.append(label2id[tag])\n",
    "    inputs.append(tokens)\n",
    "    targets.append(target)"
   ]
  },
  {
   "cell_type": "code",
   "execution_count": 29,
   "id": "d8d4f59f",
   "metadata": {
    "colab": {
     "base_uri": "https://localhost:8080/"
    },
    "id": "d8d4f59f",
    "outputId": "453032e1-1428-4c68-b4a6-6d02d853385d"
   },
   "outputs": [
    {
     "data": {
      "text/plain": [
       "[['Turunçlu',\n",
       "  'mahallesi',\n",
       "  'samandag',\n",
       "  'yolu',\n",
       "  'uzeri',\n",
       "  'saray',\n",
       "  'market',\n",
       "  'yanı',\n",
       "  '95',\n",
       "  'B',\n",
       "  'Defne',\n",
       "  'Hatay',\n",
       "  'Enkazda',\n",
       "  'kalanlardan',\n",
       "  'biri',\n",
       "  'Nilay',\n",
       "  'Oltacı',\n",
       "  'İletişim',\n",
       "  '05161646506'],\n",
       " ['Kahramanmaraş',\n",
       "  'ON',\n",
       "  'İKİ',\n",
       "  'ŞUBAT',\n",
       "  'CADDESİ',\n",
       "  'KÜLTÜRKENT',\n",
       "  'SİTESİ',\n",
       "  'ARKADAŞIMIN',\n",
       "  'AMCASI',\n",
       "  'KUZENİ',\n",
       "  'ENKAZ',\n",
       "  'ALTINDA',\n",
       "  'LÜTFEN',\n",
       "  'YARDIM',\n",
       "  'EDİN',\n",
       "  'VİLDAN',\n",
       "  'GEZER',\n",
       "  'ALİ',\n",
       "  'GEZER'],\n",
       " ['ŞAZİBEY',\n",
       "  'MAHALLESİ',\n",
       "  'HAYDAR',\n",
       "  'ALİYEV',\n",
       "  'BULVARI',\n",
       "  'YUNUS',\n",
       "  'APARTMANI',\n",
       "  'A',\n",
       "  'BLOK'],\n",
       " ['Su',\n",
       "  'otele',\n",
       "  'yardım',\n",
       "  'edin',\n",
       "  'çok',\n",
       "  'çocuk',\n",
       "  'var',\n",
       "  'içeride.',\n",
       "  'https',\n",
       "  't.co',\n",
       "  'AP6oMgciQB'],\n",
       " ['Malatya', 'nergiz', 'sitesi']]"
      ]
     },
     "execution_count": 29,
     "metadata": {},
     "output_type": "execute_result"
    }
   ],
   "source": [
    "inputs[:5]"
   ]
  },
  {
   "cell_type": "code",
   "execution_count": 30,
   "id": "Y0xvYM0d2jnL",
   "metadata": {
    "colab": {
     "base_uri": "https://localhost:8080/"
    },
    "id": "Y0xvYM0d2jnL",
    "outputId": "a48b2b49-212e-45e9-cd5f-72a7dd455a94"
   },
   "outputs": [
    {
     "data": {
      "text/plain": [
       "[[5, 6, 6, 6, 0, 0, 0, 0, 5, 6, 6, 3, 0, 0, 0, 1, 2, 0, 0],\n",
       " [3, 5, 6, 6, 6, 6, 6, 0, 0, 0, 0, 0, 0, 0, 0, 1, 2, 1, 2],\n",
       " [5, 6, 6, 6, 6, 6, 6, 6, 6],\n",
       " [0, 0, 0, 0, 0, 0, 0, 0, 0, 0, 0],\n",
       " [3, 5, 6]]"
      ]
     },
     "execution_count": 30,
     "metadata": {},
     "output_type": "execute_result"
    }
   ],
   "source": [
    "targets[:5]"
   ]
  },
  {
   "cell_type": "markdown",
   "id": "oWxFOI1yx80p",
   "metadata": {
    "id": "oWxFOI1yx80p"
   },
   "source": [
    "### Save the input-tag pairs as a new dataset"
   ]
  },
  {
   "cell_type": "code",
   "execution_count": 31,
   "id": "f2ade6f8",
   "metadata": {
    "id": "f2ade6f8"
   },
   "outputs": [],
   "source": [
    "with open('NER_deneme.json', 'w') as f:\n",
    "  for x, y in zip(inputs, targets):\n",
    "    j = {'inputs': x, 'targets': y}\n",
    "    s = json.dumps(j)\n",
    "    f.write(f\"{s}\\n\")"
   ]
  },
  {
   "cell_type": "code",
   "execution_count": 42,
   "id": "6fdf4d19",
   "metadata": {
    "id": "6fdf4d19"
   },
   "outputs": [],
   "source": [
    "dataset = load_dataset(\"json\", data_files='NER_deneme.json')"
   ]
  },
  {
   "cell_type": "code",
   "execution_count": 43,
   "id": "mlfDQSFlfW0F",
   "metadata": {
    "colab": {
     "base_uri": "https://localhost:8080/"
    },
    "id": "mlfDQSFlfW0F",
    "outputId": "23021c76-34b2-426d-826f-ef8e311e4b06"
   },
   "outputs": [
    {
     "data": {
      "text/plain": [
       "DatasetDict({\n",
       "    train: Dataset({\n",
       "        features: ['inputs', 'targets'],\n",
       "        num_rows: 1352\n",
       "    })\n",
       "})"
      ]
     },
     "execution_count": 43,
     "metadata": {},
     "output_type": "execute_result"
    }
   ],
   "source": [
    "dataset"
   ]
  },
  {
   "cell_type": "code",
   "execution_count": 44,
   "id": "bxYaWcrsfaRL",
   "metadata": {
    "colab": {
     "base_uri": "https://localhost:8080/"
    },
    "id": "bxYaWcrsfaRL",
    "outputId": "a69e85ec-b5a8-486c-939b-e05f5ff51c40"
   },
   "outputs": [
    {
     "data": {
      "text/plain": [
       "DatasetDict({\n",
       "    train: Dataset({\n",
       "        features: ['inputs', 'targets'],\n",
       "        num_rows: 1014\n",
       "    })\n",
       "    test: Dataset({\n",
       "        features: ['inputs', 'targets'],\n",
       "        num_rows: 338\n",
       "    })\n",
       "})"
      ]
     },
     "execution_count": 44,
     "metadata": {},
     "output_type": "execute_result"
    }
   ],
   "source": [
    "data = dataset['train'].train_test_split(seed=42)\n",
    "data"
   ]
  },
  {
   "cell_type": "markdown",
   "id": "Q4oexmVTyLn1",
   "metadata": {
    "id": "Q4oexmVTyLn1"
   },
   "source": [
    "### Import the pretrained model we will fine-tune"
   ]
  },
  {
   "cell_type": "code",
   "execution_count": 45,
   "id": "6GGKMgSUhDqX",
   "metadata": {
    "id": "6GGKMgSUhDqX"
   },
   "outputs": [],
   "source": [
    "checkpoint = \"akdeniz27/bert-base-turkish-cased-ner\"\n",
    "tokenizer = AutoTokenizer.from_pretrained(checkpoint)\n"
   ]
  },
  {
   "cell_type": "markdown",
   "id": "hSiMjQhGyRlL",
   "metadata": {
    "id": "hSiMjQhGyRlL"
   },
   "source": [
    " Let's find out how the model's tokenizer will treat the tokens"
   ]
  },
  {
   "cell_type": "code",
   "execution_count": 46,
   "id": "d5I-bpzQhn92",
   "metadata": {
    "colab": {
     "base_uri": "https://localhost:8080/"
    },
    "id": "d5I-bpzQhn92",
    "outputId": "f74baa35-d602-4b52-a35f-b002a3cd5110"
   },
   "outputs": [
    {
     "data": {
      "text/plain": [
       "{'input_ids': [2, 11186, 28960, 24344, 5020, 10365, 14258, 9360, 3204, 7906, 12490, 26300, 3884, 554, 4079, 5263, 1040, 37, 4084, 1071, 9742, 1128, 10451, 18376, 16465, 15170, 2067, 3013, 6283, 4249, 18, 3256, 1006, 11602, 1974, 4542, 11262, 11602, 1974, 16515, 11602, 1974, 31505, 1050, 11602, 1974, 3], 'token_type_ids': [0, 0, 0, 0, 0, 0, 0, 0, 0, 0, 0, 0, 0, 0, 0, 0, 0, 0, 0, 0, 0, 0, 0, 0, 0, 0, 0, 0, 0, 0, 0, 0, 0, 0, 0, 0, 0, 0, 0, 0, 0, 0, 0, 0, 0, 0, 0], 'attention_mask': [1, 1, 1, 1, 1, 1, 1, 1, 1, 1, 1, 1, 1, 1, 1, 1, 1, 1, 1, 1, 1, 1, 1, 1, 1, 1, 1, 1, 1, 1, 1, 1, 1, 1, 1, 1, 1, 1, 1, 1, 1, 1, 1, 1, 1, 1, 1]}"
      ]
     },
     "execution_count": 46,
     "metadata": {},
     "output_type": "execute_result"
    }
   ],
   "source": [
    "#ex\n",
    "t = tokenizer(data['train'][1]['inputs'], is_split_into_words = True)\n",
    "t"
   ]
  },
  {
   "cell_type": "code",
   "execution_count": 47,
   "id": "MOwZVxgZh_nY",
   "metadata": {
    "colab": {
     "base_uri": "https://localhost:8080/"
    },
    "id": "MOwZVxgZh_nY",
    "outputId": "24b137b3-3491-4b41-cabe-3731c37d67ca"
   },
   "outputs": [
    {
     "data": {
      "text/plain": [
       "['[CLS]',\n",
       " 'Hatay',\n",
       " 'Antakya',\n",
       " 'Bedi',\n",
       " 'Sab',\n",
       " '##uncu',\n",
       " 'İlköğretim',\n",
       " 'Okulu',\n",
       " 'yanı',\n",
       " 'Tor',\n",
       " '##unlar',\n",
       " 'Apart',\n",
       " '##manı',\n",
       " '’',\n",
       " 'nda',\n",
       " 'TÜ',\n",
       " '##M',\n",
       " 'A',\n",
       " '##İL',\n",
       " '##E',\n",
       " 'GÖ',\n",
       " '##Ç',\n",
       " '##ÜK',\n",
       " 'ALT',\n",
       " '##INDA',\n",
       " 'saatler',\n",
       " '##dir',\n",
       " 'haber',\n",
       " 'alına',\n",
       " '##mıyor',\n",
       " '.',\n",
       " 'Sen',\n",
       " '##a',\n",
       " 'Alk',\n",
       " '##an',\n",
       " 'Ahmet',\n",
       " 'Cengiz',\n",
       " 'Alk',\n",
       " '##an',\n",
       " 'Fikret',\n",
       " 'Alk',\n",
       " '##an',\n",
       " 'Yağı',\n",
       " '##z',\n",
       " 'Alk',\n",
       " '##an',\n",
       " '[SEP]']"
      ]
     },
     "execution_count": 47,
     "metadata": {},
     "output_type": "execute_result"
    }
   ],
   "source": [
    "t.tokens()"
   ]
  },
  {
   "cell_type": "markdown",
   "id": "gISjj9MWyX2f",
   "metadata": {
    "id": "gISjj9MWyX2f"
   },
   "source": [
    "### Attention:\n",
    "- As in other transformer models,  the tokenizer generated subword tokens, by splitting the words into sub-units.\n",
    "- This will cause an alignment problem with our target tags, since now the input data is longer than the targets.\n",
    "- Therefore we will need to realign the targets.\n",
    "\n",
    "To this end, we will use the word_ids() method of the Transformer Tokenizer class. This method returns us the value i for each subword token, with i denoting that the corresponding token belongs to the i'th word of the input sentence. Since the first token of each sentence is [CLS] and last token is [SEP], these two receive 'None' as word_ids value, as they do not originally belong to the sentence."
   ]
  },
  {
   "cell_type": "code",
   "execution_count": 48,
   "id": "48Unl7pWiBqh",
   "metadata": {
    "colab": {
     "base_uri": "https://localhost:8080/"
    },
    "id": "48Unl7pWiBqh",
    "outputId": "fb24618a-104d-457a-affd-c2b8d05e8f98"
   },
   "outputs": [
    {
     "data": {
      "text/plain": [
       "[None,\n",
       " 0,\n",
       " 1,\n",
       " 2,\n",
       " 3,\n",
       " 3,\n",
       " 4,\n",
       " 5,\n",
       " 6,\n",
       " 7,\n",
       " 7,\n",
       " 8,\n",
       " 8,\n",
       " 8,\n",
       " 8,\n",
       " 9,\n",
       " 9,\n",
       " 10,\n",
       " 10,\n",
       " 10,\n",
       " 11,\n",
       " 11,\n",
       " 11,\n",
       " 12,\n",
       " 12,\n",
       " 13,\n",
       " 13,\n",
       " 14,\n",
       " 15,\n",
       " 15,\n",
       " 15,\n",
       " 16,\n",
       " 16,\n",
       " 17,\n",
       " 17,\n",
       " 18,\n",
       " 19,\n",
       " 20,\n",
       " 20,\n",
       " 21,\n",
       " 22,\n",
       " 22,\n",
       " 23,\n",
       " 23,\n",
       " 24,\n",
       " 24,\n",
       " None]"
      ]
     },
     "execution_count": 48,
     "metadata": {},
     "output_type": "execute_result"
    }
   ],
   "source": [
    "#target alignment:\n",
    "# value of i indicates it is the i'th word\n",
    "# in the input sentence (counting from 0)\n",
    "t.word_ids()"
   ]
  },
  {
   "cell_type": "markdown",
   "id": "LrHqL14Jyeke",
   "metadata": {
    "id": "LrHqL14Jyeke"
   },
   "source": [
    "In order to realign the targets, we will make sure that subword tokens that belong to the same word will share the same tag, but in different I or B tags. For example, we know that the first word in a person entity received the B-PER tag, while the following words belonging to the same entity recieved I-PER. This time, we will make sure that after the subword tokenization, even the subword tokens within the first word of a person entity will start with B-PER and continue as I-PER. We don't have any problem if the word's corresponding tag is already I-PER (like a second word in an entity), in that case we can directly replicate the I-PER tag for all sub-units.\n",
    "\n",
    "Since the change must be done only for the subsequent tokens that are part of the first word of an entity, let's designate a function that will convert from label \"B-\" to label \"I-\" for those tokens, and that will replicate label \"I-\" for the other parts of the entities."
   ]
  },
  {
   "cell_type": "code",
   "execution_count": 49,
   "id": "hdBYjhb2iNK2",
   "metadata": {
    "id": "hdBYjhb2iNK2"
   },
   "outputs": [],
   "source": [
    "# [\"OTHER\", 'B-PER', 'I-PER', 'B-CITY', 'I-CITY', 'B-ADDR', 'I-ADDR']\n",
    "\n",
    "begin2inside = {\n",
    "  1: 2,\n",
    "  3: 4,\n",
    "  5: 6,\n",
    "}"
   ]
  },
  {
   "cell_type": "markdown",
   "id": "MwHVYisTyk1i",
   "metadata": {
    "id": "MwHVYisTyk1i"
   },
   "source": [
    "Note that in NER and POS tagging we often encode as a negative value -100 for the CLS and SEP tokens as a common practice to easily filter them out when needed."
   ]
  },
  {
   "cell_type": "code",
   "execution_count": 50,
   "id": "O9eTIdTlibjR",
   "metadata": {
    "id": "O9eTIdTlibjR"
   },
   "outputs": [],
   "source": [
    "def align_targets(labels, word_ids):\n",
    "    #word_ids list has the same length as tokenized inputs\n",
    "    #labels are just the original labels so they have the same length as untokenized inputs\n",
    "  aligned_labels = []\n",
    "  last_assigned_word = None\n",
    "  for word_id in word_ids:\n",
    "    if word_id is None:\n",
    "      # it's a token like [CLS]\n",
    "      label = -100\n",
    "    elif word_id != last_assigned_word:  #this means the token is not belonging to the previous word\n",
    "      # it's a new word!\n",
    "      label = labels[word_id]\n",
    "    else:\n",
    "      # it's the same word as before\n",
    "      #so we should map them to a I-tag not B-tag\n",
    "      label = labels[word_id]\n",
    "        #however we should have some way to check this label I- B- cause we can't have more than one B\n",
    "\n",
    "      # change B-<tag> to I-<tag> if necessary\n",
    "      if label in begin2inside: #remember label is an id mapped to corresponding tag\n",
    "        label = begin2inside[label]\n",
    "\n",
    "    # add the label\n",
    "    aligned_labels.append(label)\n",
    "\n",
    "    # update last word\n",
    "    last_assigned_word = word_id\n",
    "\n",
    "  return aligned_labels\n"
   ]
  },
  {
   "cell_type": "code",
   "execution_count": 51,
   "id": "9dewt_08lVAl",
   "metadata": {
    "id": "9dewt_08lVAl"
   },
   "outputs": [],
   "source": [
    "# try our function for the tokens stored in t, corresponding to input index 1\n",
    "labels = data['train'][1]['targets'] #these are the non-aligned NER tags for that input\n",
    "word_ids = t.word_ids()\n",
    "aligned_targets = align_targets(labels, word_ids)\n"
   ]
  },
  {
   "cell_type": "code",
   "execution_count": 52,
   "id": "QIE2sMsP45yK",
   "metadata": {
    "colab": {
     "base_uri": "https://localhost:8080/",
     "height": 53
    },
    "id": "QIE2sMsP45yK",
    "outputId": "05cb21d9-2961-49f1-c9ae-c84169e61403"
   },
   "outputs": [
    {
     "data": {
      "application/vnd.google.colaboratory.intrinsic+json": {
       "type": "string"
      },
      "text/plain": [
       "'Hatay Antakya Bedi Sabuncu İlköğretim Okulu yanı Torunlar Apartmanı’nda TÜM AİLE GÖÇÜK ALTINDA saatlerdir haber alınamıyor. Sena Alkan Ahmet Cengiz Alkan Fikret Alkan Yağız Alkan'"
      ]
     },
     "execution_count": 52,
     "metadata": {},
     "output_type": "execute_result"
    }
   ],
   "source": [
    "\" \".join(data['train'][1]['inputs'])"
   ]
  },
  {
   "cell_type": "code",
   "execution_count": 53,
   "id": "18NeJL2Rl0u2",
   "metadata": {
    "colab": {
     "base_uri": "https://localhost:8080/"
    },
    "id": "18NeJL2Rl0u2",
    "outputId": "272bf4e4-b29d-4ef1-bea0-cc119fa4983f"
   },
   "outputs": [
    {
     "name": "stdout",
     "output_type": "stream",
     "text": [
      "[CLS]\tNone\n",
      "Hatay\tB-CITY\n",
      "Antakya\tB-ADDR\n",
      "Bedi\tI-ADDR\n",
      "Sab\tI-ADDR\n",
      "##uncu\tI-ADDR\n",
      "İlköğretim\tI-ADDR\n",
      "Okulu\tI-ADDR\n",
      "yanı\tOTHER\n",
      "Tor\tB-ADDR\n",
      "##unlar\tI-ADDR\n",
      "Apart\tI-ADDR\n",
      "##manı\tI-ADDR\n",
      "’\tI-ADDR\n",
      "nda\tI-ADDR\n",
      "TÜ\tOTHER\n",
      "##M\tOTHER\n",
      "A\tOTHER\n",
      "##İL\tOTHER\n",
      "##E\tOTHER\n",
      "GÖ\tOTHER\n",
      "##Ç\tOTHER\n",
      "##ÜK\tOTHER\n",
      "ALT\tOTHER\n",
      "##INDA\tOTHER\n",
      "saatler\tOTHER\n",
      "##dir\tOTHER\n",
      "haber\tOTHER\n",
      "alına\tOTHER\n",
      "##mıyor\tOTHER\n",
      ".\tOTHER\n",
      "Sen\tB-PER\n",
      "##a\tI-PER\n",
      "Alk\tI-PER\n",
      "##an\tI-PER\n",
      "Ahmet\tB-PER\n",
      "Cengiz\tI-PER\n",
      "Alk\tI-PER\n",
      "##an\tI-PER\n",
      "Fikret\tB-PER\n",
      "Alk\tI-PER\n",
      "##an\tI-PER\n",
      "Yağı\tB-PER\n",
      "##z\tI-PER\n",
      "Alk\tI-PER\n",
      "##an\tI-PER\n",
      "[SEP]\tNone\n"
     ]
    }
   ],
   "source": [
    "#let's retrieve the corresponding label from our id2label dictionary:\n",
    "#the code below will return id2label tags for positive id and None for negative id (-100 in our case)\n",
    "aligned_labels = [ner_tags[t] if t >= 0 else None for t in aligned_targets] #-100se none alcak\n",
    "\n",
    "for x, y in zip(t.tokens(), aligned_labels):\n",
    "  print(f\"{x}\\t{y}\")"
   ]
  },
  {
   "cell_type": "markdown",
   "id": "Jx8ASOSCzq_d",
   "metadata": {
    "id": "Jx8ASOSCzq_d"
   },
   "source": [
    "All tags seem to have been aligned correctly!\n",
    "\n",
    "Now we are ready to build a custom tokenizer, which will apply tokenizer to the entire dataset and while aligning the labels accordingly!"
   ]
  },
  {
   "cell_type": "code",
   "execution_count": 54,
   "id": "1QG1vdVal4bF",
   "metadata": {
    "id": "1QG1vdVal4bF"
   },
   "outputs": [],
   "source": [
    "# tokenize both inputs and targets\n",
    "def tokenize_fn(batch):\n",
    "  # tokenize the input sequence first\n",
    "  # this populates input_ids, attention_mask, etc.\n",
    "  tokenized_inputs = tokenizer(\n",
    "    batch['inputs'], truncation=True, is_split_into_words=True\n",
    "  )\n",
    "\n",
    "  labels_batch = batch['targets'] # original targets\n",
    "  aligned_labels_batch = []\n",
    "  for i, labels in enumerate(labels_batch):\n",
    "    word_ids = tokenized_inputs.word_ids(i)\n",
    "    aligned_labels_batch.append(align_targets(labels, word_ids))\n",
    "\n",
    "  # recall: the 'target' must be stored in key called 'labels'\n",
    "  tokenized_inputs['labels'] = aligned_labels_batch\n",
    "\n",
    "  return tokenized_inputs"
   ]
  },
  {
   "cell_type": "code",
   "execution_count": 56,
   "id": "LQBBmIoNnVCL",
   "metadata": {
    "colab": {
     "base_uri": "https://localhost:8080/",
     "height": 81,
     "referenced_widgets": [
      "a25760e6e2004af888529a176d6820ac",
      "48e7df160a2c4520a4d07f9593330ea5",
      "676594f28ee54b0086eb39ad53d137d9",
      "ef8ac005399b442f93f927dd0c3b6d1d",
      "6bbe7c0c8a2544098cede8f78ddb78d1",
      "2c85de39828547899078034750f8b9b2",
      "6a141a3463d14f2f9c253962bf4faf9e",
      "98d0acabcc5e42b5b691807bc3b3a978",
      "2bd965a37f864e5e9bcf0333f759cb1a",
      "e843427dd4b64321979c07eaf5b2813b",
      "bfa2a29432fa46a2808aad7e2d124f04",
      "0903e521999c4875a58ee22ef37a95f2",
      "022ba743ff42452bae9bb30aff598fd7",
      "c657454bc1684728a210358b58a1af44",
      "4d30d44c6ece458c9a804ae9d60002eb",
      "57cac36e2601422b80d71a4fc3f3ec9b",
      "e2f0d9d164dd48adba39e55e6a871f3e",
      "68acd0b1b325489294708b36157f609a",
      "65e4953eb74e4e31acd76b36b4eba8d3",
      "64f97af205984f9db3fedae67b361205",
      "38db1c28a6fd492cb90f4637917054e0",
      "8dafc947ad664f50bea3bdb71d14413b"
     ]
    },
    "id": "LQBBmIoNnVCL",
    "outputId": "d326c65b-6865-4fc2-b84c-4a92d7fd4b5e"
   },
   "outputs": [
    {
     "data": {
      "application/vnd.jupyter.widget-view+json": {
       "model_id": "a25760e6e2004af888529a176d6820ac",
       "version_major": 2,
       "version_minor": 0
      },
      "text/plain": [
       "Map:   0%|          | 0/1014 [00:00<?, ? examples/s]"
      ]
     },
     "metadata": {},
     "output_type": "display_data"
    },
    {
     "data": {
      "application/vnd.jupyter.widget-view+json": {
       "model_id": "0903e521999c4875a58ee22ef37a95f2",
       "version_major": 2,
       "version_minor": 0
      },
      "text/plain": [
       "Map:   0%|          | 0/338 [00:00<?, ? examples/s]"
      ]
     },
     "metadata": {},
     "output_type": "display_data"
    }
   ],
   "source": [
    "tokenized_datasets = data.map(\n",
    "  tokenize_fn,\n",
    "  batched=True,\n",
    "  remove_columns=data[\"train\"].column_names, #this is in case the data contain columns other than input and labels\n",
    ")"
   ]
  },
  {
   "cell_type": "code",
   "execution_count": 57,
   "id": "XOswOHusngxx",
   "metadata": {
    "colab": {
     "base_uri": "https://localhost:8080/"
    },
    "id": "XOswOHusngxx",
    "outputId": "a1f63004-f4c0-48f3-b78a-3ad6107410c3"
   },
   "outputs": [
    {
     "data": {
      "text/plain": [
       "DatasetDict({\n",
       "    train: Dataset({\n",
       "        features: ['input_ids', 'token_type_ids', 'attention_mask', 'labels'],\n",
       "        num_rows: 1014\n",
       "    })\n",
       "    test: Dataset({\n",
       "        features: ['input_ids', 'token_type_ids', 'attention_mask', 'labels'],\n",
       "        num_rows: 338\n",
       "    })\n",
       "})"
      ]
     },
     "execution_count": 57,
     "metadata": {},
     "output_type": "execute_result"
    }
   ],
   "source": [
    "tokenized_datasets"
   ]
  },
  {
   "cell_type": "markdown",
   "id": "cibWp8U70BZY",
   "metadata": {
    "id": "cibWp8U70BZY"
   },
   "source": [
    "### Data Collator"
   ]
  },
  {
   "cell_type": "code",
   "execution_count": 58,
   "id": "Ir0wYCdGn7dd",
   "metadata": {
    "id": "Ir0wYCdGn7dd"
   },
   "outputs": [],
   "source": [
    "data_collator = DataCollatorForTokenClassification(tokenizer=tokenizer)"
   ]
  },
  {
   "cell_type": "code",
   "execution_count": 59,
   "id": "NJdATO6loWf5",
   "metadata": {
    "colab": {
     "base_uri": "https://localhost:8080/",
     "height": 104,
     "referenced_widgets": [
      "76e33e4ede3d49639664e708a820d38c",
      "caa21cb14ca541259da5c02222e93a76",
      "1f95962c81164e28a3299c74d592f94a",
      "e0a6aa27b4e2497d81c6523f3eb96152",
      "20e125a00edc4251a1e9aad69e81b249",
      "61d353c0ee8248639e2edbf91d208cda",
      "ed3485d2d1c34e04975d4da4f19f0a95",
      "a7ebc8d3030e49f1b9ae110fa09c0101",
      "e0e79a889603413ba044610bae67b813",
      "80102b1bee34477fa2900684a07518c0",
      "3302808109d04f11b62910a8261309db"
     ]
    },
    "id": "NJdATO6loWf5",
    "outputId": "912943d9-540f-4426-9b7d-e2750a65380a"
   },
   "outputs": [
    {
     "name": "stderr",
     "output_type": "stream",
     "text": [
      "<ipython-input-59-e20ba34f8cc7>:1: FutureWarning: load_metric is deprecated and will be removed in the next major version of datasets. Use 'evaluate.load' instead, from the new library 🤗 Evaluate: https://huggingface.co/docs/evaluate\n",
      "  metric = load_metric(\"seqeval\")\n"
     ]
    },
    {
     "data": {
      "application/vnd.jupyter.widget-view+json": {
       "model_id": "76e33e4ede3d49639664e708a820d38c",
       "version_major": 2,
       "version_minor": 0
      },
      "text/plain": [
       "Downloading builder script:   0%|          | 0.00/2.47k [00:00<?, ?B/s]"
      ]
     },
     "metadata": {},
     "output_type": "display_data"
    }
   ],
   "source": [
    "metric = load_metric(\"seqeval\")"
   ]
  },
  {
   "cell_type": "code",
   "execution_count": 60,
   "id": "J_tZnV_Mof6K",
   "metadata": {
    "id": "J_tZnV_Mof6K"
   },
   "outputs": [],
   "source": [
    "def compute_metrics(logits_and_labels):\n",
    "  logits, labels = logits_and_labels\n",
    "  preds = np.argmax(logits, axis=-1)\n",
    "\n",
    "  # remove -100 from labels and predictions\n",
    "  # and convert the label_ids to label names\n",
    "  str_labels = [\n",
    "    [id2label[t] for t in label if t != -100] for label in labels\n",
    "  ] #only returns the labels for id != -100\n",
    "\n",
    "  # do the same for predictions whenever true label is -100,\n",
    "  # because we don't want our models predictions over the CLS and SEP tags (which will likely be %100 correct\n",
    "  # to bias and overestimate the performance of our model)\n",
    "\n",
    "  str_preds = [\n",
    "    [id2label[p] for p, t in zip(pred, targ) if t != -100] for pred, targ in zip(preds, labels)\n",
    "  ] #for every case that the original label is -100, the prediction will be removed without being taken into account\n",
    "\n",
    "  the_metrics = metric.compute(predictions=str_preds, references=str_labels)\n",
    "    #from here we format the result into a new dictionary\n",
    "  return {\n",
    "    'precision': the_metrics['overall_precision'],\n",
    "    'recall': the_metrics['overall_recall'],\n",
    "    'f1': the_metrics['overall_f1'],\n",
    "    'accuracy': the_metrics['overall_accuracy'],\n",
    "  }\n"
   ]
  },
  {
   "cell_type": "code",
   "execution_count": 66,
   "id": "-jK61lLPXU6_",
   "metadata": {
    "id": "-jK61lLPXU6_"
   },
   "outputs": [],
   "source": [
    "model = AutoModelForTokenClassification.from_pretrained(\n",
    "    checkpoint,\n",
    "    id2label=id2label,\n",
    "    label2id=label2id,\n",
    "    #ignore_mismatched_sizes=True,\n",
    "    #there is no longer need for this after suppressing NUM label, now the number of labels in our data\n",
    "    #matches the number of labels in the pre-trained model\n",
    ")"
   ]
  },
  {
   "cell_type": "code",
   "execution_count": 67,
   "id": "aILPhEFspClH",
   "metadata": {
    "id": "aILPhEFspClH"
   },
   "outputs": [],
   "source": [
    "training_args = TrainingArguments(\n",
    "    \"bert-finetuned-ner\",\n",
    "    evaluation_strategy=\"epoch\",\n",
    "    save_strategy=\"epoch\",\n",
    "    learning_rate=2e-5,\n",
    "    num_train_epochs=6,\n",
    "    weight_decay=0.01,\n",
    ")"
   ]
  },
  {
   "cell_type": "code",
   "execution_count": 68,
   "id": "OENVQp89phFN",
   "metadata": {
    "colab": {
     "base_uri": "https://localhost:8080/",
     "height": 316
    },
    "id": "OENVQp89phFN",
    "outputId": "52fd6682-ac3a-4699-a8e4-d423510c3101"
   },
   "outputs": [
    {
     "data": {
      "text/html": [
       "\n",
       "    <div>\n",
       "      \n",
       "      <progress value='762' max='762' style='width:300px; height:20px; vertical-align: middle;'></progress>\n",
       "      [762/762 02:33, Epoch 6/6]\n",
       "    </div>\n",
       "    <table border=\"1\" class=\"dataframe\">\n",
       "  <thead>\n",
       " <tr style=\"text-align: left;\">\n",
       "      <th>Epoch</th>\n",
       "      <th>Training Loss</th>\n",
       "      <th>Validation Loss</th>\n",
       "      <th>Precision</th>\n",
       "      <th>Recall</th>\n",
       "      <th>F1</th>\n",
       "      <th>Accuracy</th>\n",
       "    </tr>\n",
       "  </thead>\n",
       "  <tbody>\n",
       "    <tr>\n",
       "      <td>1</td>\n",
       "      <td>No log</td>\n",
       "      <td>0.182862</td>\n",
       "      <td>0.757705</td>\n",
       "      <td>0.797539</td>\n",
       "      <td>0.777112</td>\n",
       "      <td>0.947714</td>\n",
       "    </tr>\n",
       "    <tr>\n",
       "      <td>2</td>\n",
       "      <td>No log</td>\n",
       "      <td>0.162922</td>\n",
       "      <td>0.790822</td>\n",
       "      <td>0.828859</td>\n",
       "      <td>0.809394</td>\n",
       "      <td>0.956199</td>\n",
       "    </tr>\n",
       "    <tr>\n",
       "      <td>3</td>\n",
       "      <td>No log</td>\n",
       "      <td>0.162030</td>\n",
       "      <td>0.823466</td>\n",
       "      <td>0.855705</td>\n",
       "      <td>0.839276</td>\n",
       "      <td>0.961502</td>\n",
       "    </tr>\n",
       "    <tr>\n",
       "      <td>4</td>\n",
       "      <td>0.155800</td>\n",
       "      <td>0.173398</td>\n",
       "      <td>0.830819</td>\n",
       "      <td>0.862416</td>\n",
       "      <td>0.846323</td>\n",
       "      <td>0.962562</td>\n",
       "    </tr>\n",
       "    <tr>\n",
       "      <td>5</td>\n",
       "      <td>0.155800</td>\n",
       "      <td>0.177433</td>\n",
       "      <td>0.822771</td>\n",
       "      <td>0.856823</td>\n",
       "      <td>0.839452</td>\n",
       "      <td>0.962774</td>\n",
       "    </tr>\n",
       "    <tr>\n",
       "      <td>6</td>\n",
       "      <td>0.155800</td>\n",
       "      <td>0.181278</td>\n",
       "      <td>0.822650</td>\n",
       "      <td>0.861298</td>\n",
       "      <td>0.841530</td>\n",
       "      <td>0.963411</td>\n",
       "    </tr>\n",
       "  </tbody>\n",
       "</table><p>"
      ],
      "text/plain": [
       "<IPython.core.display.HTML object>"
      ]
     },
     "metadata": {},
     "output_type": "display_data"
    },
    {
     "data": {
      "text/plain": [
       "TrainOutput(global_step=762, training_loss=0.11245356707435268, metrics={'train_runtime': 153.5254, 'train_samples_per_second': 39.629, 'train_steps_per_second': 4.963, 'total_flos': 173094470476488.0, 'train_loss': 0.11245356707435268, 'epoch': 6.0})"
      ]
     },
     "execution_count": 68,
     "metadata": {},
     "output_type": "execute_result"
    }
   ],
   "source": [
    "trainer = Trainer(\n",
    "    model=model,\n",
    "    args=training_args,\n",
    "    train_dataset=tokenized_datasets[\"train\"],\n",
    "    eval_dataset=tokenized_datasets[\"test\"],\n",
    "    data_collator=data_collator, ### the only difference from previous section\n",
    "    compute_metrics=compute_metrics,\n",
    "    tokenizer=tokenizer,\n",
    ")\n",
    "trainer.train()"
   ]
  },
  {
   "cell_type": "code",
   "execution_count": 69,
   "id": "iTHeQMVDrBhX",
   "metadata": {
    "id": "iTHeQMVDrBhX"
   },
   "outputs": [],
   "source": [
    "trainer.save_model('my_saved_model')"
   ]
  },
  {
   "cell_type": "markdown",
   "id": "L45rlhAA00FY",
   "metadata": {
    "id": "L45rlhAA00FY"
   },
   "source": [
    "### Building Pipeline and Testing the Model\n",
    "Notice that I name this first pipeline pipe_none, referring to the fact that I did not choose any aggregation strategy and I will receive the predictions for subword units.\n",
    "\n",
    "Let's see how this model will perform on the train and validation sets."
   ]
  },
  {
   "cell_type": "code",
   "execution_count": 70,
   "id": "hDdH8szK24gc",
   "metadata": {
    "id": "hDdH8szK24gc"
   },
   "outputs": [],
   "source": [
    "pipe_none = pipeline(\n",
    "  \"token-classification\",\n",
    "  model='my_saved_model',\n",
    "  device=0,\n",
    ")"
   ]
  },
  {
   "cell_type": "code",
   "execution_count": 71,
   "id": "1BMMpP4x04ts",
   "metadata": {
    "id": "1BMMpP4x04ts"
   },
   "outputs": [],
   "source": [
    "def flatten(list_of_lists):\n",
    "  flattened = [item for sublist in list_of_lists for item in sublist]\n",
    "  return flattened\n"
   ]
  },
  {
   "cell_type": "markdown",
   "id": "JqPsu4H20TuY",
   "metadata": {
    "id": "JqPsu4H20TuY"
   },
   "source": [
    "We know that our inputs are tags are normally formatted as list of lists, where each sublist in the main list corresponds to input sentences and each item in the sublist corresponds to tokens.\n",
    "\n",
    "To evaluate the performance metrics, I will define a flatten function that would convert these nested lists into a single list. And then I will apply the metrics defined above to assess model performances.\n",
    "\n",
    "### Attention:\n",
    "Note that there is a degree of naivety with this approach. For each metric, it takes into account the number of False Positives, False Negatives, True Positives and True Negatives in the sample, and returns us accuracy, f1, precision and recall scores.\n",
    "\n",
    "This approach relies on the assumption that the predictions on the labels assigned to the tokens are independent from each other and thus can reflect the model performance. However, this is rarely the case, since the model's prediction of a previous token likely to affect its prediction on the next token, this might especially be case for the subword tokens belonging to the same word. Therefore, in reality, predictions can be interdependent and chaning one can lead the model to change several others too.\n",
    "\n",
    "But for the sake of simplicity, I will neglect this bias in the performance metrics and take them as an acceptable indicator of the performance."
   ]
  },
  {
   "cell_type": "code",
   "execution_count": 72,
   "id": "IJ0v8Ct1rTKL",
   "metadata": {
    "colab": {
     "base_uri": "https://localhost:8080/"
    },
    "id": "IJ0v8Ct1rTKL",
    "outputId": "3668f943-2155-4e44-e891-dbb66a86c5e6"
   },
   "outputs": [
    {
     "data": {
      "text/plain": [
       "[[{'entity': 'OTHER',\n",
       "   'score': 0.99949443,\n",
       "   'index': 1,\n",
       "   'word': 'lütfen',\n",
       "   'start': 0,\n",
       "   'end': 6}],\n",
       " [{'entity': 'OTHER',\n",
       "   'score': 0.99755704,\n",
       "   'index': 1,\n",
       "   'word': 'yardım',\n",
       "   'start': 0,\n",
       "   'end': 6}],\n",
       " [{'entity': 'OTHER',\n",
       "   'score': 0.9512494,\n",
       "   'index': 1,\n",
       "   'word': 'edin',\n",
       "   'start': 0,\n",
       "   'end': 4}],\n",
       " [{'entity': 'B-PER',\n",
       "   'score': 0.99242413,\n",
       "   'index': 1,\n",
       "   'word': 'BİL',\n",
       "   'start': 0,\n",
       "   'end': 3},\n",
       "  {'entity': 'I-PER',\n",
       "   'score': 0.99730504,\n",
       "   'index': 2,\n",
       "   'word': '##AL',\n",
       "   'start': 3,\n",
       "   'end': 5}],\n",
       " [{'entity': 'B-PER',\n",
       "   'score': 0.9064579,\n",
       "   'index': 1,\n",
       "   'word': 'YILMAZ',\n",
       "   'start': 0,\n",
       "   'end': 6},\n",
       "  {'entity': 'I-PER',\n",
       "   'score': 0.9753887,\n",
       "   'index': 2,\n",
       "   'word': '##LAR',\n",
       "   'start': 6,\n",
       "   'end': 9}],\n",
       " [{'entity': 'OTHER',\n",
       "   'score': 0.7589782,\n",
       "   'index': 1,\n",
       "   'word': 'VE',\n",
       "   'start': 0,\n",
       "   'end': 2}],\n",
       " [{'entity': 'OTHER',\n",
       "   'score': 0.9997892,\n",
       "   'index': 1,\n",
       "   'word': 'BA',\n",
       "   'start': 0,\n",
       "   'end': 2},\n",
       "  {'entity': 'OTHER',\n",
       "   'score': 0.9998229,\n",
       "   'index': 2,\n",
       "   'word': '##BA',\n",
       "   'start': 2,\n",
       "   'end': 4},\n",
       "  {'entity': 'OTHER',\n",
       "   'score': 0.99930155,\n",
       "   'index': 3,\n",
       "   'word': '##SI',\n",
       "   'start': 4,\n",
       "   'end': 6}],\n",
       " [{'entity': 'B-PER',\n",
       "   'score': 0.9795807,\n",
       "   'index': 1,\n",
       "   'word': 'SEL',\n",
       "   'start': 0,\n",
       "   'end': 3},\n",
       "  {'entity': 'I-PER',\n",
       "   'score': 0.9982451,\n",
       "   'index': 2,\n",
       "   'word': '##İM',\n",
       "   'start': 3,\n",
       "   'end': 5}],\n",
       " [{'entity': 'B-PER',\n",
       "   'score': 0.9064579,\n",
       "   'index': 1,\n",
       "   'word': 'YILMAZ',\n",
       "   'start': 0,\n",
       "   'end': 6},\n",
       "  {'entity': 'I-PER',\n",
       "   'score': 0.9753887,\n",
       "   'index': 2,\n",
       "   'word': '##LAR',\n",
       "   'start': 6,\n",
       "   'end': 9}],\n",
       " [{'entity': 'OTHER',\n",
       "   'score': 0.92808247,\n",
       "   'index': 1,\n",
       "   'word': 'şuan',\n",
       "   'start': 0,\n",
       "   'end': 4}],\n",
       " [{'entity': 'OTHER',\n",
       "   'score': 0.6878467,\n",
       "   'index': 1,\n",
       "   'word': 'enkaz',\n",
       "   'start': 0,\n",
       "   'end': 5}],\n",
       " [{'entity': 'OTHER',\n",
       "   'score': 0.83870524,\n",
       "   'index': 1,\n",
       "   'word': 'altında',\n",
       "   'start': 0,\n",
       "   'end': 7},\n",
       "  {'entity': 'I-CITY',\n",
       "   'score': 0.7314578,\n",
       "   'index': 2,\n",
       "   'word': '##lar',\n",
       "   'start': 7,\n",
       "   'end': 10}],\n",
       " [{'entity': 'OTHER',\n",
       "   'score': 0.99949443,\n",
       "   'index': 1,\n",
       "   'word': 'lütfen',\n",
       "   'start': 0,\n",
       "   'end': 6}],\n",
       " [{'entity': 'OTHER',\n",
       "   'score': 0.9998529,\n",
       "   'index': 1,\n",
       "   'word': 'yalvar',\n",
       "   'start': 0,\n",
       "   'end': 6},\n",
       "  {'entity': 'OTHER',\n",
       "   'score': 0.99977916,\n",
       "   'index': 2,\n",
       "   'word': '##ırım',\n",
       "   'start': 6,\n",
       "   'end': 10}],\n",
       " [{'entity': 'B-CITY',\n",
       "   'score': 0.9984816,\n",
       "   'index': 1,\n",
       "   'word': 'HAT',\n",
       "   'start': 0,\n",
       "   'end': 3},\n",
       "  {'entity': 'I-CITY',\n",
       "   'score': 0.9981981,\n",
       "   'index': 2,\n",
       "   'word': '##AY',\n",
       "   'start': 3,\n",
       "   'end': 5}],\n",
       " [{'entity': 'B-ADDR',\n",
       "   'score': 0.99654144,\n",
       "   'index': 1,\n",
       "   'word': 'AN',\n",
       "   'start': 0,\n",
       "   'end': 2},\n",
       "  {'entity': 'I-ADDR',\n",
       "   'score': 0.9974285,\n",
       "   'index': 2,\n",
       "   'word': '##TA',\n",
       "   'start': 2,\n",
       "   'end': 4},\n",
       "  {'entity': 'I-ADDR',\n",
       "   'score': 0.9986797,\n",
       "   'index': 3,\n",
       "   'word': '##K',\n",
       "   'start': 4,\n",
       "   'end': 5},\n",
       "  {'entity': 'I-ADDR',\n",
       "   'score': 0.99875736,\n",
       "   'index': 4,\n",
       "   'word': '##YA',\n",
       "   'start': 5,\n",
       "   'end': 7}],\n",
       " [{'entity': 'B-CITY',\n",
       "   'score': 0.996829,\n",
       "   'index': 1,\n",
       "   'word': 'Hatay',\n",
       "   'start': 0,\n",
       "   'end': 5}],\n",
       " [{'entity': 'B-ADDR',\n",
       "   'score': 0.93176216,\n",
       "   'index': 1,\n",
       "   'word': 'ant',\n",
       "   'start': 0,\n",
       "   'end': 3},\n",
       "  {'entity': 'I-ADDR',\n",
       "   'score': 0.94793105,\n",
       "   'index': 2,\n",
       "   'word': '##ak',\n",
       "   'start': 3,\n",
       "   'end': 5},\n",
       "  {'entity': 'I-ADDR',\n",
       "   'score': 0.9707257,\n",
       "   'index': 3,\n",
       "   'word': '##ya',\n",
       "   'start': 5,\n",
       "   'end': 7}],\n",
       " [{'entity': 'OTHER',\n",
       "   'score': 0.96007353,\n",
       "   'index': 1,\n",
       "   'word': 'rön',\n",
       "   'start': 0,\n",
       "   'end': 3},\n",
       "  {'entity': 'OTHER',\n",
       "   'score': 0.89752185,\n",
       "   'index': 2,\n",
       "   'word': '##esans',\n",
       "   'start': 3,\n",
       "   'end': 8}],\n",
       " [{'entity': 'B-ADDR',\n",
       "   'score': 0.9920366,\n",
       "   'index': 1,\n",
       "   'word': 'rez',\n",
       "   'start': 0,\n",
       "   'end': 3},\n",
       "  {'entity': 'I-ADDR',\n",
       "   'score': 0.99145716,\n",
       "   'index': 2,\n",
       "   'word': '##idan',\n",
       "   'start': 3,\n",
       "   'end': 7},\n",
       "  {'entity': 'I-ADDR',\n",
       "   'score': 0.9954457,\n",
       "   'index': 3,\n",
       "   'word': '##s',\n",
       "   'start': 7,\n",
       "   'end': 8}]]"
      ]
     },
     "execution_count": 72,
     "metadata": {},
     "output_type": "execute_result"
    }
   ],
   "source": [
    "val_pred_none = pipe_none(flatten(data['test']['inputs']))\n",
    "train_pred_none = pipe_none(flatten(data['train']['inputs']))\n",
    "val_pred_none[:20]"
   ]
  },
  {
   "cell_type": "code",
   "execution_count": 73,
   "id": "xem_uDBVBA0s",
   "metadata": {
    "colab": {
     "base_uri": "https://localhost:8080/"
    },
    "id": "xem_uDBVBA0s",
    "outputId": "5c0b3432-a217-4988-adbb-18501c6619b0"
   },
   "outputs": [
    {
     "name": "stdout",
     "output_type": "stream",
     "text": [
      "The number of the NER tags in the training set: 29566\n",
      "The number of the NER tags in the validation set: 10105\n"
     ]
    }
   ],
   "source": [
    "target_tags_val = flatten(tokenized_datasets[\"test\"]['labels'])\n",
    "target_tags_train = flatten(tokenized_datasets[\"train\"]['labels'])\n",
    "print(\"The number of the NER tags in the training set:\", len(target_tags_train))\n",
    "print(\"The number of the NER tags in the validation set:\", len(target_tags_val))"
   ]
  },
  {
   "cell_type": "markdown",
   "id": "KtSBjYz31EUN",
   "metadata": {
    "id": "KtSBjYz31EUN"
   },
   "source": [
    "Remember that we had inserted the tags for CLS and SEP tokens in order to be able to train the model, yet these are not present in the predictions the model returns nor do we want them to be as we don't want them to bias our performance metrics. So let's drop tags -100 from our actual targets."
   ]
  },
  {
   "cell_type": "code",
   "execution_count": 74,
   "id": "ZJ2vuwwloQ31",
   "metadata": {
    "colab": {
     "base_uri": "https://localhost:8080/"
    },
    "id": "ZJ2vuwwloQ31",
    "outputId": "0f8186de-c4e7-45cf-e010-4c6f46a840ac"
   },
   "outputs": [
    {
     "name": "stdout",
     "output_type": "stream",
     "text": [
      "The number of -100 tags we inserted in the training set: 2028\n",
      "The number of -100 tags we inserted in the validation set: 676\n"
     ]
    }
   ],
   "source": [
    "print(\"The number of -100 tags we inserted in the training set:\", target_tags_train.count(-100))\n",
    "print(\"The number of -100 tags we inserted in the validation set:\", target_tags_val.count(-100))\n"
   ]
  },
  {
   "cell_type": "code",
   "execution_count": 75,
   "id": "8863ofZiPnXt",
   "metadata": {
    "colab": {
     "base_uri": "https://localhost:8080/"
    },
    "id": "8863ofZiPnXt",
    "outputId": "f28034bf-7cff-4554-8223-9ad6f9baf188"
   },
   "outputs": [
    {
     "name": "stdout",
     "output_type": "stream",
     "text": [
      "New number of the NER tags in the training set: 27538\n",
      "New number of the NER tags in the validation set: 9429\n"
     ]
    }
   ],
   "source": [
    "targ_train_labels = [x for x in target_tags_train if x != -100]\n",
    "targ_val_labels = [x for x in target_tags_val if x != -100]\n",
    "print(\"New number of the NER tags in the training set:\", len(targ_train_labels))\n",
    "print(\"New number of the NER tags in the validation set:\", len(targ_val_labels))\n"
   ]
  },
  {
   "cell_type": "markdown",
   "id": "_QUBti_r1RlP",
   "metadata": {
    "id": "_QUBti_r1RlP"
   },
   "source": [
    "We have confirmed that the length of targets and predictions match both for train and valdiation set. Now let's check out the metric scores."
   ]
  },
  {
   "cell_type": "code",
   "execution_count": 76,
   "id": "Dm3QrP7r6TSI",
   "metadata": {
    "colab": {
     "base_uri": "https://localhost:8080/"
    },
    "id": "Dm3QrP7r6TSI",
    "outputId": "ac985faa-504d-47cd-cea5-92885c861a7c"
   },
   "outputs": [
    {
     "name": "stdout",
     "output_type": "stream",
     "text": [
      "The number of predicted labels for the training set: 27538\n",
      "The number of predicted labels for the validation set: 9429\n"
     ]
    }
   ],
   "source": [
    "pred_labels_train = []\n",
    "for item in train_pred_none:\n",
    "  for j in item:\n",
    "    pred_labels_train.append(label2id[j['entity']])\n",
    "\n",
    "pred_labels_val = []\n",
    "for item in val_pred_none:\n",
    "  for j in item:\n",
    "    pred_labels_val.append(label2id[j['entity']])\n",
    "\n",
    "print(\"The number of predicted labels for the training set:\", len(pred_labels_train))\n",
    "print(\"The number of predicted labels for the validation set:\", len(pred_labels_val))"
   ]
  },
  {
   "cell_type": "code",
   "execution_count": 77,
   "id": "Dvf6GvP60Q_G",
   "metadata": {
    "colab": {
     "base_uri": "https://localhost:8080/"
    },
    "id": "Dvf6GvP60Q_G",
    "outputId": "cfdc68a3-ca10-4820-feab-78e588793747"
   },
   "outputs": [
    {
     "name": "stdout",
     "output_type": "stream",
     "text": [
      "train_accuracy: 0.7318977413029268\n",
      "train_f1: 0.6415339351175782\n",
      "val_accuracy: 0.7275426874536006\n",
      "val_f1: 0.6263596572807624\n"
     ]
    }
   ],
   "source": [
    "print(\"train_accuracy:\", accuracy_score(targ_train_labels, pred_labels_train))\n",
    "print(\"train_f1:\", f1_score(targ_train_labels, pred_labels_train, average='macro'))\n",
    "\n",
    "print(\"val_accuracy:\", accuracy_score(targ_val_labels, pred_labels_val))\n",
    "print(\"val_f1:\", f1_score(targ_val_labels, pred_labels_val, average='macro'))\n"
   ]
  },
  {
   "cell_type": "markdown",
   "id": "8rxgyrQe1b8A",
   "metadata": {
    "id": "8rxgyrQe1b8A"
   },
   "source": [
    "Let's visualize the precision and recall scores for each label in a table.\n"
   ]
  },
  {
   "cell_type": "code",
   "execution_count": 78,
   "id": "4PJ7Q4KJj8hU",
   "metadata": {
    "colab": {
     "base_uri": "https://localhost:8080/",
     "height": 286
    },
    "id": "4PJ7Q4KJj8hU",
    "outputId": "213a0a25-a163-42ed-f56f-f8bd96de39ce"
   },
   "outputs": [
    {
     "name": "stdout",
     "output_type": "stream",
     "text": [
      "Train Set Precision and Recall\n"
     ]
    },
    {
     "data": {
      "text/html": [
       "\n",
       "  <div id=\"df-5a82df0d-68d3-401c-8f80-b611e2f180c2\" class=\"colab-df-container\">\n",
       "    <div>\n",
       "<style scoped>\n",
       "    .dataframe tbody tr th:only-of-type {\n",
       "        vertical-align: middle;\n",
       "    }\n",
       "\n",
       "    .dataframe tbody tr th {\n",
       "        vertical-align: top;\n",
       "    }\n",
       "\n",
       "    .dataframe thead th {\n",
       "        text-align: right;\n",
       "    }\n",
       "</style>\n",
       "<table border=\"1\" class=\"dataframe\">\n",
       "  <thead>\n",
       "    <tr style=\"text-align: right;\">\n",
       "      <th></th>\n",
       "      <th>tags</th>\n",
       "      <th>precision</th>\n",
       "      <th>recall</th>\n",
       "    </tr>\n",
       "  </thead>\n",
       "  <tbody>\n",
       "    <tr>\n",
       "      <th>0</th>\n",
       "      <td>OTHER</td>\n",
       "      <td>0.834399</td>\n",
       "      <td>0.913832</td>\n",
       "    </tr>\n",
       "    <tr>\n",
       "      <th>1</th>\n",
       "      <td>B-PER</td>\n",
       "      <td>0.292752</td>\n",
       "      <td>0.930142</td>\n",
       "    </tr>\n",
       "    <tr>\n",
       "      <th>2</th>\n",
       "      <td>I-PER</td>\n",
       "      <td>0.519984</td>\n",
       "      <td>0.551948</td>\n",
       "    </tr>\n",
       "    <tr>\n",
       "      <th>3</th>\n",
       "      <td>B-CITY</td>\n",
       "      <td>0.700967</td>\n",
       "      <td>0.985167</td>\n",
       "    </tr>\n",
       "    <tr>\n",
       "      <th>4</th>\n",
       "      <td>I-CITY</td>\n",
       "      <td>0.602057</td>\n",
       "      <td>0.952441</td>\n",
       "    </tr>\n",
       "    <tr>\n",
       "      <th>5</th>\n",
       "      <td>B-ADDR</td>\n",
       "      <td>0.380348</td>\n",
       "      <td>0.553502</td>\n",
       "    </tr>\n",
       "    <tr>\n",
       "      <th>6</th>\n",
       "      <td>I-ADDR</td>\n",
       "      <td>0.920866</td>\n",
       "      <td>0.478600</td>\n",
       "    </tr>\n",
       "  </tbody>\n",
       "</table>\n",
       "</div>\n",
       "    <div class=\"colab-df-buttons\">\n",
       "\n",
       "  <div class=\"colab-df-container\">\n",
       "    <button class=\"colab-df-convert\" onclick=\"convertToInteractive('df-5a82df0d-68d3-401c-8f80-b611e2f180c2')\"\n",
       "            title=\"Convert this dataframe to an interactive table.\"\n",
       "            style=\"display:none;\">\n",
       "\n",
       "  <svg xmlns=\"http://www.w3.org/2000/svg\" height=\"24px\" viewBox=\"0 -960 960 960\">\n",
       "    <path d=\"M120-120v-720h720v720H120Zm60-500h600v-160H180v160Zm220 220h160v-160H400v160Zm0 220h160v-160H400v160ZM180-400h160v-160H180v160Zm440 0h160v-160H620v160ZM180-180h160v-160H180v160Zm440 0h160v-160H620v160Z\"/>\n",
       "  </svg>\n",
       "    </button>\n",
       "\n",
       "  <style>\n",
       "    .colab-df-container {\n",
       "      display:flex;\n",
       "      gap: 12px;\n",
       "    }\n",
       "\n",
       "    .colab-df-convert {\n",
       "      background-color: #E8F0FE;\n",
       "      border: none;\n",
       "      border-radius: 50%;\n",
       "      cursor: pointer;\n",
       "      display: none;\n",
       "      fill: #1967D2;\n",
       "      height: 32px;\n",
       "      padding: 0 0 0 0;\n",
       "      width: 32px;\n",
       "    }\n",
       "\n",
       "    .colab-df-convert:hover {\n",
       "      background-color: #E2EBFA;\n",
       "      box-shadow: 0px 1px 2px rgba(60, 64, 67, 0.3), 0px 1px 3px 1px rgba(60, 64, 67, 0.15);\n",
       "      fill: #174EA6;\n",
       "    }\n",
       "\n",
       "    .colab-df-buttons div {\n",
       "      margin-bottom: 4px;\n",
       "    }\n",
       "\n",
       "    [theme=dark] .colab-df-convert {\n",
       "      background-color: #3B4455;\n",
       "      fill: #D2E3FC;\n",
       "    }\n",
       "\n",
       "    [theme=dark] .colab-df-convert:hover {\n",
       "      background-color: #434B5C;\n",
       "      box-shadow: 0px 1px 3px 1px rgba(0, 0, 0, 0.15);\n",
       "      filter: drop-shadow(0px 1px 2px rgba(0, 0, 0, 0.3));\n",
       "      fill: #FFFFFF;\n",
       "    }\n",
       "  </style>\n",
       "\n",
       "    <script>\n",
       "      const buttonEl =\n",
       "        document.querySelector('#df-5a82df0d-68d3-401c-8f80-b611e2f180c2 button.colab-df-convert');\n",
       "      buttonEl.style.display =\n",
       "        google.colab.kernel.accessAllowed ? 'block' : 'none';\n",
       "\n",
       "      async function convertToInteractive(key) {\n",
       "        const element = document.querySelector('#df-5a82df0d-68d3-401c-8f80-b611e2f180c2');\n",
       "        const dataTable =\n",
       "          await google.colab.kernel.invokeFunction('convertToInteractive',\n",
       "                                                    [key], {});\n",
       "        if (!dataTable) return;\n",
       "\n",
       "        const docLinkHtml = 'Like what you see? Visit the ' +\n",
       "          '<a target=\"_blank\" href=https://colab.research.google.com/notebooks/data_table.ipynb>data table notebook</a>'\n",
       "          + ' to learn more about interactive tables.';\n",
       "        element.innerHTML = '';\n",
       "        dataTable['output_type'] = 'display_data';\n",
       "        await google.colab.output.renderOutput(dataTable, element);\n",
       "        const docLink = document.createElement('div');\n",
       "        docLink.innerHTML = docLinkHtml;\n",
       "        element.appendChild(docLink);\n",
       "      }\n",
       "    </script>\n",
       "  </div>\n",
       "\n",
       "\n",
       "<div id=\"df-555944ed-b339-4c97-a8c1-aa5a8921ac91\">\n",
       "  <button class=\"colab-df-quickchart\" onclick=\"quickchart('df-555944ed-b339-4c97-a8c1-aa5a8921ac91')\"\n",
       "            title=\"Suggest charts\"\n",
       "            style=\"display:none;\">\n",
       "\n",
       "<svg xmlns=\"http://www.w3.org/2000/svg\" height=\"24px\"viewBox=\"0 0 24 24\"\n",
       "     width=\"24px\">\n",
       "    <g>\n",
       "        <path d=\"M19 3H5c-1.1 0-2 .9-2 2v14c0 1.1.9 2 2 2h14c1.1 0 2-.9 2-2V5c0-1.1-.9-2-2-2zM9 17H7v-7h2v7zm4 0h-2V7h2v10zm4 0h-2v-4h2v4z\"/>\n",
       "    </g>\n",
       "</svg>\n",
       "  </button>\n",
       "\n",
       "<style>\n",
       "  .colab-df-quickchart {\n",
       "      --bg-color: #E8F0FE;\n",
       "      --fill-color: #1967D2;\n",
       "      --hover-bg-color: #E2EBFA;\n",
       "      --hover-fill-color: #174EA6;\n",
       "      --disabled-fill-color: #AAA;\n",
       "      --disabled-bg-color: #DDD;\n",
       "  }\n",
       "\n",
       "  [theme=dark] .colab-df-quickchart {\n",
       "      --bg-color: #3B4455;\n",
       "      --fill-color: #D2E3FC;\n",
       "      --hover-bg-color: #434B5C;\n",
       "      --hover-fill-color: #FFFFFF;\n",
       "      --disabled-bg-color: #3B4455;\n",
       "      --disabled-fill-color: #666;\n",
       "  }\n",
       "\n",
       "  .colab-df-quickchart {\n",
       "    background-color: var(--bg-color);\n",
       "    border: none;\n",
       "    border-radius: 50%;\n",
       "    cursor: pointer;\n",
       "    display: none;\n",
       "    fill: var(--fill-color);\n",
       "    height: 32px;\n",
       "    padding: 0;\n",
       "    width: 32px;\n",
       "  }\n",
       "\n",
       "  .colab-df-quickchart:hover {\n",
       "    background-color: var(--hover-bg-color);\n",
       "    box-shadow: 0 1px 2px rgba(60, 64, 67, 0.3), 0 1px 3px 1px rgba(60, 64, 67, 0.15);\n",
       "    fill: var(--button-hover-fill-color);\n",
       "  }\n",
       "\n",
       "  .colab-df-quickchart-complete:disabled,\n",
       "  .colab-df-quickchart-complete:disabled:hover {\n",
       "    background-color: var(--disabled-bg-color);\n",
       "    fill: var(--disabled-fill-color);\n",
       "    box-shadow: none;\n",
       "  }\n",
       "\n",
       "  .colab-df-spinner {\n",
       "    border: 2px solid var(--fill-color);\n",
       "    border-color: transparent;\n",
       "    border-bottom-color: var(--fill-color);\n",
       "    animation:\n",
       "      spin 1s steps(1) infinite;\n",
       "  }\n",
       "\n",
       "  @keyframes spin {\n",
       "    0% {\n",
       "      border-color: transparent;\n",
       "      border-bottom-color: var(--fill-color);\n",
       "      border-left-color: var(--fill-color);\n",
       "    }\n",
       "    20% {\n",
       "      border-color: transparent;\n",
       "      border-left-color: var(--fill-color);\n",
       "      border-top-color: var(--fill-color);\n",
       "    }\n",
       "    30% {\n",
       "      border-color: transparent;\n",
       "      border-left-color: var(--fill-color);\n",
       "      border-top-color: var(--fill-color);\n",
       "      border-right-color: var(--fill-color);\n",
       "    }\n",
       "    40% {\n",
       "      border-color: transparent;\n",
       "      border-right-color: var(--fill-color);\n",
       "      border-top-color: var(--fill-color);\n",
       "    }\n",
       "    60% {\n",
       "      border-color: transparent;\n",
       "      border-right-color: var(--fill-color);\n",
       "    }\n",
       "    80% {\n",
       "      border-color: transparent;\n",
       "      border-right-color: var(--fill-color);\n",
       "      border-bottom-color: var(--fill-color);\n",
       "    }\n",
       "    90% {\n",
       "      border-color: transparent;\n",
       "      border-bottom-color: var(--fill-color);\n",
       "    }\n",
       "  }\n",
       "</style>\n",
       "\n",
       "  <script>\n",
       "    async function quickchart(key) {\n",
       "      const quickchartButtonEl =\n",
       "        document.querySelector('#' + key + ' button');\n",
       "      quickchartButtonEl.disabled = true;  // To prevent multiple clicks.\n",
       "      quickchartButtonEl.classList.add('colab-df-spinner');\n",
       "      try {\n",
       "        const charts = await google.colab.kernel.invokeFunction(\n",
       "            'suggestCharts', [key], {});\n",
       "      } catch (error) {\n",
       "        console.error('Error during call to suggestCharts:', error);\n",
       "      }\n",
       "      quickchartButtonEl.classList.remove('colab-df-spinner');\n",
       "      quickchartButtonEl.classList.add('colab-df-quickchart-complete');\n",
       "    }\n",
       "    (() => {\n",
       "      let quickchartButtonEl =\n",
       "        document.querySelector('#df-555944ed-b339-4c97-a8c1-aa5a8921ac91 button');\n",
       "      quickchartButtonEl.style.display =\n",
       "        google.colab.kernel.accessAllowed ? 'block' : 'none';\n",
       "    })();\n",
       "  </script>\n",
       "</div>\n",
       "    </div>\n",
       "  </div>\n"
      ],
      "text/plain": [
       "     tags  precision    recall\n",
       "0   OTHER   0.834399  0.913832\n",
       "1   B-PER   0.292752  0.930142\n",
       "2   I-PER   0.519984  0.551948\n",
       "3  B-CITY   0.700967  0.985167\n",
       "4  I-CITY   0.602057  0.952441\n",
       "5  B-ADDR   0.380348  0.553502\n",
       "6  I-ADDR   0.920866  0.478600"
      ]
     },
     "execution_count": 78,
     "metadata": {},
     "output_type": "execute_result"
    }
   ],
   "source": [
    "print(\"Train Set Precision and Recall\")\n",
    "pd.concat([pd.Series(id2label.values()),\n",
    "          pd.Series(precision_score(targ_train_labels, pred_labels_train, average=None)),\n",
    "          pd.Series(recall_score(targ_train_labels, pred_labels_train, average=None))], keys = ['tags', 'precision', 'recall'], axis=1)\n"
   ]
  },
  {
   "cell_type": "code",
   "execution_count": 79,
   "id": "4DrYZfY0x_Sa",
   "metadata": {
    "colab": {
     "base_uri": "https://localhost:8080/",
     "height": 286
    },
    "id": "4DrYZfY0x_Sa",
    "outputId": "7345e8e1-b0c0-41f2-dea7-7b8b2c31f29a"
   },
   "outputs": [
    {
     "name": "stdout",
     "output_type": "stream",
     "text": [
      "Validation Set Precision and Recall\n"
     ]
    },
    {
     "data": {
      "text/html": [
       "\n",
       "  <div id=\"df-bf929d49-f02b-47a1-b967-2c4b9b907fb0\" class=\"colab-df-container\">\n",
       "    <div>\n",
       "<style scoped>\n",
       "    .dataframe tbody tr th:only-of-type {\n",
       "        vertical-align: middle;\n",
       "    }\n",
       "\n",
       "    .dataframe tbody tr th {\n",
       "        vertical-align: top;\n",
       "    }\n",
       "\n",
       "    .dataframe thead th {\n",
       "        text-align: right;\n",
       "    }\n",
       "</style>\n",
       "<table border=\"1\" class=\"dataframe\">\n",
       "  <thead>\n",
       "    <tr style=\"text-align: right;\">\n",
       "      <th></th>\n",
       "      <th>tags</th>\n",
       "      <th>precision</th>\n",
       "      <th>recall</th>\n",
       "    </tr>\n",
       "  </thead>\n",
       "  <tbody>\n",
       "    <tr>\n",
       "      <th>0</th>\n",
       "      <td>OTHER</td>\n",
       "      <td>0.838856</td>\n",
       "      <td>0.898584</td>\n",
       "    </tr>\n",
       "    <tr>\n",
       "      <th>1</th>\n",
       "      <td>B-PER</td>\n",
       "      <td>0.306122</td>\n",
       "      <td>0.895522</td>\n",
       "    </tr>\n",
       "    <tr>\n",
       "      <th>2</th>\n",
       "      <td>I-PER</td>\n",
       "      <td>0.501940</td>\n",
       "      <td>0.494268</td>\n",
       "    </tr>\n",
       "    <tr>\n",
       "      <th>3</th>\n",
       "      <td>B-CITY</td>\n",
       "      <td>0.679894</td>\n",
       "      <td>0.977186</td>\n",
       "    </tr>\n",
       "    <tr>\n",
       "      <th>4</th>\n",
       "      <td>I-CITY</td>\n",
       "      <td>0.568293</td>\n",
       "      <td>0.913725</td>\n",
       "    </tr>\n",
       "    <tr>\n",
       "      <th>5</th>\n",
       "      <td>B-ADDR</td>\n",
       "      <td>0.383877</td>\n",
       "      <td>0.557103</td>\n",
       "    </tr>\n",
       "    <tr>\n",
       "      <th>6</th>\n",
       "      <td>I-ADDR</td>\n",
       "      <td>0.863362</td>\n",
       "      <td>0.466016</td>\n",
       "    </tr>\n",
       "  </tbody>\n",
       "</table>\n",
       "</div>\n",
       "    <div class=\"colab-df-buttons\">\n",
       "\n",
       "  <div class=\"colab-df-container\">\n",
       "    <button class=\"colab-df-convert\" onclick=\"convertToInteractive('df-bf929d49-f02b-47a1-b967-2c4b9b907fb0')\"\n",
       "            title=\"Convert this dataframe to an interactive table.\"\n",
       "            style=\"display:none;\">\n",
       "\n",
       "  <svg xmlns=\"http://www.w3.org/2000/svg\" height=\"24px\" viewBox=\"0 -960 960 960\">\n",
       "    <path d=\"M120-120v-720h720v720H120Zm60-500h600v-160H180v160Zm220 220h160v-160H400v160Zm0 220h160v-160H400v160ZM180-400h160v-160H180v160Zm440 0h160v-160H620v160ZM180-180h160v-160H180v160Zm440 0h160v-160H620v160Z\"/>\n",
       "  </svg>\n",
       "    </button>\n",
       "\n",
       "  <style>\n",
       "    .colab-df-container {\n",
       "      display:flex;\n",
       "      gap: 12px;\n",
       "    }\n",
       "\n",
       "    .colab-df-convert {\n",
       "      background-color: #E8F0FE;\n",
       "      border: none;\n",
       "      border-radius: 50%;\n",
       "      cursor: pointer;\n",
       "      display: none;\n",
       "      fill: #1967D2;\n",
       "      height: 32px;\n",
       "      padding: 0 0 0 0;\n",
       "      width: 32px;\n",
       "    }\n",
       "\n",
       "    .colab-df-convert:hover {\n",
       "      background-color: #E2EBFA;\n",
       "      box-shadow: 0px 1px 2px rgba(60, 64, 67, 0.3), 0px 1px 3px 1px rgba(60, 64, 67, 0.15);\n",
       "      fill: #174EA6;\n",
       "    }\n",
       "\n",
       "    .colab-df-buttons div {\n",
       "      margin-bottom: 4px;\n",
       "    }\n",
       "\n",
       "    [theme=dark] .colab-df-convert {\n",
       "      background-color: #3B4455;\n",
       "      fill: #D2E3FC;\n",
       "    }\n",
       "\n",
       "    [theme=dark] .colab-df-convert:hover {\n",
       "      background-color: #434B5C;\n",
       "      box-shadow: 0px 1px 3px 1px rgba(0, 0, 0, 0.15);\n",
       "      filter: drop-shadow(0px 1px 2px rgba(0, 0, 0, 0.3));\n",
       "      fill: #FFFFFF;\n",
       "    }\n",
       "  </style>\n",
       "\n",
       "    <script>\n",
       "      const buttonEl =\n",
       "        document.querySelector('#df-bf929d49-f02b-47a1-b967-2c4b9b907fb0 button.colab-df-convert');\n",
       "      buttonEl.style.display =\n",
       "        google.colab.kernel.accessAllowed ? 'block' : 'none';\n",
       "\n",
       "      async function convertToInteractive(key) {\n",
       "        const element = document.querySelector('#df-bf929d49-f02b-47a1-b967-2c4b9b907fb0');\n",
       "        const dataTable =\n",
       "          await google.colab.kernel.invokeFunction('convertToInteractive',\n",
       "                                                    [key], {});\n",
       "        if (!dataTable) return;\n",
       "\n",
       "        const docLinkHtml = 'Like what you see? Visit the ' +\n",
       "          '<a target=\"_blank\" href=https://colab.research.google.com/notebooks/data_table.ipynb>data table notebook</a>'\n",
       "          + ' to learn more about interactive tables.';\n",
       "        element.innerHTML = '';\n",
       "        dataTable['output_type'] = 'display_data';\n",
       "        await google.colab.output.renderOutput(dataTable, element);\n",
       "        const docLink = document.createElement('div');\n",
       "        docLink.innerHTML = docLinkHtml;\n",
       "        element.appendChild(docLink);\n",
       "      }\n",
       "    </script>\n",
       "  </div>\n",
       "\n",
       "\n",
       "<div id=\"df-49be77f6-d089-46b7-a4c5-5269a165fc4f\">\n",
       "  <button class=\"colab-df-quickchart\" onclick=\"quickchart('df-49be77f6-d089-46b7-a4c5-5269a165fc4f')\"\n",
       "            title=\"Suggest charts\"\n",
       "            style=\"display:none;\">\n",
       "\n",
       "<svg xmlns=\"http://www.w3.org/2000/svg\" height=\"24px\"viewBox=\"0 0 24 24\"\n",
       "     width=\"24px\">\n",
       "    <g>\n",
       "        <path d=\"M19 3H5c-1.1 0-2 .9-2 2v14c0 1.1.9 2 2 2h14c1.1 0 2-.9 2-2V5c0-1.1-.9-2-2-2zM9 17H7v-7h2v7zm4 0h-2V7h2v10zm4 0h-2v-4h2v4z\"/>\n",
       "    </g>\n",
       "</svg>\n",
       "  </button>\n",
       "\n",
       "<style>\n",
       "  .colab-df-quickchart {\n",
       "      --bg-color: #E8F0FE;\n",
       "      --fill-color: #1967D2;\n",
       "      --hover-bg-color: #E2EBFA;\n",
       "      --hover-fill-color: #174EA6;\n",
       "      --disabled-fill-color: #AAA;\n",
       "      --disabled-bg-color: #DDD;\n",
       "  }\n",
       "\n",
       "  [theme=dark] .colab-df-quickchart {\n",
       "      --bg-color: #3B4455;\n",
       "      --fill-color: #D2E3FC;\n",
       "      --hover-bg-color: #434B5C;\n",
       "      --hover-fill-color: #FFFFFF;\n",
       "      --disabled-bg-color: #3B4455;\n",
       "      --disabled-fill-color: #666;\n",
       "  }\n",
       "\n",
       "  .colab-df-quickchart {\n",
       "    background-color: var(--bg-color);\n",
       "    border: none;\n",
       "    border-radius: 50%;\n",
       "    cursor: pointer;\n",
       "    display: none;\n",
       "    fill: var(--fill-color);\n",
       "    height: 32px;\n",
       "    padding: 0;\n",
       "    width: 32px;\n",
       "  }\n",
       "\n",
       "  .colab-df-quickchart:hover {\n",
       "    background-color: var(--hover-bg-color);\n",
       "    box-shadow: 0 1px 2px rgba(60, 64, 67, 0.3), 0 1px 3px 1px rgba(60, 64, 67, 0.15);\n",
       "    fill: var(--button-hover-fill-color);\n",
       "  }\n",
       "\n",
       "  .colab-df-quickchart-complete:disabled,\n",
       "  .colab-df-quickchart-complete:disabled:hover {\n",
       "    background-color: var(--disabled-bg-color);\n",
       "    fill: var(--disabled-fill-color);\n",
       "    box-shadow: none;\n",
       "  }\n",
       "\n",
       "  .colab-df-spinner {\n",
       "    border: 2px solid var(--fill-color);\n",
       "    border-color: transparent;\n",
       "    border-bottom-color: var(--fill-color);\n",
       "    animation:\n",
       "      spin 1s steps(1) infinite;\n",
       "  }\n",
       "\n",
       "  @keyframes spin {\n",
       "    0% {\n",
       "      border-color: transparent;\n",
       "      border-bottom-color: var(--fill-color);\n",
       "      border-left-color: var(--fill-color);\n",
       "    }\n",
       "    20% {\n",
       "      border-color: transparent;\n",
       "      border-left-color: var(--fill-color);\n",
       "      border-top-color: var(--fill-color);\n",
       "    }\n",
       "    30% {\n",
       "      border-color: transparent;\n",
       "      border-left-color: var(--fill-color);\n",
       "      border-top-color: var(--fill-color);\n",
       "      border-right-color: var(--fill-color);\n",
       "    }\n",
       "    40% {\n",
       "      border-color: transparent;\n",
       "      border-right-color: var(--fill-color);\n",
       "      border-top-color: var(--fill-color);\n",
       "    }\n",
       "    60% {\n",
       "      border-color: transparent;\n",
       "      border-right-color: var(--fill-color);\n",
       "    }\n",
       "    80% {\n",
       "      border-color: transparent;\n",
       "      border-right-color: var(--fill-color);\n",
       "      border-bottom-color: var(--fill-color);\n",
       "    }\n",
       "    90% {\n",
       "      border-color: transparent;\n",
       "      border-bottom-color: var(--fill-color);\n",
       "    }\n",
       "  }\n",
       "</style>\n",
       "\n",
       "  <script>\n",
       "    async function quickchart(key) {\n",
       "      const quickchartButtonEl =\n",
       "        document.querySelector('#' + key + ' button');\n",
       "      quickchartButtonEl.disabled = true;  // To prevent multiple clicks.\n",
       "      quickchartButtonEl.classList.add('colab-df-spinner');\n",
       "      try {\n",
       "        const charts = await google.colab.kernel.invokeFunction(\n",
       "            'suggestCharts', [key], {});\n",
       "      } catch (error) {\n",
       "        console.error('Error during call to suggestCharts:', error);\n",
       "      }\n",
       "      quickchartButtonEl.classList.remove('colab-df-spinner');\n",
       "      quickchartButtonEl.classList.add('colab-df-quickchart-complete');\n",
       "    }\n",
       "    (() => {\n",
       "      let quickchartButtonEl =\n",
       "        document.querySelector('#df-49be77f6-d089-46b7-a4c5-5269a165fc4f button');\n",
       "      quickchartButtonEl.style.display =\n",
       "        google.colab.kernel.accessAllowed ? 'block' : 'none';\n",
       "    })();\n",
       "  </script>\n",
       "</div>\n",
       "    </div>\n",
       "  </div>\n"
      ],
      "text/plain": [
       "     tags  precision    recall\n",
       "0   OTHER   0.838856  0.898584\n",
       "1   B-PER   0.306122  0.895522\n",
       "2   I-PER   0.501940  0.494268\n",
       "3  B-CITY   0.679894  0.977186\n",
       "4  I-CITY   0.568293  0.913725\n",
       "5  B-ADDR   0.383877  0.557103\n",
       "6  I-ADDR   0.863362  0.466016"
      ]
     },
     "execution_count": 79,
     "metadata": {},
     "output_type": "execute_result"
    }
   ],
   "source": [
    "print(\"Validation Set Precision and Recall\")\n",
    "pd.concat([pd.Series(id2label.values()),\n",
    "          pd.Series(precision_score(targ_val_labels, pred_labels_val, average=None)),\n",
    "          pd.Series(recall_score(targ_val_labels, pred_labels_val, average=None))], keys = ['tags', 'precision', 'recall'], axis=1)\n"
   ]
  },
  {
   "cell_type": "code",
   "execution_count": 93,
   "id": "Ss6b6xE51mL1",
   "metadata": {
    "id": "Ss6b6xE51mL1"
   },
   "outputs": [],
   "source": [
    "classes = ner_tags\n",
    "def plot_cm(ax, cm, title):\n",
    "    df_cm = pd.DataFrame(cm, index=classes, columns=classes)\n",
    "    sns.heatmap(df_cm, annot=True, fmt='.2f', ax = ax, cmap= 'YlGnBu')\n",
    "    ax.set_xlabel(\"Predicted\")\n",
    "    ax.set_ylabel(\"Target\")\n",
    "    ax.set_title(title)"
   ]
  },
  {
   "cell_type": "code",
   "execution_count": 81,
   "id": "j93nC0JR1swq",
   "metadata": {
    "id": "j93nC0JR1swq"
   },
   "outputs": [],
   "source": [
    "P_train = [id2label[x] for x in pred_labels_train ]\n",
    "Y_train = [id2label[x] for x in targ_train_labels ]\n",
    "P_test = [id2label[x] for x in pred_labels_val ]\n",
    "Y_test = [id2label[x] for x in targ_val_labels ]"
   ]
  },
  {
   "cell_type": "code",
   "execution_count": 85,
   "id": "5ozsNM9O1ucR",
   "metadata": {
    "colab": {
     "base_uri": "https://localhost:8080/",
     "height": 407
    },
    "id": "5ozsNM9O1ucR",
    "outputId": "eeacb43c-08e9-4590-b746-8e5e09f0d62e"
   },
   "outputs": [
    {
     "data": {
      "image/png": "[encoded data removed]",
      "text/plain": [
       "<Figure size 900x400 with 4 Axes>"
      ]
     },
     "metadata": {},
     "output_type": "display_data"
    }
   ],
   "source": [
    "cm_train = confusion_matrix(Y_train,P_train, normalize='true')\n",
    "cm_val = confusion_matrix(Y_test,P_test, normalize='true')\n",
    "\n",
    "\n",
    "fig, axes = plt.subplots(1, 2, figsize=(9,4))\n",
    "plot_cm(axes[0], cm_train, title='Confusion Matrix for Train Set')\n",
    "plot_cm(axes[1], cm_val, title='Confusion Matrix for Validation Set')\n",
    "\n",
    "plt.tight_layout()\n",
    "plt.show()"
   ]
  },
  {
   "cell_type": "code",
   "execution_count": 86,
   "id": "Y2ANhKBw5c9l",
   "metadata": {
    "colab": {
     "base_uri": "https://localhost:8080/"
    },
    "id": "Y2ANhKBw5c9l",
    "outputId": "42b69e69-1df4-41ab-fb06-ea0268e8d344"
   },
   "outputs": [
    {
     "data": {
      "text/plain": [
       "{'OTHER': 0, 'PER': 1, 'CITY': 2, 'ADDR': 3}"
      ]
     },
     "execution_count": 86,
     "metadata": {},
     "output_type": "execute_result"
    }
   ],
   "source": [
    "aggr_tags = ['OTHER', 'PER', 'CITY', 'ADDR']\n",
    "id2label_aggr = {k: v for k, v in enumerate(aggr_tags)}\n",
    "label2id_aggr = {v: k for k, v in id2label_aggr.items()}\n",
    "label2id_aggr"
   ]
  },
  {
   "cell_type": "code",
   "execution_count": 87,
   "id": "uKZHCR4JQLDx",
   "metadata": {
    "id": "uKZHCR4JQLDx"
   },
   "outputs": [],
   "source": [
    "aggr_pred_train = []\n",
    "for i in range(len(pred_labels_train)):\n",
    "  if pred_labels_train[i] == 0:\n",
    "    aggr_pred_train.append(0)\n",
    "  else:\n",
    "    tag = id2label[pred_labels_train[i]][2:]\n",
    "    aggr_pred_train.append(aggr_tags.index(tag))\n",
    "\n",
    "aggr_pred_val = []\n",
    "for i in range(len(pred_labels_val)):\n",
    "  if pred_labels_val[i] == 0:\n",
    "    aggr_pred_val.append(0)\n",
    "  else:\n",
    "    tag = id2label[pred_labels_val[i]][2:]\n",
    "    aggr_pred_val.append(aggr_tags.index(tag))\n"
   ]
  },
  {
   "cell_type": "code",
   "execution_count": 89,
   "id": "vI8Rv9sJlAeR",
   "metadata": {
    "id": "vI8Rv9sJlAeR"
   },
   "outputs": [],
   "source": [
    "aggr_target_train = []\n",
    "for i in range(len(targ_train_labels)):\n",
    "  if targ_train_labels[i] == 0:\n",
    "    aggr_target_train.append(0)\n",
    "  else:\n",
    "    tag = id2label[targ_train_labels[i]][2:]\n",
    "    aggr_target_train.append(aggr_tags.index(tag))\n",
    "\n",
    "aggr_target_val = []\n",
    "for i in range(len(targ_val_labels)):\n",
    "  if targ_val_labels[i] == 0:\n",
    "    aggr_target_val.append(0)\n",
    "  else:\n",
    "    tag = id2label[targ_val_labels[i]][2:]\n",
    "    aggr_target_val.append(aggr_tags.index(tag))\n"
   ]
  },
  {
   "cell_type": "code",
   "execution_count": 90,
   "id": "rQohuZu1eN1a",
   "metadata": {
    "colab": {
     "base_uri": "https://localhost:8080/"
    },
    "id": "rQohuZu1eN1a",
    "outputId": "e0e85a4a-3001-4a6e-dd12-dafa4cdf0d36"
   },
   "outputs": [
    {
     "name": "stdout",
     "output_type": "stream",
     "text": [
      "train_accuracy: 0.7767085481879584\n",
      "train_f1: 0.7434247318645726\n",
      "val_accuracy: 0.7682681090253474\n",
      "val_f1: 0.7241261395449156\n"
     ]
    }
   ],
   "source": [
    "print(\"train_accuracy:\", accuracy_score(aggr_target_train, aggr_pred_train))\n",
    "print(\"train_f1:\", f1_score(aggr_target_train, aggr_pred_train, average='macro'))\n",
    "\n",
    "print(\"val_accuracy:\", accuracy_score(aggr_target_val, aggr_pred_val))\n",
    "print(\"val_f1:\", f1_score(aggr_target_val, aggr_pred_val, average='macro'))\n"
   ]
  },
  {
   "cell_type": "code",
   "execution_count": 94,
   "id": "Njf_EBw2eNxL",
   "metadata": {
    "colab": {
     "base_uri": "https://localhost:8080/",
     "height": 407
    },
    "id": "Njf_EBw2eNxL",
    "outputId": "aa33343d-49ef-4adc-d9ac-20e14f09b318"
   },
   "outputs": [
    {
     "data": {
      "image/png": "[encoded data removed]",
      "text/plain": [
       "<Figure size 900x400 with 4 Axes>"
      ]
     },
     "metadata": {},
     "output_type": "display_data"
    }
   ],
   "source": [
    "P_train = [id2label[x] for x in aggr_pred_train ]\n",
    "Y_train = [id2label[x] for x in aggr_target_train ]\n",
    "P_test = [id2label[x] for x in aggr_pred_val ]\n",
    "Y_test = [id2label[x] for x in aggr_target_val]\n",
    "\n",
    "classes=aggr_tags\n",
    "\n",
    "cm_train = confusion_matrix(Y_train,P_train, normalize='true')\n",
    "cm_val = confusion_matrix(Y_test,P_test, normalize='true')\n",
    "\n",
    "\n",
    "fig, axes = plt.subplots(1, 2, figsize=(9,4))\n",
    "plot_cm(axes[0], cm_train, title='Confusion Matrix for Train Set')\n",
    "plot_cm(axes[1], cm_val, title='Confusion Matrix for Validation Set')\n",
    "\n",
    "plt.tight_layout()\n",
    "plt.show()"
   ]
  },
  {
   "cell_type": "code",
   "execution_count": 132,
   "id": "TASFkFD8lJCk",
   "metadata": {
    "id": "TASFkFD8lJCk"
   },
   "outputs": [],
   "source": [
    "join_tweets = []\n",
    "for tweet in data['test']['inputs']:\n",
    "  joined = ' '.join(tweet)\n",
    "  join_tweets.append(joined)\n",
    "\n",
    "predictions = []\n",
    "false_predictions = []\n",
    "\n",
    "for tweet in join_tweets:\n",
    "  result = pipe_none(tweet)\n",
    "  tweet_preds = []\n",
    "  tweet_preds.append(-100)\n",
    "  for token in result:\n",
    "    tweet_preds.append(label2id[token['entity']])\n",
    "  tweet_preds.append(-100)\n",
    "  predictions.append(tweet_preds)\n",
    "\n",
    "  if tweet_preds != tokenized_datasets['test']['labels'][join_tweets.index(tweet)]:\n",
    "    false_predictions.append(tweet)\n"
   ]
  },
  {
   "cell_type": "code",
   "execution_count": 124,
   "id": "rS60OOEW9JtL",
   "metadata": {
    "colab": {
     "base_uri": "https://localhost:8080/"
    },
    "id": "rS60OOEW9JtL",
    "outputId": "12aac62d-276e-479d-d04d-187bfe078f8c"
   },
   "outputs": [
    {
     "name": "stdout",
     "output_type": "stream",
     "text": [
      "The number of false predited tags in the test set is 101\n"
     ]
    }
   ],
   "source": [
    "print(\"The number of false predited tags in the test set is\", len(false_predictions))"
   ]
  },
  {
   "cell_type": "code",
   "execution_count": 133,
   "id": "HMU2W9XT9gH7",
   "metadata": {
    "id": "HMU2W9XT9gH7"
   },
   "outputs": [],
   "source": [
    "false_results = pipe_none(false_predictions)"
   ]
  },
  {
   "cell_type": "code",
   "execution_count": 141,
   "id": "16NauCgr_C-6",
   "metadata": {
    "colab": {
     "base_uri": "https://localhost:8080/"
    },
    "id": "16NauCgr_C-6",
    "outputId": "5727702e-2750-4f40-d249-84759de15538"
   },
   "outputs": [
    {
     "name": "stdout",
     "output_type": "stream",
     "text": [
      "OTHER 53\n",
      "OTHER saat\n",
      "OTHER oldu\n",
      "OTHER V\n",
      "OTHER ##İN\n",
      "OTHER ##Ç\n",
      "OTHER L\n",
      "OTHER ##AZ\n",
      "OTHER ##IM\n",
      "OTHER SE\n",
      "OTHER ##S\n",
      "OTHER VAR\n",
      "OTHER TER\n",
      "OTHER ##MA\n",
      "OTHER ##L\n",
      "OTHER KAM\n",
      "OTHER ##ER\n",
      "OTHER ##A\n",
      "OTHER İLE\n",
      "OTHER TE\n",
      "OTHER ##Y\n",
      "OTHER ##İT\n",
      "OTHER ED\n",
      "OTHER ##İL\n",
      "OTHER ##Dİ\n",
      "B-CITY K\n",
      "I-CITY .\n",
      "I-CITY Kahramanmaraş\n",
      "B-ADDR Dul\n",
      "I-ADDR ##kadir\n",
      "I-ADDR ##oğlu\n",
      "I-ADDR Trabzon\n",
      "I-ADDR Caddesi\n",
      "I-ADDR .\n",
      "I-ADDR şe\n",
      "I-ADDR ##lal\n",
      "OTHER ##e\n",
      "OTHER park\n",
      "OTHER karşı\n",
      "OTHER ##sı\n",
      "B-ADDR Barbaros\n",
      "I-ADDR Apart\n",
      "I-ADDR ##manı\n",
      "I-ADDR .\n",
      "OTHER enkaz\n",
      "OTHER altında\n",
      "B-PER Ayşe\n",
      "I-PER Yiğit\n",
      "B-PER Fatih\n",
      "I-PER Yiğit\n",
      "B-PER Erhan\n",
      "I-PER Yiğit\n"
     ]
    }
   ],
   "source": [
    "N = 3\n",
    "for item in false_results[N]:\n",
    "  print(item['entity'], item['word'])"
   ]
  },
  {
   "cell_type": "code",
   "execution_count": 144,
   "id": "xi66GH36Hl2y",
   "metadata": {
    "colab": {
     "base_uri": "https://localhost:8080/"
    },
    "id": "xi66GH36Hl2y",
    "outputId": "b75e78fa-6325-4872-c34e-cbe0843c2348"
   },
   "outputs": [
    {
     "name": "stdout",
     "output_type": "stream",
     "text": [
      "B-CITY Kahramanmaraş\n",
      "B-ADDR Elma\n",
      "I-ADDR ##lar\n",
      "I-ADDR Köyü\n",
      "OTHER Arkadaş\n",
      "OTHER ##ımızdan\n",
      "OTHER haber\n",
      "OTHER aldık\n",
      "OTHER kendisi\n",
      "OTHER bize\n",
      "OTHER ulaştı\n",
      "OTHER soğu\n",
      "OTHER ##ğa\n",
      "OTHER dayanama\n",
      "OTHER ##dıklarını\n",
      "OTHER söyledi\n",
      "OTHER lütfen\n",
      "OTHER yardım\n",
      "OTHER edin\n",
      "OTHER Hiç\n",
      "OTHER bir\n",
      "OTHER yardım\n",
      "OTHER ekibi\n",
      "OTHER bölgeye\n",
      "OTHER halen\n",
      "OTHER ulaşma\n",
      "OTHER ##dığını\n",
      "OTHER belirtti\n",
      "B-PER Yusuf\n",
      "I-PER Karab\n",
      "I-PER ##ör\n",
      "I-PER ##k\n"
     ]
    }
   ],
   "source": [
    "N = 2\n",
    "for item in false_results[N]:\n",
    "  print(item['entity'], item['word'])"
   ]
  },
  {
   "cell_type": "code",
   "execution_count": 146,
   "id": "yW15YQ2uIVW6",
   "metadata": {
    "colab": {
     "base_uri": "https://localhost:8080/"
    },
    "id": "yW15YQ2uIVW6",
    "outputId": "02e5869d-d619-40d0-dd65-cf63b881ecc8"
   },
   "outputs": [
    {
     "name": "stdout",
     "output_type": "stream",
     "text": [
      "B-PER Burcu\n",
      "I-PER Ünal\n",
      "OTHER sağlık\n",
      "OTHER hizmetleri\n",
      "OTHER meslek\n",
      "OTHER yüksekokul\n",
      "OTHER ##u\n",
      "OTHER radyo\n",
      "OTHER ##terapi\n",
      "OTHER öğrencisi\n",
      "OTHER El\n",
      "I-ADDR ##bistan\n",
      "I-CITY ##day\n",
      "OTHER ##mış\n",
      "OTHER durumu\n",
      "OTHER kötü\n",
      "OTHER ##ym\n",
      "OTHER ##üş\n",
      "OTHER ulaş\n",
      "OTHER ##amıyoruz\n",
      "OTHER ulaşan\n",
      "OTHER var\n",
      "OTHER mı\n",
      "OTHER ?\n",
      "OTHER Bu\n",
      "OTHER numara\n",
      "OTHER ##ya\n",
      "OTHER ilet\n",
      "OTHER ##ebilirsiniz\n",
      "B-PER burcu\n",
      "I-PER ün\n",
      "I-PER ##al\n",
      "I-PER '\n",
      "I-PER dan\n",
      "OTHER haber\n",
      "OTHER aldığınız\n",
      "OTHER ##da\n",
      "OTHER .\n",
      "OTHER 02\n",
      "OTHER ##32\n",
      "OTHER 41\n",
      "OTHER ##2\n",
      "OTHER 14\n",
      "OTHER 11\n"
     ]
    }
   ],
   "source": [
    "N = 90\n",
    "for item in false_results[N]:\n",
    "  print(item['entity'], item['word'])"
   ]
  },
  {
   "cell_type": "code",
   "execution_count": 152,
   "id": "r-FAxaQkfxY0",
   "metadata": {
    "id": "r-FAxaQkfxY0"
   },
   "outputs": [],
   "source": [
    "pipe_first = pipeline(\n",
    "  \"token-classification\",\n",
    "  model='my_saved_model',\n",
    "  aggregation_strategy = \"first\",\n",
    "  device=0,\n",
    ")\n"
   ]
  },
  {
   "cell_type": "code",
   "execution_count": 150,
   "id": "xvWOOAIaxBZW",
   "metadata": {
    "colab": {
     "base_uri": "https://localhost:8080/"
    },
    "id": "xvWOOAIaxBZW",
    "outputId": "0a6f2281-86b4-4e15-84f5-a8e5fb2db242"
   },
   "outputs": [
    {
     "data": {
      "text/plain": [
       "[{'entity_group': 'OTHER',\n",
       "  'score': 0.9999667,\n",
       "  'word': '53 saat oldu VİNÇ LAZIM SES VAR TERMAL KAMERA İLE TEYİT EDİLDİ',\n",
       "  'start': 0,\n",
       "  'end': 62},\n",
       " {'entity_group': 'CITY',\n",
       "  'score': 0.8604784,\n",
       "  'word': 'K. Kahramanmaraş',\n",
       "  'start': 63,\n",
       "  'end': 78},\n",
       " {'entity_group': 'ADDR',\n",
       "  'score': 0.9782299,\n",
       "  'word': 'Dulkadiroğlu Trabzon Caddesi. şelale',\n",
       "  'start': 79,\n",
       "  'end': 115},\n",
       " {'entity_group': 'OTHER',\n",
       "  'score': 0.8524765,\n",
       "  'word': 'park karşısı',\n",
       "  'start': 116,\n",
       "  'end': 128},\n",
       " {'entity_group': 'ADDR',\n",
       "  'score': 0.9900317,\n",
       "  'word': 'Barbaros Apartmanı.',\n",
       "  'start': 129,\n",
       "  'end': 148},\n",
       " {'entity_group': 'OTHER',\n",
       "  'score': 0.9999409,\n",
       "  'word': 'enkaz altında',\n",
       "  'start': 149,\n",
       "  'end': 162},\n",
       " {'entity_group': 'PER',\n",
       "  'score': 0.9959035,\n",
       "  'word': 'Ayşe Yiğit',\n",
       "  'start': 163,\n",
       "  'end': 173},\n",
       " {'entity_group': 'PER',\n",
       "  'score': 0.9971923,\n",
       "  'word': 'Fatih Yiğit',\n",
       "  'start': 174,\n",
       "  'end': 185},\n",
       " {'entity_group': 'PER',\n",
       "  'score': 0.99807143,\n",
       "  'word': 'Erhan Yiğit',\n",
       "  'start': 186,\n",
       "  'end': 197}]"
      ]
     },
     "execution_count": 150,
     "metadata": {},
     "output_type": "execute_result"
    }
   ],
   "source": [
    "pipe_first(false_predictions[3])"
   ]
  },
  {
   "cell_type": "code",
   "execution_count": 153,
   "id": "MZrm8z58k2y5",
   "metadata": {
    "colab": {
     "base_uri": "https://localhost:8080/"
    },
    "id": "MZrm8z58k2y5",
    "outputId": "f4c44da5-d2d4-4504-bfa8-8da134e3b7f6"
   },
   "outputs": [
    {
     "data": {
      "text/plain": [
       "[{'entity_group': 'PER',\n",
       "  'score': 0.9943818,\n",
       "  'word': 'Burcu Ünal',\n",
       "  'start': 0,\n",
       "  'end': 10},\n",
       " {'entity_group': 'OTHER',\n",
       "  'score': 0.967922,\n",
       "  'word': 'sağlık hizmetleri meslek yüksekokulu radyoterapi öğrencisi Elbistandaymış durumu kötüymüş ulaşamıyoruz ulaşan var mı? Bu numaraya iletebilirsiniz',\n",
       "  'start': 11,\n",
       "  'end': 156},\n",
       " {'entity_group': 'PER',\n",
       "  'score': 0.9360368,\n",
       "  'word': \"burcu ünal ' dan\",\n",
       "  'start': 157,\n",
       "  'end': 171},\n",
       " {'entity_group': 'OTHER',\n",
       "  'score': 0.99996346,\n",
       "  'word': 'haber aldığınızda. 0232 412 14 11',\n",
       "  'start': 172,\n",
       "  'end': 205}]"
      ]
     },
     "execution_count": 153,
     "metadata": {},
     "output_type": "execute_result"
    }
   ],
   "source": [
    "pipe_first(false_predictions[90])"
   ]
  },
  {
   "cell_type": "code",
   "execution_count": 154,
   "id": "tTVwwulLxeI_",
   "metadata": {
    "colab": {
     "base_uri": "https://localhost:8080/"
    },
    "id": "tTVwwulLxeI_",
    "outputId": "e3e1ce64-ea54-4f78-8be4-f1e01dfd077c"
   },
   "outputs": [
    {
     "name": "stdout",
     "output_type": "stream",
     "text": [
      "Requirement already satisfied: huggingface_hub in /usr/local/lib/python3.10/dist-packages (0.19.4)\n",
      "Requirement already satisfied: filelock in /usr/local/lib/python3.10/dist-packages (from huggingface_hub) (3.13.1)\n",
      "Requirement already satisfied: fsspec>=2023.5.0 in /usr/local/lib/python3.10/dist-packages (from huggingface_hub) (2023.6.0)\n",
      "Requirement already satisfied: requests in /usr/local/lib/python3.10/dist-packages (from huggingface_hub) (2.31.0)\n",
      "Requirement already satisfied: tqdm>=4.42.1 in /usr/local/lib/python3.10/dist-packages (from huggingface_hub) (4.66.1)\n",
      "Requirement already satisfied: pyyaml>=5.1 in /usr/local/lib/python3.10/dist-packages (from huggingface_hub) (6.0.1)\n",
      "Requirement already satisfied: typing-extensions>=3.7.4.3 in /usr/local/lib/python3.10/dist-packages (from huggingface_hub) (4.5.0)\n",
      "Requirement already satisfied: packaging>=20.9 in /usr/local/lib/python3.10/dist-packages (from huggingface_hub) (23.2)\n",
      "Requirement already satisfied: charset-normalizer<4,>=2 in /usr/local/lib/python3.10/dist-packages (from requests->huggingface_hub) (3.3.2)\n",
      "Requirement already satisfied: idna<4,>=2.5 in /usr/local/lib/python3.10/dist-packages (from requests->huggingface_hub) (3.4)\n",
      "Requirement already satisfied: urllib3<3,>=1.21.1 in /usr/local/lib/python3.10/dist-packages (from requests->huggingface_hub) (2.0.7)\n",
      "Requirement already satisfied: certifi>=2017.4.17 in /usr/local/lib/python3.10/dist-packages (from requests->huggingface_hub) (2023.7.22)\n"
     ]
    }
   ],
   "source": [
    "!pip install huggingface_hub"
   ]
  },
  {
   "cell_type": "code",
   "execution_count": 155,
   "id": "8t_tlKKBb7xd",
   "metadata": {
    "id": "8t_tlKKBb7xd"
   },
   "outputs": [],
   "source": [
    "import huggingface_hub"
   ]
  },
  {
   "cell_type": "code",
   "execution_count": 157,
   "id": "bAYlBmeZKWt9",
   "metadata": {
    "colab": {
     "base_uri": "https://localhost:8080/"
    },
    "id": "bAYlBmeZKWt9",
    "outputId": "76cb1d46-cc27-4332-acb1-067df1eedbfd"
   },
   "outputs": [
    {
     "name": "stdout",
     "output_type": "stream",
     "text": [
      "\n",
      "    _|    _|  _|    _|    _|_|_|    _|_|_|  _|_|_|  _|      _|    _|_|_|      _|_|_|_|    _|_|      _|_|_|  _|_|_|_|\n",
      "    _|    _|  _|    _|  _|        _|          _|    _|_|    _|  _|            _|        _|    _|  _|        _|\n",
      "    _|_|_|_|  _|    _|  _|  _|_|  _|  _|_|    _|    _|  _|  _|  _|  _|_|      _|_|_|    _|_|_|_|  _|        _|_|_|\n",
      "    _|    _|  _|    _|  _|    _|  _|    _|    _|    _|    _|_|  _|    _|      _|        _|    _|  _|        _|\n",
      "    _|    _|    _|_|      _|_|_|    _|_|_|  _|_|_|  _|      _|    _|_|_|      _|        _|    _|    _|_|_|  _|_|_|_|\n",
      "\n",
      "    A token is already saved on your machine. Run `huggingface-cli whoami` to get more information or `huggingface-cli logout` if you want to log out.\n",
      "    Setting a new token will erase the existing one.\n",
      "    To login, `huggingface_hub` requires a token generated from https://huggingface.co/settings/tokens .\n",
      "Token: \n",
      "Add token as git credential? (Y/n) y\n",
      "Token is valid (permission: write).\n",
      "\u001b[1m\u001b[31mCannot authenticate through git-credential as no helper is defined on your machine.\n",
      "You might have to re-authenticate when pushing to the Hugging Face Hub.\n",
      "Run the following command in your terminal in case you want to set the 'store' credential helper as default.\n",
      "\n",
      "git config --global credential.helper store\n",
      "\n",
      "Read https://git-scm.com/book/en/v2/Git-Tools-Credential-Storage for more details.\u001b[0m\n",
      "Token has not been saved to git credential helper.\n",
      "Your token has been saved to /root/.cache/huggingface/token\n",
      "Login successful\n",
      "\u001b[90mgit version 2.34.1\u001b[0m\n",
      "\u001b[90mgit-lfs/3.0.2 (GitHub; linux amd64; go 1.18.1)\u001b[0m\n",
      "\n",
      "y\n",
      "You are about to create \u001b[1myhaslan/turkish-earthquake-tweets-ner\u001b[0m\n",
      "Proceed? [Y/n] 409 Client Error: Conflict for url: https://huggingface.co/api/repos/create (Request ID: Root=1-656982d8-310200282ba018135748571b;cbfc5af5-7ca2-413d-93c8-544fdebd877c)\n",
      "\n",
      "You already created this model repo\n",
      "\u001b[1m\u001b[31m{\"error\":\"You already created this model repo\",\"url\":\"https://huggingface.co/yhaslan/turkish-earthquake-tweets-ner\"}\u001b[0m\n"
     ]
    }
   ],
   "source": [
    "!huggingface-cli login\n",
    "!huggingface-cli repo create turkish-earthquake-tweets-ner"
   ]
  },
  {
   "cell_type": "code",
   "execution_count": 156,
   "id": "Cq4L-TONcu_u",
   "metadata": {
    "colab": {
     "base_uri": "https://localhost:8080/"
    },
    "id": "Cq4L-TONcu_u",
    "outputId": "b19781f9-a88b-4cc1-b841-118c9b7337ab"
   },
   "outputs": [
    {
     "name": "stdout",
     "output_type": "stream",
     "text": [
      "\n",
      "    _|    _|  _|    _|    _|_|_|    _|_|_|  _|_|_|  _|      _|    _|_|_|      _|_|_|_|    _|_|      _|_|_|  _|_|_|_|\n",
      "    _|    _|  _|    _|  _|        _|          _|    _|_|    _|  _|            _|        _|    _|  _|        _|\n",
      "    _|_|_|_|  _|    _|  _|  _|_|  _|  _|_|    _|    _|  _|  _|  _|  _|_|      _|_|_|    _|_|_|_|  _|        _|_|_|\n",
      "    _|    _|  _|    _|  _|    _|  _|    _|    _|    _|    _|_|  _|    _|      _|        _|    _|  _|        _|\n",
      "    _|    _|    _|_|      _|_|_|    _|_|_|  _|_|_|  _|      _|    _|_|_|      _|        _|    _|    _|_|_|  _|_|_|_|\n",
      "\n",
      "    To login, `huggingface_hub` requires a token generated from https://huggingface.co/settings/tokens .\n",
      "Token: \n",
      "Add token as git credential? (Y/n) y\n",
      "Token is valid (permission: write).\n",
      "\u001b[1m\u001b[31mCannot authenticate through git-credential as no helper is defined on your machine.\n",
      "You might have to re-authenticate when pushing to the Hugging Face Hub.\n",
      "Run the following command in your terminal in case you want to set the 'store' credential helper as default.\n",
      "\n",
      "git config --global credential.helper store\n",
      "\n",
      "Read https://git-scm.com/book/en/v2/Git-Tools-Credential-Storage for more details.\u001b[0m\n",
      "Token has not been saved to git credential helper.\n",
      "Your token has been saved to /root/.cache/huggingface/token\n",
      "Login successful\n",
      "\u001b[90mgit version 2.34.1\u001b[0m\n",
      "\u001b[90mgit-lfs/3.0.2 (GitHub; linux amd64; go 1.18.1)\u001b[0m\n",
      "\n",
      "You are about to create \u001b[1myhaslan/turkish-earthquake-tweets-ner-berturk\u001b[0m\n",
      "Proceed? [Y/n] y\n",
      "\n",
      "Your repo now lives at:\n",
      "  \u001b[1mhttps://huggingface.co/yhaslan/turkish-earthquake-tweets-ner-berturk\u001b[0m\n",
      "\n",
      "You can clone it locally with the command below, and commit/push as usual.\n",
      "\n",
      "  git clone https://huggingface.co/yhaslan/turkish-earthquake-tweets-ner-berturk\n",
      "\n"
     ]
    }
   ],
   "source": [
    "!huggingface-cli login\n",
    "!huggingface-cli repo create turkish-earthquake-tweets-ner-bert"
   ]
  },
  {
   "cell_type": "code",
   "execution_count": null,
   "id": "7f_WxPrzcAHJ",
   "metadata": {
    "colab": {
     "base_uri": "https://localhost:8080/",
     "height": 131,
     "referenced_widgets": [
      "109c8cf4f4a147abbce012ed77a1497a",
      "22e4824add5141b4acb76eac9d5af417",
      "1f3c632fab2f4b2a8a5e053ff59e9d0c",
      "98cd2cca35b5493484e66f438213148b",
      "f1a57b72a9244d60a77357b642269e62",
      "bb4af9574d5d4677beace17647a1e377",
      "e396cf58ca1d44069422f0113f8cd4fa",
      "e6c04602fae3482fb9000583de3fd154",
      "8aa2134692204bafa36fa73858cf4a01",
      "2c789873c2a4499fa59c804fce433d4a",
      "0b30e4b9b4f54c1d94f9910eecae6b2d",
      "f6e60827e09244a793424e6ce1621d55",
      "ff5b05fc1ecf4f91be6aa2fd62ebfd83",
      "bbce29c247d34463a10b34922d678477",
      "5fb743648b684f72a5dd47f3d9b825f3",
      "990db9004bdb4d97922ec4e294c9f47b",
      "f43fc5bfbc3b45df930c7773e348de84",
      "e2306d5314b24d6d93b54b5fc57ef85e",
      "4a5e1dea1dfb41b8b01b3185dcc1927d",
      "d782464d1a554634bb23e26936948d52",
      "79dbb58073f04356ada244d70780987d",
      "7c25e9900cc3427698aa5a9bbed8d970",
      "826bda18531d46a3941da68c5b63247d",
      "8038ef6c3a0748eba1b64d23cc49096b",
      "228f3c1abb7141a99f545e40627eb79a",
      "6203b2d12a5c4ff1b54ff4681fb4b073",
      "29bbd3346f384392b986cc8dc743cdec",
      "2ea74dd5262d4fa0bf78b6e6cf84bf5c",
      "0f06d33b234b4d7f9bf9f509d7c1267a",
      "93ecb854c1c94a92be35563f509e54b7",
      "4bae9cbd44ab4bda96a8e6db42ed2d32",
      "dde7c35cb44a40be902d7602d4b2bd7e",
      "0f270d58e53541fb858b19cee1f10fa6"
     ]
    },
    "id": "7f_WxPrzcAHJ",
    "outputId": "b1cf3955-a748-417a-b019-b97dd6a4e909"
   },
   "outputs": [
    {
     "data": {
      "application/vnd.jupyter.widget-view+json": {
       "model_id": "109c8cf4f4a147abbce012ed77a1497a",
       "version_major": 2,
       "version_minor": 0
      },
      "text/plain": [
       "pytorch_model.bin:   0%|          | 0.00/440M [00:00<?, ?B/s]"
      ]
     },
     "metadata": {},
     "output_type": "display_data"
    },
    {
     "data": {
      "application/vnd.jupyter.widget-view+json": {
       "model_id": "f6e60827e09244a793424e6ce1621d55",
       "version_major": 2,
       "version_minor": 0
      },
      "text/plain": [
       "Upload 2 LFS files:   0%|          | 0/2 [00:00<?, ?it/s]"
      ]
     },
     "metadata": {},
     "output_type": "display_data"
    },
    {
     "data": {
      "application/vnd.jupyter.widget-view+json": {
       "model_id": "826bda18531d46a3941da68c5b63247d",
       "version_major": 2,
       "version_minor": 0
      },
      "text/plain": [
       "training_args.bin:   0%|          | 0.00/4.03k [00:00<?, ?B/s]"
      ]
     },
     "metadata": {},
     "output_type": "display_data"
    },
    {
     "data": {
      "application/vnd.google.colaboratory.intrinsic+json": {
       "type": "string"
      },
      "text/plain": [
       "'https://huggingface.co/yhaslan/turkish-earthquake-tweets-ner/tree/main/'"
      ]
     },
     "execution_count": 95,
     "metadata": {},
     "output_type": "execute_result"
    }
   ],
   "source": [
    "huggingface_hub.upload_folder(folder_path='my_saved_model',\n",
    "    repo_id=\"yhaslan/turkish-earthquake-tweets-ner\",\n",
    "    repo_type=\"model\"\n",
    ")"
   ]
  },
  {
   "cell_type": "code",
   "execution_count": 158,
   "id": "YRJgoZ8qcRQJ",
   "metadata": {
    "colab": {
     "base_uri": "https://localhost:8080/",
     "height": 131,
     "referenced_widgets": [
      "e3202bd855204f3fa6be9e14d0b2cb70",
      "6dd0e6c1229647cab4471773e4d869e7",
      "67a44198dd61495c8c5105a87b2b2c0c",
      "437bfb5bff3c4034b5285fa161409aa0",
      "b75bb34970be44a49dc0aa9009c469d5",
      "a6a8263c28c2461c90424702a576154b",
      "366461d22c9543aab7aa9424ffa9b5d9",
      "551d59f112224dbeb4c6c961956e2baf",
      "dea9ebd1abca47e9b6af3391ebb38afe",
      "411680566dda41c7a6bfde7fa3dfaa4c",
      "5e62612cefc6443c8e2f0ae1c799fe89",
      "857c80f828634039bc84b786d81e0291",
      "3773ffecc28d4c7d962b32f24a06b5a7",
      "86552ad4d09b40abb2033062f72e44cc",
      "57d0d0528b2848f38a681e721edb831a",
      "fcfc1869f4824ec6ab640d5b459a91e6",
      "11c44a2279014af69ba7eea4f46d0c66",
      "5f191032f8bb461a9e85987511be1b4d",
      "4c7d4582030d49d18f3a2fdc52e74246",
      "1ee2f43a95104251a41a6641c5c35f47",
      "e268d959f84e4ffe81c63d504b7a22c2",
      "18c53376fc084da3ace18cb07cc2c5dd",
      "06b39b231f184944a86a29d7dbd53714",
      "a020ee6862cb482d8812253b899496f8",
      "1d820c45dbe64a14ae97a1b24263358a",
      "b8722b15c6cc45ac84108edee1d9a8b1",
      "4700b223c77d43079b6578481dd7ec55",
      "fe3e72cf28bd4ec08c90347dc3325c25",
      "aec6d5812b8f4accb42511575b1c8f1b",
      "8efd2ed0f519413ebcb03277879b0d74",
      "00850b74f13742f79cbf712d1c0c6968",
      "a06305dde6ab4dbc839aad52506fa446",
      "383e40afafbc49d5992a0a82a915b33b"
     ]
    },
    "id": "YRJgoZ8qcRQJ",
    "outputId": "3482d45c-a1f0-4a3c-acec-4cf54e3b68a8"
   },
   "outputs": [
    {
     "data": {
      "application/vnd.jupyter.widget-view+json": {
       "model_id": "e3202bd855204f3fa6be9e14d0b2cb70",
       "version_major": 2,
       "version_minor": 0
      },
      "text/plain": [
       "model.safetensors:   0%|          | 0.00/440M [00:00<?, ?B/s]"
      ]
     },
     "metadata": {},
     "output_type": "display_data"
    },
    {
     "data": {
      "application/vnd.jupyter.widget-view+json": {
       "model_id": "857c80f828634039bc84b786d81e0291",
       "version_major": 2,
       "version_minor": 0
      },
      "text/plain": [
       "Upload 2 LFS files:   0%|          | 0/2 [00:00<?, ?it/s]"
      ]
     },
     "metadata": {},
     "output_type": "display_data"
    },
    {
     "data": {
      "application/vnd.jupyter.widget-view+json": {
       "model_id": "06b39b231f184944a86a29d7dbd53714",
       "version_major": 2,
       "version_minor": 0
      },
      "text/plain": [
       "training_args.bin:   0%|          | 0.00/4.60k [00:00<?, ?B/s]"
      ]
     },
     "metadata": {},
     "output_type": "display_data"
    },
    {
     "data": {
      "application/vnd.google.colaboratory.intrinsic+json": {
       "type": "string"
      },
      "text/plain": [
       "'https://huggingface.co/yhaslan/turkish-earthquake-tweets-ner-berturk/tree/main/'"
      ]
     },
     "execution_count": 158,
     "metadata": {},
     "output_type": "execute_result"
    }
   ],
   "source": [
    "huggingface_hub.upload_folder(folder_path='my_saved_model',\n",
    "    repo_id=\"yhaslan/turkish-earthquake-tweets-ner-berturk\",\n",
    "    repo_type=\"model\"\n",
    ")"
   ]
  },
  {
   "cell_type": "markdown",
   "id": "2Jhq5GiGKils",
   "metadata": {
    "id": "2Jhq5GiGKils"
   },
   "source": []
  }
 ],
 "metadata": {
  "accelerator": "GPU",
  "colab": {
   "gpuType": "T4",
   "provenance": []
  },
  "kernelspec": {
   "display_name": "Python 3 (ipykernel)",
   "language": "python",
   "name": "python3"
  },
  "language_info": {
   "codemirror_mode": {
    "name": "ipython",
    "version": 3
   },
   "file_extension": ".py",
   "mimetype": "text/x-python",
   "name": "python",
   "nbconvert_exporter": "python",
   "pygments_lexer": "ipython3",
   "version": "3.9.13"
  }
 },
 "nbformat": 4,
 "nbformat_minor": 5
}
