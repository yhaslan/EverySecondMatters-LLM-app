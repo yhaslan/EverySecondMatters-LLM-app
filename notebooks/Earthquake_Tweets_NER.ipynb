{
 "cells": [
  {
   "cell_type": "markdown",
   "id": "Z4L2U8PfhdtQ",
   "metadata": {
    "id": "Z4L2U8PfhdtQ"
   },
   "source": [
    "# Named Entity Recognition for Earthquake Tweets"
   ]
  },
  {
   "cell_type": "markdown",
   "id": "-QduPzH5wdBN",
   "metadata": {
    "id": "-QduPzH5wdBN"
   },
   "source": [
    "### Install and Import the Packages"
   ]
  },
  {
   "cell_type": "code",
   "execution_count": null,
   "id": "yaRPmWkv44kC",
   "metadata": {
    "id": "yaRPmWkv44kC"
   },
   "outputs": [],
   "source": [
    "import warnings\n",
    "warnings.filterwarnings('ignore')"
   ]
  },
  {
   "cell_type": "code",
   "execution_count": null,
   "id": "U4ZZVXGhwN-_",
   "metadata": {
    "colab": {
     "base_uri": "https://localhost:8080/"
    },
    "id": "U4ZZVXGhwN-_",
    "outputId": "d07eb39f-406d-4ac9-d1b8-13f7414bed24"
   },
   "outputs": [],
   "source": [
    "#!pip install seqeval"
   ]
  },
  {
   "cell_type": "code",
   "execution_count": null,
   "id": "40C39KUxetnv",
   "metadata": {
    "colab": {
     "base_uri": "https://localhost:8080/"
    },
    "id": "40C39KUxetnv",
    "outputId": "64a4bfdc-b2bb-4ddc-a52b-07f52c1e73af"
   },
   "outputs": [],
   "source": [
    "#!pip install transformers datasets"
   ]
  },
  {
   "cell_type": "code",
   "execution_count": null,
   "id": "gZiMP-u9wS4_",
   "metadata": {
    "colab": {
     "base_uri": "https://localhost:8080/"
    },
    "id": "gZiMP-u9wS4_",
    "outputId": "856f52a9-f71a-4910-df4f-094175163506"
   },
   "outputs": [],
   "source": [
    "#!pip install transformers[torch]"
   ]
  },
  {
   "cell_type": "code",
   "execution_count": null,
   "id": "KvnQnAqVwS1E",
   "metadata": {
    "id": "KvnQnAqVwS1E"
   },
   "outputs": [],
   "source": [
    "import json\n",
    "import pandas as pd\n",
    "import numpy as np\n",
    "import matplotlib.pyplot as plt\n",
    "import seaborn as sns\n",
    "import re\n",
    "\n",
    "from sklearn.metrics import f1_score, accuracy_score, precision_score, recall_score, confusion_matrix\n",
    "\n",
    "from transformers import AutoTokenizer, AutoModelForTokenClassification\n",
    "from transformers import DataCollatorForTokenClassification\n",
    "from transformers import TrainingArguments, Trainer, pipeline\n",
    "from datasets import load_dataset\n",
    "from datasets import load_metric"
   ]
  },
  {
   "cell_type": "markdown",
   "id": "aPgt1lR_wloZ",
   "metadata": {
    "id": "aPgt1lR_wloZ"
   },
   "source": [
    "### Upload the Dataset"
   ]
  },
  {
   "cell_type": "code",
   "execution_count": null,
   "id": "HigqVxBtwSo0",
   "metadata": {
    "id": "HigqVxBtwSo0"
   },
   "outputs": [],
   "source": [
    "jsonl_file_path = 'admin2.jsonl'\n",
    "\n",
    "\n",
    "texts = []\n",
    "with open(jsonl_file_path, 'r') as file:\n",
    "    for line in file:\n",
    "        data = json.loads(line.strip())\n",
    "        texts.append(data)"
   ]
  },
  {
   "cell_type": "code",
   "execution_count": null,
   "id": "41758565",
   "metadata": {
    "colab": {
     "base_uri": "https://localhost:8080/",
     "height": 258
    },
    "id": "41758565",
    "outputId": "9301f347-e170-4f5a-a23b-4480bc059df3"
   },
   "outputs": [],
   "source": [
    "df= pd.DataFrame(texts)\n",
    "df.head()"
   ]
  },
  {
   "cell_type": "code",
   "execution_count": null,
   "id": "tXLe-IAMeJLX",
   "metadata": {
    "colab": {
     "base_uri": "https://localhost:8080/"
    },
    "id": "tXLe-IAMeJLX",
    "outputId": "f4125dbe-c1d4-4477-a898-771298fa0710"
   },
   "outputs": [],
   "source": [
    "df['text'][:5].tolist()"
   ]
  },
  {
   "cell_type": "markdown",
   "id": "aYWjD3i0wv0K",
   "metadata": {
    "id": "aYWjD3i0wv0K"
   },
   "source": [
    "### Clean The Data"
   ]
  },
  {
   "cell_type": "markdown",
   "id": "4b1cc2f1",
   "metadata": {},
   "source": [
    "Again, since I discovered some preparation requirements along the way, while moving further on the project, there were some necessary steps I realized only after finishing the annotation of the NER tags:\n",
    "- the dataset I annotated was containing tags and hashtags, however, I realized they will end up being problematic and misleading for the machine learing since I observed people to use hashtags with many cities impacted by the earthquake at the end of their tweets to spread the word (ex: #hatay #malatya #kahramanmaraş) and I would not want the algorithm to confuse this as intentional location information. Similarly, they sometimes tagged the celebrities and government officials to spread the word and I would not want these to be mistaken as PERSON tags. So I decided to remove anything that follows these tags (not just # or @ symbols)\n",
    "- Yet, there is a problem here: We cannot simply delete the entities following this tags since this would cause misalignment in the labeled dataset. As you see above, the labels were returned in such format: [0,32,ADDR] with numbers indicating the start and end indices of the corresponding string. \n",
    "- One solution is to replace ahh tags and hashtags characters with space, this way, the indices will remain the same. We can deal with these spaces later after tokenization."
   ]
  },
  {
   "cell_type": "code",
   "execution_count": null,
   "id": "vNwXTXcceRly",
   "metadata": {
    "id": "vNwXTXcceRly"
   },
   "outputs": [],
   "source": [
    "def cleaned_text(text):\n",
    "    chars_to_replace = r',/-\"()*:'\n",
    "    clean_text = re.sub(f'[{re.escape(chars_to_replace)}]', ' ', text)\n",
    "\n",
    "    #remove any entity that follows @ and #\n",
    "    i = 0\n",
    "    while i < (len(clean_text)):\n",
    "        if clean_text[i] == '@' or clean_text[i]== '#':\n",
    "            a=0\n",
    "            while i+a < len(clean_text):\n",
    "                if clean_text[i+a] == ' ':\n",
    "                    break\n",
    "                else:\n",
    "                    a += 1\n",
    "            clean_text = clean_text[:i] + ' '*(a) + clean_text[i+a:]\n",
    "        else:\n",
    "            i+=1\n",
    "    return clean_text"
   ]
  },
  {
   "cell_type": "code",
   "execution_count": null,
   "id": "fcf0abdd",
   "metadata": {
    "colab": {
     "base_uri": "https://localhost:8080/"
    },
    "id": "fcf0abdd",
    "outputId": "04a1516a-72e4-4435-df33-cf10285d37b2"
   },
   "outputs": [],
   "source": [
    "df2 = df.copy()\n",
    "df2['text'] = df2['text'].apply(lambda x: cleaned_text(x))\n",
    "df2['text'][:5].tolist()"
   ]
  },
  {
   "cell_type": "code",
   "execution_count": null,
   "id": "8862e4cb",
   "metadata": {
    "colab": {
     "base_uri": "https://localhost:8080/"
    },
    "id": "8862e4cb",
    "outputId": "e6d87b09-070e-406e-b5e2-549e8880424e"
   },
   "outputs": [],
   "source": [
    "df2['text'][0].split(\" \")[:30]"
   ]
  },
  {
   "cell_type": "code",
   "execution_count": null,
   "id": "53e95eb6",
   "metadata": {
    "colab": {
     "base_uri": "https://localhost:8080/"
    },
    "id": "53e95eb6",
    "outputId": "f9dce0c8-3f1a-421c-f651-5a6a1f0004b5"
   },
   "outputs": [],
   "source": [
    "df2['label'][0]"
   ]
  },
  {
   "cell_type": "code",
   "execution_count": null,
   "id": "9edb03e7",
   "metadata": {
    "colab": {
     "base_uri": "https://localhost:8080/"
    },
    "id": "9edb03e7",
    "outputId": "2c633061-e85e-4b3c-d970-a4e38805cd74"
   },
   "outputs": [],
   "source": [
    "print(df2['text'][0][0:32])\n",
    "print(df2['text'][0][58:68])\n",
    "print(df2['text'][0][69:74])\n",
    "print(df2['text'][0][100:112])\n",
    "print(df2['text'][0][122:133])\n"
   ]
  },
  {
   "cell_type": "markdown",
   "id": "JnI6yLF9xSkk",
   "metadata": {
    "id": "JnI6yLF9xSkk"
   },
   "source": [
    "## Create Token-Tag Pairs\n",
    "- The dataset originally have four tags : Person, City, Address and Number. However having noticed that category number is actually misleading for the machine, I decided to suppress that category and convert it to other.\n",
    "Generating a Token called Other"
   ]
  },
  {
   "cell_type": "code",
   "execution_count": null,
   "id": "B4Bf5Y_RcHhV",
   "metadata": {
    "colab": {
     "base_uri": "https://localhost:8080/"
    },
    "id": "B4Bf5Y_RcHhV",
    "outputId": "892a8f8d-354c-4cf7-8374-867d4ce076bf"
   },
   "outputs": [],
   "source": [
    "#i decided to suppress tag Number because it serves little and creates confusion\n",
    "for i in range(len(df2)):\n",
    "  for j in range(len(df2['label'][i])) :\n",
    "    if df2['label'][i][j][2] == 'NUM':\n",
    "      new_tag = 'OTHER'\n",
    "      df2['label'][i][j][2] = new_tag\n",
    "\n",
    "df2['label'][0]"
   ]
  },
  {
   "cell_type": "code",
   "execution_count": null,
   "id": "abadcd2a",
   "metadata": {
    "id": "abadcd2a"
   },
   "outputs": [],
   "source": [
    "all_token_tag_pairs = []\n",
    "for i in range(len(df2)):\n",
    "    all_tokens = df2['text'][i].split(\" \")\n",
    "    tokens_tags = []\n",
    "\n",
    "    if len(df2['label'][i]) >0 :  #if there is any labeled entity in that sentence\n",
    "        tokens_tags = []\n",
    "        j = 0\n",
    "        end_index = 0\n",
    "        while j in range(len(df2['label'][i])) :\n",
    "            start_index = df2['label'][i][j][0]  #start index of the label is the start index of first label-tag\n",
    "            other_tokens = df2['text'][i][end_index:start_index].split(\" \")\n",
    "            #everything between the end index of previous token and start index of new token would be classified among other tokens\n",
    "\n",
    "            if start_index > end_index:\n",
    "                for token in other_tokens :\n",
    "                    tokens_tags.append((token, \"OTHER\")) #let's classify all non-labeled tokens as other\n",
    "\n",
    "            tag = df2['label'][i][j][2]\n",
    "            end_index = df2['label'][i][j][1]\n",
    "\n",
    "            labeled_tokens = df2['text'][i][start_index:end_index].split(\" \") #we'll repeat the tag for each tokens of that entity\n",
    "\n",
    "            if tag!= 'OTHER':\n",
    "              for k in range(len(labeled_tokens)):\n",
    "                if k == 0: #if k is the first token of that entity\n",
    "                    tokens_tags.append((labeled_tokens[k],\"B-\"+tag))\n",
    "                else:\n",
    "                    tokens_tags.append((labeled_tokens[k], \"I-\"+tag))\n",
    "            else: #if tag is other (former NUM - tags) no need for B- , I-\n",
    "              for k in range(len(labeled_tokens)):\n",
    "                tokens_tags.append((labeled_tokens[k], tag))\n",
    "\n",
    "            j+=1 #move to the next labeled entity\n",
    "            end_index = df2['label'][i][j-1][1] #update the end index\n",
    "\n",
    "\n",
    "    else:\n",
    "        tokens = df2['text'][i].split(\" \")\n",
    "        for token in tokens:\n",
    "            tokens_tags.append((token, \"OTHER\"))\n",
    "\n",
    "    all_token_tag_pairs.append(tokens_tags)\n",
    "\n",
    "\n",
    "\n",
    "\n",
    "\n"
   ]
  },
  {
   "cell_type": "code",
   "execution_count": null,
   "id": "728bab64",
   "metadata": {
    "colab": {
     "base_uri": "https://localhost:8080/"
    },
    "id": "728bab64",
    "outputId": "8ba80c65-6dcd-4fdd-c229-c17caab76e9d"
   },
   "outputs": [],
   "source": [
    "all_token_tag_pairs[0]"
   ]
  },
  {
   "cell_type": "markdown",
   "id": "85t7-w973bUr",
   "metadata": {
    "id": "85t7-w973bUr"
   },
   "source": [
    "We can confirm that the labels I assigned \"NUM\" during annotation were correctly replaced by \"OTHER\"."
   ]
  },
  {
   "cell_type": "code",
   "execution_count": null,
   "id": "mSe-mC1YgBHG",
   "metadata": {
    "colab": {
     "base_uri": "https://localhost:8080/"
    },
    "id": "mSe-mC1YgBHG",
    "outputId": "a201ff8b-3454-4177-d651-bbb458c7acdf"
   },
   "outputs": [],
   "source": [
    "tags = []\n",
    "\n",
    "for pair in all_token_tag_pairs:\n",
    "  for token,tag in pair:\n",
    "    tags.append(tag)\n",
    "\n",
    "set(tags)"
   ]
  },
  {
   "cell_type": "markdown",
   "id": "F0vBS5btxgwM",
   "metadata": {
    "id": "F0vBS5btxgwM"
   },
   "source": [
    "Now that we won't need to the characters indices anymore, every token separately labeled, we can get rid of the empty space tokens."
   ]
  },
  {
   "cell_type": "code",
   "execution_count": null,
   "id": "8329c587",
   "metadata": {
    "colab": {
     "base_uri": "https://localhost:8080/"
    },
    "id": "8329c587",
    "outputId": "421618f2-abd9-4a4d-a603-1191e9ddffbc"
   },
   "outputs": [],
   "source": [
    "new_pairs = []\n",
    "for tweet in all_token_tag_pairs:\n",
    "    new_tweet = []\n",
    "    for token,tag in tweet:\n",
    "        if token != '':\n",
    "            new_tweet.append((token,tag))\n",
    "    new_pairs.append(new_tweet)\n",
    "\n",
    "new_pairs[:30]"
   ]
  },
  {
   "cell_type": "markdown",
   "id": "pnoXpcS7xsLv",
   "metadata": {
    "id": "pnoXpcS7xsLv"
   },
   "source": [
    "## Encoding the Labels to Integers"
   ]
  },
  {
   "cell_type": "code",
   "execution_count": null,
   "id": "wYySnnfz2RNI",
   "metadata": {
    "id": "wYySnnfz2RNI"
   },
   "outputs": [],
   "source": [
    "ner_tags = [\"OTHER\", 'B-PER', 'I-PER', 'B-CITY', 'I-CITY', 'B-ADDR', 'I-ADDR']\n",
    "id2label = {k: v for k, v in enumerate(ner_tags)}\n",
    "label2id = {v: k for k, v in id2label.items()}"
   ]
  },
  {
   "cell_type": "code",
   "execution_count": null,
   "id": "v3m-3tP4f5uW",
   "metadata": {
    "colab": {
     "base_uri": "https://localhost:8080/"
    },
    "id": "v3m-3tP4f5uW",
    "outputId": "5628385c-cdbb-49ad-bdbb-27d03f7b07a3"
   },
   "outputs": [],
   "source": [
    "id2label"
   ]
  },
  {
   "cell_type": "code",
   "execution_count": null,
   "id": "54h8S-EekTKb",
   "metadata": {
    "colab": {
     "base_uri": "https://localhost:8080/"
    },
    "id": "54h8S-EekTKb",
    "outputId": "9be94cd2-d7be-427e-f398-7365f4774816"
   },
   "outputs": [],
   "source": [
    "label2id"
   ]
  },
  {
   "cell_type": "markdown",
   "id": "XFciLFvQxwUn",
   "metadata": {
    "id": "XFciLFvQxwUn"
   },
   "source": [
    "### Separating tokens and *tags*"
   ]
  },
  {
   "cell_type": "code",
   "execution_count": null,
   "id": "e0d16735",
   "metadata": {
    "id": "e0d16735"
   },
   "outputs": [],
   "source": [
    "inputs = []\n",
    "targets = []\n",
    "\n",
    "for tweet_tag_pairs in new_pairs:\n",
    "    tokens = []\n",
    "    target = []\n",
    "    for token, tag in tweet_tag_pairs:\n",
    "        tokens.append(token)\n",
    "        target.append(label2id[tag])\n",
    "    inputs.append(tokens)\n",
    "    targets.append(target)"
   ]
  },
  {
   "cell_type": "code",
   "execution_count": null,
   "id": "d8d4f59f",
   "metadata": {
    "colab": {
     "base_uri": "https://localhost:8080/"
    },
    "id": "d8d4f59f",
    "outputId": "453032e1-1428-4c68-b4a6-6d02d853385d"
   },
   "outputs": [],
   "source": [
    "inputs[:5]"
   ]
  },
  {
   "cell_type": "code",
   "execution_count": null,
   "id": "Y0xvYM0d2jnL",
   "metadata": {
    "colab": {
     "base_uri": "https://localhost:8080/"
    },
    "id": "Y0xvYM0d2jnL",
    "outputId": "a48b2b49-212e-45e9-cd5f-72a7dd455a94"
   },
   "outputs": [],
   "source": [
    "targets[:5]"
   ]
  },
  {
   "cell_type": "markdown",
   "id": "oWxFOI1yx80p",
   "metadata": {
    "id": "oWxFOI1yx80p"
   },
   "source": [
    "### Save the input-tag pairs as a new dataset"
   ]
  },
  {
   "cell_type": "code",
   "execution_count": null,
   "id": "f2ade6f8",
   "metadata": {
    "id": "f2ade6f8"
   },
   "outputs": [],
   "source": [
    "with open('NER_deneme.json', 'w') as f:\n",
    "  for x, y in zip(inputs, targets):\n",
    "    j = {'inputs': x, 'targets': y}\n",
    "    s = json.dumps(j)\n",
    "    f.write(f\"{s}\\n\")"
   ]
  },
  {
   "cell_type": "code",
   "execution_count": null,
   "id": "6fdf4d19",
   "metadata": {
    "id": "6fdf4d19"
   },
   "outputs": [],
   "source": [
    "dataset = load_dataset(\"json\", data_files='NER_deneme.json')"
   ]
  },
  {
   "cell_type": "code",
   "execution_count": null,
   "id": "mlfDQSFlfW0F",
   "metadata": {
    "colab": {
     "base_uri": "https://localhost:8080/"
    },
    "id": "mlfDQSFlfW0F",
    "outputId": "23021c76-34b2-426d-826f-ef8e311e4b06"
   },
   "outputs": [],
   "source": [
    "dataset"
   ]
  },
  {
   "cell_type": "code",
   "execution_count": null,
   "id": "bxYaWcrsfaRL",
   "metadata": {
    "colab": {
     "base_uri": "https://localhost:8080/"
    },
    "id": "bxYaWcrsfaRL",
    "outputId": "a69e85ec-b5a8-486c-939b-e05f5ff51c40"
   },
   "outputs": [],
   "source": [
    "data = dataset['train'].train_test_split(seed=42)\n",
    "data"
   ]
  },
  {
   "cell_type": "markdown",
   "id": "Q4oexmVTyLn1",
   "metadata": {
    "id": "Q4oexmVTyLn1"
   },
   "source": [
    "### Import the pretrained model we will fine-tune"
   ]
  },
  {
   "cell_type": "code",
   "execution_count": null,
   "id": "6GGKMgSUhDqX",
   "metadata": {
    "id": "6GGKMgSUhDqX"
   },
   "outputs": [],
   "source": [
    "checkpoint = \"akdeniz27/bert-base-turkish-cased-ner\"\n",
    "tokenizer = AutoTokenizer.from_pretrained(checkpoint)\n"
   ]
  },
  {
   "cell_type": "markdown",
   "id": "hSiMjQhGyRlL",
   "metadata": {
    "id": "hSiMjQhGyRlL"
   },
   "source": [
    " Let's find out how the model's tokenizer will treat the tokens"
   ]
  },
  {
   "cell_type": "code",
   "execution_count": null,
   "id": "d5I-bpzQhn92",
   "metadata": {
    "colab": {
     "base_uri": "https://localhost:8080/"
    },
    "id": "d5I-bpzQhn92",
    "outputId": "f74baa35-d602-4b52-a35f-b002a3cd5110"
   },
   "outputs": [],
   "source": [
    "#ex\n",
    "t = tokenizer(data['train'][1]['inputs'], is_split_into_words = True)\n",
    "t"
   ]
  },
  {
   "cell_type": "code",
   "execution_count": null,
   "id": "MOwZVxgZh_nY",
   "metadata": {
    "colab": {
     "base_uri": "https://localhost:8080/"
    },
    "id": "MOwZVxgZh_nY",
    "outputId": "24b137b3-3491-4b41-cabe-3731c37d67ca"
   },
   "outputs": [],
   "source": [
    "t.tokens()"
   ]
  },
  {
   "cell_type": "markdown",
   "id": "gISjj9MWyX2f",
   "metadata": {
    "id": "gISjj9MWyX2f"
   },
   "source": [
    "### Attention:\n",
    "- As in other transformer models,  the tokenizer generated subword tokens, by splitting the words into sub-units.\n",
    "- This will cause an alignment problem with our target tags, since now the input data is longer than the targets.\n",
    "- Therefore we will need to realign the targets.\n",
    "\n",
    "To this end, we will use the word_ids() method of the Transformer Tokenizer class. This method returns us the value i for each subword token, with i denoting that the corresponding token belongs to the i'th word of the input sentence. Since the first token of each sentence is [CLS] and last token is [SEP], these two receive 'None' as word_ids value, as they do not originally belong to the sentence."
   ]
  },
  {
   "cell_type": "code",
   "execution_count": null,
   "id": "48Unl7pWiBqh",
   "metadata": {
    "colab": {
     "base_uri": "https://localhost:8080/"
    },
    "id": "48Unl7pWiBqh",
    "outputId": "fb24618a-104d-457a-affd-c2b8d05e8f98"
   },
   "outputs": [],
   "source": [
    "#target alignment:\n",
    "# value of i indicates it is the i'th word\n",
    "# in the input sentence (counting from 0)\n",
    "t.word_ids()"
   ]
  },
  {
   "cell_type": "markdown",
   "id": "LrHqL14Jyeke",
   "metadata": {
    "id": "LrHqL14Jyeke"
   },
   "source": [
    "In order to realign the targets, we will make sure that subword tokens that belong to the same word will share the same tag, but in different I or B tags. For example, we know that the first word in a person entity received the B-PER tag, while the following words belonging to the same entity recieved I-PER. This time, we will make sure that after the subword tokenization, even the subword tokens within the first word of a person entity will start with B-PER and continue as I-PER. We don't have any problem if the word's corresponding tag is already I-PER (like a second word in an entity), in that case we can directly replicate the I-PER tag for all sub-units.\n",
    "\n",
    "Since the change must be done only for the subsequent tokens that are part of the first word of an entity, let's designate a function that will convert from label \"B-\" to label \"I-\" for those tokens, and that will replicate label \"I-\" for the other parts of the entities."
   ]
  },
  {
   "cell_type": "code",
   "execution_count": null,
   "id": "hdBYjhb2iNK2",
   "metadata": {
    "id": "hdBYjhb2iNK2"
   },
   "outputs": [],
   "source": [
    "# [\"OTHER\", 'B-PER', 'I-PER', 'B-CITY', 'I-CITY', 'B-ADDR', 'I-ADDR']\n",
    "\n",
    "begin2inside = {\n",
    "  1: 2,\n",
    "  3: 4,\n",
    "  5: 6,\n",
    "}"
   ]
  },
  {
   "cell_type": "markdown",
   "id": "MwHVYisTyk1i",
   "metadata": {
    "id": "MwHVYisTyk1i"
   },
   "source": [
    "Note that in NER and POS tagging we often encode as a negative value -100 for the CLS and SEP tokens as a common practice to easily filter them out when needed."
   ]
  },
  {
   "cell_type": "code",
   "execution_count": null,
   "id": "O9eTIdTlibjR",
   "metadata": {
    "id": "O9eTIdTlibjR"
   },
   "outputs": [],
   "source": [
    "def align_targets(labels, word_ids):\n",
    "    #word_ids list has the same length as tokenized inputs\n",
    "    #labels are just the original labels so they have the same length as untokenized inputs\n",
    "  aligned_labels = []\n",
    "  last_assigned_word = None\n",
    "  for word_id in word_ids:\n",
    "    if word_id is None:\n",
    "      # it's a token like [CLS]\n",
    "      label = -100\n",
    "    elif word_id != last_assigned_word:  #this means the token is not belonging to the previous word\n",
    "      # it's a new word!\n",
    "      label = labels[word_id]\n",
    "    else:\n",
    "      # it's the same word as before\n",
    "      #so we should map them to a I-tag not B-tag\n",
    "      label = labels[word_id]\n",
    "        #however we should have some way to check this label I- B- cause we can't have more than one B\n",
    "\n",
    "      # change B-<tag> to I-<tag> if necessary\n",
    "      if label in begin2inside: #remember label is an id mapped to corresponding tag\n",
    "        label = begin2inside[label]\n",
    "\n",
    "    # add the label\n",
    "    aligned_labels.append(label)\n",
    "\n",
    "    # update last word\n",
    "    last_assigned_word = word_id\n",
    "\n",
    "  return aligned_labels\n"
   ]
  },
  {
   "cell_type": "code",
   "execution_count": null,
   "id": "9dewt_08lVAl",
   "metadata": {
    "id": "9dewt_08lVAl"
   },
   "outputs": [],
   "source": [
    "# try our function for the tokens stored in t, corresponding to input index 1\n",
    "labels = data['train'][1]['targets'] #these are the non-aligned NER tags for that input\n",
    "word_ids = t.word_ids()\n",
    "aligned_targets = align_targets(labels, word_ids)\n"
   ]
  },
  {
   "cell_type": "code",
   "execution_count": null,
   "id": "QIE2sMsP45yK",
   "metadata": {
    "colab": {
     "base_uri": "https://localhost:8080/",
     "height": 53
    },
    "id": "QIE2sMsP45yK",
    "outputId": "05cb21d9-2961-49f1-c9ae-c84169e61403"
   },
   "outputs": [],
   "source": [
    "\" \".join(data['train'][1]['inputs'])"
   ]
  },
  {
   "cell_type": "code",
   "execution_count": null,
   "id": "18NeJL2Rl0u2",
   "metadata": {
    "colab": {
     "base_uri": "https://localhost:8080/"
    },
    "id": "18NeJL2Rl0u2",
    "outputId": "272bf4e4-b29d-4ef1-bea0-cc119fa4983f"
   },
   "outputs": [],
   "source": [
    "#let's retrieve the corresponding label from our id2label dictionary:\n",
    "#the code below will return id2label tags for positive id and None for negative id (-100 in our case)\n",
    "aligned_labels = [ner_tags[t] if t >= 0 else None for t in aligned_targets] #-100se none alcak\n",
    "\n",
    "for x, y in zip(t.tokens(), aligned_labels):\n",
    "  print(f\"{x}\\t{y}\")"
   ]
  },
  {
   "cell_type": "markdown",
   "id": "Jx8ASOSCzq_d",
   "metadata": {
    "id": "Jx8ASOSCzq_d"
   },
   "source": [
    "All tags seem to have been aligned correctly!\n",
    "\n",
    "Now we are ready to build a custom tokenizer, which will apply tokenizer to the entire dataset and while aligning the labels accordingly!"
   ]
  },
  {
   "cell_type": "code",
   "execution_count": null,
   "id": "1QG1vdVal4bF",
   "metadata": {
    "id": "1QG1vdVal4bF"
   },
   "outputs": [],
   "source": [
    "# tokenize both inputs and targets\n",
    "def tokenize_fn(batch):\n",
    "  # tokenize the input sequence first\n",
    "  # this populates input_ids, attention_mask, etc.\n",
    "  tokenized_inputs = tokenizer(\n",
    "    batch['inputs'], truncation=True, is_split_into_words=True\n",
    "  )\n",
    "\n",
    "  labels_batch = batch['targets'] # original targets\n",
    "  aligned_labels_batch = []\n",
    "  for i, labels in enumerate(labels_batch):\n",
    "    word_ids = tokenized_inputs.word_ids(i)\n",
    "    aligned_labels_batch.append(align_targets(labels, word_ids))\n",
    "\n",
    "  # recall: the 'target' must be stored in key called 'labels'\n",
    "  tokenized_inputs['labels'] = aligned_labels_batch\n",
    "\n",
    "  return tokenized_inputs"
   ]
  },
  {
   "cell_type": "code",
   "execution_count": null,
   "id": "LQBBmIoNnVCL",
   "metadata": {
    "colab": {
     "base_uri": "https://localhost:8080/",
     "height": 81,
     "referenced_widgets": [
      "a25760e6e2004af888529a176d6820ac",
      "48e7df160a2c4520a4d07f9593330ea5",
      "676594f28ee54b0086eb39ad53d137d9",
      "ef8ac005399b442f93f927dd0c3b6d1d",
      "6bbe7c0c8a2544098cede8f78ddb78d1",
      "2c85de39828547899078034750f8b9b2",
      "6a141a3463d14f2f9c253962bf4faf9e",
      "98d0acabcc5e42b5b691807bc3b3a978",
      "2bd965a37f864e5e9bcf0333f759cb1a",
      "e843427dd4b64321979c07eaf5b2813b",
      "bfa2a29432fa46a2808aad7e2d124f04",
      "0903e521999c4875a58ee22ef37a95f2",
      "022ba743ff42452bae9bb30aff598fd7",
      "c657454bc1684728a210358b58a1af44",
      "4d30d44c6ece458c9a804ae9d60002eb",
      "57cac36e2601422b80d71a4fc3f3ec9b",
      "e2f0d9d164dd48adba39e55e6a871f3e",
      "68acd0b1b325489294708b36157f609a",
      "65e4953eb74e4e31acd76b36b4eba8d3",
      "64f97af205984f9db3fedae67b361205",
      "38db1c28a6fd492cb90f4637917054e0",
      "8dafc947ad664f50bea3bdb71d14413b"
     ]
    },
    "id": "LQBBmIoNnVCL",
    "outputId": "d326c65b-6865-4fc2-b84c-4a92d7fd4b5e"
   },
   "outputs": [],
   "source": [
    "tokenized_datasets = data.map(\n",
    "  tokenize_fn,\n",
    "  batched=True,\n",
    "  remove_columns=data[\"train\"].column_names, #this is in case the data contain columns other than input and labels\n",
    ")"
   ]
  },
  {
   "cell_type": "code",
   "execution_count": null,
   "id": "XOswOHusngxx",
   "metadata": {
    "colab": {
     "base_uri": "https://localhost:8080/"
    },
    "id": "XOswOHusngxx",
    "outputId": "a1f63004-f4c0-48f3-b78a-3ad6107410c3"
   },
   "outputs": [],
   "source": [
    "tokenized_datasets"
   ]
  },
  {
   "cell_type": "markdown",
   "id": "cibWp8U70BZY",
   "metadata": {
    "id": "cibWp8U70BZY"
   },
   "source": [
    "### Data Collator"
   ]
  },
  {
   "cell_type": "code",
   "execution_count": null,
   "id": "Ir0wYCdGn7dd",
   "metadata": {
    "id": "Ir0wYCdGn7dd"
   },
   "outputs": [],
   "source": [
    "data_collator = DataCollatorForTokenClassification(tokenizer=tokenizer)"
   ]
  },
  {
   "cell_type": "code",
   "execution_count": null,
   "id": "NJdATO6loWf5",
   "metadata": {
    "colab": {
     "base_uri": "https://localhost:8080/",
     "height": 104,
     "referenced_widgets": [
      "76e33e4ede3d49639664e708a820d38c",
      "caa21cb14ca541259da5c02222e93a76",
      "1f95962c81164e28a3299c74d592f94a",
      "e0a6aa27b4e2497d81c6523f3eb96152",
      "20e125a00edc4251a1e9aad69e81b249",
      "61d353c0ee8248639e2edbf91d208cda",
      "ed3485d2d1c34e04975d4da4f19f0a95",
      "a7ebc8d3030e49f1b9ae110fa09c0101",
      "e0e79a889603413ba044610bae67b813",
      "80102b1bee34477fa2900684a07518c0",
      "3302808109d04f11b62910a8261309db"
     ]
    },
    "id": "NJdATO6loWf5",
    "outputId": "912943d9-540f-4426-9b7d-e2750a65380a"
   },
   "outputs": [],
   "source": [
    "metric = load_metric(\"seqeval\")"
   ]
  },
  {
   "cell_type": "code",
   "execution_count": null,
   "id": "J_tZnV_Mof6K",
   "metadata": {
    "id": "J_tZnV_Mof6K"
   },
   "outputs": [],
   "source": [
    "def compute_metrics(logits_and_labels):\n",
    "  logits, labels = logits_and_labels\n",
    "  preds = np.argmax(logits, axis=-1)\n",
    "\n",
    "  # remove -100 from labels and predictions\n",
    "  # and convert the label_ids to label names\n",
    "  str_labels = [\n",
    "    [id2label[t] for t in label if t != -100] for label in labels\n",
    "  ] #only returns the labels for id != -100\n",
    "\n",
    "  # do the same for predictions whenever true label is -100,\n",
    "  # because we don't want our models predictions over the CLS and SEP tags (which will likely be %100 correct\n",
    "  # to bias and overestimate the performance of our model)\n",
    "\n",
    "  str_preds = [\n",
    "    [id2label[p] for p, t in zip(pred, targ) if t != -100] for pred, targ in zip(preds, labels)\n",
    "  ] #for every case that the original label is -100, the prediction will be removed without being taken into account\n",
    "\n",
    "  the_metrics = metric.compute(predictions=str_preds, references=str_labels)\n",
    "    #from here we format the result into a new dictionary\n",
    "  return {\n",
    "    'precision': the_metrics['overall_precision'],\n",
    "    'recall': the_metrics['overall_recall'],\n",
    "    'f1': the_metrics['overall_f1'],\n",
    "    'accuracy': the_metrics['overall_accuracy'],\n",
    "  }\n"
   ]
  },
  {
   "cell_type": "code",
   "execution_count": null,
   "id": "-jK61lLPXU6_",
   "metadata": {
    "id": "-jK61lLPXU6_"
   },
   "outputs": [],
   "source": [
    "model = AutoModelForTokenClassification.from_pretrained(\n",
    "    checkpoint,\n",
    "    id2label=id2label,\n",
    "    label2id=label2id,\n",
    "    #ignore_mismatched_sizes=True,\n",
    "    #there is no longer need for this after suppressing NUM label, now the number of labels in our data\n",
    "    #matches the number of labels in the pre-trained model\n",
    ")"
   ]
  },
  {
   "cell_type": "code",
   "execution_count": null,
   "id": "aILPhEFspClH",
   "metadata": {
    "id": "aILPhEFspClH"
   },
   "outputs": [],
   "source": [
    "training_args = TrainingArguments(\n",
    "    \"bert-finetuned-ner\",\n",
    "    evaluation_strategy=\"epoch\",\n",
    "    save_strategy=\"epoch\",\n",
    "    learning_rate=2e-5,\n",
    "    num_train_epochs=6,\n",
    "    weight_decay=0.01,\n",
    ")"
   ]
  },
  {
   "cell_type": "code",
   "execution_count": null,
   "id": "OENVQp89phFN",
   "metadata": {
    "colab": {
     "base_uri": "https://localhost:8080/",
     "height": 316
    },
    "id": "OENVQp89phFN",
    "outputId": "52fd6682-ac3a-4699-a8e4-d423510c3101"
   },
   "outputs": [],
   "source": [
    "trainer = Trainer(\n",
    "    model=model,\n",
    "    args=training_args,\n",
    "    train_dataset=tokenized_datasets[\"train\"],\n",
    "    eval_dataset=tokenized_datasets[\"test\"],\n",
    "    data_collator=data_collator, ### the only difference from previous section\n",
    "    compute_metrics=compute_metrics,\n",
    "    tokenizer=tokenizer,\n",
    ")\n",
    "trainer.train()"
   ]
  },
  {
   "cell_type": "code",
   "execution_count": null,
   "id": "iTHeQMVDrBhX",
   "metadata": {
    "id": "iTHeQMVDrBhX"
   },
   "outputs": [],
   "source": [
    "trainer.save_model('my_saved_model')"
   ]
  },
  {
   "cell_type": "markdown",
   "id": "L45rlhAA00FY",
   "metadata": {
    "id": "L45rlhAA00FY"
   },
   "source": [
    "### Building Pipeline and Testing the Model\n",
    "Notice that I name this first pipeline pipe_none, referring to the fact that I did not choose any aggregation strategy and I will receive the predictions for subword units.\n",
    "\n",
    "Let's see how this model will perform on the train and validation sets."
   ]
  },
  {
   "cell_type": "code",
   "execution_count": null,
   "id": "hDdH8szK24gc",
   "metadata": {
    "id": "hDdH8szK24gc"
   },
   "outputs": [],
   "source": [
    "pipe_none = pipeline(\n",
    "  \"token-classification\",\n",
    "  model='my_saved_model',\n",
    "  device=0,\n",
    ")"
   ]
  },
  {
   "cell_type": "code",
   "execution_count": null,
   "id": "1BMMpP4x04ts",
   "metadata": {
    "id": "1BMMpP4x04ts"
   },
   "outputs": [],
   "source": [
    "def flatten(list_of_lists):\n",
    "  flattened = [item for sublist in list_of_lists for item in sublist]\n",
    "  return flattened\n"
   ]
  },
  {
   "cell_type": "markdown",
   "id": "JqPsu4H20TuY",
   "metadata": {
    "id": "JqPsu4H20TuY"
   },
   "source": [
    "We know that our inputs are tags are normally formatted as list of lists, where each sublist in the main list corresponds to input sentences and each item in the sublist corresponds to tokens.\n",
    "\n",
    "To evaluate the performance metrics, I will define a flatten function that would convert these nested lists into a single list. And then I will apply the metrics defined above to assess model performances.\n",
    "\n",
    "### Attention:\n",
    "Note that there is a degree of naivety with this approach. For each metric, it takes into account the number of False Positives, False Negatives, True Positives and True Negatives in the sample, and returns us accuracy, f1, precision and recall scores.\n",
    "\n",
    "This approach relies on the assumption that the predictions on the labels assigned to the tokens are independent from each other and thus can reflect the model performance. However, this is rarely the case, since the model's prediction of a previous token likely to affect its prediction on the next token, this might especially be case for the subword tokens belonging to the same word. Therefore, in reality, predictions can be interdependent and chaning one can lead the model to change several others too.\n",
    "\n",
    "But for the sake of simplicity, I will neglect this bias in the performance metrics and take them as an acceptable indicator of the performance."
   ]
  },
  {
   "cell_type": "code",
   "execution_count": null,
   "id": "IJ0v8Ct1rTKL",
   "metadata": {
    "colab": {
     "base_uri": "https://localhost:8080/"
    },
    "id": "IJ0v8Ct1rTKL",
    "outputId": "3668f943-2155-4e44-e891-dbb66a86c5e6"
   },
   "outputs": [],
   "source": [
    "val_pred_none = pipe_none(flatten(data['test']['inputs']))\n",
    "train_pred_none = pipe_none(flatten(data['train']['inputs']))\n",
    "val_pred_none[:20]"
   ]
  },
  {
   "cell_type": "code",
   "execution_count": null,
   "id": "xem_uDBVBA0s",
   "metadata": {
    "colab": {
     "base_uri": "https://localhost:8080/"
    },
    "id": "xem_uDBVBA0s",
    "outputId": "5c0b3432-a217-4988-adbb-18501c6619b0"
   },
   "outputs": [],
   "source": [
    "target_tags_val = flatten(tokenized_datasets[\"test\"]['labels'])\n",
    "target_tags_train = flatten(tokenized_datasets[\"train\"]['labels'])\n",
    "print(\"The number of the NER tags in the training set:\", len(target_tags_train))\n",
    "print(\"The number of the NER tags in the validation set:\", len(target_tags_val))"
   ]
  },
  {
   "cell_type": "markdown",
   "id": "KtSBjYz31EUN",
   "metadata": {
    "id": "KtSBjYz31EUN"
   },
   "source": [
    "Remember that we had inserted the tags for CLS and SEP tokens in order to be able to train the model, yet these are not present in the predictions the model returns nor do we want them to be as we don't want them to bias our performance metrics. So let's drop tags -100 from our actual targets."
   ]
  },
  {
   "cell_type": "code",
   "execution_count": null,
   "id": "ZJ2vuwwloQ31",
   "metadata": {
    "colab": {
     "base_uri": "https://localhost:8080/"
    },
    "id": "ZJ2vuwwloQ31",
    "outputId": "0f8186de-c4e7-45cf-e010-4c6f46a840ac"
   },
   "outputs": [],
   "source": [
    "print(\"The number of -100 tags we inserted in the training set:\", target_tags_train.count(-100))\n",
    "print(\"The number of -100 tags we inserted in the validation set:\", target_tags_val.count(-100))\n"
   ]
  },
  {
   "cell_type": "code",
   "execution_count": null,
   "id": "8863ofZiPnXt",
   "metadata": {
    "colab": {
     "base_uri": "https://localhost:8080/"
    },
    "id": "8863ofZiPnXt",
    "outputId": "f28034bf-7cff-4554-8223-9ad6f9baf188"
   },
   "outputs": [],
   "source": [
    "targ_train_labels = [x for x in target_tags_train if x != -100]\n",
    "targ_val_labels = [x for x in target_tags_val if x != -100]\n",
    "print(\"New number of the NER tags in the training set:\", len(targ_train_labels))\n",
    "print(\"New number of the NER tags in the validation set:\", len(targ_val_labels))\n"
   ]
  },
  {
   "cell_type": "markdown",
   "id": "_QUBti_r1RlP",
   "metadata": {
    "id": "_QUBti_r1RlP"
   },
   "source": [
    "We have confirmed that the length of targets and predictions match both for train and valdiation set. Now let's check out the metric scores."
   ]
  },
  {
   "cell_type": "code",
   "execution_count": null,
   "id": "Dm3QrP7r6TSI",
   "metadata": {
    "colab": {
     "base_uri": "https://localhost:8080/"
    },
    "id": "Dm3QrP7r6TSI",
    "outputId": "ac985faa-504d-47cd-cea5-92885c861a7c"
   },
   "outputs": [],
   "source": [
    "pred_labels_train = []\n",
    "for item in train_pred_none:\n",
    "  for j in item:\n",
    "    pred_labels_train.append(label2id[j['entity']])\n",
    "\n",
    "pred_labels_val = []\n",
    "for item in val_pred_none:\n",
    "  for j in item:\n",
    "    pred_labels_val.append(label2id[j['entity']])\n",
    "\n",
    "print(\"The number of predicted labels for the training set:\", len(pred_labels_train))\n",
    "print(\"The number of predicted labels for the validation set:\", len(pred_labels_val))"
   ]
  },
  {
   "cell_type": "code",
   "execution_count": null,
   "id": "Dvf6GvP60Q_G",
   "metadata": {
    "colab": {
     "base_uri": "https://localhost:8080/"
    },
    "id": "Dvf6GvP60Q_G",
    "outputId": "cfdc68a3-ca10-4820-feab-78e588793747"
   },
   "outputs": [],
   "source": [
    "print(\"train_accuracy:\", accuracy_score(targ_train_labels, pred_labels_train))\n",
    "print(\"train_f1:\", f1_score(targ_train_labels, pred_labels_train, average='macro'))\n",
    "\n",
    "print(\"val_accuracy:\", accuracy_score(targ_val_labels, pred_labels_val))\n",
    "print(\"val_f1:\", f1_score(targ_val_labels, pred_labels_val, average='macro'))\n"
   ]
  },
  {
   "cell_type": "markdown",
   "id": "8rxgyrQe1b8A",
   "metadata": {
    "id": "8rxgyrQe1b8A"
   },
   "source": [
    "Let's visualize the precision and recall scores for each label in a table.\n"
   ]
  },
  {
   "cell_type": "code",
   "execution_count": null,
   "id": "4PJ7Q4KJj8hU",
   "metadata": {
    "colab": {
     "base_uri": "https://localhost:8080/",
     "height": 286
    },
    "id": "4PJ7Q4KJj8hU",
    "outputId": "213a0a25-a163-42ed-f56f-f8bd96de39ce"
   },
   "outputs": [],
   "source": [
    "print(\"Train Set Precision and Recall\")\n",
    "pd.concat([pd.Series(id2label.values()),\n",
    "          pd.Series(precision_score(targ_train_labels, pred_labels_train, average=None)),\n",
    "          pd.Series(recall_score(targ_train_labels, pred_labels_train, average=None))], keys = ['tags', 'precision', 'recall'], axis=1)\n"
   ]
  },
  {
   "cell_type": "code",
   "execution_count": null,
   "id": "4DrYZfY0x_Sa",
   "metadata": {
    "colab": {
     "base_uri": "https://localhost:8080/",
     "height": 286
    },
    "id": "4DrYZfY0x_Sa",
    "outputId": "7345e8e1-b0c0-41f2-dea7-7b8b2c31f29a"
   },
   "outputs": [],
   "source": [
    "print(\"Validation Set Precision and Recall\")\n",
    "pd.concat([pd.Series(id2label.values()),\n",
    "          pd.Series(precision_score(targ_val_labels, pred_labels_val, average=None)),\n",
    "          pd.Series(recall_score(targ_val_labels, pred_labels_val, average=None))], keys = ['tags', 'precision', 'recall'], axis=1)\n"
   ]
  },
  {
   "cell_type": "code",
   "execution_count": null,
   "id": "Ss6b6xE51mL1",
   "metadata": {
    "id": "Ss6b6xE51mL1"
   },
   "outputs": [],
   "source": [
    "classes = ner_tags\n",
    "def plot_cm(ax, cm, title):\n",
    "    df_cm = pd.DataFrame(cm, index=classes, columns=classes)\n",
    "    sns.heatmap(df_cm, annot=True, fmt='.2f', ax = ax, cmap= 'YlGnBu')\n",
    "    ax.set_xlabel(\"Predicted\")\n",
    "    ax.set_ylabel(\"Target\")\n",
    "    ax.set_title(title)"
   ]
  },
  {
   "cell_type": "code",
   "execution_count": null,
   "id": "j93nC0JR1swq",
   "metadata": {
    "id": "j93nC0JR1swq"
   },
   "outputs": [],
   "source": [
    "P_train = [id2label[x] for x in pred_labels_train ]\n",
    "Y_train = [id2label[x] for x in targ_train_labels ]\n",
    "P_test = [id2label[x] for x in pred_labels_val ]\n",
    "Y_test = [id2label[x] for x in targ_val_labels ]"
   ]
  },
  {
   "cell_type": "code",
   "execution_count": null,
   "id": "5ozsNM9O1ucR",
   "metadata": {
    "colab": {
     "base_uri": "https://localhost:8080/",
     "height": 407
    },
    "id": "5ozsNM9O1ucR",
    "outputId": "eeacb43c-08e9-4590-b746-8e5e09f0d62e"
   },
   "outputs": [],
   "source": [
    "cm_train = confusion_matrix(Y_train,P_train, normalize='true')\n",
    "cm_val = confusion_matrix(Y_test,P_test, normalize='true')\n",
    "\n",
    "\n",
    "fig, axes = plt.subplots(1, 2, figsize=(9,4))\n",
    "plot_cm(axes[0], cm_train, title='Confusion Matrix for Train Set')\n",
    "plot_cm(axes[1], cm_val, title='Confusion Matrix for Validation Set')\n",
    "\n",
    "plt.tight_layout()\n",
    "plt.show()"
   ]
  },
  {
   "cell_type": "code",
   "execution_count": null,
   "id": "Y2ANhKBw5c9l",
   "metadata": {
    "colab": {
     "base_uri": "https://localhost:8080/"
    },
    "id": "Y2ANhKBw5c9l",
    "outputId": "42b69e69-1df4-41ab-fb06-ea0268e8d344"
   },
   "outputs": [],
   "source": [
    "aggr_tags = ['OTHER', 'PER', 'CITY', 'ADDR']\n",
    "id2label_aggr = {k: v for k, v in enumerate(aggr_tags)}\n",
    "label2id_aggr = {v: k for k, v in id2label_aggr.items()}\n",
    "label2id_aggr"
   ]
  },
  {
   "cell_type": "code",
   "execution_count": null,
   "id": "uKZHCR4JQLDx",
   "metadata": {
    "id": "uKZHCR4JQLDx"
   },
   "outputs": [],
   "source": [
    "aggr_pred_train = []\n",
    "for i in range(len(pred_labels_train)):\n",
    "  if pred_labels_train[i] == 0:\n",
    "    aggr_pred_train.append(0)\n",
    "  else:\n",
    "    tag = id2label[pred_labels_train[i]][2:]\n",
    "    aggr_pred_train.append(aggr_tags.index(tag))\n",
    "\n",
    "aggr_pred_val = []\n",
    "for i in range(len(pred_labels_val)):\n",
    "  if pred_labels_val[i] == 0:\n",
    "    aggr_pred_val.append(0)\n",
    "  else:\n",
    "    tag = id2label[pred_labels_val[i]][2:]\n",
    "    aggr_pred_val.append(aggr_tags.index(tag))\n"
   ]
  },
  {
   "cell_type": "code",
   "execution_count": null,
   "id": "vI8Rv9sJlAeR",
   "metadata": {
    "id": "vI8Rv9sJlAeR"
   },
   "outputs": [],
   "source": [
    "aggr_target_train = []\n",
    "for i in range(len(targ_train_labels)):\n",
    "  if targ_train_labels[i] == 0:\n",
    "    aggr_target_train.append(0)\n",
    "  else:\n",
    "    tag = id2label[targ_train_labels[i]][2:]\n",
    "    aggr_target_train.append(aggr_tags.index(tag))\n",
    "\n",
    "aggr_target_val = []\n",
    "for i in range(len(targ_val_labels)):\n",
    "  if targ_val_labels[i] == 0:\n",
    "    aggr_target_val.append(0)\n",
    "  else:\n",
    "    tag = id2label[targ_val_labels[i]][2:]\n",
    "    aggr_target_val.append(aggr_tags.index(tag))\n"
   ]
  },
  {
   "cell_type": "code",
   "execution_count": null,
   "id": "rQohuZu1eN1a",
   "metadata": {
    "colab": {
     "base_uri": "https://localhost:8080/"
    },
    "id": "rQohuZu1eN1a",
    "outputId": "e0e85a4a-3001-4a6e-dd12-dafa4cdf0d36"
   },
   "outputs": [],
   "source": [
    "print(\"train_accuracy:\", accuracy_score(aggr_target_train, aggr_pred_train))\n",
    "print(\"train_f1:\", f1_score(aggr_target_train, aggr_pred_train, average='macro'))\n",
    "\n",
    "print(\"val_accuracy:\", accuracy_score(aggr_target_val, aggr_pred_val))\n",
    "print(\"val_f1:\", f1_score(aggr_target_val, aggr_pred_val, average='macro'))\n"
   ]
  },
  {
   "cell_type": "code",
   "execution_count": null,
   "id": "Njf_EBw2eNxL",
   "metadata": {
    "colab": {
     "base_uri": "https://localhost:8080/",
     "height": 407
    },
    "id": "Njf_EBw2eNxL",
    "outputId": "aa33343d-49ef-4adc-d9ac-20e14f09b318"
   },
   "outputs": [],
   "source": [
    "P_train = [id2label[x] for x in aggr_pred_train ]\n",
    "Y_train = [id2label[x] for x in aggr_target_train ]\n",
    "P_test = [id2label[x] for x in aggr_pred_val ]\n",
    "Y_test = [id2label[x] for x in aggr_target_val]\n",
    "\n",
    "classes=aggr_tags\n",
    "\n",
    "cm_train = confusion_matrix(Y_train,P_train, normalize='true')\n",
    "cm_val = confusion_matrix(Y_test,P_test, normalize='true')\n",
    "\n",
    "\n",
    "fig, axes = plt.subplots(1, 2, figsize=(9,4))\n",
    "plot_cm(axes[0], cm_train, title='Confusion Matrix for Train Set')\n",
    "plot_cm(axes[1], cm_val, title='Confusion Matrix for Validation Set')\n",
    "\n",
    "plt.tight_layout()\n",
    "plt.show()"
   ]
  },
  {
   "cell_type": "code",
   "execution_count": null,
   "id": "TASFkFD8lJCk",
   "metadata": {
    "id": "TASFkFD8lJCk"
   },
   "outputs": [],
   "source": [
    "join_tweets = []\n",
    "for tweet in data['test']['inputs']:\n",
    "  joined = ' '.join(tweet)\n",
    "  join_tweets.append(joined)\n",
    "\n",
    "predictions = []\n",
    "false_predictions = []\n",
    "\n",
    "for tweet in join_tweets:\n",
    "  result = pipe_none(tweet)\n",
    "  tweet_preds = []\n",
    "  tweet_preds.append(-100)\n",
    "  for token in result:\n",
    "    tweet_preds.append(label2id[token['entity']])\n",
    "  tweet_preds.append(-100)\n",
    "  predictions.append(tweet_preds)\n",
    "\n",
    "  if tweet_preds != tokenized_datasets['test']['labels'][join_tweets.index(tweet)]:\n",
    "    false_predictions.append(tweet)\n"
   ]
  },
  {
   "cell_type": "code",
   "execution_count": null,
   "id": "rS60OOEW9JtL",
   "metadata": {
    "colab": {
     "base_uri": "https://localhost:8080/"
    },
    "id": "rS60OOEW9JtL",
    "outputId": "12aac62d-276e-479d-d04d-187bfe078f8c"
   },
   "outputs": [],
   "source": [
    "print(\"The number of false predited tags in the test set is\", len(false_predictions))"
   ]
  },
  {
   "cell_type": "code",
   "execution_count": null,
   "id": "HMU2W9XT9gH7",
   "metadata": {
    "id": "HMU2W9XT9gH7"
   },
   "outputs": [],
   "source": [
    "false_results = pipe_none(false_predictions)"
   ]
  },
  {
   "cell_type": "code",
   "execution_count": null,
   "id": "16NauCgr_C-6",
   "metadata": {
    "colab": {
     "base_uri": "https://localhost:8080/"
    },
    "id": "16NauCgr_C-6",
    "outputId": "5727702e-2750-4f40-d249-84759de15538"
   },
   "outputs": [],
   "source": [
    "N = 3\n",
    "for item in false_results[N]:\n",
    "  print(item['entity'], item['word'])"
   ]
  },
  {
   "cell_type": "code",
   "execution_count": null,
   "id": "xi66GH36Hl2y",
   "metadata": {
    "colab": {
     "base_uri": "https://localhost:8080/"
    },
    "id": "xi66GH36Hl2y",
    "outputId": "b75e78fa-6325-4872-c34e-cbe0843c2348"
   },
   "outputs": [],
   "source": [
    "N = 2\n",
    "for item in false_results[N]:\n",
    "  print(item['entity'], item['word'])"
   ]
  },
  {
   "cell_type": "code",
   "execution_count": null,
   "id": "yW15YQ2uIVW6",
   "metadata": {
    "colab": {
     "base_uri": "https://localhost:8080/"
    },
    "id": "yW15YQ2uIVW6",
    "outputId": "02e5869d-d619-40d0-dd65-cf63b881ecc8"
   },
   "outputs": [],
   "source": [
    "N = 90\n",
    "for item in false_results[N]:\n",
    "  print(item['entity'], item['word'])"
   ]
  },
  {
   "cell_type": "code",
   "execution_count": null,
   "id": "r-FAxaQkfxY0",
   "metadata": {
    "id": "r-FAxaQkfxY0"
   },
   "outputs": [],
   "source": [
    "pipe_first = pipeline(\n",
    "  \"token-classification\",\n",
    "  model='my_saved_model',\n",
    "  aggregation_strategy = \"first\",\n",
    "  device=0,\n",
    ")\n"
   ]
  },
  {
   "cell_type": "code",
   "execution_count": null,
   "id": "xvWOOAIaxBZW",
   "metadata": {
    "colab": {
     "base_uri": "https://localhost:8080/"
    },
    "id": "xvWOOAIaxBZW",
    "outputId": "0a6f2281-86b4-4e15-84f5-a8e5fb2db242"
   },
   "outputs": [],
   "source": [
    "pipe_first(false_predictions[3])"
   ]
  },
  {
   "cell_type": "code",
   "execution_count": null,
   "id": "MZrm8z58k2y5",
   "metadata": {
    "colab": {
     "base_uri": "https://localhost:8080/"
    },
    "id": "MZrm8z58k2y5",
    "outputId": "f4c44da5-d2d4-4504-bfa8-8da134e3b7f6"
   },
   "outputs": [],
   "source": [
    "pipe_first(false_predictions[90])"
   ]
  },
  {
   "cell_type": "code",
   "execution_count": null,
   "id": "tTVwwulLxeI_",
   "metadata": {
    "colab": {
     "base_uri": "https://localhost:8080/"
    },
    "id": "tTVwwulLxeI_",
    "outputId": "e3e1ce64-ea54-4f78-8be4-f1e01dfd077c"
   },
   "outputs": [],
   "source": [
    "!pip install huggingface_hub"
   ]
  },
  {
   "cell_type": "code",
   "execution_count": null,
   "id": "8t_tlKKBb7xd",
   "metadata": {
    "id": "8t_tlKKBb7xd"
   },
   "outputs": [],
   "source": [
    "import huggingface_hub"
   ]
  },
  {
   "cell_type": "code",
   "execution_count": null,
   "id": "bAYlBmeZKWt9",
   "metadata": {
    "colab": {
     "base_uri": "https://localhost:8080/"
    },
    "id": "bAYlBmeZKWt9",
    "outputId": "76cb1d46-cc27-4332-acb1-067df1eedbfd"
   },
   "outputs": [],
   "source": [
    "!huggingface-cli login\n",
    "!huggingface-cli repo create turkish-earthquake-tweets-ner"
   ]
  },
  {
   "cell_type": "code",
   "execution_count": null,
   "id": "Cq4L-TONcu_u",
   "metadata": {
    "colab": {
     "base_uri": "https://localhost:8080/"
    },
    "id": "Cq4L-TONcu_u",
    "outputId": "b19781f9-a88b-4cc1-b841-118c9b7337ab"
   },
   "outputs": [],
   "source": [
    "!huggingface-cli login\n",
    "!huggingface-cli repo create turkish-earthquake-tweets-ner-bert"
   ]
  },
  {
   "cell_type": "code",
   "execution_count": null,
   "id": "7f_WxPrzcAHJ",
   "metadata": {
    "colab": {
     "base_uri": "https://localhost:8080/",
     "height": 131,
     "referenced_widgets": [
      "109c8cf4f4a147abbce012ed77a1497a",
      "22e4824add5141b4acb76eac9d5af417",
      "1f3c632fab2f4b2a8a5e053ff59e9d0c",
      "98cd2cca35b5493484e66f438213148b",
      "f1a57b72a9244d60a77357b642269e62",
      "bb4af9574d5d4677beace17647a1e377",
      "e396cf58ca1d44069422f0113f8cd4fa",
      "e6c04602fae3482fb9000583de3fd154",
      "8aa2134692204bafa36fa73858cf4a01",
      "2c789873c2a4499fa59c804fce433d4a",
      "0b30e4b9b4f54c1d94f9910eecae6b2d",
      "f6e60827e09244a793424e6ce1621d55",
      "ff5b05fc1ecf4f91be6aa2fd62ebfd83",
      "bbce29c247d34463a10b34922d678477",
      "5fb743648b684f72a5dd47f3d9b825f3",
      "990db9004bdb4d97922ec4e294c9f47b",
      "f43fc5bfbc3b45df930c7773e348de84",
      "e2306d5314b24d6d93b54b5fc57ef85e",
      "4a5e1dea1dfb41b8b01b3185dcc1927d",
      "d782464d1a554634bb23e26936948d52",
      "79dbb58073f04356ada244d70780987d",
      "7c25e9900cc3427698aa5a9bbed8d970",
      "826bda18531d46a3941da68c5b63247d",
      "8038ef6c3a0748eba1b64d23cc49096b",
      "228f3c1abb7141a99f545e40627eb79a",
      "6203b2d12a5c4ff1b54ff4681fb4b073",
      "29bbd3346f384392b986cc8dc743cdec",
      "2ea74dd5262d4fa0bf78b6e6cf84bf5c",
      "0f06d33b234b4d7f9bf9f509d7c1267a",
      "93ecb854c1c94a92be35563f509e54b7",
      "4bae9cbd44ab4bda96a8e6db42ed2d32",
      "dde7c35cb44a40be902d7602d4b2bd7e",
      "0f270d58e53541fb858b19cee1f10fa6"
     ]
    },
    "id": "7f_WxPrzcAHJ",
    "outputId": "b1cf3955-a748-417a-b019-b97dd6a4e909"
   },
   "outputs": [],
   "source": [
    "huggingface_hub.upload_folder(folder_path='my_saved_model',\n",
    "    repo_id=\"yhaslan/turkish-earthquake-tweets-ner\",\n",
    "    repo_type=\"model\"\n",
    ")"
   ]
  },
  {
   "cell_type": "code",
   "execution_count": null,
   "id": "YRJgoZ8qcRQJ",
   "metadata": {
    "colab": {
     "base_uri": "https://localhost:8080/",
     "height": 131,
     "referenced_widgets": [
      "e3202bd855204f3fa6be9e14d0b2cb70",
      "6dd0e6c1229647cab4471773e4d869e7",
      "67a44198dd61495c8c5105a87b2b2c0c",
      "437bfb5bff3c4034b5285fa161409aa0",
      "b75bb34970be44a49dc0aa9009c469d5",
      "a6a8263c28c2461c90424702a576154b",
      "366461d22c9543aab7aa9424ffa9b5d9",
      "551d59f112224dbeb4c6c961956e2baf",
      "dea9ebd1abca47e9b6af3391ebb38afe",
      "411680566dda41c7a6bfde7fa3dfaa4c",
      "5e62612cefc6443c8e2f0ae1c799fe89",
      "857c80f828634039bc84b786d81e0291",
      "3773ffecc28d4c7d962b32f24a06b5a7",
      "86552ad4d09b40abb2033062f72e44cc",
      "57d0d0528b2848f38a681e721edb831a",
      "fcfc1869f4824ec6ab640d5b459a91e6",
      "11c44a2279014af69ba7eea4f46d0c66",
      "5f191032f8bb461a9e85987511be1b4d",
      "4c7d4582030d49d18f3a2fdc52e74246",
      "1ee2f43a95104251a41a6641c5c35f47",
      "e268d959f84e4ffe81c63d504b7a22c2",
      "18c53376fc084da3ace18cb07cc2c5dd",
      "06b39b231f184944a86a29d7dbd53714",
      "a020ee6862cb482d8812253b899496f8",
      "1d820c45dbe64a14ae97a1b24263358a",
      "b8722b15c6cc45ac84108edee1d9a8b1",
      "4700b223c77d43079b6578481dd7ec55",
      "fe3e72cf28bd4ec08c90347dc3325c25",
      "aec6d5812b8f4accb42511575b1c8f1b",
      "8efd2ed0f519413ebcb03277879b0d74",
      "00850b74f13742f79cbf712d1c0c6968",
      "a06305dde6ab4dbc839aad52506fa446",
      "383e40afafbc49d5992a0a82a915b33b"
     ]
    },
    "id": "YRJgoZ8qcRQJ",
    "outputId": "3482d45c-a1f0-4a3c-acec-4cf54e3b68a8"
   },
   "outputs": [],
   "source": [
    "huggingface_hub.upload_folder(folder_path='my_saved_model',\n",
    "    repo_id=\"yhaslan/turkish-earthquake-tweets-ner-berturk\",\n",
    "    repo_type=\"model\"\n",
    ")"
   ]
  },
  {
   "cell_type": "markdown",
   "id": "2Jhq5GiGKils",
   "metadata": {
    "id": "2Jhq5GiGKils"
   },
   "source": []
  }
 ],
 "metadata": {
  "accelerator": "GPU",
  "colab": {
   "gpuType": "T4",
   "provenance": []
  },
  "kernelspec": {
   "display_name": "Python 3 (ipykernel)",
   "language": "python",
   "name": "python3"
  },
  "language_info": {
   "codemirror_mode": {
    "name": "ipython",
    "version": 3
   },
   "file_extension": ".py",
   "mimetype": "text/x-python",
   "name": "python",
   "nbconvert_exporter": "python",
   "pygments_lexer": "ipython3",
   "version": "3.9.13"
  },
  "widgets": {
   "application/vnd.jupyter.widget-state+json": {
    "00850b74f13742f79cbf712d1c0c6968": {
     "model_module": "@jupyter-widgets/controls",
     "model_module_version": "1.5.0",
     "model_name": "ProgressStyleModel",
     "state": {
      "_model_module": "@jupyter-widgets/controls",
      "_model_module_version": "1.5.0",
      "_model_name": "ProgressStyleModel",
      "_view_count": null,
      "_view_module": "@jupyter-widgets/base",
      "_view_module_version": "1.2.0",
      "_view_name": "StyleView",
      "bar_color": null,
      "description_width": ""
     }
    },
    "022ba743ff42452bae9bb30aff598fd7": {
     "model_module": "@jupyter-widgets/controls",
     "model_module_version": "1.5.0",
     "model_name": "HTMLModel",
     "state": {
      "_dom_classes": [],
      "_model_module": "@jupyter-widgets/controls",
      "_model_module_version": "1.5.0",
      "_model_name": "HTMLModel",
      "_view_count": null,
      "_view_module": "@jupyter-widgets/controls",
      "_view_module_version": "1.5.0",
      "_view_name": "HTMLView",
      "description": "",
      "description_tooltip": null,
      "layout": "IPY_MODEL_e2f0d9d164dd48adba39e55e6a871f3e",
      "placeholder": "​",
      "style": "IPY_MODEL_68acd0b1b325489294708b36157f609a",
      "value": "Map: 100%"
     }
    },
    "06b39b231f184944a86a29d7dbd53714": {
     "model_module": "@jupyter-widgets/controls",
     "model_module_version": "1.5.0",
     "model_name": "HBoxModel",
     "state": {
      "_dom_classes": [],
      "_model_module": "@jupyter-widgets/controls",
      "_model_module_version": "1.5.0",
      "_model_name": "HBoxModel",
      "_view_count": null,
      "_view_module": "@jupyter-widgets/controls",
      "_view_module_version": "1.5.0",
      "_view_name": "HBoxView",
      "box_style": "",
      "children": [
       "IPY_MODEL_a020ee6862cb482d8812253b899496f8",
       "IPY_MODEL_1d820c45dbe64a14ae97a1b24263358a",
       "IPY_MODEL_b8722b15c6cc45ac84108edee1d9a8b1"
      ],
      "layout": "IPY_MODEL_4700b223c77d43079b6578481dd7ec55"
     }
    },
    "0903e521999c4875a58ee22ef37a95f2": {
     "model_module": "@jupyter-widgets/controls",
     "model_module_version": "1.5.0",
     "model_name": "HBoxModel",
     "state": {
      "_dom_classes": [],
      "_model_module": "@jupyter-widgets/controls",
      "_model_module_version": "1.5.0",
      "_model_name": "HBoxModel",
      "_view_count": null,
      "_view_module": "@jupyter-widgets/controls",
      "_view_module_version": "1.5.0",
      "_view_name": "HBoxView",
      "box_style": "",
      "children": [
       "IPY_MODEL_022ba743ff42452bae9bb30aff598fd7",
       "IPY_MODEL_c657454bc1684728a210358b58a1af44",
       "IPY_MODEL_4d30d44c6ece458c9a804ae9d60002eb"
      ],
      "layout": "IPY_MODEL_57cac36e2601422b80d71a4fc3f3ec9b"
     }
    },
    "0b30e4b9b4f54c1d94f9910eecae6b2d": {
     "model_module": "@jupyter-widgets/controls",
     "model_module_version": "1.5.0",
     "model_name": "DescriptionStyleModel",
     "state": {
      "_model_module": "@jupyter-widgets/controls",
      "_model_module_version": "1.5.0",
      "_model_name": "DescriptionStyleModel",
      "_view_count": null,
      "_view_module": "@jupyter-widgets/base",
      "_view_module_version": "1.2.0",
      "_view_name": "StyleView",
      "description_width": ""
     }
    },
    "0f06d33b234b4d7f9bf9f509d7c1267a": {
     "model_module": "@jupyter-widgets/controls",
     "model_module_version": "1.5.0",
     "model_name": "DescriptionStyleModel",
     "state": {
      "_model_module": "@jupyter-widgets/controls",
      "_model_module_version": "1.5.0",
      "_model_name": "DescriptionStyleModel",
      "_view_count": null,
      "_view_module": "@jupyter-widgets/base",
      "_view_module_version": "1.2.0",
      "_view_name": "StyleView",
      "description_width": ""
     }
    },
    "0f270d58e53541fb858b19cee1f10fa6": {
     "model_module": "@jupyter-widgets/controls",
     "model_module_version": "1.5.0",
     "model_name": "DescriptionStyleModel",
     "state": {
      "_model_module": "@jupyter-widgets/controls",
      "_model_module_version": "1.5.0",
      "_model_name": "DescriptionStyleModel",
      "_view_count": null,
      "_view_module": "@jupyter-widgets/base",
      "_view_module_version": "1.2.0",
      "_view_name": "StyleView",
      "description_width": ""
     }
    },
    "109c8cf4f4a147abbce012ed77a1497a": {
     "model_module": "@jupyter-widgets/controls",
     "model_module_version": "1.5.0",
     "model_name": "HBoxModel",
     "state": {
      "_dom_classes": [],
      "_model_module": "@jupyter-widgets/controls",
      "_model_module_version": "1.5.0",
      "_model_name": "HBoxModel",
      "_view_count": null,
      "_view_module": "@jupyter-widgets/controls",
      "_view_module_version": "1.5.0",
      "_view_name": "HBoxView",
      "box_style": "",
      "children": [
       "IPY_MODEL_22e4824add5141b4acb76eac9d5af417",
       "IPY_MODEL_1f3c632fab2f4b2a8a5e053ff59e9d0c",
       "IPY_MODEL_98cd2cca35b5493484e66f438213148b"
      ],
      "layout": "IPY_MODEL_f1a57b72a9244d60a77357b642269e62"
     }
    },
    "11c44a2279014af69ba7eea4f46d0c66": {
     "model_module": "@jupyter-widgets/base",
     "model_module_version": "1.2.0",
     "model_name": "LayoutModel",
     "state": {
      "_model_module": "@jupyter-widgets/base",
      "_model_module_version": "1.2.0",
      "_model_name": "LayoutModel",
      "_view_count": null,
      "_view_module": "@jupyter-widgets/base",
      "_view_module_version": "1.2.0",
      "_view_name": "LayoutView",
      "align_content": null,
      "align_items": null,
      "align_self": null,
      "border": null,
      "bottom": null,
      "display": null,
      "flex": null,
      "flex_flow": null,
      "grid_area": null,
      "grid_auto_columns": null,
      "grid_auto_flow": null,
      "grid_auto_rows": null,
      "grid_column": null,
      "grid_gap": null,
      "grid_row": null,
      "grid_template_areas": null,
      "grid_template_columns": null,
      "grid_template_rows": null,
      "height": null,
      "justify_content": null,
      "justify_items": null,
      "left": null,
      "margin": null,
      "max_height": null,
      "max_width": null,
      "min_height": null,
      "min_width": null,
      "object_fit": null,
      "object_position": null,
      "order": null,
      "overflow": null,
      "overflow_x": null,
      "overflow_y": null,
      "padding": null,
      "right": null,
      "top": null,
      "visibility": null,
      "width": null
     }
    },
    "18c53376fc084da3ace18cb07cc2c5dd": {
     "model_module": "@jupyter-widgets/controls",
     "model_module_version": "1.5.0",
     "model_name": "DescriptionStyleModel",
     "state": {
      "_model_module": "@jupyter-widgets/controls",
      "_model_module_version": "1.5.0",
      "_model_name": "DescriptionStyleModel",
      "_view_count": null,
      "_view_module": "@jupyter-widgets/base",
      "_view_module_version": "1.2.0",
      "_view_name": "StyleView",
      "description_width": ""
     }
    },
    "1d820c45dbe64a14ae97a1b24263358a": {
     "model_module": "@jupyter-widgets/controls",
     "model_module_version": "1.5.0",
     "model_name": "FloatProgressModel",
     "state": {
      "_dom_classes": [],
      "_model_module": "@jupyter-widgets/controls",
      "_model_module_version": "1.5.0",
      "_model_name": "FloatProgressModel",
      "_view_count": null,
      "_view_module": "@jupyter-widgets/controls",
      "_view_module_version": "1.5.0",
      "_view_name": "ProgressView",
      "bar_style": "success",
      "description": "",
      "description_tooltip": null,
      "layout": "IPY_MODEL_8efd2ed0f519413ebcb03277879b0d74",
      "max": 4600,
      "min": 0,
      "orientation": "horizontal",
      "style": "IPY_MODEL_00850b74f13742f79cbf712d1c0c6968",
      "value": 4600
     }
    },
    "1ee2f43a95104251a41a6641c5c35f47": {
     "model_module": "@jupyter-widgets/controls",
     "model_module_version": "1.5.0",
     "model_name": "ProgressStyleModel",
     "state": {
      "_model_module": "@jupyter-widgets/controls",
      "_model_module_version": "1.5.0",
      "_model_name": "ProgressStyleModel",
      "_view_count": null,
      "_view_module": "@jupyter-widgets/base",
      "_view_module_version": "1.2.0",
      "_view_name": "StyleView",
      "bar_color": null,
      "description_width": ""
     }
    },
    "1f3c632fab2f4b2a8a5e053ff59e9d0c": {
     "model_module": "@jupyter-widgets/controls",
     "model_module_version": "1.5.0",
     "model_name": "FloatProgressModel",
     "state": {
      "_dom_classes": [],
      "_model_module": "@jupyter-widgets/controls",
      "_model_module_version": "1.5.0",
      "_model_name": "FloatProgressModel",
      "_view_count": null,
      "_view_module": "@jupyter-widgets/controls",
      "_view_module_version": "1.5.0",
      "_view_name": "ProgressView",
      "bar_style": "success",
      "description": "",
      "description_tooltip": null,
      "layout": "IPY_MODEL_e6c04602fae3482fb9000583de3fd154",
      "max": 440196265,
      "min": 0,
      "orientation": "horizontal",
      "style": "IPY_MODEL_8aa2134692204bafa36fa73858cf4a01",
      "value": 440196265
     }
    },
    "1f95962c81164e28a3299c74d592f94a": {
     "model_module": "@jupyter-widgets/controls",
     "model_module_version": "1.5.0",
     "model_name": "FloatProgressModel",
     "state": {
      "_dom_classes": [],
      "_model_module": "@jupyter-widgets/controls",
      "_model_module_version": "1.5.0",
      "_model_name": "FloatProgressModel",
      "_view_count": null,
      "_view_module": "@jupyter-widgets/controls",
      "_view_module_version": "1.5.0",
      "_view_name": "ProgressView",
      "bar_style": "success",
      "description": "",
      "description_tooltip": null,
      "layout": "IPY_MODEL_a7ebc8d3030e49f1b9ae110fa09c0101",
      "max": 2472,
      "min": 0,
      "orientation": "horizontal",
      "style": "IPY_MODEL_e0e79a889603413ba044610bae67b813",
      "value": 2472
     }
    },
    "20e125a00edc4251a1e9aad69e81b249": {
     "model_module": "@jupyter-widgets/base",
     "model_module_version": "1.2.0",
     "model_name": "LayoutModel",
     "state": {
      "_model_module": "@jupyter-widgets/base",
      "_model_module_version": "1.2.0",
      "_model_name": "LayoutModel",
      "_view_count": null,
      "_view_module": "@jupyter-widgets/base",
      "_view_module_version": "1.2.0",
      "_view_name": "LayoutView",
      "align_content": null,
      "align_items": null,
      "align_self": null,
      "border": null,
      "bottom": null,
      "display": null,
      "flex": null,
      "flex_flow": null,
      "grid_area": null,
      "grid_auto_columns": null,
      "grid_auto_flow": null,
      "grid_auto_rows": null,
      "grid_column": null,
      "grid_gap": null,
      "grid_row": null,
      "grid_template_areas": null,
      "grid_template_columns": null,
      "grid_template_rows": null,
      "height": null,
      "justify_content": null,
      "justify_items": null,
      "left": null,
      "margin": null,
      "max_height": null,
      "max_width": null,
      "min_height": null,
      "min_width": null,
      "object_fit": null,
      "object_position": null,
      "order": null,
      "overflow": null,
      "overflow_x": null,
      "overflow_y": null,
      "padding": null,
      "right": null,
      "top": null,
      "visibility": null,
      "width": null
     }
    },
    "228f3c1abb7141a99f545e40627eb79a": {
     "model_module": "@jupyter-widgets/controls",
     "model_module_version": "1.5.0",
     "model_name": "FloatProgressModel",
     "state": {
      "_dom_classes": [],
      "_model_module": "@jupyter-widgets/controls",
      "_model_module_version": "1.5.0",
      "_model_name": "FloatProgressModel",
      "_view_count": null,
      "_view_module": "@jupyter-widgets/controls",
      "_view_module_version": "1.5.0",
      "_view_name": "ProgressView",
      "bar_style": "success",
      "description": "",
      "description_tooltip": null,
      "layout": "IPY_MODEL_93ecb854c1c94a92be35563f509e54b7",
      "max": 4027,
      "min": 0,
      "orientation": "horizontal",
      "style": "IPY_MODEL_4bae9cbd44ab4bda96a8e6db42ed2d32",
      "value": 4027
     }
    },
    "22e4824add5141b4acb76eac9d5af417": {
     "model_module": "@jupyter-widgets/controls",
     "model_module_version": "1.5.0",
     "model_name": "HTMLModel",
     "state": {
      "_dom_classes": [],
      "_model_module": "@jupyter-widgets/controls",
      "_model_module_version": "1.5.0",
      "_model_name": "HTMLModel",
      "_view_count": null,
      "_view_module": "@jupyter-widgets/controls",
      "_view_module_version": "1.5.0",
      "_view_name": "HTMLView",
      "description": "",
      "description_tooltip": null,
      "layout": "IPY_MODEL_bb4af9574d5d4677beace17647a1e377",
      "placeholder": "​",
      "style": "IPY_MODEL_e396cf58ca1d44069422f0113f8cd4fa",
      "value": "pytorch_model.bin: 100%"
     }
    },
    "29bbd3346f384392b986cc8dc743cdec": {
     "model_module": "@jupyter-widgets/base",
     "model_module_version": "1.2.0",
     "model_name": "LayoutModel",
     "state": {
      "_model_module": "@jupyter-widgets/base",
      "_model_module_version": "1.2.0",
      "_model_name": "LayoutModel",
      "_view_count": null,
      "_view_module": "@jupyter-widgets/base",
      "_view_module_version": "1.2.0",
      "_view_name": "LayoutView",
      "align_content": null,
      "align_items": null,
      "align_self": null,
      "border": null,
      "bottom": null,
      "display": null,
      "flex": null,
      "flex_flow": null,
      "grid_area": null,
      "grid_auto_columns": null,
      "grid_auto_flow": null,
      "grid_auto_rows": null,
      "grid_column": null,
      "grid_gap": null,
      "grid_row": null,
      "grid_template_areas": null,
      "grid_template_columns": null,
      "grid_template_rows": null,
      "height": null,
      "justify_content": null,
      "justify_items": null,
      "left": null,
      "margin": null,
      "max_height": null,
      "max_width": null,
      "min_height": null,
      "min_width": null,
      "object_fit": null,
      "object_position": null,
      "order": null,
      "overflow": null,
      "overflow_x": null,
      "overflow_y": null,
      "padding": null,
      "right": null,
      "top": null,
      "visibility": null,
      "width": null
     }
    },
    "2bd965a37f864e5e9bcf0333f759cb1a": {
     "model_module": "@jupyter-widgets/controls",
     "model_module_version": "1.5.0",
     "model_name": "ProgressStyleModel",
     "state": {
      "_model_module": "@jupyter-widgets/controls",
      "_model_module_version": "1.5.0",
      "_model_name": "ProgressStyleModel",
      "_view_count": null,
      "_view_module": "@jupyter-widgets/base",
      "_view_module_version": "1.2.0",
      "_view_name": "StyleView",
      "bar_color": null,
      "description_width": ""
     }
    },
    "2c789873c2a4499fa59c804fce433d4a": {
     "model_module": "@jupyter-widgets/base",
     "model_module_version": "1.2.0",
     "model_name": "LayoutModel",
     "state": {
      "_model_module": "@jupyter-widgets/base",
      "_model_module_version": "1.2.0",
      "_model_name": "LayoutModel",
      "_view_count": null,
      "_view_module": "@jupyter-widgets/base",
      "_view_module_version": "1.2.0",
      "_view_name": "LayoutView",
      "align_content": null,
      "align_items": null,
      "align_self": null,
      "border": null,
      "bottom": null,
      "display": null,
      "flex": null,
      "flex_flow": null,
      "grid_area": null,
      "grid_auto_columns": null,
      "grid_auto_flow": null,
      "grid_auto_rows": null,
      "grid_column": null,
      "grid_gap": null,
      "grid_row": null,
      "grid_template_areas": null,
      "grid_template_columns": null,
      "grid_template_rows": null,
      "height": null,
      "justify_content": null,
      "justify_items": null,
      "left": null,
      "margin": null,
      "max_height": null,
      "max_width": null,
      "min_height": null,
      "min_width": null,
      "object_fit": null,
      "object_position": null,
      "order": null,
      "overflow": null,
      "overflow_x": null,
      "overflow_y": null,
      "padding": null,
      "right": null,
      "top": null,
      "visibility": null,
      "width": null
     }
    },
    "2c85de39828547899078034750f8b9b2": {
     "model_module": "@jupyter-widgets/base",
     "model_module_version": "1.2.0",
     "model_name": "LayoutModel",
     "state": {
      "_model_module": "@jupyter-widgets/base",
      "_model_module_version": "1.2.0",
      "_model_name": "LayoutModel",
      "_view_count": null,
      "_view_module": "@jupyter-widgets/base",
      "_view_module_version": "1.2.0",
      "_view_name": "LayoutView",
      "align_content": null,
      "align_items": null,
      "align_self": null,
      "border": null,
      "bottom": null,
      "display": null,
      "flex": null,
      "flex_flow": null,
      "grid_area": null,
      "grid_auto_columns": null,
      "grid_auto_flow": null,
      "grid_auto_rows": null,
      "grid_column": null,
      "grid_gap": null,
      "grid_row": null,
      "grid_template_areas": null,
      "grid_template_columns": null,
      "grid_template_rows": null,
      "height": null,
      "justify_content": null,
      "justify_items": null,
      "left": null,
      "margin": null,
      "max_height": null,
      "max_width": null,
      "min_height": null,
      "min_width": null,
      "object_fit": null,
      "object_position": null,
      "order": null,
      "overflow": null,
      "overflow_x": null,
      "overflow_y": null,
      "padding": null,
      "right": null,
      "top": null,
      "visibility": null,
      "width": null
     }
    },
    "2ea74dd5262d4fa0bf78b6e6cf84bf5c": {
     "model_module": "@jupyter-widgets/base",
     "model_module_version": "1.2.0",
     "model_name": "LayoutModel",
     "state": {
      "_model_module": "@jupyter-widgets/base",
      "_model_module_version": "1.2.0",
      "_model_name": "LayoutModel",
      "_view_count": null,
      "_view_module": "@jupyter-widgets/base",
      "_view_module_version": "1.2.0",
      "_view_name": "LayoutView",
      "align_content": null,
      "align_items": null,
      "align_self": null,
      "border": null,
      "bottom": null,
      "display": null,
      "flex": null,
      "flex_flow": null,
      "grid_area": null,
      "grid_auto_columns": null,
      "grid_auto_flow": null,
      "grid_auto_rows": null,
      "grid_column": null,
      "grid_gap": null,
      "grid_row": null,
      "grid_template_areas": null,
      "grid_template_columns": null,
      "grid_template_rows": null,
      "height": null,
      "justify_content": null,
      "justify_items": null,
      "left": null,
      "margin": null,
      "max_height": null,
      "max_width": null,
      "min_height": null,
      "min_width": null,
      "object_fit": null,
      "object_position": null,
      "order": null,
      "overflow": null,
      "overflow_x": null,
      "overflow_y": null,
      "padding": null,
      "right": null,
      "top": null,
      "visibility": null,
      "width": null
     }
    },
    "3302808109d04f11b62910a8261309db": {
     "model_module": "@jupyter-widgets/controls",
     "model_module_version": "1.5.0",
     "model_name": "DescriptionStyleModel",
     "state": {
      "_model_module": "@jupyter-widgets/controls",
      "_model_module_version": "1.5.0",
      "_model_name": "DescriptionStyleModel",
      "_view_count": null,
      "_view_module": "@jupyter-widgets/base",
      "_view_module_version": "1.2.0",
      "_view_name": "StyleView",
      "description_width": ""
     }
    },
    "366461d22c9543aab7aa9424ffa9b5d9": {
     "model_module": "@jupyter-widgets/controls",
     "model_module_version": "1.5.0",
     "model_name": "DescriptionStyleModel",
     "state": {
      "_model_module": "@jupyter-widgets/controls",
      "_model_module_version": "1.5.0",
      "_model_name": "DescriptionStyleModel",
      "_view_count": null,
      "_view_module": "@jupyter-widgets/base",
      "_view_module_version": "1.2.0",
      "_view_name": "StyleView",
      "description_width": ""
     }
    },
    "3773ffecc28d4c7d962b32f24a06b5a7": {
     "model_module": "@jupyter-widgets/controls",
     "model_module_version": "1.5.0",
     "model_name": "HTMLModel",
     "state": {
      "_dom_classes": [],
      "_model_module": "@jupyter-widgets/controls",
      "_model_module_version": "1.5.0",
      "_model_name": "HTMLModel",
      "_view_count": null,
      "_view_module": "@jupyter-widgets/controls",
      "_view_module_version": "1.5.0",
      "_view_name": "HTMLView",
      "description": "",
      "description_tooltip": null,
      "layout": "IPY_MODEL_11c44a2279014af69ba7eea4f46d0c66",
      "placeholder": "​",
      "style": "IPY_MODEL_5f191032f8bb461a9e85987511be1b4d",
      "value": "Upload 2 LFS files: 100%"
     }
    },
    "383e40afafbc49d5992a0a82a915b33b": {
     "model_module": "@jupyter-widgets/controls",
     "model_module_version": "1.5.0",
     "model_name": "DescriptionStyleModel",
     "state": {
      "_model_module": "@jupyter-widgets/controls",
      "_model_module_version": "1.5.0",
      "_model_name": "DescriptionStyleModel",
      "_view_count": null,
      "_view_module": "@jupyter-widgets/base",
      "_view_module_version": "1.2.0",
      "_view_name": "StyleView",
      "description_width": ""
     }
    },
    "38db1c28a6fd492cb90f4637917054e0": {
     "model_module": "@jupyter-widgets/base",
     "model_module_version": "1.2.0",
     "model_name": "LayoutModel",
     "state": {
      "_model_module": "@jupyter-widgets/base",
      "_model_module_version": "1.2.0",
      "_model_name": "LayoutModel",
      "_view_count": null,
      "_view_module": "@jupyter-widgets/base",
      "_view_module_version": "1.2.0",
      "_view_name": "LayoutView",
      "align_content": null,
      "align_items": null,
      "align_self": null,
      "border": null,
      "bottom": null,
      "display": null,
      "flex": null,
      "flex_flow": null,
      "grid_area": null,
      "grid_auto_columns": null,
      "grid_auto_flow": null,
      "grid_auto_rows": null,
      "grid_column": null,
      "grid_gap": null,
      "grid_row": null,
      "grid_template_areas": null,
      "grid_template_columns": null,
      "grid_template_rows": null,
      "height": null,
      "justify_content": null,
      "justify_items": null,
      "left": null,
      "margin": null,
      "max_height": null,
      "max_width": null,
      "min_height": null,
      "min_width": null,
      "object_fit": null,
      "object_position": null,
      "order": null,
      "overflow": null,
      "overflow_x": null,
      "overflow_y": null,
      "padding": null,
      "right": null,
      "top": null,
      "visibility": null,
      "width": null
     }
    },
    "411680566dda41c7a6bfde7fa3dfaa4c": {
     "model_module": "@jupyter-widgets/base",
     "model_module_version": "1.2.0",
     "model_name": "LayoutModel",
     "state": {
      "_model_module": "@jupyter-widgets/base",
      "_model_module_version": "1.2.0",
      "_model_name": "LayoutModel",
      "_view_count": null,
      "_view_module": "@jupyter-widgets/base",
      "_view_module_version": "1.2.0",
      "_view_name": "LayoutView",
      "align_content": null,
      "align_items": null,
      "align_self": null,
      "border": null,
      "bottom": null,
      "display": null,
      "flex": null,
      "flex_flow": null,
      "grid_area": null,
      "grid_auto_columns": null,
      "grid_auto_flow": null,
      "grid_auto_rows": null,
      "grid_column": null,
      "grid_gap": null,
      "grid_row": null,
      "grid_template_areas": null,
      "grid_template_columns": null,
      "grid_template_rows": null,
      "height": null,
      "justify_content": null,
      "justify_items": null,
      "left": null,
      "margin": null,
      "max_height": null,
      "max_width": null,
      "min_height": null,
      "min_width": null,
      "object_fit": null,
      "object_position": null,
      "order": null,
      "overflow": null,
      "overflow_x": null,
      "overflow_y": null,
      "padding": null,
      "right": null,
      "top": null,
      "visibility": null,
      "width": null
     }
    },
    "437bfb5bff3c4034b5285fa161409aa0": {
     "model_module": "@jupyter-widgets/controls",
     "model_module_version": "1.5.0",
     "model_name": "HTMLModel",
     "state": {
      "_dom_classes": [],
      "_model_module": "@jupyter-widgets/controls",
      "_model_module_version": "1.5.0",
      "_model_name": "HTMLModel",
      "_view_count": null,
      "_view_module": "@jupyter-widgets/controls",
      "_view_module_version": "1.5.0",
      "_view_name": "HTMLView",
      "description": "",
      "description_tooltip": null,
      "layout": "IPY_MODEL_411680566dda41c7a6bfde7fa3dfaa4c",
      "placeholder": "​",
      "style": "IPY_MODEL_5e62612cefc6443c8e2f0ae1c799fe89",
      "value": " 440M/440M [00:25&lt;00:00, 19.0MB/s]"
     }
    },
    "4700b223c77d43079b6578481dd7ec55": {
     "model_module": "@jupyter-widgets/base",
     "model_module_version": "1.2.0",
     "model_name": "LayoutModel",
     "state": {
      "_model_module": "@jupyter-widgets/base",
      "_model_module_version": "1.2.0",
      "_model_name": "LayoutModel",
      "_view_count": null,
      "_view_module": "@jupyter-widgets/base",
      "_view_module_version": "1.2.0",
      "_view_name": "LayoutView",
      "align_content": null,
      "align_items": null,
      "align_self": null,
      "border": null,
      "bottom": null,
      "display": null,
      "flex": null,
      "flex_flow": null,
      "grid_area": null,
      "grid_auto_columns": null,
      "grid_auto_flow": null,
      "grid_auto_rows": null,
      "grid_column": null,
      "grid_gap": null,
      "grid_row": null,
      "grid_template_areas": null,
      "grid_template_columns": null,
      "grid_template_rows": null,
      "height": null,
      "justify_content": null,
      "justify_items": null,
      "left": null,
      "margin": null,
      "max_height": null,
      "max_width": null,
      "min_height": null,
      "min_width": null,
      "object_fit": null,
      "object_position": null,
      "order": null,
      "overflow": null,
      "overflow_x": null,
      "overflow_y": null,
      "padding": null,
      "right": null,
      "top": null,
      "visibility": null,
      "width": null
     }
    },
    "48e7df160a2c4520a4d07f9593330ea5": {
     "model_module": "@jupyter-widgets/controls",
     "model_module_version": "1.5.0",
     "model_name": "HTMLModel",
     "state": {
      "_dom_classes": [],
      "_model_module": "@jupyter-widgets/controls",
      "_model_module_version": "1.5.0",
      "_model_name": "HTMLModel",
      "_view_count": null,
      "_view_module": "@jupyter-widgets/controls",
      "_view_module_version": "1.5.0",
      "_view_name": "HTMLView",
      "description": "",
      "description_tooltip": null,
      "layout": "IPY_MODEL_2c85de39828547899078034750f8b9b2",
      "placeholder": "​",
      "style": "IPY_MODEL_6a141a3463d14f2f9c253962bf4faf9e",
      "value": "Map: 100%"
     }
    },
    "4a5e1dea1dfb41b8b01b3185dcc1927d": {
     "model_module": "@jupyter-widgets/base",
     "model_module_version": "1.2.0",
     "model_name": "LayoutModel",
     "state": {
      "_model_module": "@jupyter-widgets/base",
      "_model_module_version": "1.2.0",
      "_model_name": "LayoutModel",
      "_view_count": null,
      "_view_module": "@jupyter-widgets/base",
      "_view_module_version": "1.2.0",
      "_view_name": "LayoutView",
      "align_content": null,
      "align_items": null,
      "align_self": null,
      "border": null,
      "bottom": null,
      "display": null,
      "flex": null,
      "flex_flow": null,
      "grid_area": null,
      "grid_auto_columns": null,
      "grid_auto_flow": null,
      "grid_auto_rows": null,
      "grid_column": null,
      "grid_gap": null,
      "grid_row": null,
      "grid_template_areas": null,
      "grid_template_columns": null,
      "grid_template_rows": null,
      "height": null,
      "justify_content": null,
      "justify_items": null,
      "left": null,
      "margin": null,
      "max_height": null,
      "max_width": null,
      "min_height": null,
      "min_width": null,
      "object_fit": null,
      "object_position": null,
      "order": null,
      "overflow": null,
      "overflow_x": null,
      "overflow_y": null,
      "padding": null,
      "right": null,
      "top": null,
      "visibility": null,
      "width": null
     }
    },
    "4bae9cbd44ab4bda96a8e6db42ed2d32": {
     "model_module": "@jupyter-widgets/controls",
     "model_module_version": "1.5.0",
     "model_name": "ProgressStyleModel",
     "state": {
      "_model_module": "@jupyter-widgets/controls",
      "_model_module_version": "1.5.0",
      "_model_name": "ProgressStyleModel",
      "_view_count": null,
      "_view_module": "@jupyter-widgets/base",
      "_view_module_version": "1.2.0",
      "_view_name": "StyleView",
      "bar_color": null,
      "description_width": ""
     }
    },
    "4c7d4582030d49d18f3a2fdc52e74246": {
     "model_module": "@jupyter-widgets/base",
     "model_module_version": "1.2.0",
     "model_name": "LayoutModel",
     "state": {
      "_model_module": "@jupyter-widgets/base",
      "_model_module_version": "1.2.0",
      "_model_name": "LayoutModel",
      "_view_count": null,
      "_view_module": "@jupyter-widgets/base",
      "_view_module_version": "1.2.0",
      "_view_name": "LayoutView",
      "align_content": null,
      "align_items": null,
      "align_self": null,
      "border": null,
      "bottom": null,
      "display": null,
      "flex": null,
      "flex_flow": null,
      "grid_area": null,
      "grid_auto_columns": null,
      "grid_auto_flow": null,
      "grid_auto_rows": null,
      "grid_column": null,
      "grid_gap": null,
      "grid_row": null,
      "grid_template_areas": null,
      "grid_template_columns": null,
      "grid_template_rows": null,
      "height": null,
      "justify_content": null,
      "justify_items": null,
      "left": null,
      "margin": null,
      "max_height": null,
      "max_width": null,
      "min_height": null,
      "min_width": null,
      "object_fit": null,
      "object_position": null,
      "order": null,
      "overflow": null,
      "overflow_x": null,
      "overflow_y": null,
      "padding": null,
      "right": null,
      "top": null,
      "visibility": null,
      "width": null
     }
    },
    "4d30d44c6ece458c9a804ae9d60002eb": {
     "model_module": "@jupyter-widgets/controls",
     "model_module_version": "1.5.0",
     "model_name": "HTMLModel",
     "state": {
      "_dom_classes": [],
      "_model_module": "@jupyter-widgets/controls",
      "_model_module_version": "1.5.0",
      "_model_name": "HTMLModel",
      "_view_count": null,
      "_view_module": "@jupyter-widgets/controls",
      "_view_module_version": "1.5.0",
      "_view_name": "HTMLView",
      "description": "",
      "description_tooltip": null,
      "layout": "IPY_MODEL_38db1c28a6fd492cb90f4637917054e0",
      "placeholder": "​",
      "style": "IPY_MODEL_8dafc947ad664f50bea3bdb71d14413b",
      "value": " 338/338 [00:00&lt;00:00, 1993.43 examples/s]"
     }
    },
    "551d59f112224dbeb4c6c961956e2baf": {
     "model_module": "@jupyter-widgets/base",
     "model_module_version": "1.2.0",
     "model_name": "LayoutModel",
     "state": {
      "_model_module": "@jupyter-widgets/base",
      "_model_module_version": "1.2.0",
      "_model_name": "LayoutModel",
      "_view_count": null,
      "_view_module": "@jupyter-widgets/base",
      "_view_module_version": "1.2.0",
      "_view_name": "LayoutView",
      "align_content": null,
      "align_items": null,
      "align_self": null,
      "border": null,
      "bottom": null,
      "display": null,
      "flex": null,
      "flex_flow": null,
      "grid_area": null,
      "grid_auto_columns": null,
      "grid_auto_flow": null,
      "grid_auto_rows": null,
      "grid_column": null,
      "grid_gap": null,
      "grid_row": null,
      "grid_template_areas": null,
      "grid_template_columns": null,
      "grid_template_rows": null,
      "height": null,
      "justify_content": null,
      "justify_items": null,
      "left": null,
      "margin": null,
      "max_height": null,
      "max_width": null,
      "min_height": null,
      "min_width": null,
      "object_fit": null,
      "object_position": null,
      "order": null,
      "overflow": null,
      "overflow_x": null,
      "overflow_y": null,
      "padding": null,
      "right": null,
      "top": null,
      "visibility": null,
      "width": null
     }
    },
    "57cac36e2601422b80d71a4fc3f3ec9b": {
     "model_module": "@jupyter-widgets/base",
     "model_module_version": "1.2.0",
     "model_name": "LayoutModel",
     "state": {
      "_model_module": "@jupyter-widgets/base",
      "_model_module_version": "1.2.0",
      "_model_name": "LayoutModel",
      "_view_count": null,
      "_view_module": "@jupyter-widgets/base",
      "_view_module_version": "1.2.0",
      "_view_name": "LayoutView",
      "align_content": null,
      "align_items": null,
      "align_self": null,
      "border": null,
      "bottom": null,
      "display": null,
      "flex": null,
      "flex_flow": null,
      "grid_area": null,
      "grid_auto_columns": null,
      "grid_auto_flow": null,
      "grid_auto_rows": null,
      "grid_column": null,
      "grid_gap": null,
      "grid_row": null,
      "grid_template_areas": null,
      "grid_template_columns": null,
      "grid_template_rows": null,
      "height": null,
      "justify_content": null,
      "justify_items": null,
      "left": null,
      "margin": null,
      "max_height": null,
      "max_width": null,
      "min_height": null,
      "min_width": null,
      "object_fit": null,
      "object_position": null,
      "order": null,
      "overflow": null,
      "overflow_x": null,
      "overflow_y": null,
      "padding": null,
      "right": null,
      "top": null,
      "visibility": null,
      "width": null
     }
    },
    "57d0d0528b2848f38a681e721edb831a": {
     "model_module": "@jupyter-widgets/controls",
     "model_module_version": "1.5.0",
     "model_name": "HTMLModel",
     "state": {
      "_dom_classes": [],
      "_model_module": "@jupyter-widgets/controls",
      "_model_module_version": "1.5.0",
      "_model_name": "HTMLModel",
      "_view_count": null,
      "_view_module": "@jupyter-widgets/controls",
      "_view_module_version": "1.5.0",
      "_view_name": "HTMLView",
      "description": "",
      "description_tooltip": null,
      "layout": "IPY_MODEL_e268d959f84e4ffe81c63d504b7a22c2",
      "placeholder": "​",
      "style": "IPY_MODEL_18c53376fc084da3ace18cb07cc2c5dd",
      "value": " 2/2 [00:26&lt;00:00, 26.09s/it]"
     }
    },
    "5e62612cefc6443c8e2f0ae1c799fe89": {
     "model_module": "@jupyter-widgets/controls",
     "model_module_version": "1.5.0",
     "model_name": "DescriptionStyleModel",
     "state": {
      "_model_module": "@jupyter-widgets/controls",
      "_model_module_version": "1.5.0",
      "_model_name": "DescriptionStyleModel",
      "_view_count": null,
      "_view_module": "@jupyter-widgets/base",
      "_view_module_version": "1.2.0",
      "_view_name": "StyleView",
      "description_width": ""
     }
    },
    "5f191032f8bb461a9e85987511be1b4d": {
     "model_module": "@jupyter-widgets/controls",
     "model_module_version": "1.5.0",
     "model_name": "DescriptionStyleModel",
     "state": {
      "_model_module": "@jupyter-widgets/controls",
      "_model_module_version": "1.5.0",
      "_model_name": "DescriptionStyleModel",
      "_view_count": null,
      "_view_module": "@jupyter-widgets/base",
      "_view_module_version": "1.2.0",
      "_view_name": "StyleView",
      "description_width": ""
     }
    },
    "5fb743648b684f72a5dd47f3d9b825f3": {
     "model_module": "@jupyter-widgets/controls",
     "model_module_version": "1.5.0",
     "model_name": "HTMLModel",
     "state": {
      "_dom_classes": [],
      "_model_module": "@jupyter-widgets/controls",
      "_model_module_version": "1.5.0",
      "_model_name": "HTMLModel",
      "_view_count": null,
      "_view_module": "@jupyter-widgets/controls",
      "_view_module_version": "1.5.0",
      "_view_name": "HTMLView",
      "description": "",
      "description_tooltip": null,
      "layout": "IPY_MODEL_79dbb58073f04356ada244d70780987d",
      "placeholder": "​",
      "style": "IPY_MODEL_7c25e9900cc3427698aa5a9bbed8d970",
      "value": " 2/2 [00:15&lt;00:00, 15.10s/it]"
     }
    },
    "61d353c0ee8248639e2edbf91d208cda": {
     "model_module": "@jupyter-widgets/base",
     "model_module_version": "1.2.0",
     "model_name": "LayoutModel",
     "state": {
      "_model_module": "@jupyter-widgets/base",
      "_model_module_version": "1.2.0",
      "_model_name": "LayoutModel",
      "_view_count": null,
      "_view_module": "@jupyter-widgets/base",
      "_view_module_version": "1.2.0",
      "_view_name": "LayoutView",
      "align_content": null,
      "align_items": null,
      "align_self": null,
      "border": null,
      "bottom": null,
      "display": null,
      "flex": null,
      "flex_flow": null,
      "grid_area": null,
      "grid_auto_columns": null,
      "grid_auto_flow": null,
      "grid_auto_rows": null,
      "grid_column": null,
      "grid_gap": null,
      "grid_row": null,
      "grid_template_areas": null,
      "grid_template_columns": null,
      "grid_template_rows": null,
      "height": null,
      "justify_content": null,
      "justify_items": null,
      "left": null,
      "margin": null,
      "max_height": null,
      "max_width": null,
      "min_height": null,
      "min_width": null,
      "object_fit": null,
      "object_position": null,
      "order": null,
      "overflow": null,
      "overflow_x": null,
      "overflow_y": null,
      "padding": null,
      "right": null,
      "top": null,
      "visibility": null,
      "width": null
     }
    },
    "6203b2d12a5c4ff1b54ff4681fb4b073": {
     "model_module": "@jupyter-widgets/controls",
     "model_module_version": "1.5.0",
     "model_name": "HTMLModel",
     "state": {
      "_dom_classes": [],
      "_model_module": "@jupyter-widgets/controls",
      "_model_module_version": "1.5.0",
      "_model_name": "HTMLModel",
      "_view_count": null,
      "_view_module": "@jupyter-widgets/controls",
      "_view_module_version": "1.5.0",
      "_view_name": "HTMLView",
      "description": "",
      "description_tooltip": null,
      "layout": "IPY_MODEL_dde7c35cb44a40be902d7602d4b2bd7e",
      "placeholder": "​",
      "style": "IPY_MODEL_0f270d58e53541fb858b19cee1f10fa6",
      "value": " 4.03k/4.03k [00:00&lt;00:00, 9.14kB/s]"
     }
    },
    "64f97af205984f9db3fedae67b361205": {
     "model_module": "@jupyter-widgets/controls",
     "model_module_version": "1.5.0",
     "model_name": "ProgressStyleModel",
     "state": {
      "_model_module": "@jupyter-widgets/controls",
      "_model_module_version": "1.5.0",
      "_model_name": "ProgressStyleModel",
      "_view_count": null,
      "_view_module": "@jupyter-widgets/base",
      "_view_module_version": "1.2.0",
      "_view_name": "StyleView",
      "bar_color": null,
      "description_width": ""
     }
    },
    "65e4953eb74e4e31acd76b36b4eba8d3": {
     "model_module": "@jupyter-widgets/base",
     "model_module_version": "1.2.0",
     "model_name": "LayoutModel",
     "state": {
      "_model_module": "@jupyter-widgets/base",
      "_model_module_version": "1.2.0",
      "_model_name": "LayoutModel",
      "_view_count": null,
      "_view_module": "@jupyter-widgets/base",
      "_view_module_version": "1.2.0",
      "_view_name": "LayoutView",
      "align_content": null,
      "align_items": null,
      "align_self": null,
      "border": null,
      "bottom": null,
      "display": null,
      "flex": null,
      "flex_flow": null,
      "grid_area": null,
      "grid_auto_columns": null,
      "grid_auto_flow": null,
      "grid_auto_rows": null,
      "grid_column": null,
      "grid_gap": null,
      "grid_row": null,
      "grid_template_areas": null,
      "grid_template_columns": null,
      "grid_template_rows": null,
      "height": null,
      "justify_content": null,
      "justify_items": null,
      "left": null,
      "margin": null,
      "max_height": null,
      "max_width": null,
      "min_height": null,
      "min_width": null,
      "object_fit": null,
      "object_position": null,
      "order": null,
      "overflow": null,
      "overflow_x": null,
      "overflow_y": null,
      "padding": null,
      "right": null,
      "top": null,
      "visibility": null,
      "width": null
     }
    },
    "676594f28ee54b0086eb39ad53d137d9": {
     "model_module": "@jupyter-widgets/controls",
     "model_module_version": "1.5.0",
     "model_name": "FloatProgressModel",
     "state": {
      "_dom_classes": [],
      "_model_module": "@jupyter-widgets/controls",
      "_model_module_version": "1.5.0",
      "_model_name": "FloatProgressModel",
      "_view_count": null,
      "_view_module": "@jupyter-widgets/controls",
      "_view_module_version": "1.5.0",
      "_view_name": "ProgressView",
      "bar_style": "success",
      "description": "",
      "description_tooltip": null,
      "layout": "IPY_MODEL_98d0acabcc5e42b5b691807bc3b3a978",
      "max": 1014,
      "min": 0,
      "orientation": "horizontal",
      "style": "IPY_MODEL_2bd965a37f864e5e9bcf0333f759cb1a",
      "value": 1014
     }
    },
    "67a44198dd61495c8c5105a87b2b2c0c": {
     "model_module": "@jupyter-widgets/controls",
     "model_module_version": "1.5.0",
     "model_name": "FloatProgressModel",
     "state": {
      "_dom_classes": [],
      "_model_module": "@jupyter-widgets/controls",
      "_model_module_version": "1.5.0",
      "_model_name": "FloatProgressModel",
      "_view_count": null,
      "_view_module": "@jupyter-widgets/controls",
      "_view_module_version": "1.5.0",
      "_view_name": "ProgressView",
      "bar_style": "success",
      "description": "",
      "description_tooltip": null,
      "layout": "IPY_MODEL_551d59f112224dbeb4c6c961956e2baf",
      "max": 440151884,
      "min": 0,
      "orientation": "horizontal",
      "style": "IPY_MODEL_dea9ebd1abca47e9b6af3391ebb38afe",
      "value": 440151884
     }
    },
    "68acd0b1b325489294708b36157f609a": {
     "model_module": "@jupyter-widgets/controls",
     "model_module_version": "1.5.0",
     "model_name": "DescriptionStyleModel",
     "state": {
      "_model_module": "@jupyter-widgets/controls",
      "_model_module_version": "1.5.0",
      "_model_name": "DescriptionStyleModel",
      "_view_count": null,
      "_view_module": "@jupyter-widgets/base",
      "_view_module_version": "1.2.0",
      "_view_name": "StyleView",
      "description_width": ""
     }
    },
    "6a141a3463d14f2f9c253962bf4faf9e": {
     "model_module": "@jupyter-widgets/controls",
     "model_module_version": "1.5.0",
     "model_name": "DescriptionStyleModel",
     "state": {
      "_model_module": "@jupyter-widgets/controls",
      "_model_module_version": "1.5.0",
      "_model_name": "DescriptionStyleModel",
      "_view_count": null,
      "_view_module": "@jupyter-widgets/base",
      "_view_module_version": "1.2.0",
      "_view_name": "StyleView",
      "description_width": ""
     }
    },
    "6bbe7c0c8a2544098cede8f78ddb78d1": {
     "model_module": "@jupyter-widgets/base",
     "model_module_version": "1.2.0",
     "model_name": "LayoutModel",
     "state": {
      "_model_module": "@jupyter-widgets/base",
      "_model_module_version": "1.2.0",
      "_model_name": "LayoutModel",
      "_view_count": null,
      "_view_module": "@jupyter-widgets/base",
      "_view_module_version": "1.2.0",
      "_view_name": "LayoutView",
      "align_content": null,
      "align_items": null,
      "align_self": null,
      "border": null,
      "bottom": null,
      "display": null,
      "flex": null,
      "flex_flow": null,
      "grid_area": null,
      "grid_auto_columns": null,
      "grid_auto_flow": null,
      "grid_auto_rows": null,
      "grid_column": null,
      "grid_gap": null,
      "grid_row": null,
      "grid_template_areas": null,
      "grid_template_columns": null,
      "grid_template_rows": null,
      "height": null,
      "justify_content": null,
      "justify_items": null,
      "left": null,
      "margin": null,
      "max_height": null,
      "max_width": null,
      "min_height": null,
      "min_width": null,
      "object_fit": null,
      "object_position": null,
      "order": null,
      "overflow": null,
      "overflow_x": null,
      "overflow_y": null,
      "padding": null,
      "right": null,
      "top": null,
      "visibility": null,
      "width": null
     }
    },
    "6dd0e6c1229647cab4471773e4d869e7": {
     "model_module": "@jupyter-widgets/controls",
     "model_module_version": "1.5.0",
     "model_name": "HTMLModel",
     "state": {
      "_dom_classes": [],
      "_model_module": "@jupyter-widgets/controls",
      "_model_module_version": "1.5.0",
      "_model_name": "HTMLModel",
      "_view_count": null,
      "_view_module": "@jupyter-widgets/controls",
      "_view_module_version": "1.5.0",
      "_view_name": "HTMLView",
      "description": "",
      "description_tooltip": null,
      "layout": "IPY_MODEL_a6a8263c28c2461c90424702a576154b",
      "placeholder": "​",
      "style": "IPY_MODEL_366461d22c9543aab7aa9424ffa9b5d9",
      "value": "model.safetensors: 100%"
     }
    },
    "76e33e4ede3d49639664e708a820d38c": {
     "model_module": "@jupyter-widgets/controls",
     "model_module_version": "1.5.0",
     "model_name": "HBoxModel",
     "state": {
      "_dom_classes": [],
      "_model_module": "@jupyter-widgets/controls",
      "_model_module_version": "1.5.0",
      "_model_name": "HBoxModel",
      "_view_count": null,
      "_view_module": "@jupyter-widgets/controls",
      "_view_module_version": "1.5.0",
      "_view_name": "HBoxView",
      "box_style": "",
      "children": [
       "IPY_MODEL_caa21cb14ca541259da5c02222e93a76",
       "IPY_MODEL_1f95962c81164e28a3299c74d592f94a",
       "IPY_MODEL_e0a6aa27b4e2497d81c6523f3eb96152"
      ],
      "layout": "IPY_MODEL_20e125a00edc4251a1e9aad69e81b249"
     }
    },
    "79dbb58073f04356ada244d70780987d": {
     "model_module": "@jupyter-widgets/base",
     "model_module_version": "1.2.0",
     "model_name": "LayoutModel",
     "state": {
      "_model_module": "@jupyter-widgets/base",
      "_model_module_version": "1.2.0",
      "_model_name": "LayoutModel",
      "_view_count": null,
      "_view_module": "@jupyter-widgets/base",
      "_view_module_version": "1.2.0",
      "_view_name": "LayoutView",
      "align_content": null,
      "align_items": null,
      "align_self": null,
      "border": null,
      "bottom": null,
      "display": null,
      "flex": null,
      "flex_flow": null,
      "grid_area": null,
      "grid_auto_columns": null,
      "grid_auto_flow": null,
      "grid_auto_rows": null,
      "grid_column": null,
      "grid_gap": null,
      "grid_row": null,
      "grid_template_areas": null,
      "grid_template_columns": null,
      "grid_template_rows": null,
      "height": null,
      "justify_content": null,
      "justify_items": null,
      "left": null,
      "margin": null,
      "max_height": null,
      "max_width": null,
      "min_height": null,
      "min_width": null,
      "object_fit": null,
      "object_position": null,
      "order": null,
      "overflow": null,
      "overflow_x": null,
      "overflow_y": null,
      "padding": null,
      "right": null,
      "top": null,
      "visibility": null,
      "width": null
     }
    },
    "7c25e9900cc3427698aa5a9bbed8d970": {
     "model_module": "@jupyter-widgets/controls",
     "model_module_version": "1.5.0",
     "model_name": "DescriptionStyleModel",
     "state": {
      "_model_module": "@jupyter-widgets/controls",
      "_model_module_version": "1.5.0",
      "_model_name": "DescriptionStyleModel",
      "_view_count": null,
      "_view_module": "@jupyter-widgets/base",
      "_view_module_version": "1.2.0",
      "_view_name": "StyleView",
      "description_width": ""
     }
    },
    "80102b1bee34477fa2900684a07518c0": {
     "model_module": "@jupyter-widgets/base",
     "model_module_version": "1.2.0",
     "model_name": "LayoutModel",
     "state": {
      "_model_module": "@jupyter-widgets/base",
      "_model_module_version": "1.2.0",
      "_model_name": "LayoutModel",
      "_view_count": null,
      "_view_module": "@jupyter-widgets/base",
      "_view_module_version": "1.2.0",
      "_view_name": "LayoutView",
      "align_content": null,
      "align_items": null,
      "align_self": null,
      "border": null,
      "bottom": null,
      "display": null,
      "flex": null,
      "flex_flow": null,
      "grid_area": null,
      "grid_auto_columns": null,
      "grid_auto_flow": null,
      "grid_auto_rows": null,
      "grid_column": null,
      "grid_gap": null,
      "grid_row": null,
      "grid_template_areas": null,
      "grid_template_columns": null,
      "grid_template_rows": null,
      "height": null,
      "justify_content": null,
      "justify_items": null,
      "left": null,
      "margin": null,
      "max_height": null,
      "max_width": null,
      "min_height": null,
      "min_width": null,
      "object_fit": null,
      "object_position": null,
      "order": null,
      "overflow": null,
      "overflow_x": null,
      "overflow_y": null,
      "padding": null,
      "right": null,
      "top": null,
      "visibility": null,
      "width": null
     }
    },
    "8038ef6c3a0748eba1b64d23cc49096b": {
     "model_module": "@jupyter-widgets/controls",
     "model_module_version": "1.5.0",
     "model_name": "HTMLModel",
     "state": {
      "_dom_classes": [],
      "_model_module": "@jupyter-widgets/controls",
      "_model_module_version": "1.5.0",
      "_model_name": "HTMLModel",
      "_view_count": null,
      "_view_module": "@jupyter-widgets/controls",
      "_view_module_version": "1.5.0",
      "_view_name": "HTMLView",
      "description": "",
      "description_tooltip": null,
      "layout": "IPY_MODEL_2ea74dd5262d4fa0bf78b6e6cf84bf5c",
      "placeholder": "​",
      "style": "IPY_MODEL_0f06d33b234b4d7f9bf9f509d7c1267a",
      "value": "training_args.bin: 100%"
     }
    },
    "826bda18531d46a3941da68c5b63247d": {
     "model_module": "@jupyter-widgets/controls",
     "model_module_version": "1.5.0",
     "model_name": "HBoxModel",
     "state": {
      "_dom_classes": [],
      "_model_module": "@jupyter-widgets/controls",
      "_model_module_version": "1.5.0",
      "_model_name": "HBoxModel",
      "_view_count": null,
      "_view_module": "@jupyter-widgets/controls",
      "_view_module_version": "1.5.0",
      "_view_name": "HBoxView",
      "box_style": "",
      "children": [
       "IPY_MODEL_8038ef6c3a0748eba1b64d23cc49096b",
       "IPY_MODEL_228f3c1abb7141a99f545e40627eb79a",
       "IPY_MODEL_6203b2d12a5c4ff1b54ff4681fb4b073"
      ],
      "layout": "IPY_MODEL_29bbd3346f384392b986cc8dc743cdec"
     }
    },
    "857c80f828634039bc84b786d81e0291": {
     "model_module": "@jupyter-widgets/controls",
     "model_module_version": "1.5.0",
     "model_name": "HBoxModel",
     "state": {
      "_dom_classes": [],
      "_model_module": "@jupyter-widgets/controls",
      "_model_module_version": "1.5.0",
      "_model_name": "HBoxModel",
      "_view_count": null,
      "_view_module": "@jupyter-widgets/controls",
      "_view_module_version": "1.5.0",
      "_view_name": "HBoxView",
      "box_style": "",
      "children": [
       "IPY_MODEL_3773ffecc28d4c7d962b32f24a06b5a7",
       "IPY_MODEL_86552ad4d09b40abb2033062f72e44cc",
       "IPY_MODEL_57d0d0528b2848f38a681e721edb831a"
      ],
      "layout": "IPY_MODEL_fcfc1869f4824ec6ab640d5b459a91e6"
     }
    },
    "86552ad4d09b40abb2033062f72e44cc": {
     "model_module": "@jupyter-widgets/controls",
     "model_module_version": "1.5.0",
     "model_name": "FloatProgressModel",
     "state": {
      "_dom_classes": [],
      "_model_module": "@jupyter-widgets/controls",
      "_model_module_version": "1.5.0",
      "_model_name": "FloatProgressModel",
      "_view_count": null,
      "_view_module": "@jupyter-widgets/controls",
      "_view_module_version": "1.5.0",
      "_view_name": "ProgressView",
      "bar_style": "success",
      "description": "",
      "description_tooltip": null,
      "layout": "IPY_MODEL_4c7d4582030d49d18f3a2fdc52e74246",
      "max": 2,
      "min": 0,
      "orientation": "horizontal",
      "style": "IPY_MODEL_1ee2f43a95104251a41a6641c5c35f47",
      "value": 2
     }
    },
    "8aa2134692204bafa36fa73858cf4a01": {
     "model_module": "@jupyter-widgets/controls",
     "model_module_version": "1.5.0",
     "model_name": "ProgressStyleModel",
     "state": {
      "_model_module": "@jupyter-widgets/controls",
      "_model_module_version": "1.5.0",
      "_model_name": "ProgressStyleModel",
      "_view_count": null,
      "_view_module": "@jupyter-widgets/base",
      "_view_module_version": "1.2.0",
      "_view_name": "StyleView",
      "bar_color": null,
      "description_width": ""
     }
    },
    "8dafc947ad664f50bea3bdb71d14413b": {
     "model_module": "@jupyter-widgets/controls",
     "model_module_version": "1.5.0",
     "model_name": "DescriptionStyleModel",
     "state": {
      "_model_module": "@jupyter-widgets/controls",
      "_model_module_version": "1.5.0",
      "_model_name": "DescriptionStyleModel",
      "_view_count": null,
      "_view_module": "@jupyter-widgets/base",
      "_view_module_version": "1.2.0",
      "_view_name": "StyleView",
      "description_width": ""
     }
    },
    "8efd2ed0f519413ebcb03277879b0d74": {
     "model_module": "@jupyter-widgets/base",
     "model_module_version": "1.2.0",
     "model_name": "LayoutModel",
     "state": {
      "_model_module": "@jupyter-widgets/base",
      "_model_module_version": "1.2.0",
      "_model_name": "LayoutModel",
      "_view_count": null,
      "_view_module": "@jupyter-widgets/base",
      "_view_module_version": "1.2.0",
      "_view_name": "LayoutView",
      "align_content": null,
      "align_items": null,
      "align_self": null,
      "border": null,
      "bottom": null,
      "display": null,
      "flex": null,
      "flex_flow": null,
      "grid_area": null,
      "grid_auto_columns": null,
      "grid_auto_flow": null,
      "grid_auto_rows": null,
      "grid_column": null,
      "grid_gap": null,
      "grid_row": null,
      "grid_template_areas": null,
      "grid_template_columns": null,
      "grid_template_rows": null,
      "height": null,
      "justify_content": null,
      "justify_items": null,
      "left": null,
      "margin": null,
      "max_height": null,
      "max_width": null,
      "min_height": null,
      "min_width": null,
      "object_fit": null,
      "object_position": null,
      "order": null,
      "overflow": null,
      "overflow_x": null,
      "overflow_y": null,
      "padding": null,
      "right": null,
      "top": null,
      "visibility": null,
      "width": null
     }
    },
    "93ecb854c1c94a92be35563f509e54b7": {
     "model_module": "@jupyter-widgets/base",
     "model_module_version": "1.2.0",
     "model_name": "LayoutModel",
     "state": {
      "_model_module": "@jupyter-widgets/base",
      "_model_module_version": "1.2.0",
      "_model_name": "LayoutModel",
      "_view_count": null,
      "_view_module": "@jupyter-widgets/base",
      "_view_module_version": "1.2.0",
      "_view_name": "LayoutView",
      "align_content": null,
      "align_items": null,
      "align_self": null,
      "border": null,
      "bottom": null,
      "display": null,
      "flex": null,
      "flex_flow": null,
      "grid_area": null,
      "grid_auto_columns": null,
      "grid_auto_flow": null,
      "grid_auto_rows": null,
      "grid_column": null,
      "grid_gap": null,
      "grid_row": null,
      "grid_template_areas": null,
      "grid_template_columns": null,
      "grid_template_rows": null,
      "height": null,
      "justify_content": null,
      "justify_items": null,
      "left": null,
      "margin": null,
      "max_height": null,
      "max_width": null,
      "min_height": null,
      "min_width": null,
      "object_fit": null,
      "object_position": null,
      "order": null,
      "overflow": null,
      "overflow_x": null,
      "overflow_y": null,
      "padding": null,
      "right": null,
      "top": null,
      "visibility": null,
      "width": null
     }
    },
    "98cd2cca35b5493484e66f438213148b": {
     "model_module": "@jupyter-widgets/controls",
     "model_module_version": "1.5.0",
     "model_name": "HTMLModel",
     "state": {
      "_dom_classes": [],
      "_model_module": "@jupyter-widgets/controls",
      "_model_module_version": "1.5.0",
      "_model_name": "HTMLModel",
      "_view_count": null,
      "_view_module": "@jupyter-widgets/controls",
      "_view_module_version": "1.5.0",
      "_view_name": "HTMLView",
      "description": "",
      "description_tooltip": null,
      "layout": "IPY_MODEL_2c789873c2a4499fa59c804fce433d4a",
      "placeholder": "​",
      "style": "IPY_MODEL_0b30e4b9b4f54c1d94f9910eecae6b2d",
      "value": " 440M/440M [00:14&lt;00:00, 43.9MB/s]"
     }
    },
    "98d0acabcc5e42b5b691807bc3b3a978": {
     "model_module": "@jupyter-widgets/base",
     "model_module_version": "1.2.0",
     "model_name": "LayoutModel",
     "state": {
      "_model_module": "@jupyter-widgets/base",
      "_model_module_version": "1.2.0",
      "_model_name": "LayoutModel",
      "_view_count": null,
      "_view_module": "@jupyter-widgets/base",
      "_view_module_version": "1.2.0",
      "_view_name": "LayoutView",
      "align_content": null,
      "align_items": null,
      "align_self": null,
      "border": null,
      "bottom": null,
      "display": null,
      "flex": null,
      "flex_flow": null,
      "grid_area": null,
      "grid_auto_columns": null,
      "grid_auto_flow": null,
      "grid_auto_rows": null,
      "grid_column": null,
      "grid_gap": null,
      "grid_row": null,
      "grid_template_areas": null,
      "grid_template_columns": null,
      "grid_template_rows": null,
      "height": null,
      "justify_content": null,
      "justify_items": null,
      "left": null,
      "margin": null,
      "max_height": null,
      "max_width": null,
      "min_height": null,
      "min_width": null,
      "object_fit": null,
      "object_position": null,
      "order": null,
      "overflow": null,
      "overflow_x": null,
      "overflow_y": null,
      "padding": null,
      "right": null,
      "top": null,
      "visibility": null,
      "width": null
     }
    },
    "990db9004bdb4d97922ec4e294c9f47b": {
     "model_module": "@jupyter-widgets/base",
     "model_module_version": "1.2.0",
     "model_name": "LayoutModel",
     "state": {
      "_model_module": "@jupyter-widgets/base",
      "_model_module_version": "1.2.0",
      "_model_name": "LayoutModel",
      "_view_count": null,
      "_view_module": "@jupyter-widgets/base",
      "_view_module_version": "1.2.0",
      "_view_name": "LayoutView",
      "align_content": null,
      "align_items": null,
      "align_self": null,
      "border": null,
      "bottom": null,
      "display": null,
      "flex": null,
      "flex_flow": null,
      "grid_area": null,
      "grid_auto_columns": null,
      "grid_auto_flow": null,
      "grid_auto_rows": null,
      "grid_column": null,
      "grid_gap": null,
      "grid_row": null,
      "grid_template_areas": null,
      "grid_template_columns": null,
      "grid_template_rows": null,
      "height": null,
      "justify_content": null,
      "justify_items": null,
      "left": null,
      "margin": null,
      "max_height": null,
      "max_width": null,
      "min_height": null,
      "min_width": null,
      "object_fit": null,
      "object_position": null,
      "order": null,
      "overflow": null,
      "overflow_x": null,
      "overflow_y": null,
      "padding": null,
      "right": null,
      "top": null,
      "visibility": null,
      "width": null
     }
    },
    "a020ee6862cb482d8812253b899496f8": {
     "model_module": "@jupyter-widgets/controls",
     "model_module_version": "1.5.0",
     "model_name": "HTMLModel",
     "state": {
      "_dom_classes": [],
      "_model_module": "@jupyter-widgets/controls",
      "_model_module_version": "1.5.0",
      "_model_name": "HTMLModel",
      "_view_count": null,
      "_view_module": "@jupyter-widgets/controls",
      "_view_module_version": "1.5.0",
      "_view_name": "HTMLView",
      "description": "",
      "description_tooltip": null,
      "layout": "IPY_MODEL_fe3e72cf28bd4ec08c90347dc3325c25",
      "placeholder": "​",
      "style": "IPY_MODEL_aec6d5812b8f4accb42511575b1c8f1b",
      "value": "training_args.bin: 100%"
     }
    },
    "a06305dde6ab4dbc839aad52506fa446": {
     "model_module": "@jupyter-widgets/base",
     "model_module_version": "1.2.0",
     "model_name": "LayoutModel",
     "state": {
      "_model_module": "@jupyter-widgets/base",
      "_model_module_version": "1.2.0",
      "_model_name": "LayoutModel",
      "_view_count": null,
      "_view_module": "@jupyter-widgets/base",
      "_view_module_version": "1.2.0",
      "_view_name": "LayoutView",
      "align_content": null,
      "align_items": null,
      "align_self": null,
      "border": null,
      "bottom": null,
      "display": null,
      "flex": null,
      "flex_flow": null,
      "grid_area": null,
      "grid_auto_columns": null,
      "grid_auto_flow": null,
      "grid_auto_rows": null,
      "grid_column": null,
      "grid_gap": null,
      "grid_row": null,
      "grid_template_areas": null,
      "grid_template_columns": null,
      "grid_template_rows": null,
      "height": null,
      "justify_content": null,
      "justify_items": null,
      "left": null,
      "margin": null,
      "max_height": null,
      "max_width": null,
      "min_height": null,
      "min_width": null,
      "object_fit": null,
      "object_position": null,
      "order": null,
      "overflow": null,
      "overflow_x": null,
      "overflow_y": null,
      "padding": null,
      "right": null,
      "top": null,
      "visibility": null,
      "width": null
     }
    },
    "a25760e6e2004af888529a176d6820ac": {
     "model_module": "@jupyter-widgets/controls",
     "model_module_version": "1.5.0",
     "model_name": "HBoxModel",
     "state": {
      "_dom_classes": [],
      "_model_module": "@jupyter-widgets/controls",
      "_model_module_version": "1.5.0",
      "_model_name": "HBoxModel",
      "_view_count": null,
      "_view_module": "@jupyter-widgets/controls",
      "_view_module_version": "1.5.0",
      "_view_name": "HBoxView",
      "box_style": "",
      "children": [
       "IPY_MODEL_48e7df160a2c4520a4d07f9593330ea5",
       "IPY_MODEL_676594f28ee54b0086eb39ad53d137d9",
       "IPY_MODEL_ef8ac005399b442f93f927dd0c3b6d1d"
      ],
      "layout": "IPY_MODEL_6bbe7c0c8a2544098cede8f78ddb78d1"
     }
    },
    "a6a8263c28c2461c90424702a576154b": {
     "model_module": "@jupyter-widgets/base",
     "model_module_version": "1.2.0",
     "model_name": "LayoutModel",
     "state": {
      "_model_module": "@jupyter-widgets/base",
      "_model_module_version": "1.2.0",
      "_model_name": "LayoutModel",
      "_view_count": null,
      "_view_module": "@jupyter-widgets/base",
      "_view_module_version": "1.2.0",
      "_view_name": "LayoutView",
      "align_content": null,
      "align_items": null,
      "align_self": null,
      "border": null,
      "bottom": null,
      "display": null,
      "flex": null,
      "flex_flow": null,
      "grid_area": null,
      "grid_auto_columns": null,
      "grid_auto_flow": null,
      "grid_auto_rows": null,
      "grid_column": null,
      "grid_gap": null,
      "grid_row": null,
      "grid_template_areas": null,
      "grid_template_columns": null,
      "grid_template_rows": null,
      "height": null,
      "justify_content": null,
      "justify_items": null,
      "left": null,
      "margin": null,
      "max_height": null,
      "max_width": null,
      "min_height": null,
      "min_width": null,
      "object_fit": null,
      "object_position": null,
      "order": null,
      "overflow": null,
      "overflow_x": null,
      "overflow_y": null,
      "padding": null,
      "right": null,
      "top": null,
      "visibility": null,
      "width": null
     }
    },
    "a7ebc8d3030e49f1b9ae110fa09c0101": {
     "model_module": "@jupyter-widgets/base",
     "model_module_version": "1.2.0",
     "model_name": "LayoutModel",
     "state": {
      "_model_module": "@jupyter-widgets/base",
      "_model_module_version": "1.2.0",
      "_model_name": "LayoutModel",
      "_view_count": null,
      "_view_module": "@jupyter-widgets/base",
      "_view_module_version": "1.2.0",
      "_view_name": "LayoutView",
      "align_content": null,
      "align_items": null,
      "align_self": null,
      "border": null,
      "bottom": null,
      "display": null,
      "flex": null,
      "flex_flow": null,
      "grid_area": null,
      "grid_auto_columns": null,
      "grid_auto_flow": null,
      "grid_auto_rows": null,
      "grid_column": null,
      "grid_gap": null,
      "grid_row": null,
      "grid_template_areas": null,
      "grid_template_columns": null,
      "grid_template_rows": null,
      "height": null,
      "justify_content": null,
      "justify_items": null,
      "left": null,
      "margin": null,
      "max_height": null,
      "max_width": null,
      "min_height": null,
      "min_width": null,
      "object_fit": null,
      "object_position": null,
      "order": null,
      "overflow": null,
      "overflow_x": null,
      "overflow_y": null,
      "padding": null,
      "right": null,
      "top": null,
      "visibility": null,
      "width": null
     }
    },
    "aec6d5812b8f4accb42511575b1c8f1b": {
     "model_module": "@jupyter-widgets/controls",
     "model_module_version": "1.5.0",
     "model_name": "DescriptionStyleModel",
     "state": {
      "_model_module": "@jupyter-widgets/controls",
      "_model_module_version": "1.5.0",
      "_model_name": "DescriptionStyleModel",
      "_view_count": null,
      "_view_module": "@jupyter-widgets/base",
      "_view_module_version": "1.2.0",
      "_view_name": "StyleView",
      "description_width": ""
     }
    },
    "b75bb34970be44a49dc0aa9009c469d5": {
     "model_module": "@jupyter-widgets/base",
     "model_module_version": "1.2.0",
     "model_name": "LayoutModel",
     "state": {
      "_model_module": "@jupyter-widgets/base",
      "_model_module_version": "1.2.0",
      "_model_name": "LayoutModel",
      "_view_count": null,
      "_view_module": "@jupyter-widgets/base",
      "_view_module_version": "1.2.0",
      "_view_name": "LayoutView",
      "align_content": null,
      "align_items": null,
      "align_self": null,
      "border": null,
      "bottom": null,
      "display": null,
      "flex": null,
      "flex_flow": null,
      "grid_area": null,
      "grid_auto_columns": null,
      "grid_auto_flow": null,
      "grid_auto_rows": null,
      "grid_column": null,
      "grid_gap": null,
      "grid_row": null,
      "grid_template_areas": null,
      "grid_template_columns": null,
      "grid_template_rows": null,
      "height": null,
      "justify_content": null,
      "justify_items": null,
      "left": null,
      "margin": null,
      "max_height": null,
      "max_width": null,
      "min_height": null,
      "min_width": null,
      "object_fit": null,
      "object_position": null,
      "order": null,
      "overflow": null,
      "overflow_x": null,
      "overflow_y": null,
      "padding": null,
      "right": null,
      "top": null,
      "visibility": null,
      "width": null
     }
    },
    "b8722b15c6cc45ac84108edee1d9a8b1": {
     "model_module": "@jupyter-widgets/controls",
     "model_module_version": "1.5.0",
     "model_name": "HTMLModel",
     "state": {
      "_dom_classes": [],
      "_model_module": "@jupyter-widgets/controls",
      "_model_module_version": "1.5.0",
      "_model_name": "HTMLModel",
      "_view_count": null,
      "_view_module": "@jupyter-widgets/controls",
      "_view_module_version": "1.5.0",
      "_view_name": "HTMLView",
      "description": "",
      "description_tooltip": null,
      "layout": "IPY_MODEL_a06305dde6ab4dbc839aad52506fa446",
      "placeholder": "​",
      "style": "IPY_MODEL_383e40afafbc49d5992a0a82a915b33b",
      "value": " 4.60k/4.60k [00:00&lt;00:00, 12.3kB/s]"
     }
    },
    "bb4af9574d5d4677beace17647a1e377": {
     "model_module": "@jupyter-widgets/base",
     "model_module_version": "1.2.0",
     "model_name": "LayoutModel",
     "state": {
      "_model_module": "@jupyter-widgets/base",
      "_model_module_version": "1.2.0",
      "_model_name": "LayoutModel",
      "_view_count": null,
      "_view_module": "@jupyter-widgets/base",
      "_view_module_version": "1.2.0",
      "_view_name": "LayoutView",
      "align_content": null,
      "align_items": null,
      "align_self": null,
      "border": null,
      "bottom": null,
      "display": null,
      "flex": null,
      "flex_flow": null,
      "grid_area": null,
      "grid_auto_columns": null,
      "grid_auto_flow": null,
      "grid_auto_rows": null,
      "grid_column": null,
      "grid_gap": null,
      "grid_row": null,
      "grid_template_areas": null,
      "grid_template_columns": null,
      "grid_template_rows": null,
      "height": null,
      "justify_content": null,
      "justify_items": null,
      "left": null,
      "margin": null,
      "max_height": null,
      "max_width": null,
      "min_height": null,
      "min_width": null,
      "object_fit": null,
      "object_position": null,
      "order": null,
      "overflow": null,
      "overflow_x": null,
      "overflow_y": null,
      "padding": null,
      "right": null,
      "top": null,
      "visibility": null,
      "width": null
     }
    },
    "bbce29c247d34463a10b34922d678477": {
     "model_module": "@jupyter-widgets/controls",
     "model_module_version": "1.5.0",
     "model_name": "FloatProgressModel",
     "state": {
      "_dom_classes": [],
      "_model_module": "@jupyter-widgets/controls",
      "_model_module_version": "1.5.0",
      "_model_name": "FloatProgressModel",
      "_view_count": null,
      "_view_module": "@jupyter-widgets/controls",
      "_view_module_version": "1.5.0",
      "_view_name": "ProgressView",
      "bar_style": "success",
      "description": "",
      "description_tooltip": null,
      "layout": "IPY_MODEL_4a5e1dea1dfb41b8b01b3185dcc1927d",
      "max": 2,
      "min": 0,
      "orientation": "horizontal",
      "style": "IPY_MODEL_d782464d1a554634bb23e26936948d52",
      "value": 2
     }
    },
    "bfa2a29432fa46a2808aad7e2d124f04": {
     "model_module": "@jupyter-widgets/controls",
     "model_module_version": "1.5.0",
     "model_name": "DescriptionStyleModel",
     "state": {
      "_model_module": "@jupyter-widgets/controls",
      "_model_module_version": "1.5.0",
      "_model_name": "DescriptionStyleModel",
      "_view_count": null,
      "_view_module": "@jupyter-widgets/base",
      "_view_module_version": "1.2.0",
      "_view_name": "StyleView",
      "description_width": ""
     }
    },
    "c657454bc1684728a210358b58a1af44": {
     "model_module": "@jupyter-widgets/controls",
     "model_module_version": "1.5.0",
     "model_name": "FloatProgressModel",
     "state": {
      "_dom_classes": [],
      "_model_module": "@jupyter-widgets/controls",
      "_model_module_version": "1.5.0",
      "_model_name": "FloatProgressModel",
      "_view_count": null,
      "_view_module": "@jupyter-widgets/controls",
      "_view_module_version": "1.5.0",
      "_view_name": "ProgressView",
      "bar_style": "success",
      "description": "",
      "description_tooltip": null,
      "layout": "IPY_MODEL_65e4953eb74e4e31acd76b36b4eba8d3",
      "max": 338,
      "min": 0,
      "orientation": "horizontal",
      "style": "IPY_MODEL_64f97af205984f9db3fedae67b361205",
      "value": 338
     }
    },
    "caa21cb14ca541259da5c02222e93a76": {
     "model_module": "@jupyter-widgets/controls",
     "model_module_version": "1.5.0",
     "model_name": "HTMLModel",
     "state": {
      "_dom_classes": [],
      "_model_module": "@jupyter-widgets/controls",
      "_model_module_version": "1.5.0",
      "_model_name": "HTMLModel",
      "_view_count": null,
      "_view_module": "@jupyter-widgets/controls",
      "_view_module_version": "1.5.0",
      "_view_name": "HTMLView",
      "description": "",
      "description_tooltip": null,
      "layout": "IPY_MODEL_61d353c0ee8248639e2edbf91d208cda",
      "placeholder": "​",
      "style": "IPY_MODEL_ed3485d2d1c34e04975d4da4f19f0a95",
      "value": "Downloading builder script: "
     }
    },
    "d782464d1a554634bb23e26936948d52": {
     "model_module": "@jupyter-widgets/controls",
     "model_module_version": "1.5.0",
     "model_name": "ProgressStyleModel",
     "state": {
      "_model_module": "@jupyter-widgets/controls",
      "_model_module_version": "1.5.0",
      "_model_name": "ProgressStyleModel",
      "_view_count": null,
      "_view_module": "@jupyter-widgets/base",
      "_view_module_version": "1.2.0",
      "_view_name": "StyleView",
      "bar_color": null,
      "description_width": ""
     }
    },
    "dde7c35cb44a40be902d7602d4b2bd7e": {
     "model_module": "@jupyter-widgets/base",
     "model_module_version": "1.2.0",
     "model_name": "LayoutModel",
     "state": {
      "_model_module": "@jupyter-widgets/base",
      "_model_module_version": "1.2.0",
      "_model_name": "LayoutModel",
      "_view_count": null,
      "_view_module": "@jupyter-widgets/base",
      "_view_module_version": "1.2.0",
      "_view_name": "LayoutView",
      "align_content": null,
      "align_items": null,
      "align_self": null,
      "border": null,
      "bottom": null,
      "display": null,
      "flex": null,
      "flex_flow": null,
      "grid_area": null,
      "grid_auto_columns": null,
      "grid_auto_flow": null,
      "grid_auto_rows": null,
      "grid_column": null,
      "grid_gap": null,
      "grid_row": null,
      "grid_template_areas": null,
      "grid_template_columns": null,
      "grid_template_rows": null,
      "height": null,
      "justify_content": null,
      "justify_items": null,
      "left": null,
      "margin": null,
      "max_height": null,
      "max_width": null,
      "min_height": null,
      "min_width": null,
      "object_fit": null,
      "object_position": null,
      "order": null,
      "overflow": null,
      "overflow_x": null,
      "overflow_y": null,
      "padding": null,
      "right": null,
      "top": null,
      "visibility": null,
      "width": null
     }
    },
    "dea9ebd1abca47e9b6af3391ebb38afe": {
     "model_module": "@jupyter-widgets/controls",
     "model_module_version": "1.5.0",
     "model_name": "ProgressStyleModel",
     "state": {
      "_model_module": "@jupyter-widgets/controls",
      "_model_module_version": "1.5.0",
      "_model_name": "ProgressStyleModel",
      "_view_count": null,
      "_view_module": "@jupyter-widgets/base",
      "_view_module_version": "1.2.0",
      "_view_name": "StyleView",
      "bar_color": null,
      "description_width": ""
     }
    },
    "e0a6aa27b4e2497d81c6523f3eb96152": {
     "model_module": "@jupyter-widgets/controls",
     "model_module_version": "1.5.0",
     "model_name": "HTMLModel",
     "state": {
      "_dom_classes": [],
      "_model_module": "@jupyter-widgets/controls",
      "_model_module_version": "1.5.0",
      "_model_name": "HTMLModel",
      "_view_count": null,
      "_view_module": "@jupyter-widgets/controls",
      "_view_module_version": "1.5.0",
      "_view_name": "HTMLView",
      "description": "",
      "description_tooltip": null,
      "layout": "IPY_MODEL_80102b1bee34477fa2900684a07518c0",
      "placeholder": "​",
      "style": "IPY_MODEL_3302808109d04f11b62910a8261309db",
      "value": " 6.33k/? [00:00&lt;00:00, 435kB/s]"
     }
    },
    "e0e79a889603413ba044610bae67b813": {
     "model_module": "@jupyter-widgets/controls",
     "model_module_version": "1.5.0",
     "model_name": "ProgressStyleModel",
     "state": {
      "_model_module": "@jupyter-widgets/controls",
      "_model_module_version": "1.5.0",
      "_model_name": "ProgressStyleModel",
      "_view_count": null,
      "_view_module": "@jupyter-widgets/base",
      "_view_module_version": "1.2.0",
      "_view_name": "StyleView",
      "bar_color": null,
      "description_width": ""
     }
    },
    "e2306d5314b24d6d93b54b5fc57ef85e": {
     "model_module": "@jupyter-widgets/controls",
     "model_module_version": "1.5.0",
     "model_name": "DescriptionStyleModel",
     "state": {
      "_model_module": "@jupyter-widgets/controls",
      "_model_module_version": "1.5.0",
      "_model_name": "DescriptionStyleModel",
      "_view_count": null,
      "_view_module": "@jupyter-widgets/base",
      "_view_module_version": "1.2.0",
      "_view_name": "StyleView",
      "description_width": ""
     }
    },
    "e268d959f84e4ffe81c63d504b7a22c2": {
     "model_module": "@jupyter-widgets/base",
     "model_module_version": "1.2.0",
     "model_name": "LayoutModel",
     "state": {
      "_model_module": "@jupyter-widgets/base",
      "_model_module_version": "1.2.0",
      "_model_name": "LayoutModel",
      "_view_count": null,
      "_view_module": "@jupyter-widgets/base",
      "_view_module_version": "1.2.0",
      "_view_name": "LayoutView",
      "align_content": null,
      "align_items": null,
      "align_self": null,
      "border": null,
      "bottom": null,
      "display": null,
      "flex": null,
      "flex_flow": null,
      "grid_area": null,
      "grid_auto_columns": null,
      "grid_auto_flow": null,
      "grid_auto_rows": null,
      "grid_column": null,
      "grid_gap": null,
      "grid_row": null,
      "grid_template_areas": null,
      "grid_template_columns": null,
      "grid_template_rows": null,
      "height": null,
      "justify_content": null,
      "justify_items": null,
      "left": null,
      "margin": null,
      "max_height": null,
      "max_width": null,
      "min_height": null,
      "min_width": null,
      "object_fit": null,
      "object_position": null,
      "order": null,
      "overflow": null,
      "overflow_x": null,
      "overflow_y": null,
      "padding": null,
      "right": null,
      "top": null,
      "visibility": null,
      "width": null
     }
    },
    "e2f0d9d164dd48adba39e55e6a871f3e": {
     "model_module": "@jupyter-widgets/base",
     "model_module_version": "1.2.0",
     "model_name": "LayoutModel",
     "state": {
      "_model_module": "@jupyter-widgets/base",
      "_model_module_version": "1.2.0",
      "_model_name": "LayoutModel",
      "_view_count": null,
      "_view_module": "@jupyter-widgets/base",
      "_view_module_version": "1.2.0",
      "_view_name": "LayoutView",
      "align_content": null,
      "align_items": null,
      "align_self": null,
      "border": null,
      "bottom": null,
      "display": null,
      "flex": null,
      "flex_flow": null,
      "grid_area": null,
      "grid_auto_columns": null,
      "grid_auto_flow": null,
      "grid_auto_rows": null,
      "grid_column": null,
      "grid_gap": null,
      "grid_row": null,
      "grid_template_areas": null,
      "grid_template_columns": null,
      "grid_template_rows": null,
      "height": null,
      "justify_content": null,
      "justify_items": null,
      "left": null,
      "margin": null,
      "max_height": null,
      "max_width": null,
      "min_height": null,
      "min_width": null,
      "object_fit": null,
      "object_position": null,
      "order": null,
      "overflow": null,
      "overflow_x": null,
      "overflow_y": null,
      "padding": null,
      "right": null,
      "top": null,
      "visibility": null,
      "width": null
     }
    },
    "e3202bd855204f3fa6be9e14d0b2cb70": {
     "model_module": "@jupyter-widgets/controls",
     "model_module_version": "1.5.0",
     "model_name": "HBoxModel",
     "state": {
      "_dom_classes": [],
      "_model_module": "@jupyter-widgets/controls",
      "_model_module_version": "1.5.0",
      "_model_name": "HBoxModel",
      "_view_count": null,
      "_view_module": "@jupyter-widgets/controls",
      "_view_module_version": "1.5.0",
      "_view_name": "HBoxView",
      "box_style": "",
      "children": [
       "IPY_MODEL_6dd0e6c1229647cab4471773e4d869e7",
       "IPY_MODEL_67a44198dd61495c8c5105a87b2b2c0c",
       "IPY_MODEL_437bfb5bff3c4034b5285fa161409aa0"
      ],
      "layout": "IPY_MODEL_b75bb34970be44a49dc0aa9009c469d5"
     }
    },
    "e396cf58ca1d44069422f0113f8cd4fa": {
     "model_module": "@jupyter-widgets/controls",
     "model_module_version": "1.5.0",
     "model_name": "DescriptionStyleModel",
     "state": {
      "_model_module": "@jupyter-widgets/controls",
      "_model_module_version": "1.5.0",
      "_model_name": "DescriptionStyleModel",
      "_view_count": null,
      "_view_module": "@jupyter-widgets/base",
      "_view_module_version": "1.2.0",
      "_view_name": "StyleView",
      "description_width": ""
     }
    },
    "e6c04602fae3482fb9000583de3fd154": {
     "model_module": "@jupyter-widgets/base",
     "model_module_version": "1.2.0",
     "model_name": "LayoutModel",
     "state": {
      "_model_module": "@jupyter-widgets/base",
      "_model_module_version": "1.2.0",
      "_model_name": "LayoutModel",
      "_view_count": null,
      "_view_module": "@jupyter-widgets/base",
      "_view_module_version": "1.2.0",
      "_view_name": "LayoutView",
      "align_content": null,
      "align_items": null,
      "align_self": null,
      "border": null,
      "bottom": null,
      "display": null,
      "flex": null,
      "flex_flow": null,
      "grid_area": null,
      "grid_auto_columns": null,
      "grid_auto_flow": null,
      "grid_auto_rows": null,
      "grid_column": null,
      "grid_gap": null,
      "grid_row": null,
      "grid_template_areas": null,
      "grid_template_columns": null,
      "grid_template_rows": null,
      "height": null,
      "justify_content": null,
      "justify_items": null,
      "left": null,
      "margin": null,
      "max_height": null,
      "max_width": null,
      "min_height": null,
      "min_width": null,
      "object_fit": null,
      "object_position": null,
      "order": null,
      "overflow": null,
      "overflow_x": null,
      "overflow_y": null,
      "padding": null,
      "right": null,
      "top": null,
      "visibility": null,
      "width": null
     }
    },
    "e843427dd4b64321979c07eaf5b2813b": {
     "model_module": "@jupyter-widgets/base",
     "model_module_version": "1.2.0",
     "model_name": "LayoutModel",
     "state": {
      "_model_module": "@jupyter-widgets/base",
      "_model_module_version": "1.2.0",
      "_model_name": "LayoutModel",
      "_view_count": null,
      "_view_module": "@jupyter-widgets/base",
      "_view_module_version": "1.2.0",
      "_view_name": "LayoutView",
      "align_content": null,
      "align_items": null,
      "align_self": null,
      "border": null,
      "bottom": null,
      "display": null,
      "flex": null,
      "flex_flow": null,
      "grid_area": null,
      "grid_auto_columns": null,
      "grid_auto_flow": null,
      "grid_auto_rows": null,
      "grid_column": null,
      "grid_gap": null,
      "grid_row": null,
      "grid_template_areas": null,
      "grid_template_columns": null,
      "grid_template_rows": null,
      "height": null,
      "justify_content": null,
      "justify_items": null,
      "left": null,
      "margin": null,
      "max_height": null,
      "max_width": null,
      "min_height": null,
      "min_width": null,
      "object_fit": null,
      "object_position": null,
      "order": null,
      "overflow": null,
      "overflow_x": null,
      "overflow_y": null,
      "padding": null,
      "right": null,
      "top": null,
      "visibility": null,
      "width": null
     }
    },
    "ed3485d2d1c34e04975d4da4f19f0a95": {
     "model_module": "@jupyter-widgets/controls",
     "model_module_version": "1.5.0",
     "model_name": "DescriptionStyleModel",
     "state": {
      "_model_module": "@jupyter-widgets/controls",
      "_model_module_version": "1.5.0",
      "_model_name": "DescriptionStyleModel",
      "_view_count": null,
      "_view_module": "@jupyter-widgets/base",
      "_view_module_version": "1.2.0",
      "_view_name": "StyleView",
      "description_width": ""
     }
    },
    "ef8ac005399b442f93f927dd0c3b6d1d": {
     "model_module": "@jupyter-widgets/controls",
     "model_module_version": "1.5.0",
     "model_name": "HTMLModel",
     "state": {
      "_dom_classes": [],
      "_model_module": "@jupyter-widgets/controls",
      "_model_module_version": "1.5.0",
      "_model_name": "HTMLModel",
      "_view_count": null,
      "_view_module": "@jupyter-widgets/controls",
      "_view_module_version": "1.5.0",
      "_view_name": "HTMLView",
      "description": "",
      "description_tooltip": null,
      "layout": "IPY_MODEL_e843427dd4b64321979c07eaf5b2813b",
      "placeholder": "​",
      "style": "IPY_MODEL_bfa2a29432fa46a2808aad7e2d124f04",
      "value": " 1014/1014 [00:00&lt;00:00, 3491.32 examples/s]"
     }
    },
    "f1a57b72a9244d60a77357b642269e62": {
     "model_module": "@jupyter-widgets/base",
     "model_module_version": "1.2.0",
     "model_name": "LayoutModel",
     "state": {
      "_model_module": "@jupyter-widgets/base",
      "_model_module_version": "1.2.0",
      "_model_name": "LayoutModel",
      "_view_count": null,
      "_view_module": "@jupyter-widgets/base",
      "_view_module_version": "1.2.0",
      "_view_name": "LayoutView",
      "align_content": null,
      "align_items": null,
      "align_self": null,
      "border": null,
      "bottom": null,
      "display": null,
      "flex": null,
      "flex_flow": null,
      "grid_area": null,
      "grid_auto_columns": null,
      "grid_auto_flow": null,
      "grid_auto_rows": null,
      "grid_column": null,
      "grid_gap": null,
      "grid_row": null,
      "grid_template_areas": null,
      "grid_template_columns": null,
      "grid_template_rows": null,
      "height": null,
      "justify_content": null,
      "justify_items": null,
      "left": null,
      "margin": null,
      "max_height": null,
      "max_width": null,
      "min_height": null,
      "min_width": null,
      "object_fit": null,
      "object_position": null,
      "order": null,
      "overflow": null,
      "overflow_x": null,
      "overflow_y": null,
      "padding": null,
      "right": null,
      "top": null,
      "visibility": null,
      "width": null
     }
    },
    "f43fc5bfbc3b45df930c7773e348de84": {
     "model_module": "@jupyter-widgets/base",
     "model_module_version": "1.2.0",
     "model_name": "LayoutModel",
     "state": {
      "_model_module": "@jupyter-widgets/base",
      "_model_module_version": "1.2.0",
      "_model_name": "LayoutModel",
      "_view_count": null,
      "_view_module": "@jupyter-widgets/base",
      "_view_module_version": "1.2.0",
      "_view_name": "LayoutView",
      "align_content": null,
      "align_items": null,
      "align_self": null,
      "border": null,
      "bottom": null,
      "display": null,
      "flex": null,
      "flex_flow": null,
      "grid_area": null,
      "grid_auto_columns": null,
      "grid_auto_flow": null,
      "grid_auto_rows": null,
      "grid_column": null,
      "grid_gap": null,
      "grid_row": null,
      "grid_template_areas": null,
      "grid_template_columns": null,
      "grid_template_rows": null,
      "height": null,
      "justify_content": null,
      "justify_items": null,
      "left": null,
      "margin": null,
      "max_height": null,
      "max_width": null,
      "min_height": null,
      "min_width": null,
      "object_fit": null,
      "object_position": null,
      "order": null,
      "overflow": null,
      "overflow_x": null,
      "overflow_y": null,
      "padding": null,
      "right": null,
      "top": null,
      "visibility": null,
      "width": null
     }
    },
    "f6e60827e09244a793424e6ce1621d55": {
     "model_module": "@jupyter-widgets/controls",
     "model_module_version": "1.5.0",
     "model_name": "HBoxModel",
     "state": {
      "_dom_classes": [],
      "_model_module": "@jupyter-widgets/controls",
      "_model_module_version": "1.5.0",
      "_model_name": "HBoxModel",
      "_view_count": null,
      "_view_module": "@jupyter-widgets/controls",
      "_view_module_version": "1.5.0",
      "_view_name": "HBoxView",
      "box_style": "",
      "children": [
       "IPY_MODEL_ff5b05fc1ecf4f91be6aa2fd62ebfd83",
       "IPY_MODEL_bbce29c247d34463a10b34922d678477",
       "IPY_MODEL_5fb743648b684f72a5dd47f3d9b825f3"
      ],
      "layout": "IPY_MODEL_990db9004bdb4d97922ec4e294c9f47b"
     }
    },
    "fcfc1869f4824ec6ab640d5b459a91e6": {
     "model_module": "@jupyter-widgets/base",
     "model_module_version": "1.2.0",
     "model_name": "LayoutModel",
     "state": {
      "_model_module": "@jupyter-widgets/base",
      "_model_module_version": "1.2.0",
      "_model_name": "LayoutModel",
      "_view_count": null,
      "_view_module": "@jupyter-widgets/base",
      "_view_module_version": "1.2.0",
      "_view_name": "LayoutView",
      "align_content": null,
      "align_items": null,
      "align_self": null,
      "border": null,
      "bottom": null,
      "display": null,
      "flex": null,
      "flex_flow": null,
      "grid_area": null,
      "grid_auto_columns": null,
      "grid_auto_flow": null,
      "grid_auto_rows": null,
      "grid_column": null,
      "grid_gap": null,
      "grid_row": null,
      "grid_template_areas": null,
      "grid_template_columns": null,
      "grid_template_rows": null,
      "height": null,
      "justify_content": null,
      "justify_items": null,
      "left": null,
      "margin": null,
      "max_height": null,
      "max_width": null,
      "min_height": null,
      "min_width": null,
      "object_fit": null,
      "object_position": null,
      "order": null,
      "overflow": null,
      "overflow_x": null,
      "overflow_y": null,
      "padding": null,
      "right": null,
      "top": null,
      "visibility": null,
      "width": null
     }
    },
    "fe3e72cf28bd4ec08c90347dc3325c25": {
     "model_module": "@jupyter-widgets/base",
     "model_module_version": "1.2.0",
     "model_name": "LayoutModel",
     "state": {
      "_model_module": "@jupyter-widgets/base",
      "_model_module_version": "1.2.0",
      "_model_name": "LayoutModel",
      "_view_count": null,
      "_view_module": "@jupyter-widgets/base",
      "_view_module_version": "1.2.0",
      "_view_name": "LayoutView",
      "align_content": null,
      "align_items": null,
      "align_self": null,
      "border": null,
      "bottom": null,
      "display": null,
      "flex": null,
      "flex_flow": null,
      "grid_area": null,
      "grid_auto_columns": null,
      "grid_auto_flow": null,
      "grid_auto_rows": null,
      "grid_column": null,
      "grid_gap": null,
      "grid_row": null,
      "grid_template_areas": null,
      "grid_template_columns": null,
      "grid_template_rows": null,
      "height": null,
      "justify_content": null,
      "justify_items": null,
      "left": null,
      "margin": null,
      "max_height": null,
      "max_width": null,
      "min_height": null,
      "min_width": null,
      "object_fit": null,
      "object_position": null,
      "order": null,
      "overflow": null,
      "overflow_x": null,
      "overflow_y": null,
      "padding": null,
      "right": null,
      "top": null,
      "visibility": null,
      "width": null
     }
    },
    "ff5b05fc1ecf4f91be6aa2fd62ebfd83": {
     "model_module": "@jupyter-widgets/controls",
     "model_module_version": "1.5.0",
     "model_name": "HTMLModel",
     "state": {
      "_dom_classes": [],
      "_model_module": "@jupyter-widgets/controls",
      "_model_module_version": "1.5.0",
      "_model_name": "HTMLModel",
      "_view_count": null,
      "_view_module": "@jupyter-widgets/controls",
      "_view_module_version": "1.5.0",
      "_view_name": "HTMLView",
      "description": "",
      "description_tooltip": null,
      "layout": "IPY_MODEL_f43fc5bfbc3b45df930c7773e348de84",
      "placeholder": "​",
      "style": "IPY_MODEL_e2306d5314b24d6d93b54b5fc57ef85e",
      "value": "Upload 2 LFS files: 100%"
     }
    }
   }
  }
 },
 "nbformat": 4,
 "nbformat_minor": 5
}
