{
 "cells": [
  {
   "cell_type": "markdown",
   "metadata": {},
   "source": [
    "# EARTHQUAKE TWEETS CLASSIFICATION\n",
    "\n",
    "This notebook composes the first step of my final project for JEDHA bootcamp: developing an app that visualizes emergency calls tweets on a map during the earthquake.\n",
    "\n",
    "I ran the notebook on Google Colab since the final part requires using GPU and my local computer did not have one. Final step on deployment on huggingface hence involves steps to deploy a model from Colab notebook to a huggingface repository.\n",
    "\n",
    "### Install and Import Necessary Packages\n"
   ]
  },
  {
   "cell_type": "code",
   "execution_count": null,
   "metadata": {
    "colab": {
     "base_uri": "https://localhost:8080/"
    },
    "id": "-Lxt2iHGS-VV",
    "outputId": "5e36e529-b7f8-4238-ca08-72a23b9bd0f3"
   },
   "outputs": [],
   "source": [
    "#!pip install transformers datasets"
   ]
  },
  {
   "cell_type": "code",
   "execution_count": null,
   "metadata": {
    "colab": {
     "base_uri": "https://localhost:8080/"
    },
    "id": "vA5coFBTTC6m",
    "outputId": "639b0b4a-9f0b-495e-b9b4-8d0c71d7a778"
   },
   "outputs": [],
   "source": [
    "#!pip install transformers[torch]"
   ]
  },
  {
   "cell_type": "code",
   "execution_count": null,
   "metadata": {
    "colab": {
     "base_uri": "https://localhost:8080/"
    },
    "id": "k4-zTB-VZ1FJ",
    "outputId": "1755be55-c347-4829-bc89-109bfc54ca39"
   },
   "outputs": [],
   "source": [
    "#!pip install torch"
   ]
  },
  {
   "cell_type": "code",
   "execution_count": null,
   "metadata": {
    "colab": {
     "base_uri": "https://localhost:8080/"
    },
    "id": "DR-ErTCfTFXq",
    "outputId": "2d1b355e-20a3-473b-91f6-dd867c65f8c7"
   },
   "outputs": [],
   "source": [
    "#!pip install torchinfo"
   ]
  },
  {
   "cell_type": "code",
   "execution_count": null,
   "metadata": {
    "colab": {
     "base_uri": "https://localhost:8080/"
    },
    "id": "et7Dj8aKaf-M",
    "outputId": "fbddb5de-efe9-4efd-bbc0-d2da18016cf2"
   },
   "outputs": [],
   "source": [
    "#!pip install huggingface_hub"
   ]
  },
  {
   "cell_type": "code",
   "execution_count": null,
   "metadata": {
    "id": "wrIWUueOwr_8"
   },
   "outputs": [],
   "source": [
    "import pandas as pd\n",
    "import numpy as np\n",
    "import seaborn as sns\n",
    "import matplotlib.pyplot as plt\n",
    "import re\n",
    "import nltk\n",
    "from nltk.corpus import stopwords\n",
    "import json\n",
    "from wordcloud import WordCloud\n",
    "\n",
    "from sklearn.model_selection import train_test_split, GridSearchCV, cross_val_score\n",
    "from sklearn.linear_model import LogisticRegression\n",
    "from sklearn.naive_bayes import MultinomialNB\n",
    "from sklearn.svm import SVC\n",
    "from sklearn.metrics import f1_score, accuracy_score, confusion_matrix, precision_score, recall_score, classification_report\n",
    "from sklearn.feature_extraction.text import CountVectorizer, TfidfVectorizer, TfidfTransformer\n",
    "from sklearn.pipeline import Pipeline\n",
    "\n",
    "import tensorflow as tf\n",
    "from tensorflow.keras.preprocessing.text import Tokenizer\n",
    "from tensorflow.keras.preprocessing.sequence import pad_sequences\n",
    "from tensorflow.keras.layers import Dense, Input, GlobalMaxPooling1D\n",
    "from tensorflow.keras.layers import LSTM, Embedding, Bidirectional\n",
    "\n",
    "from tensorflow.keras.models import Model\n",
    "from tensorflow.keras.losses import BinaryCrossentropy\n",
    "from tensorflow.keras.optimizers import Adam\n",
    "\n",
    "from datasets import load_dataset\n",
    "from transformers import AutoTokenizer, pipeline\n",
    "from transformers import AutoModelForSequenceClassification, Trainer, TrainingArguments\n",
    "import torch\n",
    "from torchinfo import summary\n",
    "\n",
    "import huggingface_hub"
   ]
  },
  {
   "cell_type": "code",
   "execution_count": null,
   "metadata": {
    "colab": {
     "base_uri": "https://localhost:8080/"
    },
    "id": "D9LQzb-jw7Z1",
    "outputId": "594bf57b-d9b3-4786-b259-c4c99dd3a25a"
   },
   "outputs": [],
   "source": [
    "nltk.download('punkt')\n",
    "nltk.download('stopwords')"
   ]
  },
  {
   "cell_type": "markdown",
   "metadata": {
    "id": "tDJNqAXbwweo"
   },
   "source": [
    "## PART 1: EDA & TEXT PREPROCESSING"
   ]
  },
  {
   "cell_type": "markdown",
   "metadata": {},
   "source": [
    "The dataset I manually annotated on doccano is in json format. Let's upload it."
   ]
  },
  {
   "cell_type": "code",
   "execution_count": null,
   "metadata": {
    "colab": {
     "base_uri": "https://localhost:8080/",
     "height": 206
    },
    "id": "iSll3hy0wy7V",
    "outputId": "b827a2e8-c416-49cd-ae1a-de384155071e"
   },
   "outputs": [],
   "source": [
    "df = pd.read_json('earthquake10K.json')\n",
    "df.head()"
   ]
  },
  {
   "cell_type": "code",
   "execution_count": null,
   "metadata": {
    "colab": {
     "base_uri": "https://localhost:8080/",
     "height": 206
    },
    "id": "3ko2PlsvxCds",
    "outputId": "7a390f05-cc32-42fb-d5b5-f12cb8f7e5da"
   },
   "outputs": [],
   "source": [
    "for i in range(len(df)):\n",
    "    a = df['label'][i][0]\n",
    "    df.loc[i, 'label'] = a\n",
    "\n",
    "df.head()"
   ]
  },
  {
   "cell_type": "markdown",
   "metadata": {},
   "source": [
    "### Exploring the Data"
   ]
  },
  {
   "cell_type": "code",
   "execution_count": null,
   "metadata": {},
   "outputs": [],
   "source": [
    "print(\"The annotated dataset contains\", df.shape[0], 'tweets.')"
   ]
  },
  {
   "cell_type": "markdown",
   "metadata": {},
   "source": [
    "I had initially annotated the data in three categories:\n",
    "- rescue calls (belong to calls by or for people who are under the rubbles at the time)\n",
    "- urgent needs (urgent food, heating, clothing demands)\n",
    "- other\n",
    "\n",
    "However, having seen the quite imbalanced distributions of the categories, I decided to merge the first two labels into a single one, to denote all sorts of emergency calls."
   ]
  },
  {
   "cell_type": "code",
   "execution_count": null,
   "metadata": {
    "colab": {
     "base_uri": "https://localhost:8080/",
     "height": 449
    },
    "id": "RnydcL6dxCmr",
    "outputId": "1d3fef8c-eb5a-4883-e5cb-bad0bfdf30ab"
   },
   "outputs": [],
   "source": [
    "# i annotated the data with three labels yet there is very low occurence for the urgent needs:\n",
    "df['label'].hist()"
   ]
  },
  {
   "cell_type": "code",
   "execution_count": null,
   "metadata": {
    "colab": {
     "base_uri": "https://localhost:8080/"
    },
    "id": "uZ6akGZYxCtP",
    "outputId": "f1484104-be34-4603-e22c-b5b7874a0c2a"
   },
   "outputs": [],
   "source": [
    "def merge_urgents(x):\n",
    "    if x == 'Urgent_need' or x == 'Rescue_call':\n",
    "        return 'emergency_call'\n",
    "    else:\n",
    "        return x\n",
    "df['label'] = df['label'].apply(lambda x : merge_urgents(x))\n",
    "set(df['label'])"
   ]
  },
  {
   "cell_type": "code",
   "execution_count": null,
   "metadata": {},
   "outputs": [],
   "source": [
    "for label in set(df['label']):\n",
    "    #print(\"WordCloud for\", i)\n",
    "    words = ''\n",
    "    for document in df[df['label'] == label]['text']:\n",
    "        words += document + ' '\n",
    "    wordcloud = WordCloud(width=600, height=400, background_color='#696969', colormap='Set3').generate(words)\n",
    "    plt.imshow(wordcloud)\n",
    "    plt.title(\"WordCloud for {} tweets\".format(label))\n",
    "    plt.show()"
   ]
  },
  {
   "cell_type": "markdown",
   "metadata": {},
   "source": [
    "At a first glance, there does not seem to be much differentiation between two cateories, as the most frequent words are obviously url links, hashtags, tags obviously. Let's generate the wordclouds again after text cleaning."
   ]
  },
  {
   "cell_type": "markdown",
   "metadata": {},
   "source": [
    "### Data Cleaning \n",
    "Social media data is known to be more challening for algorithms since they are far from official and standardized uses of language with a lot of typos, abbreviations, slangs and emojis! So the first job is to try to make the text as understandable as possible for the algorithm. To this end:\n",
    "- I will remove emojis and special characters\n",
    "- I will also remove hashtags(#-) and person tags (@-) since I observed them to be present in evrey tweet regardless of the content. To be specific the hashtag '#enkazaltında\" which translates as 'under the rubbles' were added to every tweet even it was not about a help call.\n",
    "- Another issue is the frequent abbreviations that were used to refer to the places or addresses. There are more too many different ways to refer to the epicenter of the earthquake for example (Kahramanmaraş, KMaraş, Maraş...) Even though the abbreviation is not necessarily a hard challenge for complex ML algorithms like Transformers, they can be misleading for the simpler models. Therefore I will standardize them as best as I can since addresses are literally the most crucial part in our data.\n",
    "- I will make sure that special turkish letters like I is lowcased properly (it should become ı, not i).\n",
    "- Finally I will adjust spaces.\n"
   ]
  },
  {
   "cell_type": "code",
   "execution_count": null,
   "metadata": {
    "colab": {
     "base_uri": "https://localhost:8080/"
    },
    "id": "bjLkMgo0xCul",
    "outputId": "56e793af-910f-4dc3-bb0f-69ce25c95010"
   },
   "outputs": [],
   "source": [
    "corpus = ' '.join(df['text'])\n",
    "unique_char = set(re.findall(r'.', corpus)) #gives all characters, r'\\w' gives alphanumerical\n",
    "print(unique_char)"
   ]
  },
  {
   "cell_type": "code",
   "execution_count": null,
   "metadata": {
    "id": "Af9Sl5LVxa1g"
   },
   "outputs": [],
   "source": [
    "abbreviations = [\n",
    "    ('apt', 'Apartmanı'),\n",
    "    ('Apt', 'Apartmanı'),\n",
    "    ('APT', 'Apartmanı'),\n",
    "    ('apart', 'Apartmanı'),\n",
    "    ('Apart', 'Apartmanı'),\n",
    "    ('APART', 'Apartmanı'),\n",
    "    ('sok', 'Sokak'),\n",
    "    ('sk', 'Sokak'),\n",
    "    ('Sok', 'Sokak'),\n",
    "    ('Sk', 'Sokak'),\n",
    "    ('SOK', 'Sokak'),\n",
    "    ('SK', 'Sokak'),\n",
    "    ('cad', 'Caddesi'),\n",
    "    ('Cad', 'Caddesi'),\n",
    "    ('CAD', 'Caddesi'),\n",
    "    ('cd', 'Caddesi'),\n",
    "    ('Cd', 'Caddesi'),\n",
    "    ('CD', 'Caddesi'),\n",
    "    ('bşk', 'başkanlığı'),\n",
    "    ('bul', 'Bulvarı'),\n",
    "    ('blv', 'Bulvarı'),\n",
    "    ('Blv', 'Bulvarı'),\n",
    "    ('BLV', 'Bulvarı'),\n",
    "    ('bulv', 'Bulvarı'),\n",
    "    ('Bulv', 'Bulvarı'),\n",
    "    ('BULV', 'Bulvarı'),\n",
    "    ('mey', 'meydanı'),\n",
    "    ('meyd', 'meydanı'),\n",
    "    ('ecz', 'Eczanesi'),\n",
    "    ('Ecz', 'Eczanesi'),\n",
    "    ('ECZ', 'Eczanesi'),\n",
    "    ('mh', 'Mahallesi'),\n",
    "    ('mah', 'Mahallesi'),\n",
    "    ('Mh', 'Mahallesi'),\n",
    "    ('Mah', 'Mahallesi'),\n",
    "    ('MH', 'Mahallesi'),\n",
    "    ('MAH', 'Mahallesi'),\n",
    "    ('şb', 'şube'),\n",
    "    ('maraş', 'Kahramanmaraş'),\n",
    "    ('maras', 'Kahramanmaraş'),\n",
    "    ('Maraş', 'Kahramanmaraş'),\n",
    "    ('Maras', 'Kahramanmaraş'),\n",
    "    ('MARAŞ', 'Kahramanmaraş'),\n",
    "    ('MARAS', 'Kahramanmaraş'),\n",
    "    ('kmaraş', 'Kahramanmaraş'),\n",
    "    ('kmaras', 'Kahramanmaraş'),\n",
    "    ('KMaraş', 'Kahramanmaraş'),\n",
    "    ('KMaras', 'Kahramanmaraş'),\n",
    "    ('KMARAŞ', 'Kahramanmaraş'),\n",
    "    ('KMARAS', 'Kahramanmaraş'),\n",
    "    ('antep', 'Gaziantep'),\n",
    "    ('Antep', 'Gaziantep'),\n",
    "    ('ANTEP', 'Gaziantep'),\n",
    "    ('anteb', 'Gaziantep'),\n",
    "    ('Anteb', 'Gaziantep'),\n",
    "    ('ANTEB', 'Gaziantep'),\n",
    "    ('Urfa', 'Şanlıuarfa'),\n",
    "    ('urfa', 'Şanlıuarfa'),\n",
    "    ('URFA', 'Şanlıuarfa'),\n",
    "\n",
    "    ]\n",
    "\n",
    "def normalize_abbreviations(text):\n",
    "    for regex, replacement in abbreviations:\n",
    "        text = re.sub(rf'\\b{re.escape(regex)}\\b', replacement, text)\n",
    "        text = re.sub(r'\\s\\s+', ' ',text)\n",
    "        text = text.replace('k.maraş', 'Kahramanmaraş')\n",
    "        text = text.replace('K.maraş', 'Kahramanmaraş')\n",
    "        text = text.replace('K.Maraş', 'Kahramanmaraş')\n",
    "        text = text.replace('k.maras', 'kahramanmaraş')\n",
    "        text = text.replace('K.maras', 'Kahramanmaraş')\n",
    "        text = text.replace('K.Maras', 'kahramanmaraş')\n",
    "    return text\n"
   ]
  },
  {
   "cell_type": "code",
   "execution_count": null,
   "metadata": {
    "colab": {
     "base_uri": "https://localhost:8080/",
     "height": 53
    },
    "id": "86xpXW--xwF9",
    "outputId": "d31a1411-d477-4815-d827-537336defcfb"
   },
   "outputs": [],
   "source": [
    "def turkish_lowercase_conversion(text):\n",
    "    # Replace Turkish \"İ\" with lowercase \"i\"\n",
    "    text = text.replace(\"İ\", \"i\")\n",
    "\n",
    "    # Replace Turkish \"ı\" with uppercase \"I\"\n",
    "    text = text.replace(\"I\", \"ı\")\n",
    "\n",
    "    # Convert the remaining text to lowercase\n",
    "    text = text.lower()\n",
    "\n",
    "    return text\n",
    "\n",
    "text = 'ŞAZİBEY MAHALLESİ HAYDAR ALİYEV BULVARI YUNUS APARTMANI A BLOK ACİLEN EKİBE İHTİYACIMIZ VAR LÜTFEN SESİMİZİ DUYURUN YARDIM EDİN'\n",
    "turkish_lowercase_conversion(text)\n"
   ]
  },
  {
   "cell_type": "code",
   "execution_count": null,
   "metadata": {
    "id": "D8nss2htxwI3"
   },
   "outputs": [],
   "source": [
    "#keep punctuation but make sure there are space after each or remove punctuation\n",
    "#remove all tags, remove all links, remove all hashtags\n",
    "\n",
    "def clean(text):\n",
    "    clean_text = normalize_abbreviations(text)\n",
    "    #remove all links:\n",
    "    clean_text = re.sub(r'http[s]?://(?:[a-zA-Z]|[0-9]|[$-_@.&+]|[!*\\\\(\\\\),]|(?:%[0-9a-fA-F][0-9a-fA-F]))+', '', text)\n",
    "    #remove all non-alphanumerical characters except @ and # while keeping special turkish letters: sçÇğĞıİöÖşŞüÜ@#\n",
    "    clean_text = re.sub(r'[^\\w\\sçÇğĞıİöÖşŞüÜ@#]', ' ', clean_text)\n",
    "    #remove any entity that follows @ and #\n",
    "    i = 0\n",
    "    while i < (len(clean_text)):\n",
    "        if clean_text[i] == '@' or clean_text[i]== '#':\n",
    "            a=0\n",
    "            while i+a < len(clean_text):\n",
    "                if clean_text[i+a] == ' ':\n",
    "                    break\n",
    "                else:\n",
    "                    a += 1\n",
    "            clean_text = clean_text[:i] + clean_text[i+a+1:]\n",
    "        else:\n",
    "            i+=1\n",
    "    #conversion to lowercase, i noticed above that there is an issue with the conversion of letter I and letter İ:\n",
    "    #so we'll have to go steop-by-step:\n",
    "    clean_text = clean_text.replace(\"İ\", \"i\")\n",
    "    clean_text = clean_text.replace(\"I\", \"ı\")\n",
    "    clean_text = clean_text.lower()\n",
    "    clean_text = re.sub(r'\\s\\s+', ' ', clean_text)\n",
    "    return clean_text\n"
   ]
  },
  {
   "cell_type": "code",
   "execution_count": null,
   "metadata": {
    "colab": {
     "base_uri": "https://localhost:8080/",
     "height": 206
    },
    "id": "Zdn0tdilxwMQ",
    "outputId": "5a15dc2c-cb7b-44d7-f474-a63950d77c67"
   },
   "outputs": [],
   "source": [
    "df = df[['id','text','label']]\n",
    "df['text'] = df['text'].apply(lambda x: clean(x))\n",
    "df.head()"
   ]
  },
  {
   "cell_type": "markdown",
   "metadata": {},
   "source": [
    "#### Now let's try out the wordclouds one more time."
   ]
  },
  {
   "cell_type": "code",
   "execution_count": null,
   "metadata": {},
   "outputs": [],
   "source": [
    "stops = stopwords.words('turkish')"
   ]
  },
  {
   "cell_type": "code",
   "execution_count": null,
   "metadata": {},
   "outputs": [],
   "source": [
    "for label in set(df['label']):\n",
    "    #print(\"WordCloud for\", i)\n",
    "    words = ''\n",
    "    for document in df[df['label'] == label]['text']:\n",
    "        words += document + ' '\n",
    "    wordcloud = WordCloud(width=600, height=400, background_color='#696969', colormap='Set3').generate(words)\n",
    "    plt.imshow(wordcloud)\n",
    "    plt.title(\"WordCloud for {} tweets\".format(label))\n",
    "    plt.show()"
   ]
  },
  {
   "cell_type": "markdown",
   "metadata": {},
   "source": [
    "This time the disctinction between two wordclouds is much more clear.\n",
    "- The second image, which shows the most frequent words in tweets with the label 'Other', contains mostly the common stop words in Turkish such as \"ve\" (and), \"bu\" (this), \"bir\" (one/a/an), \"çok\" (much) as one can expect. Other most frequent words are \"Allah\" (God), \"geçmiş olsun\" (my condolences), \"lütfen\" (please), which also makes sense as these are mostly the tweets to share their condolences and pray for the people.\n",
    "- On the other hand, the first image which shows the frequent words in the \"emergency call\" tweets are \"lütfen\" (please),\" yardım / yardım edin\" (help), \"enkaz altında\" (under the rubbles), \"hatay / antakya\" (one of the most affected cities), \"mahallesi\" (neighborhood), \"sokak\" / \"caddesi\" (street), \"apartmanı\" (building) which also makes sense since people who make emergency calls often share locations. Interestingly, in these tweets, these words were even more frequently used than typical stopwords."
   ]
  },
  {
   "cell_type": "markdown",
   "metadata": {},
   "source": [
    "### Text Preprocessing\n",
    "- Before training the model, I will lastly convert the target variable to integers, tokenize the texts and represent them as vectors. \n",
    "- For vectorization I will first use the CountVectorizer(), however, I will explore and compare the performance of Tfidf vectors as well while tuning the hyperparameters of the models."
   ]
  },
  {
   "cell_type": "code",
   "execution_count": null,
   "metadata": {
    "id": "8XVwWeZ3xa-G"
   },
   "outputs": [],
   "source": [
    "target_map = {'Other': 0, 'emergency_call': 1}\n",
    "df['target'] = df['label'].map(target_map)"
   ]
  },
  {
   "cell_type": "code",
   "execution_count": null,
   "metadata": {
    "id": "oXQIVc4iybaW"
   },
   "outputs": [],
   "source": [
    "text_train, text_test, Y_train, Y_test = train_test_split(df['text'], df['target'], random_state = 42)"
   ]
  },
  {
   "cell_type": "code",
   "execution_count": null,
   "metadata": {
    "id": "dyowRU6-ybjJ"
   },
   "outputs": [],
   "source": [
    "## tokenize the texts and turn them into vectors\n",
    "stops = stopwords.words('turkish')\n",
    "vectorizer = CountVectorizer(stop_words = None, max_features = None)\n",
    "X_train = vectorizer.fit_transform(text_train)\n",
    "X_test = vectorizer.transform(text_test)\n"
   ]
  },
  {
   "cell_type": "markdown",
   "metadata": {
    "id": "99jWXG2cyc3k"
   },
   "source": [
    "## PART 2: MACHINE LEARNING\n",
    "\n",
    "### 2.1 Logistic Regression"
   ]
  },
  {
   "cell_type": "code",
   "execution_count": null,
   "metadata": {
    "colab": {
     "base_uri": "https://localhost:8080/",
     "height": 75
    },
    "id": "XXBB6ozZzoUR",
    "outputId": "a3c43f6b-8e3a-43f6-a849-a2f402d7389b"
   },
   "outputs": [],
   "source": [
    "LR = LogisticRegression(max_iter = 500)\n",
    "LR.fit(X_train, Y_train)\n"
   ]
  },
  {
   "cell_type": "code",
   "execution_count": null,
   "metadata": {
    "colab": {
     "base_uri": "https://localhost:8080/"
    },
    "id": "E3xEcjWOzoXq",
    "outputId": "2f1588f0-695d-4bd6-d462-0d80a4dfe397"
   },
   "outputs": [],
   "source": [
    "print(\"train score:\", LR.score(X_train, Y_train))\n",
    "print(\"test score:\", LR.score(X_test, Y_test))\n",
    "\n",
    "Ptrain = LR.predict(X_train)\n",
    "Ptest = LR.predict(X_test)\n",
    "print(\"train F1:\", f1_score(Y_train, Ptrain))\n",
    "print(\"test F1:\", f1_score(Y_test, Ptest))\n"
   ]
  },
  {
   "cell_type": "markdown",
   "metadata": {},
   "source": [
    "The basic regression model acheieved quite good accuracy levels in both sets. However, since we are dealing with a highly imbalanced dataset accuracy is not the most appropriate metric to evaluate the model. F1 score of the model on test set is 0.87, which is still decent."
   ]
  },
  {
   "cell_type": "markdown",
   "metadata": {
    "id": "djizkaNKCH8L"
   },
   "source": [
    "#### Hyperparameter Tuning\n",
    "Here not only will I apply grid search to find optimum parameters for the model but also for the preprocessor (i.e. count vectorizer vs tfidf)."
   ]
  },
  {
   "cell_type": "code",
   "execution_count": null,
   "metadata": {
    "colab": {
     "base_uri": "https://localhost:8080/",
     "height": 187
    },
    "id": "aJykI0H40o3h",
    "outputId": "d109dad0-dbc1-4a18-cbae-f273f5e56ee4"
   },
   "outputs": [],
   "source": [
    "pipe = Pipeline([\n",
    "    ('c_vect', CountVectorizer()),\n",
    "    ('tfidf', TfidfTransformer()),\n",
    "    ('clf', LogisticRegression(max_iter=1000))])\n",
    "\n",
    "\n",
    "\n",
    "parameters = {\n",
    "    'c_vect__max_features': [2000, 5000, None],\n",
    "    'c_vect__stop_words': [stops, None],\n",
    "    'tfidf__use_idf': [True, False],\n",
    "    'clf__C': np.logspace(-3,3,3),\n",
    "}\n",
    "\n",
    "scoring = {\n",
    "    'accuracy': 'accuracy',\n",
    "    'precision': 'precision',\n",
    "    'recall': 'recall',\n",
    "    'f1': 'f1',\n",
    "}\n",
    "\n",
    "\n",
    "LR_best = GridSearchCV(pipe,\n",
    "                           param_grid = parameters,\n",
    "                           scoring = 'recall',\n",
    "                           cv = 10,\n",
    "                           n_jobs = -1,)\n",
    "                         # refit = 'recall')\n",
    "\n",
    "    #burda recall'a refit yapıp ttüm scoreları eklesek nolur\n",
    "\n",
    "LR_best.fit(text_train, Y_train)"
   ]
  },
  {
   "cell_type": "code",
   "execution_count": null,
   "metadata": {
    "colab": {
     "base_uri": "https://localhost:8080/"
    },
    "id": "Gg0sdq-91Gxx",
    "outputId": "904ba265-43e5-4541-e575-a4441b18d5f3"
   },
   "outputs": [],
   "source": [
    "LR_best.best_params_"
   ]
  },
  {
   "cell_type": "code",
   "execution_count": null,
   "metadata": {
    "colab": {
     "base_uri": "https://localhost:8080/"
    },
    "id": "xfQniJx21G1t",
    "outputId": "76f917e2-9d6e-4503-ce1a-c38796f3f1a4"
   },
   "outputs": [],
   "source": [
    "P_test = LR_best.predict(text_test)\n",
    "P_train = LR_best.predict(text_train)\n",
    "print(classification_report(Y_test, P_test))"
   ]
  },
  {
   "cell_type": "code",
   "execution_count": null,
   "metadata": {
    "id": "_LTBpKBHybmS"
   },
   "outputs": [],
   "source": [
    "def plot_cm(ax, cm, title):\n",
    "    classes = [0, 1]\n",
    "    df_cm = pd.DataFrame(cm, index=classes, columns=classes)\n",
    "    sns.heatmap(df_cm, annot=True, fmt='g', ax = ax)\n",
    "    ax.set_xlabel(\"Predicted\")\n",
    "    ax.set_ylabel(\"Target\")\n",
    "    ax.set_title(title)\n"
   ]
  },
  {
   "cell_type": "code",
   "execution_count": null,
   "metadata": {
    "colab": {
     "base_uri": "https://localhost:8080/",
     "height": 407
    },
    "id": "hNy8BWM90pAZ",
    "outputId": "ecfd4ecc-1849-4138-cfa7-e6e2735c80d5"
   },
   "outputs": [],
   "source": [
    "cm_train = confusion_matrix(Y_train, P_train, normalize='true')\n",
    "cm_test = confusion_matrix(Y_test, P_test, normalize='true')\n",
    "\n",
    "fig, axes = plt.subplots(1, 2, figsize=(9, 4))\n",
    "plot_cm(axes[0], cm_train, title='Confusion Matrix for Train Set')\n",
    "plot_cm(axes[1], cm_test, title='Confusion Matrix for Test Set')\n",
    "\n",
    "plt.tight_layout()\n",
    "plt.show()"
   ]
  },
  {
   "cell_type": "markdown",
   "metadata": {
    "id": "jcYwKBID1yRB"
   },
   "source": [
    "### 2.2 Naive Bayes Classifier"
   ]
  },
  {
   "cell_type": "code",
   "execution_count": null,
   "metadata": {
    "colab": {
     "base_uri": "https://localhost:8080/",
     "height": 75
    },
    "id": "K0PF96_A0pK1",
    "outputId": "d3b0f3a8-c702-4278-f2b4-b0a29bb2e7dc"
   },
   "outputs": [],
   "source": [
    "NB = MultinomialNB()\n",
    "NB.fit(X_train, Y_train)"
   ]
  },
  {
   "cell_type": "code",
   "execution_count": null,
   "metadata": {
    "colab": {
     "base_uri": "https://localhost:8080/"
    },
    "id": "iHcd1xen167A",
    "outputId": "973e01db-a54f-4008-dc1a-0b77e50a0ae9"
   },
   "outputs": [],
   "source": [
    "print(\"train score:\", NB.score(X_train, Y_train))\n",
    "print(\"test score:\", NB.score(X_test, Y_test))\n",
    "\n",
    "Ptrain = NB.predict(X_train)\n",
    "Ptest = NB.predict(X_test)\n",
    "print(\"train F1:\", f1_score(Y_train, Ptrain))\n",
    "print(\"test F1:\", f1_score(Y_test, Ptest))\n"
   ]
  },
  {
   "cell_type": "markdown",
   "metadata": {
    "id": "dGOiuBHLG0MQ"
   },
   "source": [
    "#### Hyperparameter tuning for Naive Bayes"
   ]
  },
  {
   "cell_type": "code",
   "execution_count": null,
   "metadata": {
    "colab": {
     "base_uri": "https://localhost:8080/",
     "height": 187
    },
    "id": "ZvKM35w517WB",
    "outputId": "7a7b60e5-535e-45b9-d940-5e528413195d"
   },
   "outputs": [],
   "source": [
    "pipe = Pipeline([\n",
    "    ('c_vect', CountVectorizer()),\n",
    "    ('tfidf', TfidfTransformer()),\n",
    "    ('clf', LogisticRegression(max_iter=1000))])\n",
    "\n",
    "\n",
    "\n",
    "parameters = {\n",
    "    'c_vect__max_features': [2000, 5000, None],\n",
    "    'c_vect__stop_words': [stops, None],\n",
    "    'tfidf__use_idf': [True, False],\n",
    "    'clf__C': np.logspace(-3,3,3),\n",
    "}\n",
    "\n",
    "scoring = {\n",
    "    'accuracy': 'accuracy',\n",
    "    'precision': 'precision',\n",
    "    'recall': 'recall',\n",
    "    'f1': 'f1',\n",
    "}\n",
    "\n",
    "\n",
    "NB_best = GridSearchCV(pipe,\n",
    "                           param_grid = parameters,\n",
    "                           scoring = 'recall',\n",
    "                           cv = 10,\n",
    "                           n_jobs = -1,)\n",
    "                         # refit = 'recall')\n",
    "\n",
    "    #burda recall'a refit yapıp ttüm scoreları eklesek nolur\n",
    "\n",
    "NB_best.fit(text_train, Y_train)"
   ]
  },
  {
   "cell_type": "code",
   "execution_count": null,
   "metadata": {
    "colab": {
     "base_uri": "https://localhost:8080/"
    },
    "id": "Penx4U5a17ZL",
    "outputId": "dde3e263-b17c-4265-bc0e-c667f2150ae9"
   },
   "outputs": [],
   "source": [
    "NB_best.best_params_"
   ]
  },
  {
   "cell_type": "code",
   "execution_count": null,
   "metadata": {
    "colab": {
     "base_uri": "https://localhost:8080/"
    },
    "id": "gEbDKWdZ2dbK",
    "outputId": "1fc684bd-0db0-49ec-d3d2-9b3a30c28d40"
   },
   "outputs": [],
   "source": [
    "P_test = NB_best.predict(text_test)\n",
    "P_train = NB_best.predict(text_train)\n",
    "print(classification_report(Y_test, P_test))\n"
   ]
  },
  {
   "cell_type": "code",
   "execution_count": null,
   "metadata": {
    "colab": {
     "base_uri": "https://localhost:8080/",
     "height": 407
    },
    "id": "XAAynhvJ2dfX",
    "outputId": "1734c306-37b1-4f5a-b98f-e248f2fdcdfd"
   },
   "outputs": [],
   "source": [
    "cm_train = confusion_matrix(Y_train, P_train, normalize='true')\n",
    "cm_test = confusion_matrix(Y_test, P_test, normalize='true')\n",
    "\n",
    "fig, axes = plt.subplots(1, 2, figsize=(9, 4))\n",
    "plot_cm(axes[0], cm_train, title='Confusion Matrix for Train Set')\n",
    "plot_cm(axes[1], cm_test, title='Confusion Matrix for Test Set')\n",
    "\n",
    "plt.tight_layout()\n",
    "plt.show()"
   ]
  },
  {
   "cell_type": "markdown",
   "metadata": {
    "id": "R7gNAcJw16A4"
   },
   "source": [
    "### 2.3 Support Vector Machine"
   ]
  },
  {
   "cell_type": "code",
   "execution_count": null,
   "metadata": {
    "colab": {
     "base_uri": "https://localhost:8080/",
     "height": 75
    },
    "id": "Eutr-jz22dnJ",
    "outputId": "f91170a4-a03e-4bc6-96ec-63706c46af30"
   },
   "outputs": [],
   "source": [
    "SVM = SVC(kernel = \"linear\", random_state = 42, probability = True)\n",
    "SVM.fit(X_train, Y_train)"
   ]
  },
  {
   "cell_type": "code",
   "execution_count": null,
   "metadata": {
    "colab": {
     "base_uri": "https://localhost:8080/"
    },
    "id": "kvs13Hfl17dQ",
    "outputId": "d1e05afd-09f3-46e5-8034-7c2a59eec074"
   },
   "outputs": [],
   "source": [
    "\n",
    "print(\"train score:\", SVM.score(X_train, Y_train))\n",
    "print(\"test score:\", SVM.score(X_test, Y_test))\n",
    "\n",
    "Ptrain = SVM.predict(X_train)\n",
    "Ptest = SVM.predict(X_test)\n",
    "print(\"train F1:\", f1_score(Y_train, Ptrain))\n",
    "print(\"test F1:\", f1_score(Y_test, Ptest))\n"
   ]
  },
  {
   "cell_type": "markdown",
   "metadata": {
    "id": "W-jQ5kHDG_5R"
   },
   "source": [
    "#### Hyperparameter tuning for SVM"
   ]
  },
  {
   "cell_type": "code",
   "execution_count": null,
   "metadata": {
    "id": "2kmr6NbZFSCk"
   },
   "outputs": [],
   "source": [
    "X_sample = text_train.sample(n=1000, random_state=42)\n",
    "Y_sample = Y_train.sample(n=1000, random_state=42)"
   ]
  },
  {
   "cell_type": "code",
   "execution_count": null,
   "metadata": {
    "colab": {
     "base_uri": "https://localhost:8080/",
     "height": 187
    },
    "id": "OG2tO8Av3k9p",
    "outputId": "52213e69-2420-4224-d539-5b98621eaa90"
   },
   "outputs": [],
   "source": [
    "pipe = Pipeline([\n",
    "    ('c_vect', CountVectorizer()),\n",
    "    ('tfidf', TfidfTransformer()),\n",
    "    ('clf', SVC())])\n",
    "\n",
    "\n",
    "\n",
    "parameters = [{\n",
    "    'c_vect__max_features': [2000, 5000, None],\n",
    "    'c_vect__stop_words': [stops, None],\n",
    "    'tfidf__use_idf': [True, False],\n",
    "    'clf__C': [0.25, 0.5, 0.75, 1],\n",
    "    'clf__kernel' : [\"linear\"]},\n",
    "    {'c_vect__max_features': [2000, 5000, None],\n",
    "    'c_vect__stop_words': [stops, None],\n",
    "    'tfidf__use_idf': [True, False],\n",
    "    'clf__C': [0.25, 0.5, 0.75, 1],\n",
    "    'clf__kernel' : [\"rbf\"],\n",
    "    'clf__gamma': [0.1, 0.2, 0.3, 0.4, 0.5, 0.6, 0.7, 0.8, 0.9]}]\n",
    "\n",
    "\n",
    "\n",
    "SVM_best = GridSearchCV(pipe,\n",
    "                           param_grid = parameters,\n",
    "                           scoring = 'recall',\n",
    "                           cv = 10,\n",
    "                           n_jobs = -1,)\n",
    "                         # refit = 'recall')\n",
    "SVM_best.fit(X_sample, Y_sample)\n",
    "\n"
   ]
  },
  {
   "cell_type": "code",
   "execution_count": null,
   "metadata": {
    "colab": {
     "base_uri": "https://localhost:8080/"
    },
    "id": "Ce6XefFz3lC7",
    "outputId": "6a4cbc69-fe29-41f9-c02f-74e97886b15d"
   },
   "outputs": [],
   "source": [
    "SVM_best.best_params_"
   ]
  },
  {
   "cell_type": "code",
   "execution_count": null,
   "metadata": {
    "colab": {
     "base_uri": "https://localhost:8080/"
    },
    "id": "iNsho5p33lHg",
    "outputId": "8ee9913d-5cbc-47bb-8098-2375b49737a4"
   },
   "outputs": [],
   "source": [
    "P_test = SVM_best.predict(text_test)\n",
    "P_train = SVM_best.predict(text_train)\n",
    "print(classification_report(Y_test, P_test))\n"
   ]
  },
  {
   "cell_type": "code",
   "execution_count": null,
   "metadata": {
    "colab": {
     "base_uri": "https://localhost:8080/",
     "height": 407
    },
    "id": "7ACgJqA54AV1",
    "outputId": "c8e0c936-1f24-46b1-88c9-d8ada98ab2d2"
   },
   "outputs": [],
   "source": [
    "cm_train = confusion_matrix(Y_train, P_train, normalize='true')\n",
    "cm_test = confusion_matrix(Y_test, P_test, normalize='true')\n",
    "\n",
    "fig, axes = plt.subplots(1, 2, figsize=(9, 4))\n",
    "plot_cm(axes[0], cm_train, title='Confusion Matrix for Train Set')\n",
    "plot_cm(axes[1], cm_test, title='Confusion Matrix for Test Set')\n",
    "\n",
    "plt.tight_layout()\n",
    "plt.show()"
   ]
  },
  {
   "cell_type": "markdown",
   "metadata": {
    "id": "AcS31MPB4nQE"
   },
   "source": [
    "### 2.4 Recurrent Neural Networks : LSTM"
   ]
  },
  {
   "cell_type": "code",
   "execution_count": null,
   "metadata": {
    "id": "W3nlkql84pie"
   },
   "outputs": [],
   "source": [
    "df['targets'] = df['label'].astype(\"category\").cat.codes\n",
    "K = df['targets'].max() + 1"
   ]
  },
  {
   "cell_type": "code",
   "execution_count": null,
   "metadata": {
    "id": "XdFSQl8L4pta"
   },
   "outputs": [],
   "source": [
    "X_tv, X_test, Y_tv, Y_test = train_test_split(df['text'], df['target'], test_size = 1000, random_state = 42)\n",
    "X_train, X_val, Y_train, Y_val = train_test_split(X_tv,Y_tv, random_state = 42)"
   ]
  },
  {
   "cell_type": "code",
   "execution_count": null,
   "metadata": {
    "colab": {
     "base_uri": "https://localhost:8080/"
    },
    "id": "WPS6LeZr4pyI",
    "outputId": "8ad763b1-dcb3-4ff3-ddee-f1d2260b5ec1"
   },
   "outputs": [],
   "source": [
    "MAX_VOCAB_SIZE = 2000\n",
    "tokenizer = Tokenizer(num_words=MAX_VOCAB_SIZE)\n",
    "tokenizer.fit_on_texts(X_train)\n",
    "sequences_train = tokenizer.texts_to_sequences(X_train)\n",
    "sequences_test = tokenizer.texts_to_sequences(X_test)\n",
    "sequences_val = tokenizer.texts_to_sequences(X_val)\n",
    "\n",
    "word2idx = tokenizer.word_index\n",
    "V = len(word2idx)\n",
    "print('Number of unique tokens:', V)"
   ]
  },
  {
   "cell_type": "code",
   "execution_count": null,
   "metadata": {
    "colab": {
     "base_uri": "https://localhost:8080/"
    },
    "id": "V21kjo9c6MAv",
    "outputId": "b736a0d1-f6e4-4ace-ab8f-89cfe5ef6832"
   },
   "outputs": [],
   "source": [
    "# pad sequences so that we get a N x T matrix\n",
    "data_train = pad_sequences(sequences_train)\n",
    "print('Shape of data train tensor:', data_train.shape)\n",
    "\n",
    "# get sequence length\n",
    "T = data_train.shape[1]\n",
    "\n",
    "data_test = pad_sequences(sequences_test, maxlen=T)\n",
    "print('Shape of data test tensor:', data_test.shape)\n",
    "\n",
    "data_val = pad_sequences(sequences_val, maxlen =T)\n",
    "print('Shape of data validation tensor:', data_val.shape)"
   ]
  },
  {
   "cell_type": "code",
   "execution_count": null,
   "metadata": {
    "id": "tiyazLvS6MMe"
   },
   "outputs": [],
   "source": [
    "D = 30\n",
    "i = Input(shape=(T,))\n",
    "x = Embedding(V + 1, D)(i)\n",
    "#x = LSTM(8, return_sequences=True)(x)\n",
    "x = LSTM(8, return_sequences=False)(x)\n",
    "#x = GlobalMaxPooling1D()(x)\n",
    "x = Dense(1)(x)\n",
    "\n",
    "model = Model(i, x)"
   ]
  },
  {
   "cell_type": "code",
   "execution_count": null,
   "metadata": {
    "colab": {
     "base_uri": "https://localhost:8080/"
    },
    "id": "049rNctE4p1O",
    "outputId": "55bc9194-9877-4b92-cadd-b02d4a2a8e94"
   },
   "outputs": [],
   "source": [
    "# Compile and fit\n",
    "model.compile(\n",
    "  loss=BinaryCrossentropy(from_logits=True),\n",
    "  optimizer=Adam(learning_rate=0.001),\n",
    "  metrics=['accuracy', tf.keras.metrics.Precision(), tf.keras.metrics.Recall()]\n",
    ")\n",
    "\n",
    "print('Training model...')\n",
    "r = model.fit(\n",
    "  data_train,\n",
    "  Y_train,\n",
    "  epochs=10,\n",
    "  validation_data=(data_val, Y_val),\n",
    "  batch_size=128,\n",
    ")"
   ]
  },
  {
   "cell_type": "code",
   "execution_count": null,
   "metadata": {
    "colab": {
     "base_uri": "https://localhost:8080/",
     "height": 413
    },
    "id": "jigwYI366-Be",
    "outputId": "beb071a7-5979-4281-c61c-daf7cae1ecac"
   },
   "outputs": [],
   "source": [
    "fig, ax = plt.subplots(1, 2, figsize=(9, 4))\n",
    "\n",
    "# Plot loss per iteration on the first subplot (index 0)\n",
    "ax[0].plot(r.history['loss'], label='train loss')\n",
    "ax[0].plot(r.history['val_loss'], label='val loss')\n",
    "ax[0].set_title('Loss per Iteration')\n",
    "ax[0].legend()\n",
    "\n",
    "# Plot accuracy per iteration on the second subplot (index 1)\n",
    "ax[1].plot(r.history['accuracy'], label='train acc')\n",
    "ax[1].plot(r.history['val_accuracy'], label='val acc')\n",
    "ax[1].set_title('Accuracy per Iteration')\n",
    "ax[1].legend()\n",
    "\n",
    "fig.suptitle('Learning Curves for ANN with Word Embeddings', fontsize=14)\n",
    "\n",
    "# Adjust layout and display the plot\n",
    "plt.tight_layout()\n",
    "plt.show()"
   ]
  },
  {
   "cell_type": "code",
   "execution_count": null,
   "metadata": {
    "colab": {
     "base_uri": "https://localhost:8080/"
    },
    "id": "Q3y0dJygNlto",
    "outputId": "492fa97c-51b8-42e1-8a7c-385234270604"
   },
   "outputs": [],
   "source": [
    "model.save('LSTM_1.h5')"
   ]
  },
  {
   "cell_type": "code",
   "execution_count": null,
   "metadata": {
    "colab": {
     "base_uri": "https://localhost:8080/"
    },
    "id": "Y8L3FF3DN7MR",
    "outputId": "570ac0db-2f4c-4c00-af0d-0948d2901a4e"
   },
   "outputs": [],
   "source": [
    "P_train = ((model.predict(data_train) > 0) * 1.0).flatten()\n",
    "P_val = ((model.predict(data_val) > 0) * 1.0).flatten()\n",
    "P_test = ((model.predict(data_test) > 0) * 1.0).flatten()\n",
    "\n",
    "print(\"Train acc:\", accuracy_score(Y_train, P_train))\n",
    "print(\"Train acc:\", accuracy_score(Y_val, P_val))\n",
    "print(\"Test acc:\", accuracy_score(Y_test, P_test))\n",
    "\n",
    "print(\"Train F1:\", f1_score(Y_train, P_train))\n",
    "print(\"Train F1:\", f1_score(Y_val, P_val))\n",
    "print(\"Test F1:\", f1_score(Y_test, P_test))"
   ]
  },
  {
   "cell_type": "code",
   "execution_count": null,
   "metadata": {
    "colab": {
     "base_uri": "https://localhost:8080/",
     "height": 307
    },
    "id": "B071afSNOD-x",
    "outputId": "d8cf548b-29f0-4b6d-ced2-80bf6f2a38d9"
   },
   "outputs": [],
   "source": [
    "cm_train = confusion_matrix(Y_train, P_train, normalize='true')\n",
    "cm_val = confusion_matrix(Y_val, P_val, normalize='true')\n",
    "cm_test = confusion_matrix(Y_test, P_test, normalize='true')\n",
    "\n",
    "fig, axes = plt.subplots(1, 3, figsize=(9, 3))\n",
    "plot_cm(axes[0], cm_train, title='Confusion Matrix for Train Set')\n",
    "plot_cm(axes[1], cm_val, title='Confusion Matrix for Validation Set')\n",
    "plot_cm(axes[2], cm_test, title='Confusion Matrix for Test Set')\n",
    "\n",
    "plt.tight_layout()\n",
    "plt.show()"
   ]
  },
  {
   "cell_type": "code",
   "execution_count": null,
   "metadata": {
    "colab": {
     "base_uri": "https://localhost:8080/"
    },
    "id": "KT6GCeoY6-FP",
    "outputId": "368f1a0a-cdc2-40bb-dc40-113bce509c5f"
   },
   "outputs": [],
   "source": [
    "D = 30\n",
    "i = Input(shape=(T,))\n",
    "x = Embedding(V + 1, D)(i)\n",
    "\n",
    "\n",
    "x = Bidirectional(LSTM(8, return_sequences=False))(x)\n",
    "\n",
    "x = Dense(1)(x)\n",
    "\n",
    "model_2 = Model(i, x)\n",
    "\n",
    "# Compile and fit\n",
    "model_2.compile(\n",
    "  loss=BinaryCrossentropy(from_logits=True),\n",
    "  optimizer=Adam(learning_rate=0.001),\n",
    "  metrics=['accuracy', tf.keras.metrics.Precision(), tf.keras.metrics.Recall()]\n",
    ")\n",
    "\n",
    "\n",
    "print('Training model...')\n",
    "r = model_2.fit(\n",
    "  data_train,\n",
    "  Y_train,\n",
    "  epochs=8,\n",
    "  validation_data=(data_val, Y_val),\n",
    "  batch_size=128,\n",
    ")"
   ]
  },
  {
   "cell_type": "code",
   "execution_count": null,
   "metadata": {
    "colab": {
     "base_uri": "https://localhost:8080/",
     "height": 413
    },
    "id": "37L-AcL66-QC",
    "outputId": "d0c74dc9-f0ee-42fd-d55b-355c165a65b6"
   },
   "outputs": [],
   "source": [
    "fig, ax = plt.subplots(1, 2, figsize=(9, 4))\n",
    "\n",
    "# Plot loss per iteration on the first subplot (index 0)\n",
    "ax[0].plot(r.history['loss'], label='train loss')\n",
    "ax[0].plot(r.history['val_loss'], label='val loss')\n",
    "ax[0].set_title('Loss per Iteration')\n",
    "ax[0].legend()\n",
    "\n",
    "# Plot accuracy per iteration on the second subplot (index 1)\n",
    "ax[1].plot(r.history['accuracy'], label='train acc')\n",
    "ax[1].plot(r.history['val_accuracy'], label='val acc')\n",
    "ax[1].set_title('Accuracy per Iteration')\n",
    "ax[1].legend()\n",
    "\n",
    "fig.suptitle('Learning Curves for Bidirectional LSTM', fontsize=14)\n",
    "\n",
    "# Adjust layout and display the plot\n",
    "plt.tight_layout()\n",
    "plt.show()"
   ]
  },
  {
   "cell_type": "code",
   "execution_count": null,
   "metadata": {
    "colab": {
     "base_uri": "https://localhost:8080/"
    },
    "id": "CHHoQazNSdmI",
    "outputId": "b0729adf-28cf-4a4a-c757-86a38ba1dd43"
   },
   "outputs": [],
   "source": [
    "model_2.save('LSTM_2.h5')"
   ]
  },
  {
   "cell_type": "code",
   "execution_count": null,
   "metadata": {
    "colab": {
     "base_uri": "https://localhost:8080/"
    },
    "id": "DdLIel_W4p43",
    "outputId": "3f9af0a6-6fb3-47a7-f2d1-2e9902eb9591"
   },
   "outputs": [],
   "source": [
    "P_train = ((model_2.predict(data_train) > 0) * 1.0).flatten()\n",
    "P_val = ((model_2.predict(data_val) > 0) * 1.0).flatten()\n",
    "P_test = ((model_2.predict(data_test) > 0) * 1.0).flatten()\n",
    "\n",
    "print(\"Train acc:\", accuracy_score(Y_train, P_train))\n",
    "print(\"Train acc:\", accuracy_score(Y_val, P_val))\n",
    "print(\"Test acc:\", accuracy_score(Y_test, P_test))\n",
    "\n",
    "print(\"Train F1:\", f1_score(Y_train, P_train))\n",
    "print(\"Train F1:\", f1_score(Y_val, P_val))\n",
    "print(\"Test F1:\", f1_score(Y_test, P_test))"
   ]
  },
  {
   "cell_type": "code",
   "execution_count": null,
   "metadata": {
    "colab": {
     "base_uri": "https://localhost:8080/",
     "height": 307
    },
    "id": "mkSNiU8xSXjK",
    "outputId": "aa0b2251-a6fe-4d06-8962-d69c21b9c07f"
   },
   "outputs": [],
   "source": [
    "cm_train = confusion_matrix(Y_train, P_train, normalize='true')\n",
    "cm_val = confusion_matrix(Y_val, P_val, normalize='true')\n",
    "cm_test = confusion_matrix(Y_test, P_test, normalize='true')\n",
    "\n",
    "fig, axes = plt.subplots(1, 3, figsize=(9, 3))\n",
    "plot_cm(axes[0], cm_train, title='Confusion Matrix for Train Set')\n",
    "plot_cm(axes[1], cm_val, title='Confusion Matrix for Validation Set')\n",
    "plot_cm(axes[2], cm_test, title='Confusion Matrix for Test Set')\n",
    "\n",
    "plt.tight_layout()\n",
    "plt.show()"
   ]
  },
  {
   "cell_type": "markdown",
   "metadata": {
    "id": "CwYwvkVG4Hzb"
   },
   "source": [
    "### 2.5 Transfer Learning : BERTÜRK"
   ]
  },
  {
   "cell_type": "code",
   "execution_count": null,
   "metadata": {
    "colab": {
     "base_uri": "https://localhost:8080/",
     "height": 206
    },
    "id": "DSEg0bH15Ojx",
    "outputId": "d0e5d48d-6c5f-45fd-e03a-07e5d1f66027"
   },
   "outputs": [],
   "source": [
    "df_raw = pd.read_json('earthquake10K.json')\n",
    "for i in range(len(df_raw)):\n",
    "    a = df_raw['label'][i][0]\n",
    "    df_raw.loc[i, 'label'] = a\n",
    "\n",
    "df_raw.head()\n"
   ]
  },
  {
   "cell_type": "code",
   "execution_count": null,
   "metadata": {
    "colab": {
     "base_uri": "https://localhost:8080/"
    },
    "id": "u1_6WllKWCg7",
    "outputId": "7e1ac895-26d5-43fc-b065-c29b283ee336"
   },
   "outputs": [],
   "source": [
    "def merge_urgents(x):\n",
    "  if x == 'Urgent_need' or x == 'Rescue_call':\n",
    "    return 'emergency_call'\n",
    "  else:\n",
    "    return x\n",
    "df_raw['label'] = df_raw['label'].apply(lambda x : merge_urgents(x))\n",
    "set(df_raw['label'])"
   ]
  },
  {
   "cell_type": "code",
   "execution_count": null,
   "metadata": {
    "id": "kvlcCBJCS9If"
   },
   "outputs": [],
   "source": [
    "target_map = {'Other': 0, 'emergency_call': 1}\n",
    "df_raw['target'] = df_raw['label'].map(target_map)"
   ]
  },
  {
   "cell_type": "code",
   "execution_count": null,
   "metadata": {
    "colab": {
     "base_uri": "https://localhost:8080/"
    },
    "id": "yK6XZ2_x4Aet",
    "outputId": "47c5320b-1ac4-4435-9526-1448fea934dd"
   },
   "outputs": [],
   "source": [
    "df2 = df_raw[['text', 'target']]\n",
    "df2.columns = ['sentence', 'label']\n",
    "train_val_set, test_set = train_test_split(df2, test_size = 0.1, random_state = 123)\n",
    "len(train_val_set)"
   ]
  },
  {
   "cell_type": "code",
   "execution_count": null,
   "metadata": {
    "id": "dp9fhue14LVB"
   },
   "outputs": [],
   "source": [
    "train_val_set.to_csv('data.csv', index=None)"
   ]
  },
  {
   "cell_type": "code",
   "execution_count": null,
   "metadata": {
    "colab": {
     "base_uri": "https://localhost:8080/",
     "height": 217,
     "referenced_widgets": [
      "c88e4cc006c64ab2adb1df91ad71edcd",
      "4b939d3daca54278af6162362adabe20",
      "1d34522c19734f439653a33a342edf28",
      "3d3ee2c8f41149bab7bef10b6b7cac9b",
      "16cc5cb034724122b01b32cc99af9e36",
      "cba00e855f7845369a13c01ff0864639",
      "a94752e559474191ac718b47dbc2e289",
      "6de10157787e4dc8ae6c2885d50a26bc",
      "7127e9c34a844ff5b82549acfe40fd9b",
      "23a5dfe4ad42493e9f68631138126131",
      "6f2e24a81dc14de8b1f5c1c78d9c8cfb",
      "1cd0fec88e8f44fb9a4942cbd39a0427",
      "8c12b93e65da410ca3ea35604cc010c5",
      "595310cda002404188a6906c5b386142",
      "521b6fc87c6048fb81593bf817626c0f",
      "4332b5496d534ca5b31731edb45e776b",
      "3875063a45b1435a9c816c92eb81641c",
      "80f5b9d5bfc244f2bb7f5b7c00a8e0e2",
      "3fed192cb7fb444d9379c94b27f31a07",
      "97efa70cb60b4cf49cb1575af9e7dc64",
      "b15681e6dc8a4094b763d2101a56d405",
      "419c274664f047a293fe070d9b6648ae",
      "86cd411c05e945549b63db6b4ea5e1b0",
      "95909adcc700424d9e20f9647693a101",
      "382e6a9e60dd4e6497d18d4954b56f02",
      "e83c111d034f4c0ca0b64816177b67d3",
      "e5f1da7e73d5415d9ff2239da8204b60",
      "fa69511bacba4bcfb210c8b7cc60a94d",
      "a9633c324da4475fade8b2b41ebd89fb",
      "c7885c74885643f680574efaf516dd7e",
      "e8a5d58c3977426a8d9e1b60339882f6",
      "0e89014c91924a9abe7eecefab4efe0d",
      "65fd1f7c4a3244f0a15baf8a3cc1cb39"
     ]
    },
    "id": "0aox6zaK4LYY",
    "outputId": "d5efe3ed-421a-45ef-cf6c-cd91d47c3af2"
   },
   "outputs": [],
   "source": [
    "raw_dataset = load_dataset('csv', data_files='data.csv')\n",
    "raw_dataset"
   ]
  },
  {
   "cell_type": "code",
   "execution_count": null,
   "metadata": {
    "colab": {
     "base_uri": "https://localhost:8080/"
    },
    "id": "Z7skAX7rUGBr",
    "outputId": "f286f339-3df0-44b5-e44f-4d6315fe25e3"
   },
   "outputs": [],
   "source": [
    "split = raw_dataset['train'].train_test_split(test_size=0.3, seed=42)\n",
    "split"
   ]
  },
  {
   "cell_type": "code",
   "execution_count": null,
   "metadata": {
    "colab": {
     "base_uri": "https://localhost:8080/",
     "height": 81,
     "referenced_widgets": [
      "28b4310ed0104f62a4f2bc1f93bcd703",
      "c4bfee404f3b4274bf09518eff35692d",
      "9b612bd1ec444c9bb1af326ff0b349d9",
      "67e4a5e724b5432aa343130a3f744cb5",
      "a50c3c2d53534441bd21085cf93ecd0b",
      "d7ab3fa26d604a7c8ee54a9c325996ec",
      "0abbf3e62e384d68905b64394af3a898",
      "00f1f7f90b2b4db2a13064ea39d7bca4",
      "728835c7e9424ba4b9b24a5a8c576e8b",
      "27755441c147478bb8b7bbec8afbb997",
      "61c9fab9fa754cc2b81066c9acb45fc3",
      "f7911198577d45adbff5d6293c5698ed",
      "b02f074c80af4ed38dbf6c38cec0c00c",
      "a8f68d06796d4ada8a89138c7ccb8384",
      "0a884960dfbd4b3e9ce2bddc626c0a25",
      "23102ca2f8124ab0afd5ef2e494fc7bd",
      "4ea9d1dd064449cbae07acf65d45f308",
      "5528bc9186aa426abf3c420d758fed46",
      "9dfb5362184b48b990b51681d8f43d49",
      "a9b33dba8e7548a29eac1f3677791ba8",
      "e86d98ec58ca47d7a5399ee84319e2c6",
      "26f9d02ea21043b1bd6b7c42ccf4a172"
     ]
    },
    "id": "xqWEGzfsUGHJ",
    "outputId": "539a414d-ad44-4cbb-da37-6d7f828b5b9e"
   },
   "outputs": [],
   "source": [
    "checkpoint = \"dbmdz/bert-base-turkish-cased\"\n",
    "tokenizer = AutoTokenizer.from_pretrained(checkpoint)\n",
    "\n",
    "def tokenize_fn(batch):\n",
    "    return tokenizer(batch['sentence'], truncation=True)\n",
    "    #include truncation but not padding\n",
    "    #padding will be automatically done by trainer\n",
    "\n",
    "tokenized_datasets = split.map(tokenize_fn, batched=True)"
   ]
  },
  {
   "cell_type": "code",
   "execution_count": null,
   "metadata": {
    "colab": {
     "base_uri": "https://localhost:8080/"
    },
    "id": "0eIW9sUHUGWh",
    "outputId": "8357b364-400b-4f04-e487-771eff2e9fd4"
   },
   "outputs": [],
   "source": [
    "bert_model = AutoModelForSequenceClassification.from_pretrained(\n",
    "    checkpoint, num_labels=2)"
   ]
  },
  {
   "cell_type": "code",
   "execution_count": null,
   "metadata": {
    "colab": {
     "base_uri": "https://localhost:8080/"
    },
    "id": "Ho4DtPzAU1YZ",
    "outputId": "edbc3d62-ae04-4993-d6c4-db0a393dcf4e"
   },
   "outputs": [],
   "source": [
    "summary(bert_model)"
   ]
  },
  {
   "cell_type": "code",
   "execution_count": null,
   "metadata": {
    "id": "Q0SPL14sVMxm"
   },
   "outputs": [],
   "source": [
    "training_args = TrainingArguments(\n",
    "  output_dir='training_dir',\n",
    "  evaluation_strategy='epoch',\n",
    "  save_strategy='epoch',\n",
    "  num_train_epochs=5, #5 epochs\n",
    "  per_device_train_batch_size=16,\n",
    "  per_device_eval_batch_size=64,\n",
    ")"
   ]
  },
  {
   "cell_type": "code",
   "execution_count": null,
   "metadata": {
    "id": "0oPeKE3IU1ja"
   },
   "outputs": [],
   "source": [
    "def compute_metrics(logits_and_labels):\n",
    "  logits, labels = logits_and_labels\n",
    "  predictions = np.argmax(logits, axis=-1)\n",
    "  acc = np.mean(predictions == labels)\n",
    "  f1 = f1_score(labels, predictions, average='macro')\n",
    "  prec = precision_score(labels, predictions)\n",
    "  rec = recall_score(labels, predictions)\n",
    "  return {'accuracy': acc, 'f1': f1, 'precision': prec, 'recall': rec}"
   ]
  },
  {
   "cell_type": "code",
   "execution_count": null,
   "metadata": {
    "id": "aTQndtRyU-p6"
   },
   "outputs": [],
   "source": [
    "trainer = Trainer(\n",
    "    bert_model,\n",
    "    training_args,\n",
    "    train_dataset=tokenized_datasets[\"train\"],\n",
    "    eval_dataset=tokenized_datasets[\"test\"],\n",
    "    tokenizer=tokenizer,\n",
    "    compute_metrics=compute_metrics,\n",
    ")"
   ]
  },
  {
   "cell_type": "code",
   "execution_count": null,
   "metadata": {
    "colab": {
     "base_uri": "https://localhost:8080/",
     "height": 322
    },
    "id": "aiEUycTlU-su",
    "outputId": "99fc0cc5-ada5-483b-bd43-fc462db406f8"
   },
   "outputs": [],
   "source": [
    "trainer.train()"
   ]
  },
  {
   "cell_type": "code",
   "execution_count": null,
   "metadata": {
    "colab": {
     "base_uri": "https://localhost:8080/"
    },
    "id": "ujT5K-TGWbCS",
    "outputId": "4ea594fd-050c-4cdd-9e5a-60ab628ba6ff"
   },
   "outputs": [],
   "source": [
    "!ls training_dir"
   ]
  },
  {
   "cell_type": "code",
   "execution_count": null,
   "metadata": {
    "id": "0kymLi6VWb3r"
   },
   "outputs": [],
   "source": [
    "from transformers import pipeline\n",
    "savedmodel = pipeline('text-classification',\n",
    "                      model='training_dir/checkpoint-788',\n",
    "                      device=0)"
   ]
  },
  {
   "cell_type": "code",
   "execution_count": null,
   "metadata": {
    "colab": {
     "base_uri": "https://localhost:8080/"
    },
    "id": "WXVAFJ8dWb_e",
    "outputId": "dd6b6d0b-0366-4313-d217-5222beb4fd76"
   },
   "outputs": [],
   "source": [
    "train_pred = savedmodel(split['train']['sentence'])\n",
    "val_pred = savedmodel(split['test']['sentence'])\n",
    "val_pred[:5]"
   ]
  },
  {
   "cell_type": "code",
   "execution_count": null,
   "metadata": {
    "id": "PPqnMW2iWcDZ"
   },
   "outputs": [],
   "source": [
    "def get_label(d):\n",
    "  return int(d['label'].split('_')[1])\n",
    "train_pred = [get_label(d) for d in train_pred]\n",
    "val_pred = [get_label(d) for d in val_pred]"
   ]
  },
  {
   "cell_type": "code",
   "execution_count": null,
   "metadata": {
    "colab": {
     "base_uri": "https://localhost:8080/"
    },
    "id": "EN893eIjWcLb",
    "outputId": "7df5fce5-5c80-4c82-8d4e-18c899cea9a7"
   },
   "outputs": [],
   "source": [
    "print(\"train acc:\", accuracy_score(split['train']['label'], train_pred))\n",
    "print(\"train f1:\", f1_score(split['train']['label'], train_pred, average='macro'))\n",
    "print(\"train prec:\", precision_score(split['train']['label'], train_pred))\n",
    "print(\"train rec:\", recall_score(split['train']['label'], train_pred))\n",
    "\n",
    "\n",
    "print(\"acc:\", accuracy_score(split['test']['label'], val_pred))\n",
    "print(\"f1:\", f1_score(split['test']['label'], val_pred, average='macro'))\n",
    "print(\"prec:\", precision_score(split['test']['label'], val_pred))\n",
    "print(\"rec:\", recall_score(split['test']['label'], val_pred))"
   ]
  },
  {
   "cell_type": "code",
   "execution_count": null,
   "metadata": {
    "colab": {
     "base_uri": "https://localhost:8080/",
     "height": 206
    },
    "id": "lInvjHSIU16R",
    "outputId": "e6ce6368-3d44-462d-a8cc-ef91b80018ac"
   },
   "outputs": [],
   "source": [
    "test_set.head()"
   ]
  },
  {
   "cell_type": "code",
   "execution_count": null,
   "metadata": {
    "id": "aloZ56ibYOLC"
   },
   "outputs": [],
   "source": [
    "target = test_set['label']\n",
    "sentences = test_set['sentence'].tolist()"
   ]
  },
  {
   "cell_type": "code",
   "execution_count": null,
   "metadata": {
    "id": "f7nnSNMjYOYV"
   },
   "outputs": [],
   "source": [
    "test_pred = savedmodel(sentences)\n",
    "test_pred = [get_label(d) for d in test_pred]"
   ]
  },
  {
   "cell_type": "code",
   "execution_count": null,
   "metadata": {
    "colab": {
     "base_uri": "https://localhost:8080/"
    },
    "id": "B2TKPOBwYdlx",
    "outputId": "887eaef3-42e4-4b5e-cb99-656412c7ecd6"
   },
   "outputs": [],
   "source": [
    "print(\"acc:\", accuracy_score(target, test_pred))\n",
    "print(\"f1:\", f1_score(target, test_pred, average='macro'))\n",
    "print(\"prec:\", precision_score(target, test_pred, average=None))\n",
    "print(\"rec:\", recall_score(target, test_pred, average=None))"
   ]
  },
  {
   "cell_type": "code",
   "execution_count": null,
   "metadata": {
    "colab": {
     "base_uri": "https://localhost:8080/",
     "height": 307
    },
    "id": "3Kod7zS1U-wg",
    "outputId": "f8ed5612-8e98-473c-caf5-7385cee26f25"
   },
   "outputs": [],
   "source": [
    "cm_train = confusion_matrix(split['train']['label'], train_pred, normalize='true')\n",
    "cm_val = confusion_matrix(split['test']['label'], val_pred, normalize='true')\n",
    "cm_test = confusion_matrix(target, test_pred, normalize='true')\n",
    "\n",
    "fig, axes = plt.subplots(1, 3, figsize=(9, 3))\n",
    "plot_cm(axes[0], cm_train, title='Confusion Matrix for Train Set')\n",
    "plot_cm(axes[1], cm_val, title='Confusion Matrix for Validation Set')\n",
    "plot_cm(axes[2], cm_test, title='Confusion Matrix for Test Set')\n",
    "\n",
    "plt.tight_layout()\n",
    "plt.show()"
   ]
  },
  {
   "cell_type": "markdown",
   "metadata": {
    "id": "4m2kuyJr5A_X"
   },
   "source": [
    "## PART 3 : MODEL SELECTION\n",
    "\n",
    "- Although Logistic Regression, as well as LSTM models achieved impressive performances in accuracy and F1 scores, confusion matrices show us that fine-tuned BERTURK model clearly outperformed all models especially in terms of recall score.\n",
    "- Despite high accuracy and decent f1, other models (except for SVM which had the poorest performance) performed weak on the recall metric (between 0.83-0.86), which is the most important metric for this project.\n",
    "- Recall score is a metric that shows how much of the relevant instances are retrieved, that is :\n",
    "    True Positives / (False Negatives + True Positives) . In this context, it shows us what percentage of the emergency call tweets was actually detected by an algorithm.\n",
    "- There is usually a trade-off between precision and recall, precision showing how much of the retrieved instances is actually relevant (what percentage of the tweets classified as \"emergency\" was in fact an emergency.\n",
    "\n",
    "- There might be examples where precision can be a more relevant metric than recall, where we can take the risk of false negatives because false positives can pose actually a much bigger problem.\n",
    "- Yet this example is a case where false negatives cannot be risked, as the misclassification of an emergency tweet as \"other\" can have fatal consequences. False positives is much less of a problem as we would not lose much if we wrongly think a tweet is emergency and pin it on our map, since there are still be users reading the tweets on the map.\n",
    "\n",
    "- Therefore, I decided the good performance of transformers model on all scores, and over 5% improvement it offers on the recall score, completely justifies the computational cost and complexity arising due to GPU-intensive computation of transformers since stakes are HUMAN LIVES.\n"
   ]
  },
  {
   "cell_type": "markdown",
   "metadata": {
    "id": "Rx4etKin5IEe"
   },
   "source": [
    "## PART 4: MODEL DEPLOYMENT\n",
    "Since I ran the project on Colab but not on my local machine, this step will require one last package to import:"
   ]
  },
  {
   "cell_type": "code",
   "execution_count": null,
   "metadata": {
    "colab": {
     "base_uri": "https://localhost:8080/"
    },
    "id": "EQIfPhgY5Gc6",
    "outputId": "49284397-1058-48e6-d11a-3c251448e34f"
   },
   "outputs": [],
   "source": [
    "from google.colab import drive\n",
    "drive.mount('/content/gdrive')"
   ]
  },
  {
   "cell_type": "code",
   "execution_count": null,
   "metadata": {
    "id": "zkV16tV4ZrDB"
   },
   "outputs": [],
   "source": [
    "BERT_finetuned = savedmodel\n",
    "path = F\"/content/gdrive/MyDrive/{BERT_finetuned}\"\n",
    "torch.save(bert_model.state_dict(), path)"
   ]
  },
  {
   "cell_type": "code",
   "execution_count": null,
   "metadata": {
    "colab": {
     "base_uri": "https://localhost:8080/"
    },
    "id": "RzIgTdu8Zq_B",
    "outputId": "500d1b98-4a87-4f9f-aaf4-2dfa1752d160"
   },
   "outputs": [],
   "source": [
    "savedmodel.save_pretrained(\"bert-earthquake-tweets-classification\")\n",
    "tokenizer.save_pretrained(\"bert-earthquake-tweets-classification\")"
   ]
  },
  {
   "cell_type": "code",
   "execution_count": null,
   "metadata": {
    "colab": {
     "base_uri": "https://localhost:8080/"
    },
    "id": "_pCNPWmy5Gkk",
    "outputId": "3b5e360d-912a-4a27-a34a-3b4c8d269917"
   },
   "outputs": [],
   "source": [
    "!sudo apt-get install git-lfs"
   ]
  },
  {
   "cell_type": "code",
   "execution_count": null,
   "metadata": {
    "colab": {
     "base_uri": "https://localhost:8080/"
    },
    "id": "oxUJhxk5aFzB",
    "outputId": "74b92e21-5f9b-4344-fbb7-7e74d6632479"
   },
   "outputs": [],
   "source": [
    "!huggingface-cli login\n",
    "!huggingface-cli repo create berturk-earthquake-tweets-classification"
   ]
  },
  {
   "cell_type": "code",
   "execution_count": null,
   "metadata": {
    "colab": {
     "base_uri": "https://localhost:8080/"
    },
    "id": "SbhSkTslaNJJ",
    "outputId": "48fe6b0c-db36-4b7e-b2e9-cccd93e9d8fe"
   },
   "outputs": [],
   "source": [
    "!git clone https://huggingface.co/yhaslan/berturk-earthquake-tweets-classification"
   ]
  },
  {
   "cell_type": "code",
   "execution_count": null,
   "metadata": {
    "colab": {
     "base_uri": "https://localhost:8080/"
    },
    "id": "1gc2xWb2aNwu",
    "outputId": "f5bd2328-21d8-42ed-9898-9c317825623b"
   },
   "outputs": [],
   "source": [
    "!cd berturk-earthquake-tweets-classification\n",
    "!echo \"Hello!\" >> README.md\n",
    "!git add . && git commit -m \"Update from $USER\""
   ]
  },
  {
   "cell_type": "code",
   "execution_count": null,
   "metadata": {
    "colab": {
     "base_uri": "https://localhost:8080/"
    },
    "id": "bv2c7-mXaRpb",
    "outputId": "c7d55d26-dc8a-4c30-83cb-4f64c3dc96f9"
   },
   "outputs": [],
   "source": [
    "savedmodel.save_pretrained(\"path/to/repo/clone/berturk-earthquake-tweets-classification\")\n",
    "tokenizer.save_pretrained(\"path/to/repo/clone/berturk-earthquake-tweets-classification\")"
   ]
  },
  {
   "cell_type": "code",
   "execution_count": null,
   "metadata": {
    "colab": {
     "base_uri": "https://localhost:8080/",
     "height": 227,
     "referenced_widgets": [
      "0fd4e7f7491f416fb89e3e267316c1a9",
      "1680610fb68349d8ab0183042d72f63d",
      "0bd21aa8d20c4d7c901966422ba89716",
      "10ba2789765541eda787179fda9a1f7c",
      "327d4b2e7c2045e39b562872b48ddbd1",
      "880b67b27c9349fb876f74530b96f444",
      "1a5f15ee79f9465c9450a110521b1403",
      "356c8105013b411e9918422b3a81d86d",
      "8bd13fee10f24afdbd72ff91be4c3cbf",
      "2d682c593bde4dcfbe15c9635ef980d3",
      "35f17ef21d9a47efb243bbf362b97c0f",
      "474318d1f0fd4f5f85404afa5fdbdcbe",
      "6dccd1ac0fd8411e838ddb2881093309",
      "25dc6a95928f461aac4aa5e57bf4a46e",
      "8ffb2527467d47b0962e8d4513608f9b",
      "ff410a4badbd452b8e28ba15f14bc9cd",
      "cafce4ff64c94675a189f60cb6a92ce5",
      "0feed7e37dec44a79acdd6840a332537",
      "972f6b12f08f4d85a2f82176625ebe91",
      "f209092176f740c6b2ea4123500a8b89",
      "6b62ccd85c6f471a9973bf65f88fc169",
      "7bc126c9b1e342a498ab3ec5425fec52",
      "4190ceaa566d4c4dbc72bf5a6c338f0b",
      "96c1578436bf4252988d7c5cab12369c",
      "4c2a4969095d42b1888ecb9392346303",
      "6e94648b02d04c518bf517acf401b673",
      "5420b3ed96fe45e49b2b60d0c6e1aac4",
      "e38dd57f33f04df79ecce2d2db340b9c",
      "363286a6ba084ad69ab73a34bb99e9f1",
      "9fe6d11a2e324aeaa355b5eacf65243b",
      "d86804fed9ac4c49814f6f5115a8be6d",
      "50321660e7134c49b7408d32f3d7506e",
      "f5b5e8d5bdbd4e4faf108657207a1073",
      "c549c85cb3234be4a5eac55a24645456",
      "1564a142af4349e5bc6953126042397e",
      "77abd9da1e304856bbca674efda70485",
      "4904f5c9fcc04b08be5c4006c28e0fde",
      "53c59531fad74d88a8a48ecec47b857e",
      "a32dd10f223a41ddbf5898be08d4cd84",
      "9535c8c9b022434bacbe2412fb105d7b",
      "3c2d36780756419fb74931b786a795fb",
      "f3e1fbf4ec0e4cb8a8432d7593d101b3",
      "1866a0c389c74ab7bae1a496d27eea1b",
      "13106429af87401d84c39f4b84d3e1f9",
      "a769a4e647ea4a54bca41985f94ae46a",
      "aca4610bf951462b9c2c1dca6d4f9655",
      "401712da3a8c4718ba8d192cdd02263c",
      "97770fb2c4524ddaa2c9aaa3a20f9851",
      "005e454889cb484c94099432f7f47582",
      "3aa8086ec3b743328d4496ca775606c8",
      "c7ad8b49fb2d479a8b8763dd20f24c9a",
      "314174be43134453a20a2f0cc469d214",
      "55c2a78e92bb4de7b36dc9cce1c56fc6",
      "8e62a5f3fba44c2ab06aaa9379b5ec56",
      "6f544982973f45609df622bd5bd9f508",
      "5d0a4f658eb54bc598067a881cfc81b3",
      "c39204e6e6024751b5759174180e4ede",
      "f9496c37707a48e9b1d57ab43225ec0c",
      "ccfb72f05bca4a498e14a0898a50b364",
      "a6675e0df5ed463e998dbbe18f5f70b6",
      "0db3e61b9c2149c1b1e7996c59674169",
      "00590fb6dbf840e29fc12759f93b3ecc",
      "c5cffe8bd20a4c7fa0b7ed594ff494a3",
      "e3f6b70236a94adc98a2761371129054",
      "806fafe26d72499094205adea032009b",
      "cef6710594b7465e916a5cd10f92b89a"
     ]
    },
    "id": "qcbl63--aStY",
    "outputId": "5437bcaf-5928-40dd-8be9-6dbffcf7ac2f"
   },
   "outputs": [],
   "source": [
    "huggingface_hub.upload_folder(folder_path='training_dir/checkpoint-788',\n",
    "    repo_id=\"yhaslan/berturk-earthquake-tweets-classification\",\n",
    "    repo_type=\"model\"\n",
    ")"
   ]
  },
  {
   "cell_type": "code",
   "execution_count": null,
   "metadata": {
    "id": "tU-j5G3K49jB"
   },
   "outputs": [],
   "source": []
  }
 ],
 "metadata": {
  "accelerator": "GPU",
  "colab": {
   "gpuType": "T4",
   "provenance": []
  },
  "kernelspec": {
   "display_name": "Python 3 (ipykernel)",
   "language": "python",
   "name": "python3"
  },
  "language_info": {
   "codemirror_mode": {
    "name": "ipython",
    "version": 3
   },
   "file_extension": ".py",
   "mimetype": "text/x-python",
   "name": "python",
   "nbconvert_exporter": "python",
   "pygments_lexer": "ipython3",
   "version": "3.9.13"
  },
  "widgets": {
   "application/vnd.jupyter.widget-state+json": {
    "00590fb6dbf840e29fc12759f93b3ecc": {
     "model_module": "@jupyter-widgets/controls",
     "model_module_version": "1.5.0",
     "model_name": "DescriptionStyleModel",
     "state": {
      "_model_module": "@jupyter-widgets/controls",
      "_model_module_version": "1.5.0",
      "_model_name": "DescriptionStyleModel",
      "_view_count": null,
      "_view_module": "@jupyter-widgets/base",
      "_view_module_version": "1.2.0",
      "_view_name": "StyleView",
      "description_width": ""
     }
    },
    "005e454889cb484c94099432f7f47582": {
     "model_module": "@jupyter-widgets/base",
     "model_module_version": "1.2.0",
     "model_name": "LayoutModel",
     "state": {
      "_model_module": "@jupyter-widgets/base",
      "_model_module_version": "1.2.0",
      "_model_name": "LayoutModel",
      "_view_count": null,
      "_view_module": "@jupyter-widgets/base",
      "_view_module_version": "1.2.0",
      "_view_name": "LayoutView",
      "align_content": null,
      "align_items": null,
      "align_self": null,
      "border": null,
      "bottom": null,
      "display": null,
      "flex": null,
      "flex_flow": null,
      "grid_area": null,
      "grid_auto_columns": null,
      "grid_auto_flow": null,
      "grid_auto_rows": null,
      "grid_column": null,
      "grid_gap": null,
      "grid_row": null,
      "grid_template_areas": null,
      "grid_template_columns": null,
      "grid_template_rows": null,
      "height": null,
      "justify_content": null,
      "justify_items": null,
      "left": null,
      "margin": null,
      "max_height": null,
      "max_width": null,
      "min_height": null,
      "min_width": null,
      "object_fit": null,
      "object_position": null,
      "order": null,
      "overflow": null,
      "overflow_x": null,
      "overflow_y": null,
      "padding": null,
      "right": null,
      "top": null,
      "visibility": null,
      "width": null
     }
    },
    "00f1f7f90b2b4db2a13064ea39d7bca4": {
     "model_module": "@jupyter-widgets/base",
     "model_module_version": "1.2.0",
     "model_name": "LayoutModel",
     "state": {
      "_model_module": "@jupyter-widgets/base",
      "_model_module_version": "1.2.0",
      "_model_name": "LayoutModel",
      "_view_count": null,
      "_view_module": "@jupyter-widgets/base",
      "_view_module_version": "1.2.0",
      "_view_name": "LayoutView",
      "align_content": null,
      "align_items": null,
      "align_self": null,
      "border": null,
      "bottom": null,
      "display": null,
      "flex": null,
      "flex_flow": null,
      "grid_area": null,
      "grid_auto_columns": null,
      "grid_auto_flow": null,
      "grid_auto_rows": null,
      "grid_column": null,
      "grid_gap": null,
      "grid_row": null,
      "grid_template_areas": null,
      "grid_template_columns": null,
      "grid_template_rows": null,
      "height": null,
      "justify_content": null,
      "justify_items": null,
      "left": null,
      "margin": null,
      "max_height": null,
      "max_width": null,
      "min_height": null,
      "min_width": null,
      "object_fit": null,
      "object_position": null,
      "order": null,
      "overflow": null,
      "overflow_x": null,
      "overflow_y": null,
      "padding": null,
      "right": null,
      "top": null,
      "visibility": null,
      "width": null
     }
    },
    "0a884960dfbd4b3e9ce2bddc626c0a25": {
     "model_module": "@jupyter-widgets/controls",
     "model_module_version": "1.5.0",
     "model_name": "HTMLModel",
     "state": {
      "_dom_classes": [],
      "_model_module": "@jupyter-widgets/controls",
      "_model_module_version": "1.5.0",
      "_model_name": "HTMLModel",
      "_view_count": null,
      "_view_module": "@jupyter-widgets/controls",
      "_view_module_version": "1.5.0",
      "_view_name": "HTMLView",
      "description": "",
      "description_tooltip": null,
      "layout": "IPY_MODEL_e86d98ec58ca47d7a5399ee84319e2c6",
      "placeholder": "​",
      "style": "IPY_MODEL_26f9d02ea21043b1bd6b7c42ccf4a172",
      "value": " 2700/2700 [00:00&lt;00:00, 3141.01 examples/s]"
     }
    },
    "0abbf3e62e384d68905b64394af3a898": {
     "model_module": "@jupyter-widgets/controls",
     "model_module_version": "1.5.0",
     "model_name": "DescriptionStyleModel",
     "state": {
      "_model_module": "@jupyter-widgets/controls",
      "_model_module_version": "1.5.0",
      "_model_name": "DescriptionStyleModel",
      "_view_count": null,
      "_view_module": "@jupyter-widgets/base",
      "_view_module_version": "1.2.0",
      "_view_name": "StyleView",
      "description_width": ""
     }
    },
    "0bd21aa8d20c4d7c901966422ba89716": {
     "model_module": "@jupyter-widgets/controls",
     "model_module_version": "1.5.0",
     "model_name": "FloatProgressModel",
     "state": {
      "_dom_classes": [],
      "_model_module": "@jupyter-widgets/controls",
      "_model_module_version": "1.5.0",
      "_model_name": "FloatProgressModel",
      "_view_count": null,
      "_view_module": "@jupyter-widgets/controls",
      "_view_module_version": "1.5.0",
      "_view_name": "ProgressView",
      "bar_style": "success",
      "description": "",
      "description_tooltip": null,
      "layout": "IPY_MODEL_356c8105013b411e9918422b3a81d86d",
      "max": 442499064,
      "min": 0,
      "orientation": "horizontal",
      "style": "IPY_MODEL_8bd13fee10f24afdbd72ff91be4c3cbf",
      "value": 442499064
     }
    },
    "0db3e61b9c2149c1b1e7996c59674169": {
     "model_module": "@jupyter-widgets/base",
     "model_module_version": "1.2.0",
     "model_name": "LayoutModel",
     "state": {
      "_model_module": "@jupyter-widgets/base",
      "_model_module_version": "1.2.0",
      "_model_name": "LayoutModel",
      "_view_count": null,
      "_view_module": "@jupyter-widgets/base",
      "_view_module_version": "1.2.0",
      "_view_name": "LayoutView",
      "align_content": null,
      "align_items": null,
      "align_self": null,
      "border": null,
      "bottom": null,
      "display": null,
      "flex": null,
      "flex_flow": null,
      "grid_area": null,
      "grid_auto_columns": null,
      "grid_auto_flow": null,
      "grid_auto_rows": null,
      "grid_column": null,
      "grid_gap": null,
      "grid_row": null,
      "grid_template_areas": null,
      "grid_template_columns": null,
      "grid_template_rows": null,
      "height": null,
      "justify_content": null,
      "justify_items": null,
      "left": null,
      "margin": null,
      "max_height": null,
      "max_width": null,
      "min_height": null,
      "min_width": null,
      "object_fit": null,
      "object_position": null,
      "order": null,
      "overflow": null,
      "overflow_x": null,
      "overflow_y": null,
      "padding": null,
      "right": null,
      "top": null,
      "visibility": null,
      "width": null
     }
    },
    "0e89014c91924a9abe7eecefab4efe0d": {
     "model_module": "@jupyter-widgets/base",
     "model_module_version": "1.2.0",
     "model_name": "LayoutModel",
     "state": {
      "_model_module": "@jupyter-widgets/base",
      "_model_module_version": "1.2.0",
      "_model_name": "LayoutModel",
      "_view_count": null,
      "_view_module": "@jupyter-widgets/base",
      "_view_module_version": "1.2.0",
      "_view_name": "LayoutView",
      "align_content": null,
      "align_items": null,
      "align_self": null,
      "border": null,
      "bottom": null,
      "display": null,
      "flex": null,
      "flex_flow": null,
      "grid_area": null,
      "grid_auto_columns": null,
      "grid_auto_flow": null,
      "grid_auto_rows": null,
      "grid_column": null,
      "grid_gap": null,
      "grid_row": null,
      "grid_template_areas": null,
      "grid_template_columns": null,
      "grid_template_rows": null,
      "height": null,
      "justify_content": null,
      "justify_items": null,
      "left": null,
      "margin": null,
      "max_height": null,
      "max_width": null,
      "min_height": null,
      "min_width": null,
      "object_fit": null,
      "object_position": null,
      "order": null,
      "overflow": null,
      "overflow_x": null,
      "overflow_y": null,
      "padding": null,
      "right": null,
      "top": null,
      "visibility": null,
      "width": null
     }
    },
    "0fd4e7f7491f416fb89e3e267316c1a9": {
     "model_module": "@jupyter-widgets/controls",
     "model_module_version": "1.5.0",
     "model_name": "HBoxModel",
     "state": {
      "_dom_classes": [],
      "_model_module": "@jupyter-widgets/controls",
      "_model_module_version": "1.5.0",
      "_model_name": "HBoxModel",
      "_view_count": null,
      "_view_module": "@jupyter-widgets/controls",
      "_view_module_version": "1.5.0",
      "_view_name": "HBoxView",
      "box_style": "",
      "children": [
       "IPY_MODEL_1680610fb68349d8ab0183042d72f63d",
       "IPY_MODEL_0bd21aa8d20c4d7c901966422ba89716",
       "IPY_MODEL_10ba2789765541eda787179fda9a1f7c"
      ],
      "layout": "IPY_MODEL_327d4b2e7c2045e39b562872b48ddbd1"
     }
    },
    "0feed7e37dec44a79acdd6840a332537": {
     "model_module": "@jupyter-widgets/controls",
     "model_module_version": "1.5.0",
     "model_name": "DescriptionStyleModel",
     "state": {
      "_model_module": "@jupyter-widgets/controls",
      "_model_module_version": "1.5.0",
      "_model_name": "DescriptionStyleModel",
      "_view_count": null,
      "_view_module": "@jupyter-widgets/base",
      "_view_module_version": "1.2.0",
      "_view_name": "StyleView",
      "description_width": ""
     }
    },
    "10ba2789765541eda787179fda9a1f7c": {
     "model_module": "@jupyter-widgets/controls",
     "model_module_version": "1.5.0",
     "model_name": "HTMLModel",
     "state": {
      "_dom_classes": [],
      "_model_module": "@jupyter-widgets/controls",
      "_model_module_version": "1.5.0",
      "_model_name": "HTMLModel",
      "_view_count": null,
      "_view_module": "@jupyter-widgets/controls",
      "_view_module_version": "1.5.0",
      "_view_name": "HTMLView",
      "description": "",
      "description_tooltip": null,
      "layout": "IPY_MODEL_2d682c593bde4dcfbe15c9635ef980d3",
      "placeholder": "​",
      "style": "IPY_MODEL_35f17ef21d9a47efb243bbf362b97c0f",
      "value": " 442M/442M [00:17&lt;00:00, 33.0MB/s]"
     }
    },
    "13106429af87401d84c39f4b84d3e1f9": {
     "model_module": "@jupyter-widgets/controls",
     "model_module_version": "1.5.0",
     "model_name": "DescriptionStyleModel",
     "state": {
      "_model_module": "@jupyter-widgets/controls",
      "_model_module_version": "1.5.0",
      "_model_name": "DescriptionStyleModel",
      "_view_count": null,
      "_view_module": "@jupyter-widgets/base",
      "_view_module_version": "1.2.0",
      "_view_name": "StyleView",
      "description_width": ""
     }
    },
    "1564a142af4349e5bc6953126042397e": {
     "model_module": "@jupyter-widgets/controls",
     "model_module_version": "1.5.0",
     "model_name": "HTMLModel",
     "state": {
      "_dom_classes": [],
      "_model_module": "@jupyter-widgets/controls",
      "_model_module_version": "1.5.0",
      "_model_name": "HTMLModel",
      "_view_count": null,
      "_view_module": "@jupyter-widgets/controls",
      "_view_module_version": "1.5.0",
      "_view_name": "HTMLView",
      "description": "",
      "description_tooltip": null,
      "layout": "IPY_MODEL_a32dd10f223a41ddbf5898be08d4cd84",
      "placeholder": "​",
      "style": "IPY_MODEL_9535c8c9b022434bacbe2412fb105d7b",
      "value": "Upload 5 LFS files: 100%"
     }
    },
    "1680610fb68349d8ab0183042d72f63d": {
     "model_module": "@jupyter-widgets/controls",
     "model_module_version": "1.5.0",
     "model_name": "HTMLModel",
     "state": {
      "_dom_classes": [],
      "_model_module": "@jupyter-widgets/controls",
      "_model_module_version": "1.5.0",
      "_model_name": "HTMLModel",
      "_view_count": null,
      "_view_module": "@jupyter-widgets/controls",
      "_view_module_version": "1.5.0",
      "_view_name": "HTMLView",
      "description": "",
      "description_tooltip": null,
      "layout": "IPY_MODEL_880b67b27c9349fb876f74530b96f444",
      "placeholder": "​",
      "style": "IPY_MODEL_1a5f15ee79f9465c9450a110521b1403",
      "value": "model.safetensors: 100%"
     }
    },
    "16cc5cb034724122b01b32cc99af9e36": {
     "model_module": "@jupyter-widgets/base",
     "model_module_version": "1.2.0",
     "model_name": "LayoutModel",
     "state": {
      "_model_module": "@jupyter-widgets/base",
      "_model_module_version": "1.2.0",
      "_model_name": "LayoutModel",
      "_view_count": null,
      "_view_module": "@jupyter-widgets/base",
      "_view_module_version": "1.2.0",
      "_view_name": "LayoutView",
      "align_content": null,
      "align_items": null,
      "align_self": null,
      "border": null,
      "bottom": null,
      "display": null,
      "flex": null,
      "flex_flow": null,
      "grid_area": null,
      "grid_auto_columns": null,
      "grid_auto_flow": null,
      "grid_auto_rows": null,
      "grid_column": null,
      "grid_gap": null,
      "grid_row": null,
      "grid_template_areas": null,
      "grid_template_columns": null,
      "grid_template_rows": null,
      "height": null,
      "justify_content": null,
      "justify_items": null,
      "left": null,
      "margin": null,
      "max_height": null,
      "max_width": null,
      "min_height": null,
      "min_width": null,
      "object_fit": null,
      "object_position": null,
      "order": null,
      "overflow": null,
      "overflow_x": null,
      "overflow_y": null,
      "padding": null,
      "right": null,
      "top": null,
      "visibility": null,
      "width": null
     }
    },
    "1866a0c389c74ab7bae1a496d27eea1b": {
     "model_module": "@jupyter-widgets/base",
     "model_module_version": "1.2.0",
     "model_name": "LayoutModel",
     "state": {
      "_model_module": "@jupyter-widgets/base",
      "_model_module_version": "1.2.0",
      "_model_name": "LayoutModel",
      "_view_count": null,
      "_view_module": "@jupyter-widgets/base",
      "_view_module_version": "1.2.0",
      "_view_name": "LayoutView",
      "align_content": null,
      "align_items": null,
      "align_self": null,
      "border": null,
      "bottom": null,
      "display": null,
      "flex": null,
      "flex_flow": null,
      "grid_area": null,
      "grid_auto_columns": null,
      "grid_auto_flow": null,
      "grid_auto_rows": null,
      "grid_column": null,
      "grid_gap": null,
      "grid_row": null,
      "grid_template_areas": null,
      "grid_template_columns": null,
      "grid_template_rows": null,
      "height": null,
      "justify_content": null,
      "justify_items": null,
      "left": null,
      "margin": null,
      "max_height": null,
      "max_width": null,
      "min_height": null,
      "min_width": null,
      "object_fit": null,
      "object_position": null,
      "order": null,
      "overflow": null,
      "overflow_x": null,
      "overflow_y": null,
      "padding": null,
      "right": null,
      "top": null,
      "visibility": null,
      "width": null
     }
    },
    "1a5f15ee79f9465c9450a110521b1403": {
     "model_module": "@jupyter-widgets/controls",
     "model_module_version": "1.5.0",
     "model_name": "DescriptionStyleModel",
     "state": {
      "_model_module": "@jupyter-widgets/controls",
      "_model_module_version": "1.5.0",
      "_model_name": "DescriptionStyleModel",
      "_view_count": null,
      "_view_module": "@jupyter-widgets/base",
      "_view_module_version": "1.2.0",
      "_view_name": "StyleView",
      "description_width": ""
     }
    },
    "1cd0fec88e8f44fb9a4942cbd39a0427": {
     "model_module": "@jupyter-widgets/controls",
     "model_module_version": "1.5.0",
     "model_name": "HBoxModel",
     "state": {
      "_dom_classes": [],
      "_model_module": "@jupyter-widgets/controls",
      "_model_module_version": "1.5.0",
      "_model_name": "HBoxModel",
      "_view_count": null,
      "_view_module": "@jupyter-widgets/controls",
      "_view_module_version": "1.5.0",
      "_view_name": "HBoxView",
      "box_style": "",
      "children": [
       "IPY_MODEL_8c12b93e65da410ca3ea35604cc010c5",
       "IPY_MODEL_595310cda002404188a6906c5b386142",
       "IPY_MODEL_521b6fc87c6048fb81593bf817626c0f"
      ],
      "layout": "IPY_MODEL_4332b5496d534ca5b31731edb45e776b"
     }
    },
    "1d34522c19734f439653a33a342edf28": {
     "model_module": "@jupyter-widgets/controls",
     "model_module_version": "1.5.0",
     "model_name": "FloatProgressModel",
     "state": {
      "_dom_classes": [],
      "_model_module": "@jupyter-widgets/controls",
      "_model_module_version": "1.5.0",
      "_model_name": "FloatProgressModel",
      "_view_count": null,
      "_view_module": "@jupyter-widgets/controls",
      "_view_module_version": "1.5.0",
      "_view_name": "ProgressView",
      "bar_style": "success",
      "description": "",
      "description_tooltip": null,
      "layout": "IPY_MODEL_6de10157787e4dc8ae6c2885d50a26bc",
      "max": 1,
      "min": 0,
      "orientation": "horizontal",
      "style": "IPY_MODEL_7127e9c34a844ff5b82549acfe40fd9b",
      "value": 1
     }
    },
    "23102ca2f8124ab0afd5ef2e494fc7bd": {
     "model_module": "@jupyter-widgets/base",
     "model_module_version": "1.2.0",
     "model_name": "LayoutModel",
     "state": {
      "_model_module": "@jupyter-widgets/base",
      "_model_module_version": "1.2.0",
      "_model_name": "LayoutModel",
      "_view_count": null,
      "_view_module": "@jupyter-widgets/base",
      "_view_module_version": "1.2.0",
      "_view_name": "LayoutView",
      "align_content": null,
      "align_items": null,
      "align_self": null,
      "border": null,
      "bottom": null,
      "display": null,
      "flex": null,
      "flex_flow": null,
      "grid_area": null,
      "grid_auto_columns": null,
      "grid_auto_flow": null,
      "grid_auto_rows": null,
      "grid_column": null,
      "grid_gap": null,
      "grid_row": null,
      "grid_template_areas": null,
      "grid_template_columns": null,
      "grid_template_rows": null,
      "height": null,
      "justify_content": null,
      "justify_items": null,
      "left": null,
      "margin": null,
      "max_height": null,
      "max_width": null,
      "min_height": null,
      "min_width": null,
      "object_fit": null,
      "object_position": null,
      "order": null,
      "overflow": null,
      "overflow_x": null,
      "overflow_y": null,
      "padding": null,
      "right": null,
      "top": null,
      "visibility": null,
      "width": null
     }
    },
    "23a5dfe4ad42493e9f68631138126131": {
     "model_module": "@jupyter-widgets/base",
     "model_module_version": "1.2.0",
     "model_name": "LayoutModel",
     "state": {
      "_model_module": "@jupyter-widgets/base",
      "_model_module_version": "1.2.0",
      "_model_name": "LayoutModel",
      "_view_count": null,
      "_view_module": "@jupyter-widgets/base",
      "_view_module_version": "1.2.0",
      "_view_name": "LayoutView",
      "align_content": null,
      "align_items": null,
      "align_self": null,
      "border": null,
      "bottom": null,
      "display": null,
      "flex": null,
      "flex_flow": null,
      "grid_area": null,
      "grid_auto_columns": null,
      "grid_auto_flow": null,
      "grid_auto_rows": null,
      "grid_column": null,
      "grid_gap": null,
      "grid_row": null,
      "grid_template_areas": null,
      "grid_template_columns": null,
      "grid_template_rows": null,
      "height": null,
      "justify_content": null,
      "justify_items": null,
      "left": null,
      "margin": null,
      "max_height": null,
      "max_width": null,
      "min_height": null,
      "min_width": null,
      "object_fit": null,
      "object_position": null,
      "order": null,
      "overflow": null,
      "overflow_x": null,
      "overflow_y": null,
      "padding": null,
      "right": null,
      "top": null,
      "visibility": null,
      "width": null
     }
    },
    "25dc6a95928f461aac4aa5e57bf4a46e": {
     "model_module": "@jupyter-widgets/controls",
     "model_module_version": "1.5.0",
     "model_name": "FloatProgressModel",
     "state": {
      "_dom_classes": [],
      "_model_module": "@jupyter-widgets/controls",
      "_model_module_version": "1.5.0",
      "_model_name": "FloatProgressModel",
      "_view_count": null,
      "_view_module": "@jupyter-widgets/controls",
      "_view_module_version": "1.5.0",
      "_view_name": "ProgressView",
      "bar_style": "success",
      "description": "",
      "description_tooltip": null,
      "layout": "IPY_MODEL_972f6b12f08f4d85a2f82176625ebe91",
      "max": 885119226,
      "min": 0,
      "orientation": "horizontal",
      "style": "IPY_MODEL_f209092176f740c6b2ea4123500a8b89",
      "value": 885119226
     }
    },
    "26f9d02ea21043b1bd6b7c42ccf4a172": {
     "model_module": "@jupyter-widgets/controls",
     "model_module_version": "1.5.0",
     "model_name": "DescriptionStyleModel",
     "state": {
      "_model_module": "@jupyter-widgets/controls",
      "_model_module_version": "1.5.0",
      "_model_name": "DescriptionStyleModel",
      "_view_count": null,
      "_view_module": "@jupyter-widgets/base",
      "_view_module_version": "1.2.0",
      "_view_name": "StyleView",
      "description_width": ""
     }
    },
    "27755441c147478bb8b7bbec8afbb997": {
     "model_module": "@jupyter-widgets/base",
     "model_module_version": "1.2.0",
     "model_name": "LayoutModel",
     "state": {
      "_model_module": "@jupyter-widgets/base",
      "_model_module_version": "1.2.0",
      "_model_name": "LayoutModel",
      "_view_count": null,
      "_view_module": "@jupyter-widgets/base",
      "_view_module_version": "1.2.0",
      "_view_name": "LayoutView",
      "align_content": null,
      "align_items": null,
      "align_self": null,
      "border": null,
      "bottom": null,
      "display": null,
      "flex": null,
      "flex_flow": null,
      "grid_area": null,
      "grid_auto_columns": null,
      "grid_auto_flow": null,
      "grid_auto_rows": null,
      "grid_column": null,
      "grid_gap": null,
      "grid_row": null,
      "grid_template_areas": null,
      "grid_template_columns": null,
      "grid_template_rows": null,
      "height": null,
      "justify_content": null,
      "justify_items": null,
      "left": null,
      "margin": null,
      "max_height": null,
      "max_width": null,
      "min_height": null,
      "min_width": null,
      "object_fit": null,
      "object_position": null,
      "order": null,
      "overflow": null,
      "overflow_x": null,
      "overflow_y": null,
      "padding": null,
      "right": null,
      "top": null,
      "visibility": null,
      "width": null
     }
    },
    "28b4310ed0104f62a4f2bc1f93bcd703": {
     "model_module": "@jupyter-widgets/controls",
     "model_module_version": "1.5.0",
     "model_name": "HBoxModel",
     "state": {
      "_dom_classes": [],
      "_model_module": "@jupyter-widgets/controls",
      "_model_module_version": "1.5.0",
      "_model_name": "HBoxModel",
      "_view_count": null,
      "_view_module": "@jupyter-widgets/controls",
      "_view_module_version": "1.5.0",
      "_view_name": "HBoxView",
      "box_style": "",
      "children": [
       "IPY_MODEL_c4bfee404f3b4274bf09518eff35692d",
       "IPY_MODEL_9b612bd1ec444c9bb1af326ff0b349d9",
       "IPY_MODEL_67e4a5e724b5432aa343130a3f744cb5"
      ],
      "layout": "IPY_MODEL_a50c3c2d53534441bd21085cf93ecd0b"
     }
    },
    "2d682c593bde4dcfbe15c9635ef980d3": {
     "model_module": "@jupyter-widgets/base",
     "model_module_version": "1.2.0",
     "model_name": "LayoutModel",
     "state": {
      "_model_module": "@jupyter-widgets/base",
      "_model_module_version": "1.2.0",
      "_model_name": "LayoutModel",
      "_view_count": null,
      "_view_module": "@jupyter-widgets/base",
      "_view_module_version": "1.2.0",
      "_view_name": "LayoutView",
      "align_content": null,
      "align_items": null,
      "align_self": null,
      "border": null,
      "bottom": null,
      "display": null,
      "flex": null,
      "flex_flow": null,
      "grid_area": null,
      "grid_auto_columns": null,
      "grid_auto_flow": null,
      "grid_auto_rows": null,
      "grid_column": null,
      "grid_gap": null,
      "grid_row": null,
      "grid_template_areas": null,
      "grid_template_columns": null,
      "grid_template_rows": null,
      "height": null,
      "justify_content": null,
      "justify_items": null,
      "left": null,
      "margin": null,
      "max_height": null,
      "max_width": null,
      "min_height": null,
      "min_width": null,
      "object_fit": null,
      "object_position": null,
      "order": null,
      "overflow": null,
      "overflow_x": null,
      "overflow_y": null,
      "padding": null,
      "right": null,
      "top": null,
      "visibility": null,
      "width": null
     }
    },
    "314174be43134453a20a2f0cc469d214": {
     "model_module": "@jupyter-widgets/base",
     "model_module_version": "1.2.0",
     "model_name": "LayoutModel",
     "state": {
      "_model_module": "@jupyter-widgets/base",
      "_model_module_version": "1.2.0",
      "_model_name": "LayoutModel",
      "_view_count": null,
      "_view_module": "@jupyter-widgets/base",
      "_view_module_version": "1.2.0",
      "_view_name": "LayoutView",
      "align_content": null,
      "align_items": null,
      "align_self": null,
      "border": null,
      "bottom": null,
      "display": null,
      "flex": null,
      "flex_flow": null,
      "grid_area": null,
      "grid_auto_columns": null,
      "grid_auto_flow": null,
      "grid_auto_rows": null,
      "grid_column": null,
      "grid_gap": null,
      "grid_row": null,
      "grid_template_areas": null,
      "grid_template_columns": null,
      "grid_template_rows": null,
      "height": null,
      "justify_content": null,
      "justify_items": null,
      "left": null,
      "margin": null,
      "max_height": null,
      "max_width": null,
      "min_height": null,
      "min_width": null,
      "object_fit": null,
      "object_position": null,
      "order": null,
      "overflow": null,
      "overflow_x": null,
      "overflow_y": null,
      "padding": null,
      "right": null,
      "top": null,
      "visibility": null,
      "width": null
     }
    },
    "327d4b2e7c2045e39b562872b48ddbd1": {
     "model_module": "@jupyter-widgets/base",
     "model_module_version": "1.2.0",
     "model_name": "LayoutModel",
     "state": {
      "_model_module": "@jupyter-widgets/base",
      "_model_module_version": "1.2.0",
      "_model_name": "LayoutModel",
      "_view_count": null,
      "_view_module": "@jupyter-widgets/base",
      "_view_module_version": "1.2.0",
      "_view_name": "LayoutView",
      "align_content": null,
      "align_items": null,
      "align_self": null,
      "border": null,
      "bottom": null,
      "display": null,
      "flex": null,
      "flex_flow": null,
      "grid_area": null,
      "grid_auto_columns": null,
      "grid_auto_flow": null,
      "grid_auto_rows": null,
      "grid_column": null,
      "grid_gap": null,
      "grid_row": null,
      "grid_template_areas": null,
      "grid_template_columns": null,
      "grid_template_rows": null,
      "height": null,
      "justify_content": null,
      "justify_items": null,
      "left": null,
      "margin": null,
      "max_height": null,
      "max_width": null,
      "min_height": null,
      "min_width": null,
      "object_fit": null,
      "object_position": null,
      "order": null,
      "overflow": null,
      "overflow_x": null,
      "overflow_y": null,
      "padding": null,
      "right": null,
      "top": null,
      "visibility": null,
      "width": null
     }
    },
    "356c8105013b411e9918422b3a81d86d": {
     "model_module": "@jupyter-widgets/base",
     "model_module_version": "1.2.0",
     "model_name": "LayoutModel",
     "state": {
      "_model_module": "@jupyter-widgets/base",
      "_model_module_version": "1.2.0",
      "_model_name": "LayoutModel",
      "_view_count": null,
      "_view_module": "@jupyter-widgets/base",
      "_view_module_version": "1.2.0",
      "_view_name": "LayoutView",
      "align_content": null,
      "align_items": null,
      "align_self": null,
      "border": null,
      "bottom": null,
      "display": null,
      "flex": null,
      "flex_flow": null,
      "grid_area": null,
      "grid_auto_columns": null,
      "grid_auto_flow": null,
      "grid_auto_rows": null,
      "grid_column": null,
      "grid_gap": null,
      "grid_row": null,
      "grid_template_areas": null,
      "grid_template_columns": null,
      "grid_template_rows": null,
      "height": null,
      "justify_content": null,
      "justify_items": null,
      "left": null,
      "margin": null,
      "max_height": null,
      "max_width": null,
      "min_height": null,
      "min_width": null,
      "object_fit": null,
      "object_position": null,
      "order": null,
      "overflow": null,
      "overflow_x": null,
      "overflow_y": null,
      "padding": null,
      "right": null,
      "top": null,
      "visibility": null,
      "width": null
     }
    },
    "35f17ef21d9a47efb243bbf362b97c0f": {
     "model_module": "@jupyter-widgets/controls",
     "model_module_version": "1.5.0",
     "model_name": "DescriptionStyleModel",
     "state": {
      "_model_module": "@jupyter-widgets/controls",
      "_model_module_version": "1.5.0",
      "_model_name": "DescriptionStyleModel",
      "_view_count": null,
      "_view_module": "@jupyter-widgets/base",
      "_view_module_version": "1.2.0",
      "_view_name": "StyleView",
      "description_width": ""
     }
    },
    "363286a6ba084ad69ab73a34bb99e9f1": {
     "model_module": "@jupyter-widgets/controls",
     "model_module_version": "1.5.0",
     "model_name": "DescriptionStyleModel",
     "state": {
      "_model_module": "@jupyter-widgets/controls",
      "_model_module_version": "1.5.0",
      "_model_name": "DescriptionStyleModel",
      "_view_count": null,
      "_view_module": "@jupyter-widgets/base",
      "_view_module_version": "1.2.0",
      "_view_name": "StyleView",
      "description_width": ""
     }
    },
    "382e6a9e60dd4e6497d18d4954b56f02": {
     "model_module": "@jupyter-widgets/controls",
     "model_module_version": "1.5.0",
     "model_name": "FloatProgressModel",
     "state": {
      "_dom_classes": [],
      "_model_module": "@jupyter-widgets/controls",
      "_model_module_version": "1.5.0",
      "_model_name": "FloatProgressModel",
      "_view_count": null,
      "_view_module": "@jupyter-widgets/controls",
      "_view_module_version": "1.5.0",
      "_view_name": "ProgressView",
      "bar_style": "success",
      "description": "",
      "description_tooltip": null,
      "layout": "IPY_MODEL_c7885c74885643f680574efaf516dd7e",
      "max": 1,
      "min": 0,
      "orientation": "horizontal",
      "style": "IPY_MODEL_e8a5d58c3977426a8d9e1b60339882f6",
      "value": 1
     }
    },
    "3875063a45b1435a9c816c92eb81641c": {
     "model_module": "@jupyter-widgets/base",
     "model_module_version": "1.2.0",
     "model_name": "LayoutModel",
     "state": {
      "_model_module": "@jupyter-widgets/base",
      "_model_module_version": "1.2.0",
      "_model_name": "LayoutModel",
      "_view_count": null,
      "_view_module": "@jupyter-widgets/base",
      "_view_module_version": "1.2.0",
      "_view_name": "LayoutView",
      "align_content": null,
      "align_items": null,
      "align_self": null,
      "border": null,
      "bottom": null,
      "display": null,
      "flex": null,
      "flex_flow": null,
      "grid_area": null,
      "grid_auto_columns": null,
      "grid_auto_flow": null,
      "grid_auto_rows": null,
      "grid_column": null,
      "grid_gap": null,
      "grid_row": null,
      "grid_template_areas": null,
      "grid_template_columns": null,
      "grid_template_rows": null,
      "height": null,
      "justify_content": null,
      "justify_items": null,
      "left": null,
      "margin": null,
      "max_height": null,
      "max_width": null,
      "min_height": null,
      "min_width": null,
      "object_fit": null,
      "object_position": null,
      "order": null,
      "overflow": null,
      "overflow_x": null,
      "overflow_y": null,
      "padding": null,
      "right": null,
      "top": null,
      "visibility": null,
      "width": null
     }
    },
    "3aa8086ec3b743328d4496ca775606c8": {
     "model_module": "@jupyter-widgets/base",
     "model_module_version": "1.2.0",
     "model_name": "LayoutModel",
     "state": {
      "_model_module": "@jupyter-widgets/base",
      "_model_module_version": "1.2.0",
      "_model_name": "LayoutModel",
      "_view_count": null,
      "_view_module": "@jupyter-widgets/base",
      "_view_module_version": "1.2.0",
      "_view_name": "LayoutView",
      "align_content": null,
      "align_items": null,
      "align_self": null,
      "border": null,
      "bottom": null,
      "display": null,
      "flex": null,
      "flex_flow": null,
      "grid_area": null,
      "grid_auto_columns": null,
      "grid_auto_flow": null,
      "grid_auto_rows": null,
      "grid_column": null,
      "grid_gap": null,
      "grid_row": null,
      "grid_template_areas": null,
      "grid_template_columns": null,
      "grid_template_rows": null,
      "height": null,
      "justify_content": null,
      "justify_items": null,
      "left": null,
      "margin": null,
      "max_height": null,
      "max_width": null,
      "min_height": null,
      "min_width": null,
      "object_fit": null,
      "object_position": null,
      "order": null,
      "overflow": null,
      "overflow_x": null,
      "overflow_y": null,
      "padding": null,
      "right": null,
      "top": null,
      "visibility": null,
      "width": null
     }
    },
    "3c2d36780756419fb74931b786a795fb": {
     "model_module": "@jupyter-widgets/base",
     "model_module_version": "1.2.0",
     "model_name": "LayoutModel",
     "state": {
      "_model_module": "@jupyter-widgets/base",
      "_model_module_version": "1.2.0",
      "_model_name": "LayoutModel",
      "_view_count": null,
      "_view_module": "@jupyter-widgets/base",
      "_view_module_version": "1.2.0",
      "_view_name": "LayoutView",
      "align_content": null,
      "align_items": null,
      "align_self": null,
      "border": null,
      "bottom": null,
      "display": null,
      "flex": null,
      "flex_flow": null,
      "grid_area": null,
      "grid_auto_columns": null,
      "grid_auto_flow": null,
      "grid_auto_rows": null,
      "grid_column": null,
      "grid_gap": null,
      "grid_row": null,
      "grid_template_areas": null,
      "grid_template_columns": null,
      "grid_template_rows": null,
      "height": null,
      "justify_content": null,
      "justify_items": null,
      "left": null,
      "margin": null,
      "max_height": null,
      "max_width": null,
      "min_height": null,
      "min_width": null,
      "object_fit": null,
      "object_position": null,
      "order": null,
      "overflow": null,
      "overflow_x": null,
      "overflow_y": null,
      "padding": null,
      "right": null,
      "top": null,
      "visibility": null,
      "width": null
     }
    },
    "3d3ee2c8f41149bab7bef10b6b7cac9b": {
     "model_module": "@jupyter-widgets/controls",
     "model_module_version": "1.5.0",
     "model_name": "HTMLModel",
     "state": {
      "_dom_classes": [],
      "_model_module": "@jupyter-widgets/controls",
      "_model_module_version": "1.5.0",
      "_model_name": "HTMLModel",
      "_view_count": null,
      "_view_module": "@jupyter-widgets/controls",
      "_view_module_version": "1.5.0",
      "_view_name": "HTMLView",
      "description": "",
      "description_tooltip": null,
      "layout": "IPY_MODEL_23a5dfe4ad42493e9f68631138126131",
      "placeholder": "​",
      "style": "IPY_MODEL_6f2e24a81dc14de8b1f5c1c78d9c8cfb",
      "value": " 1/1 [00:00&lt;00:00, 10.34it/s]"
     }
    },
    "3fed192cb7fb444d9379c94b27f31a07": {
     "model_module": "@jupyter-widgets/base",
     "model_module_version": "1.2.0",
     "model_name": "LayoutModel",
     "state": {
      "_model_module": "@jupyter-widgets/base",
      "_model_module_version": "1.2.0",
      "_model_name": "LayoutModel",
      "_view_count": null,
      "_view_module": "@jupyter-widgets/base",
      "_view_module_version": "1.2.0",
      "_view_name": "LayoutView",
      "align_content": null,
      "align_items": null,
      "align_self": null,
      "border": null,
      "bottom": null,
      "display": null,
      "flex": null,
      "flex_flow": null,
      "grid_area": null,
      "grid_auto_columns": null,
      "grid_auto_flow": null,
      "grid_auto_rows": null,
      "grid_column": null,
      "grid_gap": null,
      "grid_row": null,
      "grid_template_areas": null,
      "grid_template_columns": null,
      "grid_template_rows": null,
      "height": null,
      "justify_content": null,
      "justify_items": null,
      "left": null,
      "margin": null,
      "max_height": null,
      "max_width": null,
      "min_height": null,
      "min_width": null,
      "object_fit": null,
      "object_position": null,
      "order": null,
      "overflow": null,
      "overflow_x": null,
      "overflow_y": null,
      "padding": null,
      "right": null,
      "top": null,
      "visibility": null,
      "width": null
     }
    },
    "401712da3a8c4718ba8d192cdd02263c": {
     "model_module": "@jupyter-widgets/controls",
     "model_module_version": "1.5.0",
     "model_name": "FloatProgressModel",
     "state": {
      "_dom_classes": [],
      "_model_module": "@jupyter-widgets/controls",
      "_model_module_version": "1.5.0",
      "_model_name": "FloatProgressModel",
      "_view_count": null,
      "_view_module": "@jupyter-widgets/controls",
      "_view_module_version": "1.5.0",
      "_view_name": "ProgressView",
      "bar_style": "success",
      "description": "",
      "description_tooltip": null,
      "layout": "IPY_MODEL_314174be43134453a20a2f0cc469d214",
      "max": 1064,
      "min": 0,
      "orientation": "horizontal",
      "style": "IPY_MODEL_55c2a78e92bb4de7b36dc9cce1c56fc6",
      "value": 1064
     }
    },
    "4190ceaa566d4c4dbc72bf5a6c338f0b": {
     "model_module": "@jupyter-widgets/controls",
     "model_module_version": "1.5.0",
     "model_name": "HBoxModel",
     "state": {
      "_dom_classes": [],
      "_model_module": "@jupyter-widgets/controls",
      "_model_module_version": "1.5.0",
      "_model_name": "HBoxModel",
      "_view_count": null,
      "_view_module": "@jupyter-widgets/controls",
      "_view_module_version": "1.5.0",
      "_view_name": "HBoxView",
      "box_style": "",
      "children": [
       "IPY_MODEL_96c1578436bf4252988d7c5cab12369c",
       "IPY_MODEL_4c2a4969095d42b1888ecb9392346303",
       "IPY_MODEL_6e94648b02d04c518bf517acf401b673"
      ],
      "layout": "IPY_MODEL_5420b3ed96fe45e49b2b60d0c6e1aac4"
     }
    },
    "419c274664f047a293fe070d9b6648ae": {
     "model_module": "@jupyter-widgets/controls",
     "model_module_version": "1.5.0",
     "model_name": "DescriptionStyleModel",
     "state": {
      "_model_module": "@jupyter-widgets/controls",
      "_model_module_version": "1.5.0",
      "_model_name": "DescriptionStyleModel",
      "_view_count": null,
      "_view_module": "@jupyter-widgets/base",
      "_view_module_version": "1.2.0",
      "_view_name": "StyleView",
      "description_width": ""
     }
    },
    "4332b5496d534ca5b31731edb45e776b": {
     "model_module": "@jupyter-widgets/base",
     "model_module_version": "1.2.0",
     "model_name": "LayoutModel",
     "state": {
      "_model_module": "@jupyter-widgets/base",
      "_model_module_version": "1.2.0",
      "_model_name": "LayoutModel",
      "_view_count": null,
      "_view_module": "@jupyter-widgets/base",
      "_view_module_version": "1.2.0",
      "_view_name": "LayoutView",
      "align_content": null,
      "align_items": null,
      "align_self": null,
      "border": null,
      "bottom": null,
      "display": null,
      "flex": null,
      "flex_flow": null,
      "grid_area": null,
      "grid_auto_columns": null,
      "grid_auto_flow": null,
      "grid_auto_rows": null,
      "grid_column": null,
      "grid_gap": null,
      "grid_row": null,
      "grid_template_areas": null,
      "grid_template_columns": null,
      "grid_template_rows": null,
      "height": null,
      "justify_content": null,
      "justify_items": null,
      "left": null,
      "margin": null,
      "max_height": null,
      "max_width": null,
      "min_height": null,
      "min_width": null,
      "object_fit": null,
      "object_position": null,
      "order": null,
      "overflow": null,
      "overflow_x": null,
      "overflow_y": null,
      "padding": null,
      "right": null,
      "top": null,
      "visibility": null,
      "width": null
     }
    },
    "474318d1f0fd4f5f85404afa5fdbdcbe": {
     "model_module": "@jupyter-widgets/controls",
     "model_module_version": "1.5.0",
     "model_name": "HBoxModel",
     "state": {
      "_dom_classes": [],
      "_model_module": "@jupyter-widgets/controls",
      "_model_module_version": "1.5.0",
      "_model_name": "HBoxModel",
      "_view_count": null,
      "_view_module": "@jupyter-widgets/controls",
      "_view_module_version": "1.5.0",
      "_view_name": "HBoxView",
      "box_style": "",
      "children": [
       "IPY_MODEL_6dccd1ac0fd8411e838ddb2881093309",
       "IPY_MODEL_25dc6a95928f461aac4aa5e57bf4a46e",
       "IPY_MODEL_8ffb2527467d47b0962e8d4513608f9b"
      ],
      "layout": "IPY_MODEL_ff410a4badbd452b8e28ba15f14bc9cd"
     }
    },
    "4904f5c9fcc04b08be5c4006c28e0fde": {
     "model_module": "@jupyter-widgets/controls",
     "model_module_version": "1.5.0",
     "model_name": "HTMLModel",
     "state": {
      "_dom_classes": [],
      "_model_module": "@jupyter-widgets/controls",
      "_model_module_version": "1.5.0",
      "_model_name": "HTMLModel",
      "_view_count": null,
      "_view_module": "@jupyter-widgets/controls",
      "_view_module_version": "1.5.0",
      "_view_name": "HTMLView",
      "description": "",
      "description_tooltip": null,
      "layout": "IPY_MODEL_1866a0c389c74ab7bae1a496d27eea1b",
      "placeholder": "​",
      "style": "IPY_MODEL_13106429af87401d84c39f4b84d3e1f9",
      "value": " 5/5 [00:29&lt;00:00, 14.26s/it]"
     }
    },
    "4b939d3daca54278af6162362adabe20": {
     "model_module": "@jupyter-widgets/controls",
     "model_module_version": "1.5.0",
     "model_name": "HTMLModel",
     "state": {
      "_dom_classes": [],
      "_model_module": "@jupyter-widgets/controls",
      "_model_module_version": "1.5.0",
      "_model_name": "HTMLModel",
      "_view_count": null,
      "_view_module": "@jupyter-widgets/controls",
      "_view_module_version": "1.5.0",
      "_view_name": "HTMLView",
      "description": "",
      "description_tooltip": null,
      "layout": "IPY_MODEL_cba00e855f7845369a13c01ff0864639",
      "placeholder": "​",
      "style": "IPY_MODEL_a94752e559474191ac718b47dbc2e289",
      "value": "Downloading data files: 100%"
     }
    },
    "4c2a4969095d42b1888ecb9392346303": {
     "model_module": "@jupyter-widgets/controls",
     "model_module_version": "1.5.0",
     "model_name": "FloatProgressModel",
     "state": {
      "_dom_classes": [],
      "_model_module": "@jupyter-widgets/controls",
      "_model_module_version": "1.5.0",
      "_model_name": "FloatProgressModel",
      "_view_count": null,
      "_view_module": "@jupyter-widgets/controls",
      "_view_module_version": "1.5.0",
      "_view_name": "ProgressView",
      "bar_style": "success",
      "description": "",
      "description_tooltip": null,
      "layout": "IPY_MODEL_9fe6d11a2e324aeaa355b5eacf65243b",
      "max": 14244,
      "min": 0,
      "orientation": "horizontal",
      "style": "IPY_MODEL_d86804fed9ac4c49814f6f5115a8be6d",
      "value": 14244
     }
    },
    "4ea9d1dd064449cbae07acf65d45f308": {
     "model_module": "@jupyter-widgets/base",
     "model_module_version": "1.2.0",
     "model_name": "LayoutModel",
     "state": {
      "_model_module": "@jupyter-widgets/base",
      "_model_module_version": "1.2.0",
      "_model_name": "LayoutModel",
      "_view_count": null,
      "_view_module": "@jupyter-widgets/base",
      "_view_module_version": "1.2.0",
      "_view_name": "LayoutView",
      "align_content": null,
      "align_items": null,
      "align_self": null,
      "border": null,
      "bottom": null,
      "display": null,
      "flex": null,
      "flex_flow": null,
      "grid_area": null,
      "grid_auto_columns": null,
      "grid_auto_flow": null,
      "grid_auto_rows": null,
      "grid_column": null,
      "grid_gap": null,
      "grid_row": null,
      "grid_template_areas": null,
      "grid_template_columns": null,
      "grid_template_rows": null,
      "height": null,
      "justify_content": null,
      "justify_items": null,
      "left": null,
      "margin": null,
      "max_height": null,
      "max_width": null,
      "min_height": null,
      "min_width": null,
      "object_fit": null,
      "object_position": null,
      "order": null,
      "overflow": null,
      "overflow_x": null,
      "overflow_y": null,
      "padding": null,
      "right": null,
      "top": null,
      "visibility": null,
      "width": null
     }
    },
    "50321660e7134c49b7408d32f3d7506e": {
     "model_module": "@jupyter-widgets/base",
     "model_module_version": "1.2.0",
     "model_name": "LayoutModel",
     "state": {
      "_model_module": "@jupyter-widgets/base",
      "_model_module_version": "1.2.0",
      "_model_name": "LayoutModel",
      "_view_count": null,
      "_view_module": "@jupyter-widgets/base",
      "_view_module_version": "1.2.0",
      "_view_name": "LayoutView",
      "align_content": null,
      "align_items": null,
      "align_self": null,
      "border": null,
      "bottom": null,
      "display": null,
      "flex": null,
      "flex_flow": null,
      "grid_area": null,
      "grid_auto_columns": null,
      "grid_auto_flow": null,
      "grid_auto_rows": null,
      "grid_column": null,
      "grid_gap": null,
      "grid_row": null,
      "grid_template_areas": null,
      "grid_template_columns": null,
      "grid_template_rows": null,
      "height": null,
      "justify_content": null,
      "justify_items": null,
      "left": null,
      "margin": null,
      "max_height": null,
      "max_width": null,
      "min_height": null,
      "min_width": null,
      "object_fit": null,
      "object_position": null,
      "order": null,
      "overflow": null,
      "overflow_x": null,
      "overflow_y": null,
      "padding": null,
      "right": null,
      "top": null,
      "visibility": null,
      "width": null
     }
    },
    "521b6fc87c6048fb81593bf817626c0f": {
     "model_module": "@jupyter-widgets/controls",
     "model_module_version": "1.5.0",
     "model_name": "HTMLModel",
     "state": {
      "_dom_classes": [],
      "_model_module": "@jupyter-widgets/controls",
      "_model_module_version": "1.5.0",
      "_model_name": "HTMLModel",
      "_view_count": null,
      "_view_module": "@jupyter-widgets/controls",
      "_view_module_version": "1.5.0",
      "_view_name": "HTMLView",
      "description": "",
      "description_tooltip": null,
      "layout": "IPY_MODEL_b15681e6dc8a4094b763d2101a56d405",
      "placeholder": "​",
      "style": "IPY_MODEL_419c274664f047a293fe070d9b6648ae",
      "value": " 1/1 [00:00&lt;00:00, 13.24it/s]"
     }
    },
    "53c59531fad74d88a8a48ecec47b857e": {
     "model_module": "@jupyter-widgets/base",
     "model_module_version": "1.2.0",
     "model_name": "LayoutModel",
     "state": {
      "_model_module": "@jupyter-widgets/base",
      "_model_module_version": "1.2.0",
      "_model_name": "LayoutModel",
      "_view_count": null,
      "_view_module": "@jupyter-widgets/base",
      "_view_module_version": "1.2.0",
      "_view_name": "LayoutView",
      "align_content": null,
      "align_items": null,
      "align_self": null,
      "border": null,
      "bottom": null,
      "display": null,
      "flex": null,
      "flex_flow": null,
      "grid_area": null,
      "grid_auto_columns": null,
      "grid_auto_flow": null,
      "grid_auto_rows": null,
      "grid_column": null,
      "grid_gap": null,
      "grid_row": null,
      "grid_template_areas": null,
      "grid_template_columns": null,
      "grid_template_rows": null,
      "height": null,
      "justify_content": null,
      "justify_items": null,
      "left": null,
      "margin": null,
      "max_height": null,
      "max_width": null,
      "min_height": null,
      "min_width": null,
      "object_fit": null,
      "object_position": null,
      "order": null,
      "overflow": null,
      "overflow_x": null,
      "overflow_y": null,
      "padding": null,
      "right": null,
      "top": null,
      "visibility": null,
      "width": null
     }
    },
    "5420b3ed96fe45e49b2b60d0c6e1aac4": {
     "model_module": "@jupyter-widgets/base",
     "model_module_version": "1.2.0",
     "model_name": "LayoutModel",
     "state": {
      "_model_module": "@jupyter-widgets/base",
      "_model_module_version": "1.2.0",
      "_model_name": "LayoutModel",
      "_view_count": null,
      "_view_module": "@jupyter-widgets/base",
      "_view_module_version": "1.2.0",
      "_view_name": "LayoutView",
      "align_content": null,
      "align_items": null,
      "align_self": null,
      "border": null,
      "bottom": null,
      "display": null,
      "flex": null,
      "flex_flow": null,
      "grid_area": null,
      "grid_auto_columns": null,
      "grid_auto_flow": null,
      "grid_auto_rows": null,
      "grid_column": null,
      "grid_gap": null,
      "grid_row": null,
      "grid_template_areas": null,
      "grid_template_columns": null,
      "grid_template_rows": null,
      "height": null,
      "justify_content": null,
      "justify_items": null,
      "left": null,
      "margin": null,
      "max_height": null,
      "max_width": null,
      "min_height": null,
      "min_width": null,
      "object_fit": null,
      "object_position": null,
      "order": null,
      "overflow": null,
      "overflow_x": null,
      "overflow_y": null,
      "padding": null,
      "right": null,
      "top": null,
      "visibility": null,
      "width": null
     }
    },
    "5528bc9186aa426abf3c420d758fed46": {
     "model_module": "@jupyter-widgets/controls",
     "model_module_version": "1.5.0",
     "model_name": "DescriptionStyleModel",
     "state": {
      "_model_module": "@jupyter-widgets/controls",
      "_model_module_version": "1.5.0",
      "_model_name": "DescriptionStyleModel",
      "_view_count": null,
      "_view_module": "@jupyter-widgets/base",
      "_view_module_version": "1.2.0",
      "_view_name": "StyleView",
      "description_width": ""
     }
    },
    "55c2a78e92bb4de7b36dc9cce1c56fc6": {
     "model_module": "@jupyter-widgets/controls",
     "model_module_version": "1.5.0",
     "model_name": "ProgressStyleModel",
     "state": {
      "_model_module": "@jupyter-widgets/controls",
      "_model_module_version": "1.5.0",
      "_model_name": "ProgressStyleModel",
      "_view_count": null,
      "_view_module": "@jupyter-widgets/base",
      "_view_module_version": "1.2.0",
      "_view_name": "StyleView",
      "bar_color": null,
      "description_width": ""
     }
    },
    "595310cda002404188a6906c5b386142": {
     "model_module": "@jupyter-widgets/controls",
     "model_module_version": "1.5.0",
     "model_name": "FloatProgressModel",
     "state": {
      "_dom_classes": [],
      "_model_module": "@jupyter-widgets/controls",
      "_model_module_version": "1.5.0",
      "_model_name": "FloatProgressModel",
      "_view_count": null,
      "_view_module": "@jupyter-widgets/controls",
      "_view_module_version": "1.5.0",
      "_view_name": "ProgressView",
      "bar_style": "success",
      "description": "",
      "description_tooltip": null,
      "layout": "IPY_MODEL_3fed192cb7fb444d9379c94b27f31a07",
      "max": 1,
      "min": 0,
      "orientation": "horizontal",
      "style": "IPY_MODEL_97efa70cb60b4cf49cb1575af9e7dc64",
      "value": 1
     }
    },
    "5d0a4f658eb54bc598067a881cfc81b3": {
     "model_module": "@jupyter-widgets/controls",
     "model_module_version": "1.5.0",
     "model_name": "HBoxModel",
     "state": {
      "_dom_classes": [],
      "_model_module": "@jupyter-widgets/controls",
      "_model_module_version": "1.5.0",
      "_model_name": "HBoxModel",
      "_view_count": null,
      "_view_module": "@jupyter-widgets/controls",
      "_view_module_version": "1.5.0",
      "_view_name": "HBoxView",
      "box_style": "",
      "children": [
       "IPY_MODEL_c39204e6e6024751b5759174180e4ede",
       "IPY_MODEL_f9496c37707a48e9b1d57ab43225ec0c",
       "IPY_MODEL_ccfb72f05bca4a498e14a0898a50b364"
      ],
      "layout": "IPY_MODEL_a6675e0df5ed463e998dbbe18f5f70b6"
     }
    },
    "61c9fab9fa754cc2b81066c9acb45fc3": {
     "model_module": "@jupyter-widgets/controls",
     "model_module_version": "1.5.0",
     "model_name": "DescriptionStyleModel",
     "state": {
      "_model_module": "@jupyter-widgets/controls",
      "_model_module_version": "1.5.0",
      "_model_name": "DescriptionStyleModel",
      "_view_count": null,
      "_view_module": "@jupyter-widgets/base",
      "_view_module_version": "1.2.0",
      "_view_name": "StyleView",
      "description_width": ""
     }
    },
    "65fd1f7c4a3244f0a15baf8a3cc1cb39": {
     "model_module": "@jupyter-widgets/controls",
     "model_module_version": "1.5.0",
     "model_name": "DescriptionStyleModel",
     "state": {
      "_model_module": "@jupyter-widgets/controls",
      "_model_module_version": "1.5.0",
      "_model_name": "DescriptionStyleModel",
      "_view_count": null,
      "_view_module": "@jupyter-widgets/base",
      "_view_module_version": "1.2.0",
      "_view_name": "StyleView",
      "description_width": ""
     }
    },
    "67e4a5e724b5432aa343130a3f744cb5": {
     "model_module": "@jupyter-widgets/controls",
     "model_module_version": "1.5.0",
     "model_name": "HTMLModel",
     "state": {
      "_dom_classes": [],
      "_model_module": "@jupyter-widgets/controls",
      "_model_module_version": "1.5.0",
      "_model_name": "HTMLModel",
      "_view_count": null,
      "_view_module": "@jupyter-widgets/controls",
      "_view_module_version": "1.5.0",
      "_view_name": "HTMLView",
      "description": "",
      "description_tooltip": null,
      "layout": "IPY_MODEL_27755441c147478bb8b7bbec8afbb997",
      "placeholder": "​",
      "style": "IPY_MODEL_61c9fab9fa754cc2b81066c9acb45fc3",
      "value": " 6300/6300 [00:02&lt;00:00, 2710.60 examples/s]"
     }
    },
    "6b62ccd85c6f471a9973bf65f88fc169": {
     "model_module": "@jupyter-widgets/base",
     "model_module_version": "1.2.0",
     "model_name": "LayoutModel",
     "state": {
      "_model_module": "@jupyter-widgets/base",
      "_model_module_version": "1.2.0",
      "_model_name": "LayoutModel",
      "_view_count": null,
      "_view_module": "@jupyter-widgets/base",
      "_view_module_version": "1.2.0",
      "_view_name": "LayoutView",
      "align_content": null,
      "align_items": null,
      "align_self": null,
      "border": null,
      "bottom": null,
      "display": null,
      "flex": null,
      "flex_flow": null,
      "grid_area": null,
      "grid_auto_columns": null,
      "grid_auto_flow": null,
      "grid_auto_rows": null,
      "grid_column": null,
      "grid_gap": null,
      "grid_row": null,
      "grid_template_areas": null,
      "grid_template_columns": null,
      "grid_template_rows": null,
      "height": null,
      "justify_content": null,
      "justify_items": null,
      "left": null,
      "margin": null,
      "max_height": null,
      "max_width": null,
      "min_height": null,
      "min_width": null,
      "object_fit": null,
      "object_position": null,
      "order": null,
      "overflow": null,
      "overflow_x": null,
      "overflow_y": null,
      "padding": null,
      "right": null,
      "top": null,
      "visibility": null,
      "width": null
     }
    },
    "6dccd1ac0fd8411e838ddb2881093309": {
     "model_module": "@jupyter-widgets/controls",
     "model_module_version": "1.5.0",
     "model_name": "HTMLModel",
     "state": {
      "_dom_classes": [],
      "_model_module": "@jupyter-widgets/controls",
      "_model_module_version": "1.5.0",
      "_model_name": "HTMLModel",
      "_view_count": null,
      "_view_module": "@jupyter-widgets/controls",
      "_view_module_version": "1.5.0",
      "_view_name": "HTMLView",
      "description": "",
      "description_tooltip": null,
      "layout": "IPY_MODEL_cafce4ff64c94675a189f60cb6a92ce5",
      "placeholder": "​",
      "style": "IPY_MODEL_0feed7e37dec44a79acdd6840a332537",
      "value": "optimizer.pt: 100%"
     }
    },
    "6de10157787e4dc8ae6c2885d50a26bc": {
     "model_module": "@jupyter-widgets/base",
     "model_module_version": "1.2.0",
     "model_name": "LayoutModel",
     "state": {
      "_model_module": "@jupyter-widgets/base",
      "_model_module_version": "1.2.0",
      "_model_name": "LayoutModel",
      "_view_count": null,
      "_view_module": "@jupyter-widgets/base",
      "_view_module_version": "1.2.0",
      "_view_name": "LayoutView",
      "align_content": null,
      "align_items": null,
      "align_self": null,
      "border": null,
      "bottom": null,
      "display": null,
      "flex": null,
      "flex_flow": null,
      "grid_area": null,
      "grid_auto_columns": null,
      "grid_auto_flow": null,
      "grid_auto_rows": null,
      "grid_column": null,
      "grid_gap": null,
      "grid_row": null,
      "grid_template_areas": null,
      "grid_template_columns": null,
      "grid_template_rows": null,
      "height": null,
      "justify_content": null,
      "justify_items": null,
      "left": null,
      "margin": null,
      "max_height": null,
      "max_width": null,
      "min_height": null,
      "min_width": null,
      "object_fit": null,
      "object_position": null,
      "order": null,
      "overflow": null,
      "overflow_x": null,
      "overflow_y": null,
      "padding": null,
      "right": null,
      "top": null,
      "visibility": null,
      "width": null
     }
    },
    "6e94648b02d04c518bf517acf401b673": {
     "model_module": "@jupyter-widgets/controls",
     "model_module_version": "1.5.0",
     "model_name": "HTMLModel",
     "state": {
      "_dom_classes": [],
      "_model_module": "@jupyter-widgets/controls",
      "_model_module_version": "1.5.0",
      "_model_name": "HTMLModel",
      "_view_count": null,
      "_view_module": "@jupyter-widgets/controls",
      "_view_module_version": "1.5.0",
      "_view_name": "HTMLView",
      "description": "",
      "description_tooltip": null,
      "layout": "IPY_MODEL_50321660e7134c49b7408d32f3d7506e",
      "placeholder": "​",
      "style": "IPY_MODEL_f5b5e8d5bdbd4e4faf108657207a1073",
      "value": " 14.2k/14.2k [00:01&lt;00:00, 17.8kB/s]"
     }
    },
    "6f2e24a81dc14de8b1f5c1c78d9c8cfb": {
     "model_module": "@jupyter-widgets/controls",
     "model_module_version": "1.5.0",
     "model_name": "DescriptionStyleModel",
     "state": {
      "_model_module": "@jupyter-widgets/controls",
      "_model_module_version": "1.5.0",
      "_model_name": "DescriptionStyleModel",
      "_view_count": null,
      "_view_module": "@jupyter-widgets/base",
      "_view_module_version": "1.2.0",
      "_view_name": "StyleView",
      "description_width": ""
     }
    },
    "6f544982973f45609df622bd5bd9f508": {
     "model_module": "@jupyter-widgets/controls",
     "model_module_version": "1.5.0",
     "model_name": "DescriptionStyleModel",
     "state": {
      "_model_module": "@jupyter-widgets/controls",
      "_model_module_version": "1.5.0",
      "_model_name": "DescriptionStyleModel",
      "_view_count": null,
      "_view_module": "@jupyter-widgets/base",
      "_view_module_version": "1.2.0",
      "_view_name": "StyleView",
      "description_width": ""
     }
    },
    "7127e9c34a844ff5b82549acfe40fd9b": {
     "model_module": "@jupyter-widgets/controls",
     "model_module_version": "1.5.0",
     "model_name": "ProgressStyleModel",
     "state": {
      "_model_module": "@jupyter-widgets/controls",
      "_model_module_version": "1.5.0",
      "_model_name": "ProgressStyleModel",
      "_view_count": null,
      "_view_module": "@jupyter-widgets/base",
      "_view_module_version": "1.2.0",
      "_view_name": "StyleView",
      "bar_color": null,
      "description_width": ""
     }
    },
    "728835c7e9424ba4b9b24a5a8c576e8b": {
     "model_module": "@jupyter-widgets/controls",
     "model_module_version": "1.5.0",
     "model_name": "ProgressStyleModel",
     "state": {
      "_model_module": "@jupyter-widgets/controls",
      "_model_module_version": "1.5.0",
      "_model_name": "ProgressStyleModel",
      "_view_count": null,
      "_view_module": "@jupyter-widgets/base",
      "_view_module_version": "1.2.0",
      "_view_name": "StyleView",
      "bar_color": null,
      "description_width": ""
     }
    },
    "77abd9da1e304856bbca674efda70485": {
     "model_module": "@jupyter-widgets/controls",
     "model_module_version": "1.5.0",
     "model_name": "FloatProgressModel",
     "state": {
      "_dom_classes": [],
      "_model_module": "@jupyter-widgets/controls",
      "_model_module_version": "1.5.0",
      "_model_name": "FloatProgressModel",
      "_view_count": null,
      "_view_module": "@jupyter-widgets/controls",
      "_view_module_version": "1.5.0",
      "_view_name": "ProgressView",
      "bar_style": "success",
      "description": "",
      "description_tooltip": null,
      "layout": "IPY_MODEL_3c2d36780756419fb74931b786a795fb",
      "max": 5,
      "min": 0,
      "orientation": "horizontal",
      "style": "IPY_MODEL_f3e1fbf4ec0e4cb8a8432d7593d101b3",
      "value": 5
     }
    },
    "7bc126c9b1e342a498ab3ec5425fec52": {
     "model_module": "@jupyter-widgets/controls",
     "model_module_version": "1.5.0",
     "model_name": "DescriptionStyleModel",
     "state": {
      "_model_module": "@jupyter-widgets/controls",
      "_model_module_version": "1.5.0",
      "_model_name": "DescriptionStyleModel",
      "_view_count": null,
      "_view_module": "@jupyter-widgets/base",
      "_view_module_version": "1.2.0",
      "_view_name": "StyleView",
      "description_width": ""
     }
    },
    "806fafe26d72499094205adea032009b": {
     "model_module": "@jupyter-widgets/base",
     "model_module_version": "1.2.0",
     "model_name": "LayoutModel",
     "state": {
      "_model_module": "@jupyter-widgets/base",
      "_model_module_version": "1.2.0",
      "_model_name": "LayoutModel",
      "_view_count": null,
      "_view_module": "@jupyter-widgets/base",
      "_view_module_version": "1.2.0",
      "_view_name": "LayoutView",
      "align_content": null,
      "align_items": null,
      "align_self": null,
      "border": null,
      "bottom": null,
      "display": null,
      "flex": null,
      "flex_flow": null,
      "grid_area": null,
      "grid_auto_columns": null,
      "grid_auto_flow": null,
      "grid_auto_rows": null,
      "grid_column": null,
      "grid_gap": null,
      "grid_row": null,
      "grid_template_areas": null,
      "grid_template_columns": null,
      "grid_template_rows": null,
      "height": null,
      "justify_content": null,
      "justify_items": null,
      "left": null,
      "margin": null,
      "max_height": null,
      "max_width": null,
      "min_height": null,
      "min_width": null,
      "object_fit": null,
      "object_position": null,
      "order": null,
      "overflow": null,
      "overflow_x": null,
      "overflow_y": null,
      "padding": null,
      "right": null,
      "top": null,
      "visibility": null,
      "width": null
     }
    },
    "80f5b9d5bfc244f2bb7f5b7c00a8e0e2": {
     "model_module": "@jupyter-widgets/controls",
     "model_module_version": "1.5.0",
     "model_name": "DescriptionStyleModel",
     "state": {
      "_model_module": "@jupyter-widgets/controls",
      "_model_module_version": "1.5.0",
      "_model_name": "DescriptionStyleModel",
      "_view_count": null,
      "_view_module": "@jupyter-widgets/base",
      "_view_module_version": "1.2.0",
      "_view_name": "StyleView",
      "description_width": ""
     }
    },
    "86cd411c05e945549b63db6b4ea5e1b0": {
     "model_module": "@jupyter-widgets/controls",
     "model_module_version": "1.5.0",
     "model_name": "HBoxModel",
     "state": {
      "_dom_classes": [],
      "_model_module": "@jupyter-widgets/controls",
      "_model_module_version": "1.5.0",
      "_model_name": "HBoxModel",
      "_view_count": null,
      "_view_module": "@jupyter-widgets/controls",
      "_view_module_version": "1.5.0",
      "_view_name": "HBoxView",
      "box_style": "",
      "children": [
       "IPY_MODEL_95909adcc700424d9e20f9647693a101",
       "IPY_MODEL_382e6a9e60dd4e6497d18d4954b56f02",
       "IPY_MODEL_e83c111d034f4c0ca0b64816177b67d3"
      ],
      "layout": "IPY_MODEL_e5f1da7e73d5415d9ff2239da8204b60"
     }
    },
    "880b67b27c9349fb876f74530b96f444": {
     "model_module": "@jupyter-widgets/base",
     "model_module_version": "1.2.0",
     "model_name": "LayoutModel",
     "state": {
      "_model_module": "@jupyter-widgets/base",
      "_model_module_version": "1.2.0",
      "_model_name": "LayoutModel",
      "_view_count": null,
      "_view_module": "@jupyter-widgets/base",
      "_view_module_version": "1.2.0",
      "_view_name": "LayoutView",
      "align_content": null,
      "align_items": null,
      "align_self": null,
      "border": null,
      "bottom": null,
      "display": null,
      "flex": null,
      "flex_flow": null,
      "grid_area": null,
      "grid_auto_columns": null,
      "grid_auto_flow": null,
      "grid_auto_rows": null,
      "grid_column": null,
      "grid_gap": null,
      "grid_row": null,
      "grid_template_areas": null,
      "grid_template_columns": null,
      "grid_template_rows": null,
      "height": null,
      "justify_content": null,
      "justify_items": null,
      "left": null,
      "margin": null,
      "max_height": null,
      "max_width": null,
      "min_height": null,
      "min_width": null,
      "object_fit": null,
      "object_position": null,
      "order": null,
      "overflow": null,
      "overflow_x": null,
      "overflow_y": null,
      "padding": null,
      "right": null,
      "top": null,
      "visibility": null,
      "width": null
     }
    },
    "8bd13fee10f24afdbd72ff91be4c3cbf": {
     "model_module": "@jupyter-widgets/controls",
     "model_module_version": "1.5.0",
     "model_name": "ProgressStyleModel",
     "state": {
      "_model_module": "@jupyter-widgets/controls",
      "_model_module_version": "1.5.0",
      "_model_name": "ProgressStyleModel",
      "_view_count": null,
      "_view_module": "@jupyter-widgets/base",
      "_view_module_version": "1.2.0",
      "_view_name": "StyleView",
      "bar_color": null,
      "description_width": ""
     }
    },
    "8c12b93e65da410ca3ea35604cc010c5": {
     "model_module": "@jupyter-widgets/controls",
     "model_module_version": "1.5.0",
     "model_name": "HTMLModel",
     "state": {
      "_dom_classes": [],
      "_model_module": "@jupyter-widgets/controls",
      "_model_module_version": "1.5.0",
      "_model_name": "HTMLModel",
      "_view_count": null,
      "_view_module": "@jupyter-widgets/controls",
      "_view_module_version": "1.5.0",
      "_view_name": "HTMLView",
      "description": "",
      "description_tooltip": null,
      "layout": "IPY_MODEL_3875063a45b1435a9c816c92eb81641c",
      "placeholder": "​",
      "style": "IPY_MODEL_80f5b9d5bfc244f2bb7f5b7c00a8e0e2",
      "value": "Extracting data files: 100%"
     }
    },
    "8e62a5f3fba44c2ab06aaa9379b5ec56": {
     "model_module": "@jupyter-widgets/base",
     "model_module_version": "1.2.0",
     "model_name": "LayoutModel",
     "state": {
      "_model_module": "@jupyter-widgets/base",
      "_model_module_version": "1.2.0",
      "_model_name": "LayoutModel",
      "_view_count": null,
      "_view_module": "@jupyter-widgets/base",
      "_view_module_version": "1.2.0",
      "_view_name": "LayoutView",
      "align_content": null,
      "align_items": null,
      "align_self": null,
      "border": null,
      "bottom": null,
      "display": null,
      "flex": null,
      "flex_flow": null,
      "grid_area": null,
      "grid_auto_columns": null,
      "grid_auto_flow": null,
      "grid_auto_rows": null,
      "grid_column": null,
      "grid_gap": null,
      "grid_row": null,
      "grid_template_areas": null,
      "grid_template_columns": null,
      "grid_template_rows": null,
      "height": null,
      "justify_content": null,
      "justify_items": null,
      "left": null,
      "margin": null,
      "max_height": null,
      "max_width": null,
      "min_height": null,
      "min_width": null,
      "object_fit": null,
      "object_position": null,
      "order": null,
      "overflow": null,
      "overflow_x": null,
      "overflow_y": null,
      "padding": null,
      "right": null,
      "top": null,
      "visibility": null,
      "width": null
     }
    },
    "8ffb2527467d47b0962e8d4513608f9b": {
     "model_module": "@jupyter-widgets/controls",
     "model_module_version": "1.5.0",
     "model_name": "HTMLModel",
     "state": {
      "_dom_classes": [],
      "_model_module": "@jupyter-widgets/controls",
      "_model_module_version": "1.5.0",
      "_model_name": "HTMLModel",
      "_view_count": null,
      "_view_module": "@jupyter-widgets/controls",
      "_view_module_version": "1.5.0",
      "_view_name": "HTMLView",
      "description": "",
      "description_tooltip": null,
      "layout": "IPY_MODEL_6b62ccd85c6f471a9973bf65f88fc169",
      "placeholder": "​",
      "style": "IPY_MODEL_7bc126c9b1e342a498ab3ec5425fec52",
      "value": " 885M/885M [00:29&lt;00:00, 32.5MB/s]"
     }
    },
    "9535c8c9b022434bacbe2412fb105d7b": {
     "model_module": "@jupyter-widgets/controls",
     "model_module_version": "1.5.0",
     "model_name": "DescriptionStyleModel",
     "state": {
      "_model_module": "@jupyter-widgets/controls",
      "_model_module_version": "1.5.0",
      "_model_name": "DescriptionStyleModel",
      "_view_count": null,
      "_view_module": "@jupyter-widgets/base",
      "_view_module_version": "1.2.0",
      "_view_name": "StyleView",
      "description_width": ""
     }
    },
    "95909adcc700424d9e20f9647693a101": {
     "model_module": "@jupyter-widgets/controls",
     "model_module_version": "1.5.0",
     "model_name": "HTMLModel",
     "state": {
      "_dom_classes": [],
      "_model_module": "@jupyter-widgets/controls",
      "_model_module_version": "1.5.0",
      "_model_name": "HTMLModel",
      "_view_count": null,
      "_view_module": "@jupyter-widgets/controls",
      "_view_module_version": "1.5.0",
      "_view_name": "HTMLView",
      "description": "",
      "description_tooltip": null,
      "layout": "IPY_MODEL_fa69511bacba4bcfb210c8b7cc60a94d",
      "placeholder": "​",
      "style": "IPY_MODEL_a9633c324da4475fade8b2b41ebd89fb",
      "value": "Generating train split: "
     }
    },
    "96c1578436bf4252988d7c5cab12369c": {
     "model_module": "@jupyter-widgets/controls",
     "model_module_version": "1.5.0",
     "model_name": "HTMLModel",
     "state": {
      "_dom_classes": [],
      "_model_module": "@jupyter-widgets/controls",
      "_model_module_version": "1.5.0",
      "_model_name": "HTMLModel",
      "_view_count": null,
      "_view_module": "@jupyter-widgets/controls",
      "_view_module_version": "1.5.0",
      "_view_name": "HTMLView",
      "description": "",
      "description_tooltip": null,
      "layout": "IPY_MODEL_e38dd57f33f04df79ecce2d2db340b9c",
      "placeholder": "​",
      "style": "IPY_MODEL_363286a6ba084ad69ab73a34bb99e9f1",
      "value": "rng_state.pth: 100%"
     }
    },
    "972f6b12f08f4d85a2f82176625ebe91": {
     "model_module": "@jupyter-widgets/base",
     "model_module_version": "1.2.0",
     "model_name": "LayoutModel",
     "state": {
      "_model_module": "@jupyter-widgets/base",
      "_model_module_version": "1.2.0",
      "_model_name": "LayoutModel",
      "_view_count": null,
      "_view_module": "@jupyter-widgets/base",
      "_view_module_version": "1.2.0",
      "_view_name": "LayoutView",
      "align_content": null,
      "align_items": null,
      "align_self": null,
      "border": null,
      "bottom": null,
      "display": null,
      "flex": null,
      "flex_flow": null,
      "grid_area": null,
      "grid_auto_columns": null,
      "grid_auto_flow": null,
      "grid_auto_rows": null,
      "grid_column": null,
      "grid_gap": null,
      "grid_row": null,
      "grid_template_areas": null,
      "grid_template_columns": null,
      "grid_template_rows": null,
      "height": null,
      "justify_content": null,
      "justify_items": null,
      "left": null,
      "margin": null,
      "max_height": null,
      "max_width": null,
      "min_height": null,
      "min_width": null,
      "object_fit": null,
      "object_position": null,
      "order": null,
      "overflow": null,
      "overflow_x": null,
      "overflow_y": null,
      "padding": null,
      "right": null,
      "top": null,
      "visibility": null,
      "width": null
     }
    },
    "97770fb2c4524ddaa2c9aaa3a20f9851": {
     "model_module": "@jupyter-widgets/controls",
     "model_module_version": "1.5.0",
     "model_name": "HTMLModel",
     "state": {
      "_dom_classes": [],
      "_model_module": "@jupyter-widgets/controls",
      "_model_module_version": "1.5.0",
      "_model_name": "HTMLModel",
      "_view_count": null,
      "_view_module": "@jupyter-widgets/controls",
      "_view_module_version": "1.5.0",
      "_view_name": "HTMLView",
      "description": "",
      "description_tooltip": null,
      "layout": "IPY_MODEL_8e62a5f3fba44c2ab06aaa9379b5ec56",
      "placeholder": "​",
      "style": "IPY_MODEL_6f544982973f45609df622bd5bd9f508",
      "value": " 1.06k/1.06k [00:01&lt;00:00, 1.39kB/s]"
     }
    },
    "97efa70cb60b4cf49cb1575af9e7dc64": {
     "model_module": "@jupyter-widgets/controls",
     "model_module_version": "1.5.0",
     "model_name": "ProgressStyleModel",
     "state": {
      "_model_module": "@jupyter-widgets/controls",
      "_model_module_version": "1.5.0",
      "_model_name": "ProgressStyleModel",
      "_view_count": null,
      "_view_module": "@jupyter-widgets/base",
      "_view_module_version": "1.2.0",
      "_view_name": "StyleView",
      "bar_color": null,
      "description_width": ""
     }
    },
    "9b612bd1ec444c9bb1af326ff0b349d9": {
     "model_module": "@jupyter-widgets/controls",
     "model_module_version": "1.5.0",
     "model_name": "FloatProgressModel",
     "state": {
      "_dom_classes": [],
      "_model_module": "@jupyter-widgets/controls",
      "_model_module_version": "1.5.0",
      "_model_name": "FloatProgressModel",
      "_view_count": null,
      "_view_module": "@jupyter-widgets/controls",
      "_view_module_version": "1.5.0",
      "_view_name": "ProgressView",
      "bar_style": "success",
      "description": "",
      "description_tooltip": null,
      "layout": "IPY_MODEL_00f1f7f90b2b4db2a13064ea39d7bca4",
      "max": 6300,
      "min": 0,
      "orientation": "horizontal",
      "style": "IPY_MODEL_728835c7e9424ba4b9b24a5a8c576e8b",
      "value": 6300
     }
    },
    "9dfb5362184b48b990b51681d8f43d49": {
     "model_module": "@jupyter-widgets/base",
     "model_module_version": "1.2.0",
     "model_name": "LayoutModel",
     "state": {
      "_model_module": "@jupyter-widgets/base",
      "_model_module_version": "1.2.0",
      "_model_name": "LayoutModel",
      "_view_count": null,
      "_view_module": "@jupyter-widgets/base",
      "_view_module_version": "1.2.0",
      "_view_name": "LayoutView",
      "align_content": null,
      "align_items": null,
      "align_self": null,
      "border": null,
      "bottom": null,
      "display": null,
      "flex": null,
      "flex_flow": null,
      "grid_area": null,
      "grid_auto_columns": null,
      "grid_auto_flow": null,
      "grid_auto_rows": null,
      "grid_column": null,
      "grid_gap": null,
      "grid_row": null,
      "grid_template_areas": null,
      "grid_template_columns": null,
      "grid_template_rows": null,
      "height": null,
      "justify_content": null,
      "justify_items": null,
      "left": null,
      "margin": null,
      "max_height": null,
      "max_width": null,
      "min_height": null,
      "min_width": null,
      "object_fit": null,
      "object_position": null,
      "order": null,
      "overflow": null,
      "overflow_x": null,
      "overflow_y": null,
      "padding": null,
      "right": null,
      "top": null,
      "visibility": null,
      "width": null
     }
    },
    "9fe6d11a2e324aeaa355b5eacf65243b": {
     "model_module": "@jupyter-widgets/base",
     "model_module_version": "1.2.0",
     "model_name": "LayoutModel",
     "state": {
      "_model_module": "@jupyter-widgets/base",
      "_model_module_version": "1.2.0",
      "_model_name": "LayoutModel",
      "_view_count": null,
      "_view_module": "@jupyter-widgets/base",
      "_view_module_version": "1.2.0",
      "_view_name": "LayoutView",
      "align_content": null,
      "align_items": null,
      "align_self": null,
      "border": null,
      "bottom": null,
      "display": null,
      "flex": null,
      "flex_flow": null,
      "grid_area": null,
      "grid_auto_columns": null,
      "grid_auto_flow": null,
      "grid_auto_rows": null,
      "grid_column": null,
      "grid_gap": null,
      "grid_row": null,
      "grid_template_areas": null,
      "grid_template_columns": null,
      "grid_template_rows": null,
      "height": null,
      "justify_content": null,
      "justify_items": null,
      "left": null,
      "margin": null,
      "max_height": null,
      "max_width": null,
      "min_height": null,
      "min_width": null,
      "object_fit": null,
      "object_position": null,
      "order": null,
      "overflow": null,
      "overflow_x": null,
      "overflow_y": null,
      "padding": null,
      "right": null,
      "top": null,
      "visibility": null,
      "width": null
     }
    },
    "a32dd10f223a41ddbf5898be08d4cd84": {
     "model_module": "@jupyter-widgets/base",
     "model_module_version": "1.2.0",
     "model_name": "LayoutModel",
     "state": {
      "_model_module": "@jupyter-widgets/base",
      "_model_module_version": "1.2.0",
      "_model_name": "LayoutModel",
      "_view_count": null,
      "_view_module": "@jupyter-widgets/base",
      "_view_module_version": "1.2.0",
      "_view_name": "LayoutView",
      "align_content": null,
      "align_items": null,
      "align_self": null,
      "border": null,
      "bottom": null,
      "display": null,
      "flex": null,
      "flex_flow": null,
      "grid_area": null,
      "grid_auto_columns": null,
      "grid_auto_flow": null,
      "grid_auto_rows": null,
      "grid_column": null,
      "grid_gap": null,
      "grid_row": null,
      "grid_template_areas": null,
      "grid_template_columns": null,
      "grid_template_rows": null,
      "height": null,
      "justify_content": null,
      "justify_items": null,
      "left": null,
      "margin": null,
      "max_height": null,
      "max_width": null,
      "min_height": null,
      "min_width": null,
      "object_fit": null,
      "object_position": null,
      "order": null,
      "overflow": null,
      "overflow_x": null,
      "overflow_y": null,
      "padding": null,
      "right": null,
      "top": null,
      "visibility": null,
      "width": null
     }
    },
    "a50c3c2d53534441bd21085cf93ecd0b": {
     "model_module": "@jupyter-widgets/base",
     "model_module_version": "1.2.0",
     "model_name": "LayoutModel",
     "state": {
      "_model_module": "@jupyter-widgets/base",
      "_model_module_version": "1.2.0",
      "_model_name": "LayoutModel",
      "_view_count": null,
      "_view_module": "@jupyter-widgets/base",
      "_view_module_version": "1.2.0",
      "_view_name": "LayoutView",
      "align_content": null,
      "align_items": null,
      "align_self": null,
      "border": null,
      "bottom": null,
      "display": null,
      "flex": null,
      "flex_flow": null,
      "grid_area": null,
      "grid_auto_columns": null,
      "grid_auto_flow": null,
      "grid_auto_rows": null,
      "grid_column": null,
      "grid_gap": null,
      "grid_row": null,
      "grid_template_areas": null,
      "grid_template_columns": null,
      "grid_template_rows": null,
      "height": null,
      "justify_content": null,
      "justify_items": null,
      "left": null,
      "margin": null,
      "max_height": null,
      "max_width": null,
      "min_height": null,
      "min_width": null,
      "object_fit": null,
      "object_position": null,
      "order": null,
      "overflow": null,
      "overflow_x": null,
      "overflow_y": null,
      "padding": null,
      "right": null,
      "top": null,
      "visibility": null,
      "width": null
     }
    },
    "a6675e0df5ed463e998dbbe18f5f70b6": {
     "model_module": "@jupyter-widgets/base",
     "model_module_version": "1.2.0",
     "model_name": "LayoutModel",
     "state": {
      "_model_module": "@jupyter-widgets/base",
      "_model_module_version": "1.2.0",
      "_model_name": "LayoutModel",
      "_view_count": null,
      "_view_module": "@jupyter-widgets/base",
      "_view_module_version": "1.2.0",
      "_view_name": "LayoutView",
      "align_content": null,
      "align_items": null,
      "align_self": null,
      "border": null,
      "bottom": null,
      "display": null,
      "flex": null,
      "flex_flow": null,
      "grid_area": null,
      "grid_auto_columns": null,
      "grid_auto_flow": null,
      "grid_auto_rows": null,
      "grid_column": null,
      "grid_gap": null,
      "grid_row": null,
      "grid_template_areas": null,
      "grid_template_columns": null,
      "grid_template_rows": null,
      "height": null,
      "justify_content": null,
      "justify_items": null,
      "left": null,
      "margin": null,
      "max_height": null,
      "max_width": null,
      "min_height": null,
      "min_width": null,
      "object_fit": null,
      "object_position": null,
      "order": null,
      "overflow": null,
      "overflow_x": null,
      "overflow_y": null,
      "padding": null,
      "right": null,
      "top": null,
      "visibility": null,
      "width": null
     }
    },
    "a769a4e647ea4a54bca41985f94ae46a": {
     "model_module": "@jupyter-widgets/controls",
     "model_module_version": "1.5.0",
     "model_name": "HBoxModel",
     "state": {
      "_dom_classes": [],
      "_model_module": "@jupyter-widgets/controls",
      "_model_module_version": "1.5.0",
      "_model_name": "HBoxModel",
      "_view_count": null,
      "_view_module": "@jupyter-widgets/controls",
      "_view_module_version": "1.5.0",
      "_view_name": "HBoxView",
      "box_style": "",
      "children": [
       "IPY_MODEL_aca4610bf951462b9c2c1dca6d4f9655",
       "IPY_MODEL_401712da3a8c4718ba8d192cdd02263c",
       "IPY_MODEL_97770fb2c4524ddaa2c9aaa3a20f9851"
      ],
      "layout": "IPY_MODEL_005e454889cb484c94099432f7f47582"
     }
    },
    "a8f68d06796d4ada8a89138c7ccb8384": {
     "model_module": "@jupyter-widgets/controls",
     "model_module_version": "1.5.0",
     "model_name": "FloatProgressModel",
     "state": {
      "_dom_classes": [],
      "_model_module": "@jupyter-widgets/controls",
      "_model_module_version": "1.5.0",
      "_model_name": "FloatProgressModel",
      "_view_count": null,
      "_view_module": "@jupyter-widgets/controls",
      "_view_module_version": "1.5.0",
      "_view_name": "ProgressView",
      "bar_style": "success",
      "description": "",
      "description_tooltip": null,
      "layout": "IPY_MODEL_9dfb5362184b48b990b51681d8f43d49",
      "max": 2700,
      "min": 0,
      "orientation": "horizontal",
      "style": "IPY_MODEL_a9b33dba8e7548a29eac1f3677791ba8",
      "value": 2700
     }
    },
    "a94752e559474191ac718b47dbc2e289": {
     "model_module": "@jupyter-widgets/controls",
     "model_module_version": "1.5.0",
     "model_name": "DescriptionStyleModel",
     "state": {
      "_model_module": "@jupyter-widgets/controls",
      "_model_module_version": "1.5.0",
      "_model_name": "DescriptionStyleModel",
      "_view_count": null,
      "_view_module": "@jupyter-widgets/base",
      "_view_module_version": "1.2.0",
      "_view_name": "StyleView",
      "description_width": ""
     }
    },
    "a9633c324da4475fade8b2b41ebd89fb": {
     "model_module": "@jupyter-widgets/controls",
     "model_module_version": "1.5.0",
     "model_name": "DescriptionStyleModel",
     "state": {
      "_model_module": "@jupyter-widgets/controls",
      "_model_module_version": "1.5.0",
      "_model_name": "DescriptionStyleModel",
      "_view_count": null,
      "_view_module": "@jupyter-widgets/base",
      "_view_module_version": "1.2.0",
      "_view_name": "StyleView",
      "description_width": ""
     }
    },
    "a9b33dba8e7548a29eac1f3677791ba8": {
     "model_module": "@jupyter-widgets/controls",
     "model_module_version": "1.5.0",
     "model_name": "ProgressStyleModel",
     "state": {
      "_model_module": "@jupyter-widgets/controls",
      "_model_module_version": "1.5.0",
      "_model_name": "ProgressStyleModel",
      "_view_count": null,
      "_view_module": "@jupyter-widgets/base",
      "_view_module_version": "1.2.0",
      "_view_name": "StyleView",
      "bar_color": null,
      "description_width": ""
     }
    },
    "aca4610bf951462b9c2c1dca6d4f9655": {
     "model_module": "@jupyter-widgets/controls",
     "model_module_version": "1.5.0",
     "model_name": "HTMLModel",
     "state": {
      "_dom_classes": [],
      "_model_module": "@jupyter-widgets/controls",
      "_model_module_version": "1.5.0",
      "_model_name": "HTMLModel",
      "_view_count": null,
      "_view_module": "@jupyter-widgets/controls",
      "_view_module_version": "1.5.0",
      "_view_name": "HTMLView",
      "description": "",
      "description_tooltip": null,
      "layout": "IPY_MODEL_3aa8086ec3b743328d4496ca775606c8",
      "placeholder": "​",
      "style": "IPY_MODEL_c7ad8b49fb2d479a8b8763dd20f24c9a",
      "value": "scheduler.pt: 100%"
     }
    },
    "b02f074c80af4ed38dbf6c38cec0c00c": {
     "model_module": "@jupyter-widgets/controls",
     "model_module_version": "1.5.0",
     "model_name": "HTMLModel",
     "state": {
      "_dom_classes": [],
      "_model_module": "@jupyter-widgets/controls",
      "_model_module_version": "1.5.0",
      "_model_name": "HTMLModel",
      "_view_count": null,
      "_view_module": "@jupyter-widgets/controls",
      "_view_module_version": "1.5.0",
      "_view_name": "HTMLView",
      "description": "",
      "description_tooltip": null,
      "layout": "IPY_MODEL_4ea9d1dd064449cbae07acf65d45f308",
      "placeholder": "​",
      "style": "IPY_MODEL_5528bc9186aa426abf3c420d758fed46",
      "value": "Map: 100%"
     }
    },
    "b15681e6dc8a4094b763d2101a56d405": {
     "model_module": "@jupyter-widgets/base",
     "model_module_version": "1.2.0",
     "model_name": "LayoutModel",
     "state": {
      "_model_module": "@jupyter-widgets/base",
      "_model_module_version": "1.2.0",
      "_model_name": "LayoutModel",
      "_view_count": null,
      "_view_module": "@jupyter-widgets/base",
      "_view_module_version": "1.2.0",
      "_view_name": "LayoutView",
      "align_content": null,
      "align_items": null,
      "align_self": null,
      "border": null,
      "bottom": null,
      "display": null,
      "flex": null,
      "flex_flow": null,
      "grid_area": null,
      "grid_auto_columns": null,
      "grid_auto_flow": null,
      "grid_auto_rows": null,
      "grid_column": null,
      "grid_gap": null,
      "grid_row": null,
      "grid_template_areas": null,
      "grid_template_columns": null,
      "grid_template_rows": null,
      "height": null,
      "justify_content": null,
      "justify_items": null,
      "left": null,
      "margin": null,
      "max_height": null,
      "max_width": null,
      "min_height": null,
      "min_width": null,
      "object_fit": null,
      "object_position": null,
      "order": null,
      "overflow": null,
      "overflow_x": null,
      "overflow_y": null,
      "padding": null,
      "right": null,
      "top": null,
      "visibility": null,
      "width": null
     }
    },
    "c39204e6e6024751b5759174180e4ede": {
     "model_module": "@jupyter-widgets/controls",
     "model_module_version": "1.5.0",
     "model_name": "HTMLModel",
     "state": {
      "_dom_classes": [],
      "_model_module": "@jupyter-widgets/controls",
      "_model_module_version": "1.5.0",
      "_model_name": "HTMLModel",
      "_view_count": null,
      "_view_module": "@jupyter-widgets/controls",
      "_view_module_version": "1.5.0",
      "_view_name": "HTMLView",
      "description": "",
      "description_tooltip": null,
      "layout": "IPY_MODEL_0db3e61b9c2149c1b1e7996c59674169",
      "placeholder": "​",
      "style": "IPY_MODEL_00590fb6dbf840e29fc12759f93b3ecc",
      "value": "training_args.bin: 100%"
     }
    },
    "c4bfee404f3b4274bf09518eff35692d": {
     "model_module": "@jupyter-widgets/controls",
     "model_module_version": "1.5.0",
     "model_name": "HTMLModel",
     "state": {
      "_dom_classes": [],
      "_model_module": "@jupyter-widgets/controls",
      "_model_module_version": "1.5.0",
      "_model_name": "HTMLModel",
      "_view_count": null,
      "_view_module": "@jupyter-widgets/controls",
      "_view_module_version": "1.5.0",
      "_view_name": "HTMLView",
      "description": "",
      "description_tooltip": null,
      "layout": "IPY_MODEL_d7ab3fa26d604a7c8ee54a9c325996ec",
      "placeholder": "​",
      "style": "IPY_MODEL_0abbf3e62e384d68905b64394af3a898",
      "value": "Map: 100%"
     }
    },
    "c549c85cb3234be4a5eac55a24645456": {
     "model_module": "@jupyter-widgets/controls",
     "model_module_version": "1.5.0",
     "model_name": "HBoxModel",
     "state": {
      "_dom_classes": [],
      "_model_module": "@jupyter-widgets/controls",
      "_model_module_version": "1.5.0",
      "_model_name": "HBoxModel",
      "_view_count": null,
      "_view_module": "@jupyter-widgets/controls",
      "_view_module_version": "1.5.0",
      "_view_name": "HBoxView",
      "box_style": "",
      "children": [
       "IPY_MODEL_1564a142af4349e5bc6953126042397e",
       "IPY_MODEL_77abd9da1e304856bbca674efda70485",
       "IPY_MODEL_4904f5c9fcc04b08be5c4006c28e0fde"
      ],
      "layout": "IPY_MODEL_53c59531fad74d88a8a48ecec47b857e"
     }
    },
    "c5cffe8bd20a4c7fa0b7ed594ff494a3": {
     "model_module": "@jupyter-widgets/base",
     "model_module_version": "1.2.0",
     "model_name": "LayoutModel",
     "state": {
      "_model_module": "@jupyter-widgets/base",
      "_model_module_version": "1.2.0",
      "_model_name": "LayoutModel",
      "_view_count": null,
      "_view_module": "@jupyter-widgets/base",
      "_view_module_version": "1.2.0",
      "_view_name": "LayoutView",
      "align_content": null,
      "align_items": null,
      "align_self": null,
      "border": null,
      "bottom": null,
      "display": null,
      "flex": null,
      "flex_flow": null,
      "grid_area": null,
      "grid_auto_columns": null,
      "grid_auto_flow": null,
      "grid_auto_rows": null,
      "grid_column": null,
      "grid_gap": null,
      "grid_row": null,
      "grid_template_areas": null,
      "grid_template_columns": null,
      "grid_template_rows": null,
      "height": null,
      "justify_content": null,
      "justify_items": null,
      "left": null,
      "margin": null,
      "max_height": null,
      "max_width": null,
      "min_height": null,
      "min_width": null,
      "object_fit": null,
      "object_position": null,
      "order": null,
      "overflow": null,
      "overflow_x": null,
      "overflow_y": null,
      "padding": null,
      "right": null,
      "top": null,
      "visibility": null,
      "width": null
     }
    },
    "c7885c74885643f680574efaf516dd7e": {
     "model_module": "@jupyter-widgets/base",
     "model_module_version": "1.2.0",
     "model_name": "LayoutModel",
     "state": {
      "_model_module": "@jupyter-widgets/base",
      "_model_module_version": "1.2.0",
      "_model_name": "LayoutModel",
      "_view_count": null,
      "_view_module": "@jupyter-widgets/base",
      "_view_module_version": "1.2.0",
      "_view_name": "LayoutView",
      "align_content": null,
      "align_items": null,
      "align_self": null,
      "border": null,
      "bottom": null,
      "display": null,
      "flex": null,
      "flex_flow": null,
      "grid_area": null,
      "grid_auto_columns": null,
      "grid_auto_flow": null,
      "grid_auto_rows": null,
      "grid_column": null,
      "grid_gap": null,
      "grid_row": null,
      "grid_template_areas": null,
      "grid_template_columns": null,
      "grid_template_rows": null,
      "height": null,
      "justify_content": null,
      "justify_items": null,
      "left": null,
      "margin": null,
      "max_height": null,
      "max_width": null,
      "min_height": null,
      "min_width": null,
      "object_fit": null,
      "object_position": null,
      "order": null,
      "overflow": null,
      "overflow_x": null,
      "overflow_y": null,
      "padding": null,
      "right": null,
      "top": null,
      "visibility": null,
      "width": "20px"
     }
    },
    "c7ad8b49fb2d479a8b8763dd20f24c9a": {
     "model_module": "@jupyter-widgets/controls",
     "model_module_version": "1.5.0",
     "model_name": "DescriptionStyleModel",
     "state": {
      "_model_module": "@jupyter-widgets/controls",
      "_model_module_version": "1.5.0",
      "_model_name": "DescriptionStyleModel",
      "_view_count": null,
      "_view_module": "@jupyter-widgets/base",
      "_view_module_version": "1.2.0",
      "_view_name": "StyleView",
      "description_width": ""
     }
    },
    "c88e4cc006c64ab2adb1df91ad71edcd": {
     "model_module": "@jupyter-widgets/controls",
     "model_module_version": "1.5.0",
     "model_name": "HBoxModel",
     "state": {
      "_dom_classes": [],
      "_model_module": "@jupyter-widgets/controls",
      "_model_module_version": "1.5.0",
      "_model_name": "HBoxModel",
      "_view_count": null,
      "_view_module": "@jupyter-widgets/controls",
      "_view_module_version": "1.5.0",
      "_view_name": "HBoxView",
      "box_style": "",
      "children": [
       "IPY_MODEL_4b939d3daca54278af6162362adabe20",
       "IPY_MODEL_1d34522c19734f439653a33a342edf28",
       "IPY_MODEL_3d3ee2c8f41149bab7bef10b6b7cac9b"
      ],
      "layout": "IPY_MODEL_16cc5cb034724122b01b32cc99af9e36"
     }
    },
    "cafce4ff64c94675a189f60cb6a92ce5": {
     "model_module": "@jupyter-widgets/base",
     "model_module_version": "1.2.0",
     "model_name": "LayoutModel",
     "state": {
      "_model_module": "@jupyter-widgets/base",
      "_model_module_version": "1.2.0",
      "_model_name": "LayoutModel",
      "_view_count": null,
      "_view_module": "@jupyter-widgets/base",
      "_view_module_version": "1.2.0",
      "_view_name": "LayoutView",
      "align_content": null,
      "align_items": null,
      "align_self": null,
      "border": null,
      "bottom": null,
      "display": null,
      "flex": null,
      "flex_flow": null,
      "grid_area": null,
      "grid_auto_columns": null,
      "grid_auto_flow": null,
      "grid_auto_rows": null,
      "grid_column": null,
      "grid_gap": null,
      "grid_row": null,
      "grid_template_areas": null,
      "grid_template_columns": null,
      "grid_template_rows": null,
      "height": null,
      "justify_content": null,
      "justify_items": null,
      "left": null,
      "margin": null,
      "max_height": null,
      "max_width": null,
      "min_height": null,
      "min_width": null,
      "object_fit": null,
      "object_position": null,
      "order": null,
      "overflow": null,
      "overflow_x": null,
      "overflow_y": null,
      "padding": null,
      "right": null,
      "top": null,
      "visibility": null,
      "width": null
     }
    },
    "cba00e855f7845369a13c01ff0864639": {
     "model_module": "@jupyter-widgets/base",
     "model_module_version": "1.2.0",
     "model_name": "LayoutModel",
     "state": {
      "_model_module": "@jupyter-widgets/base",
      "_model_module_version": "1.2.0",
      "_model_name": "LayoutModel",
      "_view_count": null,
      "_view_module": "@jupyter-widgets/base",
      "_view_module_version": "1.2.0",
      "_view_name": "LayoutView",
      "align_content": null,
      "align_items": null,
      "align_self": null,
      "border": null,
      "bottom": null,
      "display": null,
      "flex": null,
      "flex_flow": null,
      "grid_area": null,
      "grid_auto_columns": null,
      "grid_auto_flow": null,
      "grid_auto_rows": null,
      "grid_column": null,
      "grid_gap": null,
      "grid_row": null,
      "grid_template_areas": null,
      "grid_template_columns": null,
      "grid_template_rows": null,
      "height": null,
      "justify_content": null,
      "justify_items": null,
      "left": null,
      "margin": null,
      "max_height": null,
      "max_width": null,
      "min_height": null,
      "min_width": null,
      "object_fit": null,
      "object_position": null,
      "order": null,
      "overflow": null,
      "overflow_x": null,
      "overflow_y": null,
      "padding": null,
      "right": null,
      "top": null,
      "visibility": null,
      "width": null
     }
    },
    "ccfb72f05bca4a498e14a0898a50b364": {
     "model_module": "@jupyter-widgets/controls",
     "model_module_version": "1.5.0",
     "model_name": "HTMLModel",
     "state": {
      "_dom_classes": [],
      "_model_module": "@jupyter-widgets/controls",
      "_model_module_version": "1.5.0",
      "_model_name": "HTMLModel",
      "_view_count": null,
      "_view_module": "@jupyter-widgets/controls",
      "_view_module_version": "1.5.0",
      "_view_name": "HTMLView",
      "description": "",
      "description_tooltip": null,
      "layout": "IPY_MODEL_806fafe26d72499094205adea032009b",
      "placeholder": "​",
      "style": "IPY_MODEL_cef6710594b7465e916a5cd10f92b89a",
      "value": " 4.54k/4.54k [00:01&lt;00:00, 6.00kB/s]"
     }
    },
    "cef6710594b7465e916a5cd10f92b89a": {
     "model_module": "@jupyter-widgets/controls",
     "model_module_version": "1.5.0",
     "model_name": "DescriptionStyleModel",
     "state": {
      "_model_module": "@jupyter-widgets/controls",
      "_model_module_version": "1.5.0",
      "_model_name": "DescriptionStyleModel",
      "_view_count": null,
      "_view_module": "@jupyter-widgets/base",
      "_view_module_version": "1.2.0",
      "_view_name": "StyleView",
      "description_width": ""
     }
    },
    "d7ab3fa26d604a7c8ee54a9c325996ec": {
     "model_module": "@jupyter-widgets/base",
     "model_module_version": "1.2.0",
     "model_name": "LayoutModel",
     "state": {
      "_model_module": "@jupyter-widgets/base",
      "_model_module_version": "1.2.0",
      "_model_name": "LayoutModel",
      "_view_count": null,
      "_view_module": "@jupyter-widgets/base",
      "_view_module_version": "1.2.0",
      "_view_name": "LayoutView",
      "align_content": null,
      "align_items": null,
      "align_self": null,
      "border": null,
      "bottom": null,
      "display": null,
      "flex": null,
      "flex_flow": null,
      "grid_area": null,
      "grid_auto_columns": null,
      "grid_auto_flow": null,
      "grid_auto_rows": null,
      "grid_column": null,
      "grid_gap": null,
      "grid_row": null,
      "grid_template_areas": null,
      "grid_template_columns": null,
      "grid_template_rows": null,
      "height": null,
      "justify_content": null,
      "justify_items": null,
      "left": null,
      "margin": null,
      "max_height": null,
      "max_width": null,
      "min_height": null,
      "min_width": null,
      "object_fit": null,
      "object_position": null,
      "order": null,
      "overflow": null,
      "overflow_x": null,
      "overflow_y": null,
      "padding": null,
      "right": null,
      "top": null,
      "visibility": null,
      "width": null
     }
    },
    "d86804fed9ac4c49814f6f5115a8be6d": {
     "model_module": "@jupyter-widgets/controls",
     "model_module_version": "1.5.0",
     "model_name": "ProgressStyleModel",
     "state": {
      "_model_module": "@jupyter-widgets/controls",
      "_model_module_version": "1.5.0",
      "_model_name": "ProgressStyleModel",
      "_view_count": null,
      "_view_module": "@jupyter-widgets/base",
      "_view_module_version": "1.2.0",
      "_view_name": "StyleView",
      "bar_color": null,
      "description_width": ""
     }
    },
    "e38dd57f33f04df79ecce2d2db340b9c": {
     "model_module": "@jupyter-widgets/base",
     "model_module_version": "1.2.0",
     "model_name": "LayoutModel",
     "state": {
      "_model_module": "@jupyter-widgets/base",
      "_model_module_version": "1.2.0",
      "_model_name": "LayoutModel",
      "_view_count": null,
      "_view_module": "@jupyter-widgets/base",
      "_view_module_version": "1.2.0",
      "_view_name": "LayoutView",
      "align_content": null,
      "align_items": null,
      "align_self": null,
      "border": null,
      "bottom": null,
      "display": null,
      "flex": null,
      "flex_flow": null,
      "grid_area": null,
      "grid_auto_columns": null,
      "grid_auto_flow": null,
      "grid_auto_rows": null,
      "grid_column": null,
      "grid_gap": null,
      "grid_row": null,
      "grid_template_areas": null,
      "grid_template_columns": null,
      "grid_template_rows": null,
      "height": null,
      "justify_content": null,
      "justify_items": null,
      "left": null,
      "margin": null,
      "max_height": null,
      "max_width": null,
      "min_height": null,
      "min_width": null,
      "object_fit": null,
      "object_position": null,
      "order": null,
      "overflow": null,
      "overflow_x": null,
      "overflow_y": null,
      "padding": null,
      "right": null,
      "top": null,
      "visibility": null,
      "width": null
     }
    },
    "e3f6b70236a94adc98a2761371129054": {
     "model_module": "@jupyter-widgets/controls",
     "model_module_version": "1.5.0",
     "model_name": "ProgressStyleModel",
     "state": {
      "_model_module": "@jupyter-widgets/controls",
      "_model_module_version": "1.5.0",
      "_model_name": "ProgressStyleModel",
      "_view_count": null,
      "_view_module": "@jupyter-widgets/base",
      "_view_module_version": "1.2.0",
      "_view_name": "StyleView",
      "bar_color": null,
      "description_width": ""
     }
    },
    "e5f1da7e73d5415d9ff2239da8204b60": {
     "model_module": "@jupyter-widgets/base",
     "model_module_version": "1.2.0",
     "model_name": "LayoutModel",
     "state": {
      "_model_module": "@jupyter-widgets/base",
      "_model_module_version": "1.2.0",
      "_model_name": "LayoutModel",
      "_view_count": null,
      "_view_module": "@jupyter-widgets/base",
      "_view_module_version": "1.2.0",
      "_view_name": "LayoutView",
      "align_content": null,
      "align_items": null,
      "align_self": null,
      "border": null,
      "bottom": null,
      "display": null,
      "flex": null,
      "flex_flow": null,
      "grid_area": null,
      "grid_auto_columns": null,
      "grid_auto_flow": null,
      "grid_auto_rows": null,
      "grid_column": null,
      "grid_gap": null,
      "grid_row": null,
      "grid_template_areas": null,
      "grid_template_columns": null,
      "grid_template_rows": null,
      "height": null,
      "justify_content": null,
      "justify_items": null,
      "left": null,
      "margin": null,
      "max_height": null,
      "max_width": null,
      "min_height": null,
      "min_width": null,
      "object_fit": null,
      "object_position": null,
      "order": null,
      "overflow": null,
      "overflow_x": null,
      "overflow_y": null,
      "padding": null,
      "right": null,
      "top": null,
      "visibility": null,
      "width": null
     }
    },
    "e83c111d034f4c0ca0b64816177b67d3": {
     "model_module": "@jupyter-widgets/controls",
     "model_module_version": "1.5.0",
     "model_name": "HTMLModel",
     "state": {
      "_dom_classes": [],
      "_model_module": "@jupyter-widgets/controls",
      "_model_module_version": "1.5.0",
      "_model_name": "HTMLModel",
      "_view_count": null,
      "_view_module": "@jupyter-widgets/controls",
      "_view_module_version": "1.5.0",
      "_view_name": "HTMLView",
      "description": "",
      "description_tooltip": null,
      "layout": "IPY_MODEL_0e89014c91924a9abe7eecefab4efe0d",
      "placeholder": "​",
      "style": "IPY_MODEL_65fd1f7c4a3244f0a15baf8a3cc1cb39",
      "value": " 9000/0 [00:00&lt;00:00, 21149.96 examples/s]"
     }
    },
    "e86d98ec58ca47d7a5399ee84319e2c6": {
     "model_module": "@jupyter-widgets/base",
     "model_module_version": "1.2.0",
     "model_name": "LayoutModel",
     "state": {
      "_model_module": "@jupyter-widgets/base",
      "_model_module_version": "1.2.0",
      "_model_name": "LayoutModel",
      "_view_count": null,
      "_view_module": "@jupyter-widgets/base",
      "_view_module_version": "1.2.0",
      "_view_name": "LayoutView",
      "align_content": null,
      "align_items": null,
      "align_self": null,
      "border": null,
      "bottom": null,
      "display": null,
      "flex": null,
      "flex_flow": null,
      "grid_area": null,
      "grid_auto_columns": null,
      "grid_auto_flow": null,
      "grid_auto_rows": null,
      "grid_column": null,
      "grid_gap": null,
      "grid_row": null,
      "grid_template_areas": null,
      "grid_template_columns": null,
      "grid_template_rows": null,
      "height": null,
      "justify_content": null,
      "justify_items": null,
      "left": null,
      "margin": null,
      "max_height": null,
      "max_width": null,
      "min_height": null,
      "min_width": null,
      "object_fit": null,
      "object_position": null,
      "order": null,
      "overflow": null,
      "overflow_x": null,
      "overflow_y": null,
      "padding": null,
      "right": null,
      "top": null,
      "visibility": null,
      "width": null
     }
    },
    "e8a5d58c3977426a8d9e1b60339882f6": {
     "model_module": "@jupyter-widgets/controls",
     "model_module_version": "1.5.0",
     "model_name": "ProgressStyleModel",
     "state": {
      "_model_module": "@jupyter-widgets/controls",
      "_model_module_version": "1.5.0",
      "_model_name": "ProgressStyleModel",
      "_view_count": null,
      "_view_module": "@jupyter-widgets/base",
      "_view_module_version": "1.2.0",
      "_view_name": "StyleView",
      "bar_color": null,
      "description_width": ""
     }
    },
    "f209092176f740c6b2ea4123500a8b89": {
     "model_module": "@jupyter-widgets/controls",
     "model_module_version": "1.5.0",
     "model_name": "ProgressStyleModel",
     "state": {
      "_model_module": "@jupyter-widgets/controls",
      "_model_module_version": "1.5.0",
      "_model_name": "ProgressStyleModel",
      "_view_count": null,
      "_view_module": "@jupyter-widgets/base",
      "_view_module_version": "1.2.0",
      "_view_name": "StyleView",
      "bar_color": null,
      "description_width": ""
     }
    },
    "f3e1fbf4ec0e4cb8a8432d7593d101b3": {
     "model_module": "@jupyter-widgets/controls",
     "model_module_version": "1.5.0",
     "model_name": "ProgressStyleModel",
     "state": {
      "_model_module": "@jupyter-widgets/controls",
      "_model_module_version": "1.5.0",
      "_model_name": "ProgressStyleModel",
      "_view_count": null,
      "_view_module": "@jupyter-widgets/base",
      "_view_module_version": "1.2.0",
      "_view_name": "StyleView",
      "bar_color": null,
      "description_width": ""
     }
    },
    "f5b5e8d5bdbd4e4faf108657207a1073": {
     "model_module": "@jupyter-widgets/controls",
     "model_module_version": "1.5.0",
     "model_name": "DescriptionStyleModel",
     "state": {
      "_model_module": "@jupyter-widgets/controls",
      "_model_module_version": "1.5.0",
      "_model_name": "DescriptionStyleModel",
      "_view_count": null,
      "_view_module": "@jupyter-widgets/base",
      "_view_module_version": "1.2.0",
      "_view_name": "StyleView",
      "description_width": ""
     }
    },
    "f7911198577d45adbff5d6293c5698ed": {
     "model_module": "@jupyter-widgets/controls",
     "model_module_version": "1.5.0",
     "model_name": "HBoxModel",
     "state": {
      "_dom_classes": [],
      "_model_module": "@jupyter-widgets/controls",
      "_model_module_version": "1.5.0",
      "_model_name": "HBoxModel",
      "_view_count": null,
      "_view_module": "@jupyter-widgets/controls",
      "_view_module_version": "1.5.0",
      "_view_name": "HBoxView",
      "box_style": "",
      "children": [
       "IPY_MODEL_b02f074c80af4ed38dbf6c38cec0c00c",
       "IPY_MODEL_a8f68d06796d4ada8a89138c7ccb8384",
       "IPY_MODEL_0a884960dfbd4b3e9ce2bddc626c0a25"
      ],
      "layout": "IPY_MODEL_23102ca2f8124ab0afd5ef2e494fc7bd"
     }
    },
    "f9496c37707a48e9b1d57ab43225ec0c": {
     "model_module": "@jupyter-widgets/controls",
     "model_module_version": "1.5.0",
     "model_name": "FloatProgressModel",
     "state": {
      "_dom_classes": [],
      "_model_module": "@jupyter-widgets/controls",
      "_model_module_version": "1.5.0",
      "_model_name": "FloatProgressModel",
      "_view_count": null,
      "_view_module": "@jupyter-widgets/controls",
      "_view_module_version": "1.5.0",
      "_view_name": "ProgressView",
      "bar_style": "success",
      "description": "",
      "description_tooltip": null,
      "layout": "IPY_MODEL_c5cffe8bd20a4c7fa0b7ed594ff494a3",
      "max": 4536,
      "min": 0,
      "orientation": "horizontal",
      "style": "IPY_MODEL_e3f6b70236a94adc98a2761371129054",
      "value": 4536
     }
    },
    "fa69511bacba4bcfb210c8b7cc60a94d": {
     "model_module": "@jupyter-widgets/base",
     "model_module_version": "1.2.0",
     "model_name": "LayoutModel",
     "state": {
      "_model_module": "@jupyter-widgets/base",
      "_model_module_version": "1.2.0",
      "_model_name": "LayoutModel",
      "_view_count": null,
      "_view_module": "@jupyter-widgets/base",
      "_view_module_version": "1.2.0",
      "_view_name": "LayoutView",
      "align_content": null,
      "align_items": null,
      "align_self": null,
      "border": null,
      "bottom": null,
      "display": null,
      "flex": null,
      "flex_flow": null,
      "grid_area": null,
      "grid_auto_columns": null,
      "grid_auto_flow": null,
      "grid_auto_rows": null,
      "grid_column": null,
      "grid_gap": null,
      "grid_row": null,
      "grid_template_areas": null,
      "grid_template_columns": null,
      "grid_template_rows": null,
      "height": null,
      "justify_content": null,
      "justify_items": null,
      "left": null,
      "margin": null,
      "max_height": null,
      "max_width": null,
      "min_height": null,
      "min_width": null,
      "object_fit": null,
      "object_position": null,
      "order": null,
      "overflow": null,
      "overflow_x": null,
      "overflow_y": null,
      "padding": null,
      "right": null,
      "top": null,
      "visibility": null,
      "width": null
     }
    },
    "ff410a4badbd452b8e28ba15f14bc9cd": {
     "model_module": "@jupyter-widgets/base",
     "model_module_version": "1.2.0",
     "model_name": "LayoutModel",
     "state": {
      "_model_module": "@jupyter-widgets/base",
      "_model_module_version": "1.2.0",
      "_model_name": "LayoutModel",
      "_view_count": null,
      "_view_module": "@jupyter-widgets/base",
      "_view_module_version": "1.2.0",
      "_view_name": "LayoutView",
      "align_content": null,
      "align_items": null,
      "align_self": null,
      "border": null,
      "bottom": null,
      "display": null,
      "flex": null,
      "flex_flow": null,
      "grid_area": null,
      "grid_auto_columns": null,
      "grid_auto_flow": null,
      "grid_auto_rows": null,
      "grid_column": null,
      "grid_gap": null,
      "grid_row": null,
      "grid_template_areas": null,
      "grid_template_columns": null,
      "grid_template_rows": null,
      "height": null,
      "justify_content": null,
      "justify_items": null,
      "left": null,
      "margin": null,
      "max_height": null,
      "max_width": null,
      "min_height": null,
      "min_width": null,
      "object_fit": null,
      "object_position": null,
      "order": null,
      "overflow": null,
      "overflow_x": null,
      "overflow_y": null,
      "padding": null,
      "right": null,
      "top": null,
      "visibility": null,
      "width": null
     }
    }
   }
  }
 },
 "nbformat": 4,
 "nbformat_minor": 1
}
