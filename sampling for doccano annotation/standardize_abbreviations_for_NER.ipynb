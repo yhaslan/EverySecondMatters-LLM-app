{
 "cells": [
  {
   "cell_type": "markdown",
   "id": "338e41c2",
   "metadata": {},
   "source": [
    "# Text Preparation before NER Annotations\n",
    "\n",
    "NER annotations involves manual annotation of a sample of tweets with the following NER tags:\n",
    "- PER\n",
    "- ADDR\n",
    "- CITY\n",
    "in order to be able to train a supervised learning model for classification.\n",
    "For this annotation, instead of annotating a tweet with a single label, I will annotate different tokens in the tweet with different tags.\n",
    "\n",
    "Since I discovered the potential pre-annotation reuirements for text classification and NER tasks along the way, in fact, after finishing the manual annotation by Doccano of the 10,000 sample tweets, I needed a second preparation step before annotating the tweets on NER tags.\n",
    "\n",
    "As you can see in sampling_for_classification.ipynb, I had not performed any text cleaning and preparation before annotating the data on emergency calls. However, this decision resulted in certain caveats when I was about to perform a second annotation on NER tags. In particular, I realized a lot of users used abbreviations when they refer to addresses or even city names. For example:\n",
    "   - cd, cad, cd. instead of \"caddesi\" (as in st. , str. instead of street)\n",
    "   - mh. , mah, mah. instead of \"mahallesi (neighborhood)\n",
    "   - for kahramanmaraş which is the epicenter city there are multiple different ways to refer: maraş, kmaraş, k.maraş, kahramanmaraş...\n",
    "    and I decided to standardize these abbreviations as best as possible since address detection is a very important part of the app.\n",
    "    \n",
    "## Dataset\n",
    "- The sample I used for NER annotation is the tweets I annotated as emergency call from the previous task (tweet classification) on Doccano.\n",
    "- Just note that I initially designed 3 labels: \n",
    "    - \"Rescue_call\" : tweets on people who are still under the rubbles and waiting for help\n",
    "    - \"Urgent_need\" : tweets on urgent food, clothing, fuel or shelter needs for people who are on the streets\n",
    "    - \"Other\"\n",
    "    However, due to low occurrence of the \"Urgent_need\" category in the dataset, I decided to merge first two categories under the label emergency call.\n",
    "    \n",
    "### Note:\n",
    "- Here, I performed this modifications during the Second Task (NER) since I had already finşished the annotations of the first task and it would have taken so long to re-annotate on doccano, but the final model will involve the completion of these modifications at the very first stage! See app.py for details."
   ]
  },
  {
   "cell_type": "code",
   "execution_count": 9,
   "id": "5f6670c2",
   "metadata": {},
   "outputs": [],
   "source": [
    "import pandas as pd\n",
    "import json\n",
    "import re"
   ]
  },
  {
   "cell_type": "code",
   "execution_count": 4,
   "id": "4f8b4c84",
   "metadata": {},
   "outputs": [
    {
     "data": {
      "text/html": [
       "<div>\n",
       "<style scoped>\n",
       "    .dataframe tbody tr th:only-of-type {\n",
       "        vertical-align: middle;\n",
       "    }\n",
       "\n",
       "    .dataframe tbody tr th {\n",
       "        vertical-align: top;\n",
       "    }\n",
       "\n",
       "    .dataframe thead th {\n",
       "        text-align: right;\n",
       "    }\n",
       "</style>\n",
       "<table border=\"1\" class=\"dataframe\">\n",
       "  <thead>\n",
       "    <tr style=\"text-align: right;\">\n",
       "      <th></th>\n",
       "      <th>id</th>\n",
       "      <th>text</th>\n",
       "      <th>index</th>\n",
       "      <th>label</th>\n",
       "      <th>Comments</th>\n",
       "    </tr>\n",
       "  </thead>\n",
       "  <tbody>\n",
       "    <tr>\n",
       "      <th>0</th>\n",
       "      <td>46001</td>\n",
       "      <td>Arama Kurtarma ekipleri heryere yetişemiyor kı...</td>\n",
       "      <td>108332</td>\n",
       "      <td>[Other]</td>\n",
       "      <td>[]</td>\n",
       "    </tr>\n",
       "    <tr>\n",
       "      <th>1</th>\n",
       "      <td>46002</td>\n",
       "      <td>Marketleri, dükkanları, ölmüş insanları yağmal...</td>\n",
       "      <td>66352</td>\n",
       "      <td>[Other]</td>\n",
       "      <td>[]</td>\n",
       "    </tr>\n",
       "    <tr>\n",
       "      <th>2</th>\n",
       "      <td>46003</td>\n",
       "      <td>Arkadaşlar böyle bir uygulama varmış. İlaçları...</td>\n",
       "      <td>32462</td>\n",
       "      <td>[Other]</td>\n",
       "      <td>[]</td>\n",
       "    </tr>\n",
       "    <tr>\n",
       "      <th>3</th>\n",
       "      <td>46004</td>\n",
       "      <td>Adıyamanda destek yok. Çok fazla bina yıkıldı ...</td>\n",
       "      <td>84613</td>\n",
       "      <td>[Other]</td>\n",
       "      <td>[]</td>\n",
       "    </tr>\n",
       "    <tr>\n",
       "      <th>4</th>\n",
       "      <td>46005</td>\n",
       "      <td>Turunçlu mahallesi samandag yolu uzeri, saray ...</td>\n",
       "      <td>22536</td>\n",
       "      <td>[Rescue_call]</td>\n",
       "      <td>[]</td>\n",
       "    </tr>\n",
       "  </tbody>\n",
       "</table>\n",
       "</div>"
      ],
      "text/plain": [
       "      id                                               text   index  \\\n",
       "0  46001  Arama Kurtarma ekipleri heryere yetişemiyor kı...  108332   \n",
       "1  46002  Marketleri, dükkanları, ölmüş insanları yağmal...   66352   \n",
       "2  46003  Arkadaşlar böyle bir uygulama varmış. İlaçları...   32462   \n",
       "3  46004  Adıyamanda destek yok. Çok fazla bina yıkıldı ...   84613   \n",
       "4  46005  Turunçlu mahallesi samandag yolu uzeri, saray ...   22536   \n",
       "\n",
       "           label Comments  \n",
       "0        [Other]       []  \n",
       "1        [Other]       []  \n",
       "2        [Other]       []  \n",
       "3        [Other]       []  \n",
       "4  [Rescue_call]       []  "
      ]
     },
     "execution_count": 4,
     "metadata": {},
     "output_type": "execute_result"
    }
   ],
   "source": [
    "with open('earthquake10K.json', 'r') as file:\n",
    "    data = json.load(file)\n",
    "df = pd.DataFrame(data)\n",
    "df.head()"
   ]
  },
  {
   "cell_type": "code",
   "execution_count": 5,
   "id": "fe349a22",
   "metadata": {},
   "outputs": [
    {
     "data": {
      "text/html": [
       "<div>\n",
       "<style scoped>\n",
       "    .dataframe tbody tr th:only-of-type {\n",
       "        vertical-align: middle;\n",
       "    }\n",
       "\n",
       "    .dataframe tbody tr th {\n",
       "        vertical-align: top;\n",
       "    }\n",
       "\n",
       "    .dataframe thead th {\n",
       "        text-align: right;\n",
       "    }\n",
       "</style>\n",
       "<table border=\"1\" class=\"dataframe\">\n",
       "  <thead>\n",
       "    <tr style=\"text-align: right;\">\n",
       "      <th></th>\n",
       "      <th>id</th>\n",
       "      <th>text</th>\n",
       "      <th>index</th>\n",
       "      <th>label</th>\n",
       "      <th>Comments</th>\n",
       "    </tr>\n",
       "  </thead>\n",
       "  <tbody>\n",
       "    <tr>\n",
       "      <th>0</th>\n",
       "      <td>46001</td>\n",
       "      <td>Arama Kurtarma ekipleri heryere yetişemiyor kı...</td>\n",
       "      <td>108332</td>\n",
       "      <td>Other</td>\n",
       "      <td>[]</td>\n",
       "    </tr>\n",
       "    <tr>\n",
       "      <th>1</th>\n",
       "      <td>46002</td>\n",
       "      <td>Marketleri, dükkanları, ölmüş insanları yağmal...</td>\n",
       "      <td>66352</td>\n",
       "      <td>Other</td>\n",
       "      <td>[]</td>\n",
       "    </tr>\n",
       "    <tr>\n",
       "      <th>2</th>\n",
       "      <td>46003</td>\n",
       "      <td>Arkadaşlar böyle bir uygulama varmış. İlaçları...</td>\n",
       "      <td>32462</td>\n",
       "      <td>Other</td>\n",
       "      <td>[]</td>\n",
       "    </tr>\n",
       "    <tr>\n",
       "      <th>3</th>\n",
       "      <td>46004</td>\n",
       "      <td>Adıyamanda destek yok. Çok fazla bina yıkıldı ...</td>\n",
       "      <td>84613</td>\n",
       "      <td>Other</td>\n",
       "      <td>[]</td>\n",
       "    </tr>\n",
       "    <tr>\n",
       "      <th>4</th>\n",
       "      <td>46005</td>\n",
       "      <td>Turunçlu mahallesi samandag yolu uzeri, saray ...</td>\n",
       "      <td>22536</td>\n",
       "      <td>Rescue_call</td>\n",
       "      <td>[]</td>\n",
       "    </tr>\n",
       "  </tbody>\n",
       "</table>\n",
       "</div>"
      ],
      "text/plain": [
       "      id                                               text   index  \\\n",
       "0  46001  Arama Kurtarma ekipleri heryere yetişemiyor kı...  108332   \n",
       "1  46002  Marketleri, dükkanları, ölmüş insanları yağmal...   66352   \n",
       "2  46003  Arkadaşlar böyle bir uygulama varmış. İlaçları...   32462   \n",
       "3  46004  Adıyamanda destek yok. Çok fazla bina yıkıldı ...   84613   \n",
       "4  46005  Turunçlu mahallesi samandag yolu uzeri, saray ...   22536   \n",
       "\n",
       "         label Comments  \n",
       "0        Other       []  \n",
       "1        Other       []  \n",
       "2        Other       []  \n",
       "3        Other       []  \n",
       "4  Rescue_call       []  "
      ]
     },
     "execution_count": 5,
     "metadata": {},
     "output_type": "execute_result"
    }
   ],
   "source": [
    "for i in range(len(df)):\n",
    "    a = df['label'][i][0]\n",
    "    df.loc[i, 'label'] = a\n",
    "\n",
    "df.head()"
   ]
  },
  {
   "cell_type": "code",
   "execution_count": 7,
   "id": "ceb0def5",
   "metadata": {},
   "outputs": [
    {
     "data": {
      "text/plain": [
       "{'Other', 'emergency_call'}"
      ]
     },
     "execution_count": 7,
     "metadata": {},
     "output_type": "execute_result"
    }
   ],
   "source": [
    "def merge_urgents(x):\n",
    "    if x == 'Urgent_need' or x == 'Rescue_call':\n",
    "        return 'emergency_call'\n",
    "    else:\n",
    "        return x\n",
    "df['label'] = df['label'].apply(lambda x : merge_urgents(x))\n",
    "set(df['label'])"
   ]
  },
  {
   "cell_type": "code",
   "execution_count": 8,
   "id": "a6561270",
   "metadata": {},
   "outputs": [
    {
     "name": "stdout",
     "output_type": "stream",
     "text": [
      "There are 2304 tweets annotated as emergency call. This corresponds to 23.04 % of the sample.\n"
     ]
    }
   ],
   "source": [
    "help_data = df[df['label'] == 'emergency_call'].reset_index(drop=False)\n",
    "\n",
    "print(\"There are\", len(help_data), \"tweets annotated as emergency call. This corresponds to\", \n",
    "      len(help_data)/10000 * 100, \"% of the sample.\")"
   ]
  },
  {
   "cell_type": "code",
   "execution_count": 113,
   "id": "c60a62d7",
   "metadata": {},
   "outputs": [
    {
     "data": {
      "text/html": [
       "<div>\n",
       "<style scoped>\n",
       "    .dataframe tbody tr th:only-of-type {\n",
       "        vertical-align: middle;\n",
       "    }\n",
       "\n",
       "    .dataframe tbody tr th {\n",
       "        vertical-align: top;\n",
       "    }\n",
       "\n",
       "    .dataframe thead th {\n",
       "        text-align: right;\n",
       "    }\n",
       "</style>\n",
       "<table border=\"1\" class=\"dataframe\">\n",
       "  <thead>\n",
       "    <tr style=\"text-align: right;\">\n",
       "      <th></th>\n",
       "      <th>level_0</th>\n",
       "      <th>id</th>\n",
       "      <th>text</th>\n",
       "      <th>index</th>\n",
       "      <th>label</th>\n",
       "      <th>Comments</th>\n",
       "    </tr>\n",
       "  </thead>\n",
       "  <tbody>\n",
       "    <tr>\n",
       "      <th>0</th>\n",
       "      <td>4</td>\n",
       "      <td>46005</td>\n",
       "      <td>Turunçlu mahallesi samandag yolu uzeri, saray ...</td>\n",
       "      <td>22536</td>\n",
       "      <td>emergency_call</td>\n",
       "      <td>[]</td>\n",
       "    </tr>\n",
       "    <tr>\n",
       "      <th>1</th>\n",
       "      <td>8</td>\n",
       "      <td>46009</td>\n",
       "      <td>MARAŞ ON İKİ ŞUBAT CADDESİ KÜLTÜRKENT SİTESİ A...</td>\n",
       "      <td>84306</td>\n",
       "      <td>emergency_call</td>\n",
       "      <td>[]</td>\n",
       "    </tr>\n",
       "    <tr>\n",
       "      <th>2</th>\n",
       "      <td>10</td>\n",
       "      <td>46011</td>\n",
       "      <td>ŞAZİBEY MAHALLESİ HAYDAR ALİYEV BULVARI YUNUS ...</td>\n",
       "      <td>2888</td>\n",
       "      <td>emergency_call</td>\n",
       "      <td>[]</td>\n",
       "    </tr>\n",
       "    <tr>\n",
       "      <th>3</th>\n",
       "      <td>11</td>\n",
       "      <td>46012</td>\n",
       "      <td>Su otele yardım edin, çok çocuk var içeride. #...</td>\n",
       "      <td>36316</td>\n",
       "      <td>emergency_call</td>\n",
       "      <td>[]</td>\n",
       "    </tr>\n",
       "    <tr>\n",
       "      <th>4</th>\n",
       "      <td>13</td>\n",
       "      <td>46014</td>\n",
       "      <td>Malatya nergiz sitesi #malatyadeprem #Turkey #...</td>\n",
       "      <td>22886</td>\n",
       "      <td>emergency_call</td>\n",
       "      <td>[]</td>\n",
       "    </tr>\n",
       "  </tbody>\n",
       "</table>\n",
       "</div>"
      ],
      "text/plain": [
       "   level_0     id                                               text  index  \\\n",
       "0        4  46005  Turunçlu mahallesi samandag yolu uzeri, saray ...  22536   \n",
       "1        8  46009  MARAŞ ON İKİ ŞUBAT CADDESİ KÜLTÜRKENT SİTESİ A...  84306   \n",
       "2       10  46011  ŞAZİBEY MAHALLESİ HAYDAR ALİYEV BULVARI YUNUS ...   2888   \n",
       "3       11  46012  Su otele yardım edin, çok çocuk var içeride. #...  36316   \n",
       "4       13  46014  Malatya nergiz sitesi #malatyadeprem #Turkey #...  22886   \n",
       "\n",
       "            label Comments  \n",
       "0  emergency_call       []  \n",
       "1  emergency_call       []  \n",
       "2  emergency_call       []  \n",
       "3  emergency_call       []  \n",
       "4  emergency_call       []  "
      ]
     },
     "execution_count": 113,
     "metadata": {},
     "output_type": "execute_result"
    }
   ],
   "source": [
    "help_data.head()"
   ]
  },
  {
   "cell_type": "code",
   "execution_count": 10,
   "id": "26198973",
   "metadata": {},
   "outputs": [],
   "source": [
    "abbreviations = [\n",
    "    ('apt', 'Apartmanı'),\n",
    "    ('Apt', 'Apartmanı'),\n",
    "    ('APT', 'Apartmanı'),\n",
    "    ('apart', 'Apartmanı'),\n",
    "    ('Apart', 'Apartmanı'),\n",
    "    ('APART', 'Apartmanı'),\n",
    "    ('sok', 'Sokak'),\n",
    "    ('sk', 'Sokak'),\n",
    "    ('Sok', 'Sokak'),\n",
    "    ('Sk', 'Sokak'),\n",
    "    ('SOK', 'Sokak'),\n",
    "    ('SK', 'Sokak'),\n",
    "    ('cad', 'Caddesi'),\n",
    "    ('Cad', 'Caddesi'),\n",
    "    ('CAD', 'Caddesi'),\n",
    "    ('cd', 'Caddesi'),\n",
    "    ('Cd', 'Caddesi'),\n",
    "    ('CD', 'Caddesi'),\n",
    "    ('bşk', 'başkanlığı'),\n",
    "    ('bul', 'Bulvarı'),\n",
    "    ('blv', 'Bulvarı'),\n",
    "    ('Blv', 'Bulvarı'),\n",
    "    ('BLV', 'Bulvarı'),\n",
    "    ('bulv', 'Bulvarı'),\n",
    "    ('Bulv', 'Bulvarı'),\n",
    "    ('BULV', 'Bulvarı'),\n",
    "    ('mey', 'meydanı'),\n",
    "    ('meyd', 'meydanı'),\n",
    "    ('ecz', 'Eczanesi'),\n",
    "    ('Ecz', 'Eczanesi'),\n",
    "    ('ECZ', 'Eczanesi'),\n",
    "    ('mh', 'Mahallesi'),\n",
    "    ('mah', 'Mahallesi'),\n",
    "    ('Mh', 'Mahallesi'),\n",
    "    ('Mah', 'Mahallesi'),\n",
    "    ('MH', 'Mahallesi'),\n",
    "    ('MAH', 'Mahallesi'),\n",
    "    ('şb', 'şube'),\n",
    "    ('maraş', 'Kahramanmaraş'),\n",
    "    ('maras', 'Kahramanmaraş'),\n",
    "    ('Maraş', 'Kahramanmaraş'),\n",
    "    ('Maras', 'Kahramanmaraş'),\n",
    "    ('MARAŞ', 'Kahramanmaraş'),\n",
    "    ('MARAS', 'Kahramanmaraş'),\n",
    "    ('kmaraş', 'Kahramanmaraş'),\n",
    "    ('kmaras', 'Kahramanmaraş'),\n",
    "    ('KMaraş', 'Kahramanmaraş'),\n",
    "    ('KMaras', 'Kahramanmaraş'),\n",
    "    ('KMARAŞ', 'Kahramanmaraş'),\n",
    "    ('KMARAS', 'Kahramanmaraş'),\n",
    "    ('antep', 'Gaziantep'),\n",
    "    ('Antep', 'Gaziantep'),\n",
    "    ('ANTEP', 'Gaziantep'),\n",
    "    ('anteb', 'Gaziantep'),\n",
    "    ('Anteb', 'Gaziantep'),\n",
    "    ('ANTEB', 'Gaziantep'),\n",
    "    ('Urfa', 'Şanlıuarfa'),\n",
    "    ('urfa', 'Şanlıuarfa'),\n",
    "    ('URFA', 'Şanlıuarfa'),\n",
    "    \n",
    "    ]\n",
    "\n",
    "def normalize_abbreviations(text):\n",
    "    for regex, replacement in abbreviations:\n",
    "        text = re.sub(rf'\\b{re.escape(regex)}\\b', replacement, text)\n",
    "        text = re.sub(r'\\s\\s+', ' ',text)\n",
    "        text = text.replace('k.maraş', 'Kahramanmaraş')\n",
    "        text = text.replace('K.maraş', 'Kahramanmaraş')\n",
    "        text = text.replace('K.Maraş', 'Kahramanmaraş')\n",
    "        text = text.replace('k.maras', 'kahramanmaraş')\n",
    "        text = text.replace('K.maras', 'Kahramanmaraş')\n",
    "        text = text.replace('K.Maras', 'kahramanmaraş')\n",
    "    return text\n"
   ]
  },
  {
   "cell_type": "markdown",
   "id": "5594b246",
   "metadata": {},
   "source": [
    "Let's try it out:"
   ]
  },
  {
   "cell_type": "code",
   "execution_count": 11,
   "id": "81b1863b",
   "metadata": {},
   "outputs": [
    {
     "data": {
      "text/plain": [
       "'Kahramanmaraş, Kahramanmaraş, Kahramanmaraş'"
      ]
     },
     "execution_count": 11,
     "metadata": {},
     "output_type": "execute_result"
    }
   ],
   "source": [
    "normalize_abbreviations('K.maraş, KMARAŞ, Maras')"
   ]
  },
  {
   "cell_type": "code",
   "execution_count": 13,
   "id": "902c4e69",
   "metadata": {},
   "outputs": [],
   "source": [
    "help_data['text'] = help_data['text'].apply(lambda x: normalize_abbreviations(x))"
   ]
  },
  {
   "cell_type": "code",
   "execution_count": 14,
   "id": "d0cd7ad0",
   "metadata": {},
   "outputs": [
    {
     "data": {
      "text/plain": [
       "['Turunçlu mahallesi samandag yolu uzeri, saray market yanı 95/B Defne-Hatay Enkazda kalanlardan biri Nilay Oltacı İletişim 05161646506 #Turkey #CristianoRonaldo #hatayyardimbekliyor #hatayiskenderun #HalkTV #özgürdemirtaş #fulyaöztürk #EnkazAltında #tahaduymaz',\n",
       " 'Kahramanmaraş ON İKİ ŞUBAT CADDESİ KÜLTÜRKENT SİTESİ ARKADAŞIMIN AMCASI KUZENİ ENKAZ ALTINDA LÜTFEN YARDIM EDİN VİLDAN GEZER ALİ GEZER #Kahramanmaras #deprem #Hatay #ENKAZALTİNDAYİM #Kahramanmaraş #Hatay #Turkey',\n",
       " 'ŞAZİBEY MAHALLESİ HAYDAR ALİYEV BULVARI YUNUS APARTMANI A BLOK ACİLEN EKİBE İHTİYACIMIZ VAR LÜTFEN SESİMİZİ DUYURUN YARDIM EDİN #Turkey #Kahramanmaras #onikisubat #marasyardım #Marasayetisemiyoruz @haluklevent @ahbap @ekrem_imamoglu @berkcanguven @OguzhanUgur @efeuygac',\n",
       " 'Su otele yardım edin, çok çocuk var içeride. #deprem #seferberlik #Turkey #YARDIMEDİN https://t.co/AP6oMgciQB',\n",
       " 'Malatya nergiz sitesi #malatyadeprem #Turkey #TurkeyEarthquake #PrayForTurkey #sondakikadeprem https://t.co/j4mOfXZo7s',\n",
       " '@_BadBitchBack_ ARKADAŞIM RABİA YAŞAR İÇİN PAYLAŞIYORUM Hatay antakya kurtuluş caddesi biniciler mahallesi taşdemir sokak no6 EVLERİ YIKIK VE BİR TEK BATTANİYE VE ATEŞLERİ VAR LÜTFEN YAYALIM BABASI YAŞLI HASTA DIŞARI DA LÜTFEN #enkazaltındayım #YARDIMEDİN #earthquake #deprem',\n",
       " 'Elektirik mahallesi armutlu caddesi Timur apartmanı kat 4 daire 17 Hatay/Antakya Kübra Soydan, enkaz altında kalmış haber alınamıyor 40 saattir haber yok, yakın bir arkadaşımız, eğer gönderilirse gerçekten çok iyi olur #deprem #sondakikadeprem #Turkey @AFADTurkiye',\n",
       " '119-vahap kimliksiz Yaş 30 (hatay) hayati tehlikesi mevcut 120-zehra şahin yaş 38 (hatay) hayati tehlikesi mevcut 121-baran dolaşan yaş 20 (hatay) EX 122-perihan bayraktar yas 69 (hatay) hayati tehlikesi mevcut #hatayyardimbekliyor #seferberlik #sondakikadeprem #Turkey',\n",
       " 'Arkadaşım Celal Altun aşağıdaki adreste hala göçük altında İbrahim Karaoğlanoğlu Caddesi. 31230 İskenderun Hatay Türkiye (MD PARK TIP MERKEZİ KARŞISI) KOORDİNAT: 36,56409⁰ K, 36,15702⁰ #iskenderun #DEPREMOLDU #deprem #Turkey #Hatay #sondakikadeprem #hatayyardimbekliyor #seferberlik',\n",
       " '@alniopulesitivt HAMZA ALP BEBEGE YARDIM LÜTFEN YAYALİM!!!!!!!!!!!!!!! #deprem #Turkey #enkazaltındayım #ENKAZALTİNDAYİM https://t.co/t5wI4lqh3U']"
      ]
     },
     "execution_count": 14,
     "metadata": {},
     "output_type": "execute_result"
    }
   ],
   "source": [
    "help_data['text'].tolist()[:10]"
   ]
  },
  {
   "cell_type": "code",
   "execution_count": 16,
   "id": "720d9163",
   "metadata": {},
   "outputs": [],
   "source": [
    "sample_list = []\n",
    "\n",
    "for i in range(len(help_data)):\n",
    "    sample_dict = {}\n",
    "    sample_dict[\"index\"] = str(help_data[\"index\"][i])\n",
    "    sample_dict[\"text\"] = help_data[\"text\"][i]\n",
    "    sample_list.append(sample_dict)"
   ]
  },
  {
   "cell_type": "markdown",
   "id": "62df37e1",
   "metadata": {},
   "source": [
    "For token classification tasks that performs many-to-many classification, doccano requires jsonl files.\n",
    "Therefore, we will save our sample in that format."
   ]
  },
  {
   "cell_type": "code",
   "execution_count": 17,
   "id": "57c0a04a",
   "metadata": {},
   "outputs": [],
   "source": [
    "def json_to_jsonl(json_data, output_file):\n",
    "    with open(output_file, 'w') as f:\n",
    "        for item in json_data:\n",
    "            json_string = json.dumps(item)\n",
    "            f.write(json_string + '\\n')\n",
    "json_to_jsonl(sample_list, 'JSONL_sample_NER.jsonl')"
   ]
  },
  {
   "cell_type": "markdown",
   "id": "f4102488",
   "metadata": {},
   "source": [
    "#### Now we're ready to annotate the tweets using Doccano !\n",
    "For more information checkout the [tutorial]('https://doccano.github.io/doccano/')\n",
    "- After finishing the annotation of 10,000 tweets on doccano, I downloaded the annotated tweets as a json file with the name admin2.jsonl."
   ]
  },
  {
   "cell_type": "code",
   "execution_count": null,
   "id": "2e706f3c",
   "metadata": {},
   "outputs": [],
   "source": []
  }
 ],
 "metadata": {
  "kernelspec": {
   "display_name": "Python 3 (ipykernel)",
   "language": "python",
   "name": "python3"
  },
  "language_info": {
   "codemirror_mode": {
    "name": "ipython",
    "version": 3
   },
   "file_extension": ".py",
   "mimetype": "text/x-python",
   "name": "python",
   "nbconvert_exporter": "python",
   "pygments_lexer": "ipython3",
   "version": "3.9.13"
  }
 },
 "nbformat": 4,
 "nbformat_minor": 5
}
